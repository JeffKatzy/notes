{
 "cells": [
  {
   "cell_type": "markdown",
   "metadata": {},
   "source": [
    "# Introduction to Linear Regression"
   ]
  },
  {
   "cell_type": "markdown",
   "metadata": {},
   "source": [
    "> \"All models are wrong, but some are useful.\" \n",
    ">\n",
    "> - George Box (British Statistician)"
   ]
  },
  {
   "cell_type": "markdown",
   "metadata": {},
   "source": [
    "In the last lesson, we saw how to load and plot our data using the plotly.  We applied this to plotting the monthly revenue from Max's Wine Bar in Dallas.  In this lesson, we'll begin to make predictions for future data sets."
   ]
  },
  {
   "cell_type": "markdown",
   "metadata": {},
   "source": [
    "## Building on our model"
   ]
  },
  {
   "cell_type": "markdown",
   "metadata": {},
   "source": [
    "Let's take another look at our revenue data from earlier."
   ]
  },
  {
   "cell_type": "code",
   "execution_count": 38,
   "metadata": {},
   "outputs": [
    {
     "data": {
      "text/plain": [
       "{'revenue': 66609, 'month': '2015-09-30T00:00:00.000', 'month_number': 0}"
      ]
     },
     "execution_count": 38,
     "metadata": {},
     "output_type": "execute_result"
    }
   ],
   "source": [
    "monthly_revenues[0]"
   ]
  },
  {
   "cell_type": "code",
   "execution_count": 37,
   "metadata": {},
   "outputs": [
    {
     "data": {
      "text/html": [
       "<script type=\"text/javascript\">window.PlotlyConfig = {MathJaxConfig: 'local'};</script><script type=\"text/javascript\">if (window.MathJax) {MathJax.Hub.Config({SVG: {font: \"STIX-Web\"}});}</script><script>requirejs.config({paths: { 'plotly': ['https://cdn.plot.ly/plotly-latest.min']},});if(!window._Plotly) {require(['plotly'],function(plotly) {window._Plotly=plotly;});}</script>"
      ],
      "text/vnd.plotly.v1+html": [
       "<script type=\"text/javascript\">window.PlotlyConfig = {MathJaxConfig: 'local'};</script><script type=\"text/javascript\">if (window.MathJax) {MathJax.Hub.Config({SVG: {font: \"STIX-Web\"}});}</script><script>requirejs.config({paths: { 'plotly': ['https://cdn.plot.ly/plotly-latest.min']},});if(!window._Plotly) {require(['plotly'],function(plotly) {window._Plotly=plotly;});}</script>"
      ]
     },
     "metadata": {},
     "output_type": "display_data"
    },
    {
     "data": {
      "application/vnd.plotly.v1+json": {
       "config": {
        "linkText": "Export to plot.ly",
        "plotlyServerURL": "https://plot.ly",
        "showLink": false
       },
       "data": [
        {
         "mode": "markers",
         "name": "actual",
         "type": "scatter",
         "uid": "cebea62a-8626-4fc0-bb1d-fcdc95cc872a",
         "x": [
          0,
          1,
          2,
          3,
          4,
          5,
          6,
          7,
          8,
          9,
          10,
          11,
          12,
          13,
          14,
          15,
          16,
          17,
          18,
          19,
          20,
          21,
          22,
          23
         ],
         "y": [
          66609,
          67048,
          69664,
          72238,
          84721,
          69224,
          58697,
          51430,
          48239,
          50574,
          51707,
          50305,
          45590,
          42180,
          41054,
          56182,
          49965,
          43094,
          44414,
          41393,
          34903,
          39535,
          39627,
          9400
         ]
        }
       ],
       "layout": {
        "autosize": true,
        "xaxis": {
         "autorange": true,
         "range": [
          -1.4091282894736843,
          24.409128289473685
         ],
         "type": "linear"
        },
        "yaxis": {
         "autorange": true,
         "range": [
          3882.856687898089,
          90238.1433121019
         ],
         "type": "linear"
        }
       }
      },
      "image/png": "[encoded data removed]",
      "text/html": [
       "<div id=\"3b0334c1-c26d-41bb-8980-1a00f380d8e6\" style=\"height: 525px; width: 100%;\" class=\"plotly-graph-div\"></div><script type=\"text/javascript\">require([\"plotly\"], function(Plotly) { window.PLOTLYENV=window.PLOTLYENV || {};window.PLOTLYENV.BASE_URL=\"https://plot.ly\";Plotly.newPlot(\"3b0334c1-c26d-41bb-8980-1a00f380d8e6\", [{\"mode\": \"markers\", \"name\": \"actual\", \"x\": [0, 1, 2, 3, 4, 5, 6, 7, 8, 9, 10, 11, 12, 13, 14, 15, 16, 17, 18, 19, 20, 21, 22, 23], \"y\": [66609, 67048, 69664, 72238, 84721, 69224, 58697, 51430, 48239, 50574, 51707, 50305, 45590, 42180, 41054, 56182, 49965, 43094, 44414, 41393, 34903, 39535, 39627, 9400], \"type\": \"scatter\", \"uid\": \"3cd6462d-0ded-48b9-a74c-83a9a18314ba\"}], {}, {\"showLink\": false, \"linkText\": \"Export to plot.ly\", \"plotlyServerURL\": \"https://plot.ly\"})});</script><script type=\"text/javascript\">window.addEventListener(\"resize\", function(){window._Plotly.Plots.resize(document.getElementById(\"3b0334c1-c26d-41bb-8980-1a00f380d8e6\"));});</script>"
      ],
      "text/vnd.plotly.v1+html": [
       "<div id=\"3b0334c1-c26d-41bb-8980-1a00f380d8e6\" style=\"height: 525px; width: 100%;\" class=\"plotly-graph-div\"></div><script type=\"text/javascript\">require([\"plotly\"], function(Plotly) { window.PLOTLYENV=window.PLOTLYENV || {};window.PLOTLYENV.BASE_URL=\"https://plot.ly\";Plotly.newPlot(\"3b0334c1-c26d-41bb-8980-1a00f380d8e6\", [{\"mode\": \"markers\", \"name\": \"actual\", \"x\": [0, 1, 2, 3, 4, 5, 6, 7, 8, 9, 10, 11, 12, 13, 14, 15, 16, 17, 18, 19, 20, 21, 22, 23], \"y\": [66609, 67048, 69664, 72238, 84721, 69224, 58697, 51430, 48239, 50574, 51707, 50305, 45590, 42180, 41054, 56182, 49965, 43094, 44414, 41393, 34903, 39535, 39627, 9400], \"type\": \"scatter\", \"uid\": \"3cd6462d-0ded-48b9-a74c-83a9a18314ba\"}], {}, {\"showLink\": false, \"linkText\": \"Export to plot.ly\", \"plotlyServerURL\": \"https://plot.ly\"})});</script><script type=\"text/javascript\">window.addEventListener(\"resize\", function(){window._Plotly.Plots.resize(document.getElementById(\"3b0334c1-c26d-41bb-8980-1a00f380d8e6\"));});</script>"
      ]
     },
     "metadata": {},
     "output_type": "display_data"
    }
   ],
   "source": [
    "with open('months-since-revenues.json', 'r') as revenue_file:\n",
    "    monthly_revenues = json.load(revenue_file)\n",
    "\n",
    "import plotly\n",
    "from plotly.offline import iplot, init_notebook_mode\n",
    "init_notebook_mode(connected=True)\n",
    "\n",
    "from graph import m_b_data, trace_values\n",
    "\n",
    "m = -2487.34\n",
    "b = 66609\n",
    "predicted_values = m_b_data(m, b, list(range(0, 24)))['y']\n",
    "actual_values = list(map(lambda monthly_revenue: monthly_revenue['revenue'],monthly_revenues))\n",
    "months_since_september = list(map(lambda monthly_revenue: monthly_revenue['month_number'],monthly_revenues))\n",
    "\n",
    "scatter = {'x': months_since_september, 'y': actual_values, 'mode': 'markers', 'name': 'actual'}\n",
    "line = trace_values(months_since_september, predicted_values, mode = 'lines', name = 'expected')\n",
    "\n",
    "iplot([scatter])"
   ]
  },
  {
   "cell_type": "markdown",
   "metadata": {},
   "source": [
    "Now remember what our graph and our blue dots represent.  Our graph represents the number of months after September 2015 horizontally along the x axis.  And it represents the amount of revenue earned in vertically along the y axis.  Each blue dot is a display of the actual revenue earned in that month.  So hovering over the second blue dot we see that the blue dot in that position means that $67,048 was earned in October 2016.\n",
    "\n",
    "And we know that we can represent that single data point with the pair of coordinates `(1, 67048)`.  We can call this point y actual or simply `y`."
   ]
  },
  {
   "cell_type": "markdown",
   "metadata": {},
   "source": [
    "Now our machine learning model of the orange line below is similar.  It represents that amount that it expects to earn in month number 1.  We can call this y expected, or $\\hat{y}$ (pronounced y hat).  So in month one, our model expects a revenue of `64,121`."
   ]
  },
  {
   "cell_type": "code",
   "execution_count": 40,
   "metadata": {},
   "outputs": [
    {
     "data": {
      "application/vnd.plotly.v1+json": {
       "config": {
        "linkText": "Export to plot.ly",
        "plotlyServerURL": "https://plot.ly",
        "showLink": false
       },
       "data": [
        {
         "mode": "markers",
         "name": "actual",
         "type": "scatter",
         "uid": "99244ef4-8291-4ed5-a971-8da6458b5483",
         "x": [
          0,
          1,
          2,
          3,
          4,
          5,
          6,
          7,
          8,
          9,
          10,
          11,
          12,
          13,
          14,
          15,
          16,
          17,
          18,
          19,
          20,
          21,
          22,
          23
         ],
         "y": [
          66609,
          67048,
          69664,
          72238,
          84721,
          69224,
          58697,
          51430,
          48239,
          50574,
          51707,
          50305,
          45590,
          42180,
          41054,
          56182,
          49965,
          43094,
          44414,
          41393,
          34903,
          39535,
          39627,
          9400
         ]
        },
        {
         "mode": "lines",
         "name": "expected",
         "text": [],
         "type": "scatter",
         "uid": "92e49de7-c99b-40e6-86fa-4785441520dc",
         "x": [
          0,
          1,
          2,
          3,
          4,
          5,
          6,
          7,
          8,
          9,
          10,
          11,
          12,
          13,
          14,
          15,
          16,
          17,
          18,
          19,
          20,
          21,
          22,
          23
         ],
         "y": [
          66609,
          64121.66,
          61634.32,
          59146.979999999996,
          56659.64,
          54172.3,
          51684.96,
          49197.619999999995,
          46710.28,
          44222.94,
          41735.6,
          39248.259999999995,
          36760.92,
          34273.58,
          31786.239999999998,
          29298.899999999994,
          26811.559999999998,
          24324.22,
          21836.879999999997,
          19349.539999999994,
          16862.199999999997,
          14374.86,
          11887.519999999997,
          9400.179999999993
         ]
        }
       ],
       "layout": {
        "autosize": true,
        "xaxis": {
         "autorange": true,
         "range": [
          -1.4166666666666667,
          24.416666666666668
         ],
         "type": "linear"
        },
        "yaxis": {
         "autorange": true,
         "range": [
          3882.856687898089,
          90238.1433121019
         ],
         "type": "linear"
        }
       }
      },
      "image/png": "[encoded data removed]",
      "text/html": [
       "<div id=\"2430e2b3-0642-4435-8c9a-ba324bcd8b07\" style=\"height: 525px; width: 100%;\" class=\"plotly-graph-div\"></div><script type=\"text/javascript\">require([\"plotly\"], function(Plotly) { window.PLOTLYENV=window.PLOTLYENV || {};window.PLOTLYENV.BASE_URL=\"https://plot.ly\";Plotly.newPlot(\"2430e2b3-0642-4435-8c9a-ba324bcd8b07\", [{\"mode\": \"markers\", \"name\": \"actual\", \"x\": [0, 1, 2, 3, 4, 5, 6, 7, 8, 9, 10, 11, 12, 13, 14, 15, 16, 17, 18, 19, 20, 21, 22, 23], \"y\": [66609, 67048, 69664, 72238, 84721, 69224, 58697, 51430, 48239, 50574, 51707, 50305, 45590, 42180, 41054, 56182, 49965, 43094, 44414, 41393, 34903, 39535, 39627, 9400], \"type\": \"scatter\", \"uid\": \"4a9d244a-4e48-4e1d-ac10-aae7de22ddb1\"}, {\"mode\": \"lines\", \"name\": \"expected\", \"text\": [], \"x\": [0, 1, 2, 3, 4, 5, 6, 7, 8, 9, 10, 11, 12, 13, 14, 15, 16, 17, 18, 19, 20, 21, 22, 23], \"y\": [66609.0, 64121.66, 61634.32, 59146.979999999996, 56659.64, 54172.3, 51684.96, 49197.619999999995, 46710.28, 44222.94, 41735.6, 39248.259999999995, 36760.92, 34273.58, 31786.239999999998, 29298.899999999994, 26811.559999999998, 24324.22, 21836.879999999997, 19349.539999999994, 16862.199999999997, 14374.86, 11887.519999999997, 9400.179999999993], \"type\": \"scatter\", \"uid\": \"ca8616a5-3e82-4d53-88cf-be6aca6ea3cc\"}], {}, {\"showLink\": false, \"linkText\": \"Export to plot.ly\", \"plotlyServerURL\": \"https://plot.ly\"})});</script><script type=\"text/javascript\">window.addEventListener(\"resize\", function(){window._Plotly.Plots.resize(document.getElementById(\"2430e2b3-0642-4435-8c9a-ba324bcd8b07\"));});</script>"
      ],
      "text/vnd.plotly.v1+html": [
       "<div id=\"2430e2b3-0642-4435-8c9a-ba324bcd8b07\" style=\"height: 525px; width: 100%;\" class=\"plotly-graph-div\"></div><script type=\"text/javascript\">require([\"plotly\"], function(Plotly) { window.PLOTLYENV=window.PLOTLYENV || {};window.PLOTLYENV.BASE_URL=\"https://plot.ly\";Plotly.newPlot(\"2430e2b3-0642-4435-8c9a-ba324bcd8b07\", [{\"mode\": \"markers\", \"name\": \"actual\", \"x\": [0, 1, 2, 3, 4, 5, 6, 7, 8, 9, 10, 11, 12, 13, 14, 15, 16, 17, 18, 19, 20, 21, 22, 23], \"y\": [66609, 67048, 69664, 72238, 84721, 69224, 58697, 51430, 48239, 50574, 51707, 50305, 45590, 42180, 41054, 56182, 49965, 43094, 44414, 41393, 34903, 39535, 39627, 9400], \"type\": \"scatter\", \"uid\": \"4a9d244a-4e48-4e1d-ac10-aae7de22ddb1\"}, {\"mode\": \"lines\", \"name\": \"expected\", \"text\": [], \"x\": [0, 1, 2, 3, 4, 5, 6, 7, 8, 9, 10, 11, 12, 13, 14, 15, 16, 17, 18, 19, 20, 21, 22, 23], \"y\": [66609.0, 64121.66, 61634.32, 59146.979999999996, 56659.64, 54172.3, 51684.96, 49197.619999999995, 46710.28, 44222.94, 41735.6, 39248.259999999995, 36760.92, 34273.58, 31786.239999999998, 29298.899999999994, 26811.559999999998, 24324.22, 21836.879999999997, 19349.539999999994, 16862.199999999997, 14374.86, 11887.519999999997, 9400.179999999993], \"type\": \"scatter\", \"uid\": \"ca8616a5-3e82-4d53-88cf-be6aca6ea3cc\"}], {}, {\"showLink\": false, \"linkText\": \"Export to plot.ly\", \"plotlyServerURL\": \"https://plot.ly\"})});</script><script type=\"text/javascript\">window.addEventListener(\"resize\", function(){window._Plotly.Plots.resize(document.getElementById(\"2430e2b3-0642-4435-8c9a-ba324bcd8b07\"));});</script>"
      ]
     },
     "metadata": {},
     "output_type": "display_data"
    }
   ],
   "source": [
    "m = -2487.34\n",
    "b = 66609\n",
    "predicted_values = m_b_data(m, b, list(range(0, 24)))['y']\n",
    "actual_values = list(map(lambda monthly_revenue: monthly_revenue['revenue'],monthly_revenues))\n",
    "months_since_september = list(map(lambda monthly_revenue: monthly_revenue['month_number'],monthly_revenues))\n",
    "\n",
    "scatter = {'x': months_since_september, 'y': actual_values, 'mode': 'markers', 'name': 'actual'}\n",
    "line = trace_values(months_since_september, predicted_values, mode = 'lines', name = 'expected')\n",
    "\n",
    "iplot([scatter, line])"
   ]
  },
  {
   "cell_type": "markdown",
   "metadata": {},
   "source": [
    "### Generating these predictions"
   ]
  },
  {
   "cell_type": "markdown",
   "metadata": {},
   "source": [
    "Now what's nice about this orange line above is that no matter what value of x we plug in, it can give us back a predicted revenue, $\\hat{y}$.  But how does something like that happen?  What generates a prediction for any value of x that we plug in?  \n",
    "\n",
    "Well a function does.  Remember however our function works, given an input a function gives us back an output.  Let's see this below.  Let's create a function that that given an input of `x` representing months since Sept. 2015, gives us a predicted revenue of 40000. "
   ]
  },
  {
   "cell_type": "code",
   "execution_count": 42,
   "metadata": {},
   "outputs": [],
   "source": [
    "def y_hat(x):\n",
    "    return 40000"
   ]
  },
  {
   "cell_type": "code",
   "execution_count": 43,
   "metadata": {},
   "outputs": [
    {
     "data": {
      "text/plain": [
       "40000"
      ]
     },
     "execution_count": 43,
     "metadata": {},
     "output_type": "execute_result"
    }
   ],
   "source": [
    "y_hat(2)"
   ]
  },
  {
   "cell_type": "code",
   "execution_count": 44,
   "metadata": {},
   "outputs": [
    {
     "data": {
      "text/plain": [
       "40000"
      ]
     },
     "execution_count": 44,
     "metadata": {},
     "output_type": "execute_result"
    }
   ],
   "source": [
    "y_hat(20)"
   ]
  },
  {
   "cell_type": "markdown",
   "metadata": {},
   "source": [
    "Now let's use it to generate a line like we have above."
   ]
  },
  {
   "cell_type": "code",
   "execution_count": 51,
   "metadata": {},
   "outputs": [
    {
     "data": {
      "application/vnd.plotly.v1+json": {
       "config": {
        "linkText": "Export to plot.ly",
        "plotlyServerURL": "https://plot.ly",
        "showLink": false
       },
       "data": [
        {
         "mode": "markers",
         "name": "actual",
         "type": "scatter",
         "uid": "1be4504c-5eb1-4bba-8011-145881516a46",
         "x": [
          0,
          1,
          2,
          3,
          4,
          5,
          6,
          7,
          8,
          9,
          10,
          11,
          12,
          13,
          14,
          15,
          16,
          17,
          18,
          19,
          20,
          21,
          22,
          23
         ],
         "y": [
          66609,
          67048,
          69664,
          72238,
          84721,
          69224,
          58697,
          51430,
          48239,
          50574,
          51707,
          50305,
          45590,
          42180,
          41054,
          56182,
          49965,
          43094,
          44414,
          41393,
          34903,
          39535,
          39627,
          9400
         ]
        },
        {
         "name": "expected",
         "type": "scatter",
         "uid": "535e5c4e-e97f-4cbb-8b90-f408b3f70324",
         "x": [
          0,
          1,
          2,
          3,
          4,
          5,
          6,
          7,
          8,
          9,
          10,
          11,
          12,
          13,
          14,
          15,
          16,
          17,
          18,
          19,
          20,
          21,
          22,
          23
         ],
         "y": [
          40000,
          40000,
          40000,
          40000,
          40000,
          40000,
          40000,
          40000,
          40000,
          40000,
          40000,
          40000,
          40000,
          40000,
          40000,
          40000,
          40000,
          40000,
          40000,
          40000,
          40000,
          40000,
          40000,
          40000
         ]
        }
       ],
       "layout": {
        "autosize": true,
        "xaxis": {
         "autorange": true,
         "range": [
          -1.4166666666666667,
          24.416666666666668
         ],
         "type": "linear"
        },
        "yaxis": {
         "autorange": true,
         "range": [
          3882.856687898089,
          90238.1433121019
         ],
         "type": "linear"
        }
       }
      },
      "image/png": "[encoded data removed]",
      "text/html": [
       "<div id=\"d68aeb7f-d6a7-44cf-a20a-ab57a535e52e\" style=\"height: 525px; width: 100%;\" class=\"plotly-graph-div\"></div><script type=\"text/javascript\">require([\"plotly\"], function(Plotly) { window.PLOTLYENV=window.PLOTLYENV || {};window.PLOTLYENV.BASE_URL=\"https://plot.ly\";Plotly.newPlot(\"d68aeb7f-d6a7-44cf-a20a-ab57a535e52e\", [{\"mode\": \"markers\", \"name\": \"actual\", \"x\": [0, 1, 2, 3, 4, 5, 6, 7, 8, 9, 10, 11, 12, 13, 14, 15, 16, 17, 18, 19, 20, 21, 22, 23], \"y\": [66609, 67048, 69664, 72238, 84721, 69224, 58697, 51430, 48239, 50574, 51707, 50305, 45590, 42180, 41054, 56182, 49965, 43094, 44414, 41393, 34903, 39535, 39627, 9400], \"type\": \"scatter\", \"uid\": \"c81c232b-8ba3-4aeb-8208-02bd0d555f69\"}, {\"name\": \"expected\", \"x\": [0, 1, 2, 3, 4, 5, 6, 7, 8, 9, 10, 11, 12, 13, 14, 15, 16, 17, 18, 19, 20, 21, 22, 23], \"y\": [40000, 40000, 40000, 40000, 40000, 40000, 40000, 40000, 40000, 40000, 40000, 40000, 40000, 40000, 40000, 40000, 40000, 40000, 40000, 40000, 40000, 40000, 40000, 40000], \"type\": \"scatter\", \"uid\": \"4cea4ae7-5ab7-4a0b-b109-c7abc1ddf463\"}], {}, {\"showLink\": false, \"linkText\": \"Export to plot.ly\", \"plotlyServerURL\": \"https://plot.ly\"})});</script><script type=\"text/javascript\">window.addEventListener(\"resize\", function(){window._Plotly.Plots.resize(document.getElementById(\"d68aeb7f-d6a7-44cf-a20a-ab57a535e52e\"));});</script>"
      ],
      "text/vnd.plotly.v1+html": [
       "<div id=\"d68aeb7f-d6a7-44cf-a20a-ab57a535e52e\" style=\"height: 525px; width: 100%;\" class=\"plotly-graph-div\"></div><script type=\"text/javascript\">require([\"plotly\"], function(Plotly) { window.PLOTLYENV=window.PLOTLYENV || {};window.PLOTLYENV.BASE_URL=\"https://plot.ly\";Plotly.newPlot(\"d68aeb7f-d6a7-44cf-a20a-ab57a535e52e\", [{\"mode\": \"markers\", \"name\": \"actual\", \"x\": [0, 1, 2, 3, 4, 5, 6, 7, 8, 9, 10, 11, 12, 13, 14, 15, 16, 17, 18, 19, 20, 21, 22, 23], \"y\": [66609, 67048, 69664, 72238, 84721, 69224, 58697, 51430, 48239, 50574, 51707, 50305, 45590, 42180, 41054, 56182, 49965, 43094, 44414, 41393, 34903, 39535, 39627, 9400], \"type\": \"scatter\", \"uid\": \"c81c232b-8ba3-4aeb-8208-02bd0d555f69\"}, {\"name\": \"expected\", \"x\": [0, 1, 2, 3, 4, 5, 6, 7, 8, 9, 10, 11, 12, 13, 14, 15, 16, 17, 18, 19, 20, 21, 22, 23], \"y\": [40000, 40000, 40000, 40000, 40000, 40000, 40000, 40000, 40000, 40000, 40000, 40000, 40000, 40000, 40000, 40000, 40000, 40000, 40000, 40000, 40000, 40000, 40000, 40000], \"type\": \"scatter\", \"uid\": \"4cea4ae7-5ab7-4a0b-b109-c7abc1ddf463\"}], {}, {\"showLink\": false, \"linkText\": \"Export to plot.ly\", \"plotlyServerURL\": \"https://plot.ly\"})});</script><script type=\"text/javascript\">window.addEventListener(\"resize\", function(){window._Plotly.Plots.resize(document.getElementById(\"d68aeb7f-d6a7-44cf-a20a-ab57a535e52e\"));});</script>"
      ]
     },
     "metadata": {},
     "output_type": "display_data"
    }
   ],
   "source": [
    "y_hats = list(map(lambda x: 40000, months_since_september))\n",
    "model = {'x': months_since_september, 'y': y_hats, 'name':'expected'}\n",
    "iplot([scatter, model])"
   ]
  },
  {
   "cell_type": "markdown",
   "metadata": {},
   "source": [
    "So we generated this model simply with the our function:\n",
    "\n",
    "```python\n",
    "def y_hat(x):\n",
    "    return 40000\n",
    "```\n",
    "\n",
    "And then mapping through our data and returning 40000 for each x value.\n",
    "```python\n",
    "y_hats = list(map(lambda x: 40000, months_since_september))\n",
    "```"
   ]
  },
  {
   "cell_type": "markdown",
   "metadata": {},
   "source": [
    "To express this as a mathematical function we would write this as $ \\hat{y} = 40000$."
   ]
  },
  {
   "cell_type": "markdown",
   "metadata": {},
   "source": [
    "One thing to note is that we can `map` through our data and use our `y_hat` function directly to generate the data."
   ]
  },
  {
   "cell_type": "code",
   "execution_count": 73,
   "metadata": {},
   "outputs": [],
   "source": [
    "y_hats_from_function = list(map(y_hat, months_since_september))"
   ]
  },
  {
   "cell_type": "code",
   "execution_count": 75,
   "metadata": {},
   "outputs": [
    {
     "data": {
      "text/plain": [
       "[0, 20000, 40000]"
      ]
     },
     "execution_count": 75,
     "metadata": {},
     "output_type": "execute_result"
    }
   ],
   "source": [
    "y_hats_from_function[0:3]"
   ]
  },
  {
   "cell_type": "markdown",
   "metadata": {},
   "source": [
    "So note that we **do not** write `y_hat(x)`.  Doing so would only execute our function once.  Also note, that we no longer use the `lambda` keyword. Instead we simply reference the name of our function without parentheses, and `map` knows to pass the each element to the function as an argument."
   ]
  },
  {
   "cell_type": "markdown",
   "metadata": {},
   "source": [
    "### Varying our output with x\n",
    "\n",
    "Ok, so far we saw that we can generate a prediction for each input that we have with a function that returns a value which represents our `y_hat` for that value of `x`.  To display our line, we simply mapped through our x values, passing each x value to our function.  And we saw that we can express this function mathematically as $ \\hat{y} = 40000$.  This function is called a constant function, because no matter what the input of `x` that we provide our prediction will be the same or constant."
   ]
  },
  {
   "cell_type": "markdown",
   "metadata": {},
   "source": [
    "Ok, now let's move on to a function that is not constant.  \n",
    "\n",
    "$\\hat{y} = 2,000*x$"
   ]
  },
  {
   "cell_type": "markdown",
   "metadata": {},
   "source": [
    "Ok, now this function should return different predictions for y as the our input values of x vary.  Let's try it!  \n",
    "\n",
    "First, we write express our function in code as the following."
   ]
  },
  {
   "cell_type": "code",
   "execution_count": 85,
   "metadata": {},
   "outputs": [],
   "source": [
    "def y_hat(x):\n",
    "    return 2000*x"
   ]
  },
  {
   "cell_type": "markdown",
   "metadata": {},
   "source": [
    "And now we have a function that will return us a different predicted value $\\hat{y}$ for each input value of $x$."
   ]
  },
  {
   "cell_type": "code",
   "execution_count": 86,
   "metadata": {},
   "outputs": [
    {
     "data": {
      "text/plain": [
       "4000"
      ]
     },
     "execution_count": 86,
     "metadata": {},
     "output_type": "execute_result"
    }
   ],
   "source": [
    "y_hat(2)"
   ]
  },
  {
   "cell_type": "code",
   "execution_count": 87,
   "metadata": {},
   "outputs": [
    {
     "data": {
      "text/plain": [
       "6000"
      ]
     },
     "execution_count": 87,
     "metadata": {},
     "output_type": "execute_result"
    }
   ],
   "source": [
    "y_hat(3)"
   ]
  },
  {
   "cell_type": "markdown",
   "metadata": {},
   "source": [
    "So this is saying that for each month after Sept. 2015, revenue increases by 20,000.  Let's see what this looks like as a plot.  Once again, we create our trace by passing through out x_values, our list `months_since_september`.  And we create our `y_hats` by mapping through our x values and passing value as an argument to our updated `y_hat` formula."
   ]
  },
  {
   "cell_type": "code",
   "execution_count": 88,
   "metadata": {},
   "outputs": [
    {
     "data": {
      "application/vnd.plotly.v1+json": {
       "config": {
        "linkText": "Export to plot.ly",
        "plotlyServerURL": "https://plot.ly",
        "showLink": false
       },
       "data": [
        {
         "mode": "markers",
         "name": "actual",
         "type": "scatter",
         "uid": "f5e3ca36-1e53-43d8-9780-7ec1448a2406",
         "x": [
          0,
          1,
          2,
          3,
          4,
          5,
          6,
          7,
          8,
          9,
          10,
          11,
          12,
          13,
          14,
          15,
          16,
          17,
          18,
          19,
          20,
          21,
          22,
          23
         ],
         "y": [
          66609,
          67048,
          69664,
          72238,
          84721,
          69224,
          58697,
          51430,
          48239,
          50574,
          51707,
          50305,
          45590,
          42180,
          41054,
          56182,
          49965,
          43094,
          44414,
          41393,
          34903,
          39535,
          39627,
          9400
         ]
        },
        {
         "name": "expected",
         "type": "scatter",
         "uid": "0e092bef-65a5-4706-8e8b-af7254157ee6",
         "x": [
          0,
          1,
          2,
          3,
          4,
          5,
          6,
          7,
          8,
          9,
          10,
          11,
          12,
          13,
          14,
          15,
          16,
          17,
          18,
          19,
          20,
          21,
          22,
          23
         ],
         "y": [
          0,
          2000,
          4000,
          6000,
          8000,
          10000,
          12000,
          14000,
          16000,
          18000,
          20000,
          22000,
          24000,
          26000,
          28000,
          30000,
          32000,
          34000,
          36000,
          38000,
          40000,
          42000,
          44000,
          46000
         ]
        }
       ],
       "layout": {
        "autosize": true,
        "xaxis": {
         "autorange": true,
         "range": [
          -1.4166666666666667,
          24.416666666666668
         ],
         "type": "linear"
        },
        "yaxis": {
         "autorange": true,
         "range": [
          -4780.495297805643,
          90829.41065830721
         ],
         "type": "linear"
        }
       }
      },
      "image/png": "[encoded data removed]",
      "text/html": [
       "<div id=\"cd0d6aff-9abe-4b85-8c92-45fb77192585\" style=\"height: 525px; width: 100%;\" class=\"plotly-graph-div\"></div><script type=\"text/javascript\">require([\"plotly\"], function(Plotly) { window.PLOTLYENV=window.PLOTLYENV || {};window.PLOTLYENV.BASE_URL=\"https://plot.ly\";Plotly.newPlot(\"cd0d6aff-9abe-4b85-8c92-45fb77192585\", [{\"mode\": \"markers\", \"name\": \"actual\", \"x\": [0, 1, 2, 3, 4, 5, 6, 7, 8, 9, 10, 11, 12, 13, 14, 15, 16, 17, 18, 19, 20, 21, 22, 23], \"y\": [66609, 67048, 69664, 72238, 84721, 69224, 58697, 51430, 48239, 50574, 51707, 50305, 45590, 42180, 41054, 56182, 49965, 43094, 44414, 41393, 34903, 39535, 39627, 9400], \"type\": \"scatter\", \"uid\": \"7a25cc7c-2a87-4696-9ce4-f40b132c613f\"}, {\"name\": \"expected\", \"x\": [0, 1, 2, 3, 4, 5, 6, 7, 8, 9, 10, 11, 12, 13, 14, 15, 16, 17, 18, 19, 20, 21, 22, 23], \"y\": [0, 2000, 4000, 6000, 8000, 10000, 12000, 14000, 16000, 18000, 20000, 22000, 24000, 26000, 28000, 30000, 32000, 34000, 36000, 38000, 40000, 42000, 44000, 46000], \"type\": \"scatter\", \"uid\": \"2199ac7e-0968-4776-af6b-c722b798c5c2\"}], {}, {\"showLink\": false, \"linkText\": \"Export to plot.ly\", \"plotlyServerURL\": \"https://plot.ly\"})});</script><script type=\"text/javascript\">window.addEventListener(\"resize\", function(){window._Plotly.Plots.resize(document.getElementById(\"cd0d6aff-9abe-4b85-8c92-45fb77192585\"));});</script>"
      ],
      "text/vnd.plotly.v1+html": [
       "<div id=\"cd0d6aff-9abe-4b85-8c92-45fb77192585\" style=\"height: 525px; width: 100%;\" class=\"plotly-graph-div\"></div><script type=\"text/javascript\">require([\"plotly\"], function(Plotly) { window.PLOTLYENV=window.PLOTLYENV || {};window.PLOTLYENV.BASE_URL=\"https://plot.ly\";Plotly.newPlot(\"cd0d6aff-9abe-4b85-8c92-45fb77192585\", [{\"mode\": \"markers\", \"name\": \"actual\", \"x\": [0, 1, 2, 3, 4, 5, 6, 7, 8, 9, 10, 11, 12, 13, 14, 15, 16, 17, 18, 19, 20, 21, 22, 23], \"y\": [66609, 67048, 69664, 72238, 84721, 69224, 58697, 51430, 48239, 50574, 51707, 50305, 45590, 42180, 41054, 56182, 49965, 43094, 44414, 41393, 34903, 39535, 39627, 9400], \"type\": \"scatter\", \"uid\": \"7a25cc7c-2a87-4696-9ce4-f40b132c613f\"}, {\"name\": \"expected\", \"x\": [0, 1, 2, 3, 4, 5, 6, 7, 8, 9, 10, 11, 12, 13, 14, 15, 16, 17, 18, 19, 20, 21, 22, 23], \"y\": [0, 2000, 4000, 6000, 8000, 10000, 12000, 14000, 16000, 18000, 20000, 22000, 24000, 26000, 28000, 30000, 32000, 34000, 36000, 38000, 40000, 42000, 44000, 46000], \"type\": \"scatter\", \"uid\": \"2199ac7e-0968-4776-af6b-c722b798c5c2\"}], {}, {\"showLink\": false, \"linkText\": \"Export to plot.ly\", \"plotlyServerURL\": \"https://plot.ly\"})});</script><script type=\"text/javascript\">window.addEventListener(\"resize\", function(){window._Plotly.Plots.resize(document.getElementById(\"cd0d6aff-9abe-4b85-8c92-45fb77192585\"));});</script>"
      ]
     },
     "metadata": {},
     "output_type": "display_data"
    }
   ],
   "source": [
    "varying_y_hats = list(map(y_hat, months_since_september))\n",
    "\n",
    "varying_model = {'x': months_since_september, 'y': varying_y_hats, 'name':'expected'}\n",
    "varying_model\n",
    "iplot([scatter, varying_model])"
   ]
  },
  {
   "cell_type": "markdown",
   "metadata": {},
   "source": [
    "Once again, not a great model.  However, notice how we are able to generate a sloped line.  For every one unit increase in x, our y value increase by 20,000.  "
   ]
  },
  {
   "cell_type": "code",
   "execution_count": 90,
   "metadata": {},
   "outputs": [
    {
     "data": {
      "text/plain": [
       "6000"
      ]
     },
     "execution_count": 90,
     "metadata": {},
     "output_type": "execute_result"
    }
   ],
   "source": [
    "def y_hat(x):\n",
    "    return 2000*x\n",
    "\n",
    "y_hat(1) # 2000\n",
    "y_hat(2) # 4000\n",
    "y_hat(3) # 6000"
   ]
  },
  {
   "cell_type": "markdown",
   "metadata": {},
   "source": [
    "So with each one value increase in x *our increase* in y stays constant.  This is a linear equation.  We can multiply x by whatever we want.  Notice that this will still produce a line.  The only difference will be how steep the line is.  The larger the number x by the steeper the line, and vice versa.  Replace the number 2000 with different numbers to see how the line changes.  If we want to point the line downwards instead of upwards, we multiply x by a negative number."
   ]
  },
  {
   "cell_type": "code",
   "execution_count": 91,
   "metadata": {},
   "outputs": [
    {
     "data": {
      "application/vnd.plotly.v1+json": {
       "config": {
        "linkText": "Export to plot.ly",
        "plotlyServerURL": "https://plot.ly",
        "showLink": false
       },
       "data": [
        {
         "mode": "markers",
         "name": "actual",
         "type": "scatter",
         "uid": "64a03bff-ce20-4490-9650-7513ba1fa97c",
         "x": [
          0,
          1,
          2,
          3,
          4,
          5,
          6,
          7,
          8,
          9,
          10,
          11,
          12,
          13,
          14,
          15,
          16,
          17,
          18,
          19,
          20,
          21,
          22,
          23
         ],
         "y": [
          66609,
          67048,
          69664,
          72238,
          84721,
          69224,
          58697,
          51430,
          48239,
          50574,
          51707,
          50305,
          45590,
          42180,
          41054,
          56182,
          49965,
          43094,
          44414,
          41393,
          34903,
          39535,
          39627,
          9400
         ]
        },
        {
         "name": "expected",
         "type": "scatter",
         "uid": "aa0ec4ca-9e1d-47ec-8f96-ffd447f13b0c",
         "x": [
          0,
          1,
          2,
          3,
          4,
          5,
          6,
          7,
          8,
          9,
          10,
          11,
          12,
          13,
          14,
          15,
          16,
          17,
          18,
          19,
          20,
          21,
          22,
          23
         ],
         "y": [
          0,
          2000,
          4000,
          6000,
          8000,
          10000,
          12000,
          14000,
          16000,
          18000,
          20000,
          22000,
          24000,
          26000,
          28000,
          30000,
          32000,
          34000,
          36000,
          38000,
          40000,
          42000,
          44000,
          46000
         ]
        }
       ],
       "layout": {
        "autosize": true,
        "xaxis": {
         "autorange": true,
         "range": [
          -1.4166666666666667,
          24.416666666666668
         ],
         "type": "linear"
        },
        "yaxis": {
         "autorange": true,
         "range": [
          -4780.495297805643,
          90829.41065830721
         ],
         "type": "linear"
        }
       }
      },
      "image/png": "[encoded data removed]",
      "text/html": [
       "<div id=\"fea1bf4f-0307-4ab0-aaf8-69a21c20c255\" style=\"height: 525px; width: 100%;\" class=\"plotly-graph-div\"></div><script type=\"text/javascript\">require([\"plotly\"], function(Plotly) { window.PLOTLYENV=window.PLOTLYENV || {};window.PLOTLYENV.BASE_URL=\"https://plot.ly\";Plotly.newPlot(\"fea1bf4f-0307-4ab0-aaf8-69a21c20c255\", [{\"mode\": \"markers\", \"name\": \"actual\", \"x\": [0, 1, 2, 3, 4, 5, 6, 7, 8, 9, 10, 11, 12, 13, 14, 15, 16, 17, 18, 19, 20, 21, 22, 23], \"y\": [66609, 67048, 69664, 72238, 84721, 69224, 58697, 51430, 48239, 50574, 51707, 50305, 45590, 42180, 41054, 56182, 49965, 43094, 44414, 41393, 34903, 39535, 39627, 9400], \"type\": \"scatter\", \"uid\": \"92b93642-0541-436f-ab87-2061a348533d\"}, {\"name\": \"expected\", \"x\": [0, 1, 2, 3, 4, 5, 6, 7, 8, 9, 10, 11, 12, 13, 14, 15, 16, 17, 18, 19, 20, 21, 22, 23], \"y\": [0, 2000, 4000, 6000, 8000, 10000, 12000, 14000, 16000, 18000, 20000, 22000, 24000, 26000, 28000, 30000, 32000, 34000, 36000, 38000, 40000, 42000, 44000, 46000], \"type\": \"scatter\", \"uid\": \"5c9af369-c212-4359-ad6f-cf803dfb3c54\"}], {}, {\"showLink\": false, \"linkText\": \"Export to plot.ly\", \"plotlyServerURL\": \"https://plot.ly\"})});</script><script type=\"text/javascript\">window.addEventListener(\"resize\", function(){window._Plotly.Plots.resize(document.getElementById(\"fea1bf4f-0307-4ab0-aaf8-69a21c20c255\"));});</script>"
      ],
      "text/vnd.plotly.v1+html": [
       "<div id=\"fea1bf4f-0307-4ab0-aaf8-69a21c20c255\" style=\"height: 525px; width: 100%;\" class=\"plotly-graph-div\"></div><script type=\"text/javascript\">require([\"plotly\"], function(Plotly) { window.PLOTLYENV=window.PLOTLYENV || {};window.PLOTLYENV.BASE_URL=\"https://plot.ly\";Plotly.newPlot(\"fea1bf4f-0307-4ab0-aaf8-69a21c20c255\", [{\"mode\": \"markers\", \"name\": \"actual\", \"x\": [0, 1, 2, 3, 4, 5, 6, 7, 8, 9, 10, 11, 12, 13, 14, 15, 16, 17, 18, 19, 20, 21, 22, 23], \"y\": [66609, 67048, 69664, 72238, 84721, 69224, 58697, 51430, 48239, 50574, 51707, 50305, 45590, 42180, 41054, 56182, 49965, 43094, 44414, 41393, 34903, 39535, 39627, 9400], \"type\": \"scatter\", \"uid\": \"92b93642-0541-436f-ab87-2061a348533d\"}, {\"name\": \"expected\", \"x\": [0, 1, 2, 3, 4, 5, 6, 7, 8, 9, 10, 11, 12, 13, 14, 15, 16, 17, 18, 19, 20, 21, 22, 23], \"y\": [0, 2000, 4000, 6000, 8000, 10000, 12000, 14000, 16000, 18000, 20000, 22000, 24000, 26000, 28000, 30000, 32000, 34000, 36000, 38000, 40000, 42000, 44000, 46000], \"type\": \"scatter\", \"uid\": \"5c9af369-c212-4359-ad6f-cf803dfb3c54\"}], {}, {\"showLink\": false, \"linkText\": \"Export to plot.ly\", \"plotlyServerURL\": \"https://plot.ly\"})});</script><script type=\"text/javascript\">window.addEventListener(\"resize\", function(){window._Plotly.Plots.resize(document.getElementById(\"fea1bf4f-0307-4ab0-aaf8-69a21c20c255\"));});</script>"
      ]
     },
     "metadata": {},
     "output_type": "display_data"
    }
   ],
   "source": [
    "def y_hat(x):\n",
    "    # change the number 2000 here     \n",
    "    return 2000*x\n",
    "\n",
    "varying_y_hats = list(map(y_hat, months_since_september))\n",
    "varying_model = {'x': months_since_september, 'y': varying_y_hats, 'name':'expected'}\n",
    "iplot([scatter, varying_model])"
   ]
  },
  {
   "cell_type": "markdown",
   "metadata": {},
   "source": [
    "### Raising and lowering the line"
   ]
  },
  {
   "cell_type": "markdown",
   "metadata": {},
   "source": [
    "In the previous section, we saw that we can increase and decrease the slope of the line by multiplying our input $x$ by different numbers.  In this section we'll try to raise the entire line vertically.  For example, let's plot our original line, `y_hat` and then a new line `y_hat_plus_200` to see the difference."
   ]
  },
  {
   "cell_type": "code",
   "execution_count": 102,
   "metadata": {},
   "outputs": [],
   "source": [
    "def y_hat(x):\n",
    "    return 2000*x\n",
    "\n",
    "def y_hat_plus_ten_thousand(x):\n",
    "    return 2000*x + 10000"
   ]
  },
  {
   "cell_type": "code",
   "execution_count": 104,
   "metadata": {},
   "outputs": [
    {
     "data": {
      "application/vnd.plotly.v1+json": {
       "config": {
        "linkText": "Export to plot.ly",
        "plotlyServerURL": "https://plot.ly",
        "showLink": false
       },
       "data": [
        {
         "mode": "markers",
         "name": "actual",
         "type": "scatter",
         "uid": "b9ca2c0f-f0e7-4de8-aafb-af27f4da1248",
         "x": [
          0,
          1,
          2,
          3,
          4,
          5,
          6,
          7,
          8,
          9,
          10,
          11,
          12,
          13,
          14,
          15,
          16,
          17,
          18,
          19,
          20,
          21,
          22,
          23
         ],
         "y": [
          66609,
          67048,
          69664,
          72238,
          84721,
          69224,
          58697,
          51430,
          48239,
          50574,
          51707,
          50305,
          45590,
          42180,
          41054,
          56182,
          49965,
          43094,
          44414,
          41393,
          34903,
          39535,
          39627,
          9400
         ]
        },
        {
         "name": "expected",
         "type": "scatter",
         "uid": "fe8f13fa-1e3d-4748-9075-314796f0a87a",
         "x": [
          0,
          1,
          2,
          3,
          4,
          5,
          6,
          7,
          8,
          9,
          10,
          11,
          12,
          13,
          14,
          15,
          16,
          17,
          18,
          19,
          20,
          21,
          22,
          23
         ],
         "y": [
          0,
          2000,
          4000,
          6000,
          8000,
          10000,
          12000,
          14000,
          16000,
          18000,
          20000,
          22000,
          24000,
          26000,
          28000,
          30000,
          32000,
          34000,
          36000,
          38000,
          40000,
          42000,
          44000,
          46000
         ]
        },
        {
         "name": "expected plus 10,000",
         "type": "scatter",
         "uid": "b880d2ec-35b3-4b5c-9b72-f4f5126afeee",
         "x": [
          0,
          1,
          2,
          3,
          4,
          5,
          6,
          7,
          8,
          9,
          10,
          11,
          12,
          13,
          14,
          15,
          16,
          17,
          18,
          19,
          20,
          21,
          22,
          23
         ],
         "y": [
          10000,
          12000,
          14000,
          16000,
          18000,
          20000,
          22000,
          24000,
          26000,
          28000,
          30000,
          32000,
          34000,
          36000,
          38000,
          40000,
          42000,
          44000,
          46000,
          48000,
          50000,
          52000,
          54000,
          56000
         ]
        }
       ],
       "layout": {
        "autosize": true,
        "xaxis": {
         "autorange": true,
         "range": [
          -1.429749444973042,
          24.42974944497304
         ],
         "type": "linear"
        },
        "yaxis": {
         "autorange": true,
         "range": [
          -4780.495297805643,
          90829.41065830721
         ],
         "type": "linear"
        }
       }
      },
      "image/png": "[encoded data removed]",
      "text/html": [
       "<div id=\"988769c7-a96a-4226-8257-24d3a3ac8eaa\" style=\"height: 525px; width: 100%;\" class=\"plotly-graph-div\"></div><script type=\"text/javascript\">require([\"plotly\"], function(Plotly) { window.PLOTLYENV=window.PLOTLYENV || {};window.PLOTLYENV.BASE_URL=\"https://plot.ly\";Plotly.newPlot(\"988769c7-a96a-4226-8257-24d3a3ac8eaa\", [{\"mode\": \"markers\", \"name\": \"actual\", \"x\": [0, 1, 2, 3, 4, 5, 6, 7, 8, 9, 10, 11, 12, 13, 14, 15, 16, 17, 18, 19, 20, 21, 22, 23], \"y\": [66609, 67048, 69664, 72238, 84721, 69224, 58697, 51430, 48239, 50574, 51707, 50305, 45590, 42180, 41054, 56182, 49965, 43094, 44414, 41393, 34903, 39535, 39627, 9400], \"type\": \"scatter\", \"uid\": \"c93ab0fd-cd47-45c0-b818-c08bb4c70357\"}, {\"name\": \"expected\", \"x\": [0, 1, 2, 3, 4, 5, 6, 7, 8, 9, 10, 11, 12, 13, 14, 15, 16, 17, 18, 19, 20, 21, 22, 23], \"y\": [0, 2000, 4000, 6000, 8000, 10000, 12000, 14000, 16000, 18000, 20000, 22000, 24000, 26000, 28000, 30000, 32000, 34000, 36000, 38000, 40000, 42000, 44000, 46000], \"type\": \"scatter\", \"uid\": \"615ae9a1-57ac-41ad-932d-11fa230895c2\"}, {\"name\": \"expected plus 10,000\", \"x\": [0, 1, 2, 3, 4, 5, 6, 7, 8, 9, 10, 11, 12, 13, 14, 15, 16, 17, 18, 19, 20, 21, 22, 23], \"y\": [10000, 12000, 14000, 16000, 18000, 20000, 22000, 24000, 26000, 28000, 30000, 32000, 34000, 36000, 38000, 40000, 42000, 44000, 46000, 48000, 50000, 52000, 54000, 56000], \"type\": \"scatter\", \"uid\": \"9becc9ce-8188-416c-8cb8-9847e408acc2\"}], {}, {\"showLink\": false, \"linkText\": \"Export to plot.ly\", \"plotlyServerURL\": \"https://plot.ly\"})});</script><script type=\"text/javascript\">window.addEventListener(\"resize\", function(){window._Plotly.Plots.resize(document.getElementById(\"988769c7-a96a-4226-8257-24d3a3ac8eaa\"));});</script>"
      ],
      "text/vnd.plotly.v1+html": [
       "<div id=\"988769c7-a96a-4226-8257-24d3a3ac8eaa\" style=\"height: 525px; width: 100%;\" class=\"plotly-graph-div\"></div><script type=\"text/javascript\">require([\"plotly\"], function(Plotly) { window.PLOTLYENV=window.PLOTLYENV || {};window.PLOTLYENV.BASE_URL=\"https://plot.ly\";Plotly.newPlot(\"988769c7-a96a-4226-8257-24d3a3ac8eaa\", [{\"mode\": \"markers\", \"name\": \"actual\", \"x\": [0, 1, 2, 3, 4, 5, 6, 7, 8, 9, 10, 11, 12, 13, 14, 15, 16, 17, 18, 19, 20, 21, 22, 23], \"y\": [66609, 67048, 69664, 72238, 84721, 69224, 58697, 51430, 48239, 50574, 51707, 50305, 45590, 42180, 41054, 56182, 49965, 43094, 44414, 41393, 34903, 39535, 39627, 9400], \"type\": \"scatter\", \"uid\": \"c93ab0fd-cd47-45c0-b818-c08bb4c70357\"}, {\"name\": \"expected\", \"x\": [0, 1, 2, 3, 4, 5, 6, 7, 8, 9, 10, 11, 12, 13, 14, 15, 16, 17, 18, 19, 20, 21, 22, 23], \"y\": [0, 2000, 4000, 6000, 8000, 10000, 12000, 14000, 16000, 18000, 20000, 22000, 24000, 26000, 28000, 30000, 32000, 34000, 36000, 38000, 40000, 42000, 44000, 46000], \"type\": \"scatter\", \"uid\": \"615ae9a1-57ac-41ad-932d-11fa230895c2\"}, {\"name\": \"expected plus 10,000\", \"x\": [0, 1, 2, 3, 4, 5, 6, 7, 8, 9, 10, 11, 12, 13, 14, 15, 16, 17, 18, 19, 20, 21, 22, 23], \"y\": [10000, 12000, 14000, 16000, 18000, 20000, 22000, 24000, 26000, 28000, 30000, 32000, 34000, 36000, 38000, 40000, 42000, 44000, 46000, 48000, 50000, 52000, 54000, 56000], \"type\": \"scatter\", \"uid\": \"9becc9ce-8188-416c-8cb8-9847e408acc2\"}], {}, {\"showLink\": false, \"linkText\": \"Export to plot.ly\", \"plotlyServerURL\": \"https://plot.ly\"})});</script><script type=\"text/javascript\">window.addEventListener(\"resize\", function(){window._Plotly.Plots.resize(document.getElementById(\"988769c7-a96a-4226-8257-24d3a3ac8eaa\"));});</script>"
      ]
     },
     "metadata": {},
     "output_type": "display_data"
    }
   ],
   "source": [
    "varying_y_hats = list(map(y_hat, months_since_september))\n",
    "varying_y_hats_plus_ten_thousand = list(map(y_hat_plus_ten_thousand, months_since_september))\n",
    "varying_model = {'x': months_since_september, 'y': varying_y_hats, 'name':'expected'}\n",
    "varying_model_plus_ten_thousand = {'x': months_since_september, 'y': varying_y_hats_plus_ten_thousand, 'name':'expected plus 10,000'}\n",
    "\n",
    "iplot([scatter, varying_model, varying_model_plus_ten_thousand])"
   ]
  },
  {
   "cell_type": "markdown",
   "metadata": {},
   "source": [
    "So notice what this did.  Our line has exactly the same slope as before, but every expected y value is increase by 10,000.  We can see how this makes sense by inserting single values for our two functions."
   ]
  },
  {
   "cell_type": "code",
   "execution_count": 105,
   "metadata": {},
   "outputs": [],
   "source": [
    "def y_hat(x):\n",
    "    return 2000*x\n",
    "\n",
    "def y_hat_plus_ten_thousand(x):\n",
    "    return 2000*x + 10000"
   ]
  },
  {
   "cell_type": "code",
   "execution_count": 108,
   "metadata": {},
   "outputs": [
    {
     "data": {
      "text/plain": [
       "16000"
      ]
     },
     "execution_count": 108,
     "metadata": {},
     "output_type": "execute_result"
    }
   ],
   "source": [
    "y_hat(2) # 4000\n",
    "y_hat_plus_ten_thousand(2) # 14000\n",
    "\n",
    "y_hat(3) # 6000\n",
    "y_hat_plus_ten_thousand(3) # 16000"
   ]
  },
  {
   "cell_type": "markdown",
   "metadata": {},
   "source": [
    "So notice that the *increase* in outputs from 2 to 3 is the same, the output increase by 2000 for both functions.  And that increase is what we see as the slope of the line.  However, the output is precisely 10000 more for each point returned by `y_hat_plus_ten_thousand`.  So that is why the entire line is shifted upwards."
   ]
  },
  {
   "cell_type": "markdown",
   "metadata": {},
   "source": [
    "### The big takeaway"
   ]
  },
  {
   "cell_type": "markdown",
   "metadata": {},
   "source": [
    "Hopefully now we can see the two ways that we can change our line.  We use a function that takes an input of an x value and returns an output of an expected y value.  We can pass through whichever x value we like.  We change the slope of our line by multiplying a number by x, and we shift the entire line up or down by adding a number."
   ]
  },
  {
   "cell_type": "code",
   "execution_count": 110,
   "metadata": {},
   "outputs": [],
   "source": [
    "def y_hat(x):\n",
    "    slope_of_line = 10\n",
    "    shift_upwards = 500\n",
    "    return slope_of_line*x + shift_upwards_or_downwards"
   ]
  },
  {
   "cell_type": "markdown",
   "metadata": {},
   "source": [
    "Now as you can see these variables `slope_of_line` and `shift_upwards` really determine a lot about our line.  They are so important that mathematicians have given them their own names, `m` for slope of the line, and `b` which is for the *y intercept*.  Because this is the output of the function when `x` equals zero, and when `x` equals zero we intercept the y axis.\n",
    "\n",
    "So our formula mathematically looks like the following: \n",
    "\n",
    "$\\hat{y} = mx + b $\n",
    "\n",
    "where y is the expected value, m is the slope of the line, and b is the y intercept."
   ]
  },
  {
   "cell_type": "markdown",
   "metadata": {},
   "source": [
    "Change the values of the variables `m` and `b` to see how our linear regression model updates in the graph below."
   ]
  },
  {
   "cell_type": "code",
   "execution_count": 125,
   "metadata": {},
   "outputs": [
    {
     "data": {
      "application/vnd.plotly.v1+json": {
       "config": {
        "linkText": "Export to plot.ly",
        "plotlyServerURL": "https://plot.ly",
        "showLink": false
       },
       "data": [
        {
         "mode": "markers",
         "name": "actual",
         "type": "scatter",
         "uid": "e044f9a6-e1f2-4709-97b0-7bf235c856d2",
         "x": [
          0,
          1,
          2,
          3,
          4,
          5,
          6,
          7,
          8,
          9,
          10,
          11,
          12,
          13,
          14,
          15,
          16,
          17,
          18,
          19,
          20,
          21,
          22,
          23
         ],
         "y": [
          66609,
          67048,
          69664,
          72238,
          84721,
          69224,
          58697,
          51430,
          48239,
          50574,
          51707,
          50305,
          45590,
          42180,
          41054,
          56182,
          49965,
          43094,
          44414,
          41393,
          34903,
          39535,
          39627,
          9400
         ]
        },
        {
         "name": "expected",
         "type": "scatter",
         "uid": "c6f485c3-d74b-4589-9286-da73b096c388",
         "x": [
          0,
          1,
          2,
          3,
          4,
          5,
          6,
          7,
          8,
          9,
          10,
          11,
          12,
          13,
          14,
          15,
          16,
          17,
          18,
          19,
          20,
          21,
          22,
          23
         ],
         "y": [
          60000,
          58500,
          57000,
          55500,
          54000,
          52500,
          51000,
          49500,
          48000,
          46500,
          45000,
          43500,
          42000,
          40500,
          39000,
          37500,
          36000,
          34500,
          33000,
          31500,
          30000,
          28500,
          27000,
          25500
         ]
        }
       ],
       "layout": {
        "autosize": true,
        "xaxis": {
         "autorange": true,
         "range": [
          -1.4166666666666667,
          24.416666666666668
         ],
         "type": "linear"
        },
        "yaxis": {
         "autorange": true,
         "range": [
          3882.856687898089,
          90238.1433121019
         ],
         "type": "linear"
        }
       }
      },
      "image/png": "[encoded data removed]",
      "text/html": [
       "<div id=\"380065e1-9838-4b4d-a3bf-d4ea76b523f5\" style=\"height: 525px; width: 100%;\" class=\"plotly-graph-div\"></div><script type=\"text/javascript\">require([\"plotly\"], function(Plotly) { window.PLOTLYENV=window.PLOTLYENV || {};window.PLOTLYENV.BASE_URL=\"https://plot.ly\";Plotly.newPlot(\"380065e1-9838-4b4d-a3bf-d4ea76b523f5\", [{\"mode\": \"markers\", \"name\": \"actual\", \"x\": [0, 1, 2, 3, 4, 5, 6, 7, 8, 9, 10, 11, 12, 13, 14, 15, 16, 17, 18, 19, 20, 21, 22, 23], \"y\": [66609, 67048, 69664, 72238, 84721, 69224, 58697, 51430, 48239, 50574, 51707, 50305, 45590, 42180, 41054, 56182, 49965, 43094, 44414, 41393, 34903, 39535, 39627, 9400], \"type\": \"scatter\", \"uid\": \"b352e493-900f-4d35-81c0-718f95421963\"}, {\"name\": \"expected\", \"x\": [0, 1, 2, 3, 4, 5, 6, 7, 8, 9, 10, 11, 12, 13, 14, 15, 16, 17, 18, 19, 20, 21, 22, 23], \"y\": [60000, 58500, 57000, 55500, 54000, 52500, 51000, 49500, 48000, 46500, 45000, 43500, 42000, 40500, 39000, 37500, 36000, 34500, 33000, 31500, 30000, 28500, 27000, 25500], \"type\": \"scatter\", \"uid\": \"7ede83ba-c2bc-4058-89e3-1a928b91c581\"}], {}, {\"showLink\": false, \"linkText\": \"Export to plot.ly\", \"plotlyServerURL\": \"https://plot.ly\"})});</script><script type=\"text/javascript\">window.addEventListener(\"resize\", function(){window._Plotly.Plots.resize(document.getElementById(\"380065e1-9838-4b4d-a3bf-d4ea76b523f5\"));});</script>"
      ],
      "text/vnd.plotly.v1+html": [
       "<div id=\"380065e1-9838-4b4d-a3bf-d4ea76b523f5\" style=\"height: 525px; width: 100%;\" class=\"plotly-graph-div\"></div><script type=\"text/javascript\">require([\"plotly\"], function(Plotly) { window.PLOTLYENV=window.PLOTLYENV || {};window.PLOTLYENV.BASE_URL=\"https://plot.ly\";Plotly.newPlot(\"380065e1-9838-4b4d-a3bf-d4ea76b523f5\", [{\"mode\": \"markers\", \"name\": \"actual\", \"x\": [0, 1, 2, 3, 4, 5, 6, 7, 8, 9, 10, 11, 12, 13, 14, 15, 16, 17, 18, 19, 20, 21, 22, 23], \"y\": [66609, 67048, 69664, 72238, 84721, 69224, 58697, 51430, 48239, 50574, 51707, 50305, 45590, 42180, 41054, 56182, 49965, 43094, 44414, 41393, 34903, 39535, 39627, 9400], \"type\": \"scatter\", \"uid\": \"b352e493-900f-4d35-81c0-718f95421963\"}, {\"name\": \"expected\", \"x\": [0, 1, 2, 3, 4, 5, 6, 7, 8, 9, 10, 11, 12, 13, 14, 15, 16, 17, 18, 19, 20, 21, 22, 23], \"y\": [60000, 58500, 57000, 55500, 54000, 52500, 51000, 49500, 48000, 46500, 45000, 43500, 42000, 40500, 39000, 37500, 36000, 34500, 33000, 31500, 30000, 28500, 27000, 25500], \"type\": \"scatter\", \"uid\": \"7ede83ba-c2bc-4058-89e3-1a928b91c581\"}], {}, {\"showLink\": false, \"linkText\": \"Export to plot.ly\", \"plotlyServerURL\": \"https://plot.ly\"})});</script><script type=\"text/javascript\">window.addEventListener(\"resize\", function(){window._Plotly.Plots.resize(document.getElementById(\"380065e1-9838-4b4d-a3bf-d4ea76b523f5\"));});</script>"
      ]
     },
     "metadata": {},
     "output_type": "display_data"
    }
   ],
   "source": [
    "def y_hat(x):\n",
    "    m = -1500\n",
    "    b = 60000\n",
    "    return m*x + b \n",
    "\n",
    "\n",
    "varying_y_hats = list(map(y_hat, months_since_september))\n",
    "varying_model = {'x': months_since_september, 'y': varying_y_hats, 'name':'expected'}\n",
    "iplot([scatter, varying_model])"
   ]
  },
  {
   "cell_type": "markdown",
   "metadata": {},
   "source": [
    "### Summary"
   ]
  },
  {
   "cell_type": "markdown",
   "metadata": {},
   "source": [
    "In this lesson we saw how to generate a linear regression model.  We represented our regression model both mathematically in and in code.  Our linear regression model takes the form $\\hat{y} = mx + b $ where $\\hat{y}$ is the value our model predicts, `m` is the slope of our linear regression model, and `b` is our y intercept or the value of `y` when our line crosses when the `y-axis`."
   ]
  },
  {
   "cell_type": "markdown",
   "metadata": {},
   "source": [
    "We also saw how we can generate our model machine learning model by using code to graph a line.  We do so by first writing our formula as a function that takes in input values of x and returns an output value which is our expected value of y.  \n",
    "\n",
    "```python\n",
    "def y_hat(x):\n",
    "    m = 1\n",
    "    b = 1\n",
    "    return m*x + b \n",
    "```\n",
    "\n",
    "The function above will return an output for every passed through input of $x$.  Then to generate a line, we map through the values for which we want to draw a line like so: \n",
    "\n",
    "```python\n",
    "y_hats = list(map(y_hat,x_values))\n",
    "varying_model = {'x': x_values, 'y': y_hats, 'name':'expected'}\n",
    "iplot([varying_model])\n",
    "```\n",
    "\n",
    "We'll work more with linear regression in the future, but for now, let's see how we can evaluate, and then improve upon our linear regression model."
   ]
  }
 ],
 "metadata": {
  "kernelspec": {
   "display_name": "Python 3",
   "language": "python",
   "name": "python3"
  },
  "language_info": {
   "codemirror_mode": {
    "name": "ipython",
    "version": 3
   },
   "file_extension": ".py",
   "mimetype": "text/x-python",
   "name": "python",
   "nbconvert_exporter": "python",
   "pygments_lexer": "ipython3",
   "version": "3.7.0"
  }
 },
 "nbformat": 4,
 "nbformat_minor": 2
}
