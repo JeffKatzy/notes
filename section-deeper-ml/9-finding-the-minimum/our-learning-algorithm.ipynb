{
 "cells": [
  {
   "cell_type": "markdown",
   "metadata": {},
   "source": [
    "# Our learning algorithm"
   ]
  },
  {
   "cell_type": "markdown",
   "metadata": {},
   "source": [
    "### Introduction"
   ]
  },
  {
   "cell_type": "markdown",
   "metadata": {},
   "source": [
    "In the last lesson, we saw how we could reach our \"best fit line\" -- that is, we saw how to find the linear regression model that most closely matched our data.  The way we could do this is by noticing that each linear regression model takes the form $\\hat{y} = mx + b$, and by incrementally changing our $m$ (or $b$) parameter and plotting our the related RSS, we get a parabola. "
   ]
  },
  {
   "cell_type": "code",
   "execution_count": 4,
   "metadata": {},
   "outputs": [
    {
     "name": "stdout",
     "output_type": "stream",
     "text": [
      "This is the format of your plot grid:\n",
      "[ (1,1) x1,y1 ]  [ (1,2) x2,y2 ]\n",
      "\n"
     ]
    },
    {
     "data": {
      "application/vnd.plotly.v1+json": {
       "config": {
        "linkText": "Export to plot.ly",
        "plotlyServerURL": "https://plot.ly",
        "showLink": false
       },
       "data": [
        {
         "mode": "markers",
         "name": "data",
         "text": [],
         "type": "scatter",
         "uid": "df13d7f1-e622-46e4-8cb1-67d344b2b75c",
         "x": [
          0,
          1,
          2,
          3,
          4,
          5,
          6,
          7,
          8,
          9,
          10,
          11,
          12,
          13,
          14,
          15,
          16,
          17,
          18,
          19,
          20,
          21,
          22,
          23
         ],
         "xaxis": "x",
         "y": [
          66609,
          67048,
          69664,
          72238,
          84721,
          69224,
          58697,
          51430,
          48239,
          50574,
          51707,
          50305,
          45590,
          42180,
          41054,
          56182,
          49965,
          43094,
          44414,
          41393,
          34903,
          39535,
          39627,
          9400
         ],
         "yaxis": "y"
        },
        {
         "marker": {
          "color": "red"
         },
         "mode": "lines",
         "name": "data",
         "text": [],
         "type": "scatter",
         "uid": "d7145f1f-af61-4e4a-a24a-5503ca8170a8",
         "x": [
          0,
          1,
          2,
          3,
          4,
          5,
          6,
          7,
          8,
          9,
          10,
          11,
          12,
          13,
          14,
          15,
          16,
          17,
          18,
          19,
          20,
          21,
          22,
          23
         ],
         "xaxis": "x",
         "y": [
          65000,
          63300,
          61600,
          59900,
          58200,
          56500,
          54800,
          53100,
          51400,
          49700,
          48000,
          46300,
          44600,
          42900,
          41200,
          39500,
          37800,
          36100,
          34400,
          32700,
          31000,
          29300,
          27600,
          25900
         ],
         "yaxis": "y"
        },
        {
         "marker": {
          "color": "yellow"
         },
         "mode": "lines",
         "name": "data",
         "text": [],
         "type": "scatter",
         "uid": "00fc3293-9f15-45de-837a-721a11a737a4",
         "x": [
          0,
          1,
          2,
          3,
          4,
          5,
          6,
          7,
          8,
          9,
          10,
          11,
          12,
          13,
          14,
          15,
          16,
          17,
          18,
          19,
          20,
          21,
          22,
          23
         ],
         "xaxis": "x",
         "y": [
          65000,
          63450,
          61900,
          60350,
          58800,
          57250,
          55700,
          54150,
          52600,
          51050,
          49500,
          47950,
          46400,
          44850,
          43300,
          41750,
          40200,
          38650,
          37100,
          35550,
          34000,
          32450,
          30900,
          29350
         ],
         "yaxis": "y"
        },
        {
         "marker": {
          "color": "blue"
         },
         "mode": "lines",
         "name": "data",
         "text": [],
         "type": "scatter",
         "uid": "2c13e691-c627-4df4-a7f6-aaf5dfc0ca81",
         "x": [
          0,
          1,
          2,
          3,
          4,
          5,
          6,
          7,
          8,
          9,
          10,
          11,
          12,
          13,
          14,
          15,
          16,
          17,
          18,
          19,
          20,
          21,
          22,
          23
         ],
         "xaxis": "x",
         "y": [
          65000,
          63600,
          62200,
          60800,
          59400,
          58000,
          56600,
          55200,
          53800,
          52400,
          51000,
          49600,
          48200,
          46800,
          45400,
          44000,
          42600,
          41200,
          39800,
          38400,
          37000,
          35600,
          34200,
          32800
         ],
         "yaxis": "y"
        },
        {
         "marker": {
          "color": "orange"
         },
         "mode": "lines",
         "name": "data",
         "text": [],
         "type": "scatter",
         "uid": "d4bf5a4c-1c7b-4661-a5cd-7e2c31c32153",
         "x": [
          0,
          1,
          2,
          3,
          4,
          5,
          6,
          7,
          8,
          9,
          10,
          11,
          12,
          13,
          14,
          15,
          16,
          17,
          18,
          19,
          20,
          21,
          22,
          23
         ],
         "xaxis": "x",
         "y": [
          65000,
          63750,
          62500,
          61250,
          60000,
          58750,
          57500,
          56250,
          55000,
          53750,
          52500,
          51250,
          50000,
          48750,
          47500,
          46250,
          45000,
          43750,
          42500,
          41250,
          40000,
          38750,
          37500,
          36250
         ],
         "yaxis": "y"
        },
        {
         "marker": {
          "color": "green"
         },
         "mode": "lines",
         "name": "data",
         "text": [],
         "type": "scatter",
         "uid": "fcc6281c-fb3c-4706-b964-db8a64d1ffbf",
         "x": [
          0,
          1,
          2,
          3,
          4,
          5,
          6,
          7,
          8,
          9,
          10,
          11,
          12,
          13,
          14,
          15,
          16,
          17,
          18,
          19,
          20,
          21,
          22,
          23
         ],
         "xaxis": "x",
         "y": [
          65000,
          63900,
          62800,
          61700,
          60600,
          59500,
          58400,
          57300,
          56200,
          55100,
          54000,
          52900,
          51800,
          50700,
          49600,
          48500,
          47400,
          46300,
          45200,
          44100,
          43000,
          41900,
          40800,
          39700
         ],
         "yaxis": "y"
        },
        {
         "marker": {
          "color": "red"
         },
         "type": "bar",
         "uid": "6f96b2dd-d269-4c7c-927b-7cb4e8f8463e",
         "x": [
          "RSS"
         ],
         "xaxis": "x2",
         "y": [
          2347115531
         ],
         "yaxis": "y2"
        },
        {
         "marker": {
          "color": "yellow"
         },
         "type": "bar",
         "uid": "9df75a98-ec20-4ba1-9d37-a183a58affee",
         "x": [
          "RSS"
         ],
         "xaxis": "x2",
         "y": [
          2027483231
         ],
         "yaxis": "y2"
        },
        {
         "marker": {
          "color": "blue"
         },
         "type": "bar",
         "uid": "745e6fae-112e-4956-86d5-ffb2ff42b304",
         "x": [
          "RSS"
         ],
         "xaxis": "x2",
         "y": [
          1902430931
         ],
         "yaxis": "y2"
        },
        {
         "marker": {
          "color": "orange"
         },
         "type": "bar",
         "uid": "e639ffbd-4acf-4254-80a3-65c472488ee1",
         "x": [
          "RSS"
         ],
         "xaxis": "x2",
         "y": [
          1971958631
         ],
         "yaxis": "y2"
        },
        {
         "marker": {
          "color": "green"
         },
         "type": "bar",
         "uid": "df533e80-ffeb-4303-9f4a-792e73c953cb",
         "x": [
          "RSS"
         ],
         "xaxis": "x2",
         "y": [
          2236066331
         ],
         "yaxis": "y2"
        }
       ],
       "layout": {
        "autosize": true,
        "xaxis": {
         "anchor": "y",
         "autorange": true,
         "domain": [
          0,
          0.45
         ],
         "range": [
          -1.5885214007782102,
          24.58852140077821
         ],
         "type": "linear"
        },
        "xaxis2": {
         "anchor": "y2",
         "autorange": true,
         "domain": [
          0.55,
          1
         ],
         "range": [
          -0.5,
          0.5
         ],
         "type": "category"
        },
        "yaxis": {
         "anchor": "x",
         "autorange": true,
         "domain": [
          0,
          1
         ],
         "range": [
          3882.856687898089,
          90238.1433121019
         ],
         "type": "linear"
        },
        "yaxis2": {
         "anchor": "x2",
         "autorange": true,
         "domain": [
          0,
          1
         ],
         "range": [
          0,
          2470647927.368421
         ],
         "type": "linear"
        }
       }
      },
      "image/png": "[encoded data removed]",
      "text/html": [
       "<div id=\"baf6516e-083e-4225-a027-bbb6e5343b11\" style=\"height: 525px; width: 100%;\" class=\"plotly-graph-div\"></div><script type=\"text/javascript\">require([\"plotly\"], function(Plotly) { window.PLOTLYENV=window.PLOTLYENV || {};window.PLOTLYENV.BASE_URL=\"https://plot.ly\";Plotly.newPlot(\"baf6516e-083e-4225-a027-bbb6e5343b11\", [{\"mode\": \"markers\", \"name\": \"data\", \"text\": [], \"x\": [0, 1, 2, 3, 4, 5, 6, 7, 8, 9, 10, 11, 12, 13, 14, 15, 16, 17, 18, 19, 20, 21, 22, 23], \"y\": [66609, 67048, 69664, 72238, 84721, 69224, 58697, 51430, 48239, 50574, 51707, 50305, 45590, 42180, 41054, 56182, 49965, 43094, 44414, 41393, 34903, 39535, 39627, 9400], \"type\": \"scatter\", \"uid\": \"df13d7f1-e622-46e4-8cb1-67d344b2b75c\", \"xaxis\": \"x\", \"yaxis\": \"y\"}, {\"marker\": {\"color\": \"red\"}, \"mode\": \"lines\", \"name\": \"data\", \"text\": [], \"x\": [0, 1, 2, 3, 4, 5, 6, 7, 8, 9, 10, 11, 12, 13, 14, 15, 16, 17, 18, 19, 20, 21, 22, 23], \"y\": [65000, 63300, 61600, 59900, 58200, 56500, 54800, 53100, 51400, 49700, 48000, 46300, 44600, 42900, 41200, 39500, 37800, 36100, 34400, 32700, 31000, 29300, 27600, 25900], \"type\": \"scatter\", \"uid\": \"d7145f1f-af61-4e4a-a24a-5503ca8170a8\", \"xaxis\": \"x\", \"yaxis\": \"y\"}, {\"marker\": {\"color\": \"yellow\"}, \"mode\": \"lines\", \"name\": \"data\", \"text\": [], \"x\": [0, 1, 2, 3, 4, 5, 6, 7, 8, 9, 10, 11, 12, 13, 14, 15, 16, 17, 18, 19, 20, 21, 22, 23], \"y\": [65000, 63450, 61900, 60350, 58800, 57250, 55700, 54150, 52600, 51050, 49500, 47950, 46400, 44850, 43300, 41750, 40200, 38650, 37100, 35550, 34000, 32450, 30900, 29350], \"type\": \"scatter\", \"uid\": \"00fc3293-9f15-45de-837a-721a11a737a4\", \"xaxis\": \"x\", \"yaxis\": \"y\"}, {\"marker\": {\"color\": \"blue\"}, \"mode\": \"lines\", \"name\": \"data\", \"text\": [], \"x\": [0, 1, 2, 3, 4, 5, 6, 7, 8, 9, 10, 11, 12, 13, 14, 15, 16, 17, 18, 19, 20, 21, 22, 23], \"y\": [65000, 63600, 62200, 60800, 59400, 58000, 56600, 55200, 53800, 52400, 51000, 49600, 48200, 46800, 45400, 44000, 42600, 41200, 39800, 38400, 37000, 35600, 34200, 32800], \"type\": \"scatter\", \"uid\": \"2c13e691-c627-4df4-a7f6-aaf5dfc0ca81\", \"xaxis\": \"x\", \"yaxis\": \"y\"}, {\"marker\": {\"color\": \"orange\"}, \"mode\": \"lines\", \"name\": \"data\", \"text\": [], \"x\": [0, 1, 2, 3, 4, 5, 6, 7, 8, 9, 10, 11, 12, 13, 14, 15, 16, 17, 18, 19, 20, 21, 22, 23], \"y\": [65000, 63750, 62500, 61250, 60000, 58750, 57500, 56250, 55000, 53750, 52500, 51250, 50000, 48750, 47500, 46250, 45000, 43750, 42500, 41250, 40000, 38750, 37500, 36250], \"type\": \"scatter\", \"uid\": \"d4bf5a4c-1c7b-4661-a5cd-7e2c31c32153\", \"xaxis\": \"x\", \"yaxis\": \"y\"}, {\"marker\": {\"color\": \"green\"}, \"mode\": \"lines\", \"name\": \"data\", \"text\": [], \"x\": [0, 1, 2, 3, 4, 5, 6, 7, 8, 9, 10, 11, 12, 13, 14, 15, 16, 17, 18, 19, 20, 21, 22, 23], \"y\": [65000, 63900, 62800, 61700, 60600, 59500, 58400, 57300, 56200, 55100, 54000, 52900, 51800, 50700, 49600, 48500, 47400, 46300, 45200, 44100, 43000, 41900, 40800, 39700], \"type\": \"scatter\", \"uid\": \"fcc6281c-fb3c-4706-b964-db8a64d1ffbf\", \"xaxis\": \"x\", \"yaxis\": \"y\"}, {\"marker\": {\"color\": \"red\"}, \"x\": [\"RSS\"], \"y\": [2347115531], \"type\": \"bar\", \"uid\": \"6f96b2dd-d269-4c7c-927b-7cb4e8f8463e\", \"xaxis\": \"x2\", \"yaxis\": \"y2\"}, {\"marker\": {\"color\": \"yellow\"}, \"x\": [\"RSS\"], \"y\": [2027483231], \"type\": \"bar\", \"uid\": \"9df75a98-ec20-4ba1-9d37-a183a58affee\", \"xaxis\": \"x2\", \"yaxis\": \"y2\"}, {\"marker\": {\"color\": \"blue\"}, \"x\": [\"RSS\"], \"y\": [1902430931], \"type\": \"bar\", \"uid\": \"745e6fae-112e-4956-86d5-ffb2ff42b304\", \"xaxis\": \"x2\", \"yaxis\": \"y2\"}, {\"marker\": {\"color\": \"orange\"}, \"x\": [\"RSS\"], \"y\": [1971958631], \"type\": \"bar\", \"uid\": \"e639ffbd-4acf-4254-80a3-65c472488ee1\", \"xaxis\": \"x2\", \"yaxis\": \"y2\"}, {\"marker\": {\"color\": \"green\"}, \"x\": [\"RSS\"], \"y\": [2236066331], \"type\": \"bar\", \"uid\": \"df533e80-ffeb-4303-9f4a-792e73c953cb\", \"xaxis\": \"x2\", \"yaxis\": \"y2\"}], {\"xaxis\": {\"anchor\": \"y\", \"domain\": [0.0, 0.45]}, \"yaxis\": {\"anchor\": \"x\", \"domain\": [0.0, 1.0]}, \"xaxis2\": {\"anchor\": \"y2\", \"domain\": [0.55, 1.0]}, \"yaxis2\": {\"anchor\": \"x2\", \"domain\": [0.0, 1.0]}}, {\"showLink\": false, \"linkText\": \"Export to plot.ly\", \"plotlyServerURL\": \"https://plot.ly\"})});</script><script type=\"text/javascript\">window.addEventListener(\"resize\", function(){window._Plotly.Plots.resize(document.getElementById(\"baf6516e-083e-4225-a027-bbb6e5343b11\"));});</script>"
      ],
      "text/vnd.plotly.v1+html": [
       "<div id=\"baf6516e-083e-4225-a027-bbb6e5343b11\" style=\"height: 525px; width: 100%;\" class=\"plotly-graph-div\"></div><script type=\"text/javascript\">require([\"plotly\"], function(Plotly) { window.PLOTLYENV=window.PLOTLYENV || {};window.PLOTLYENV.BASE_URL=\"https://plot.ly\";Plotly.newPlot(\"baf6516e-083e-4225-a027-bbb6e5343b11\", [{\"mode\": \"markers\", \"name\": \"data\", \"text\": [], \"x\": [0, 1, 2, 3, 4, 5, 6, 7, 8, 9, 10, 11, 12, 13, 14, 15, 16, 17, 18, 19, 20, 21, 22, 23], \"y\": [66609, 67048, 69664, 72238, 84721, 69224, 58697, 51430, 48239, 50574, 51707, 50305, 45590, 42180, 41054, 56182, 49965, 43094, 44414, 41393, 34903, 39535, 39627, 9400], \"type\": \"scatter\", \"uid\": \"df13d7f1-e622-46e4-8cb1-67d344b2b75c\", \"xaxis\": \"x\", \"yaxis\": \"y\"}, {\"marker\": {\"color\": \"red\"}, \"mode\": \"lines\", \"name\": \"data\", \"text\": [], \"x\": [0, 1, 2, 3, 4, 5, 6, 7, 8, 9, 10, 11, 12, 13, 14, 15, 16, 17, 18, 19, 20, 21, 22, 23], \"y\": [65000, 63300, 61600, 59900, 58200, 56500, 54800, 53100, 51400, 49700, 48000, 46300, 44600, 42900, 41200, 39500, 37800, 36100, 34400, 32700, 31000, 29300, 27600, 25900], \"type\": \"scatter\", \"uid\": \"d7145f1f-af61-4e4a-a24a-5503ca8170a8\", \"xaxis\": \"x\", \"yaxis\": \"y\"}, {\"marker\": {\"color\": \"yellow\"}, \"mode\": \"lines\", \"name\": \"data\", \"text\": [], \"x\": [0, 1, 2, 3, 4, 5, 6, 7, 8, 9, 10, 11, 12, 13, 14, 15, 16, 17, 18, 19, 20, 21, 22, 23], \"y\": [65000, 63450, 61900, 60350, 58800, 57250, 55700, 54150, 52600, 51050, 49500, 47950, 46400, 44850, 43300, 41750, 40200, 38650, 37100, 35550, 34000, 32450, 30900, 29350], \"type\": \"scatter\", \"uid\": \"00fc3293-9f15-45de-837a-721a11a737a4\", \"xaxis\": \"x\", \"yaxis\": \"y\"}, {\"marker\": {\"color\": \"blue\"}, \"mode\": \"lines\", \"name\": \"data\", \"text\": [], \"x\": [0, 1, 2, 3, 4, 5, 6, 7, 8, 9, 10, 11, 12, 13, 14, 15, 16, 17, 18, 19, 20, 21, 22, 23], \"y\": [65000, 63600, 62200, 60800, 59400, 58000, 56600, 55200, 53800, 52400, 51000, 49600, 48200, 46800, 45400, 44000, 42600, 41200, 39800, 38400, 37000, 35600, 34200, 32800], \"type\": \"scatter\", \"uid\": \"2c13e691-c627-4df4-a7f6-aaf5dfc0ca81\", \"xaxis\": \"x\", \"yaxis\": \"y\"}, {\"marker\": {\"color\": \"orange\"}, \"mode\": \"lines\", \"name\": \"data\", \"text\": [], \"x\": [0, 1, 2, 3, 4, 5, 6, 7, 8, 9, 10, 11, 12, 13, 14, 15, 16, 17, 18, 19, 20, 21, 22, 23], \"y\": [65000, 63750, 62500, 61250, 60000, 58750, 57500, 56250, 55000, 53750, 52500, 51250, 50000, 48750, 47500, 46250, 45000, 43750, 42500, 41250, 40000, 38750, 37500, 36250], \"type\": \"scatter\", \"uid\": \"d4bf5a4c-1c7b-4661-a5cd-7e2c31c32153\", \"xaxis\": \"x\", \"yaxis\": \"y\"}, {\"marker\": {\"color\": \"green\"}, \"mode\": \"lines\", \"name\": \"data\", \"text\": [], \"x\": [0, 1, 2, 3, 4, 5, 6, 7, 8, 9, 10, 11, 12, 13, 14, 15, 16, 17, 18, 19, 20, 21, 22, 23], \"y\": [65000, 63900, 62800, 61700, 60600, 59500, 58400, 57300, 56200, 55100, 54000, 52900, 51800, 50700, 49600, 48500, 47400, 46300, 45200, 44100, 43000, 41900, 40800, 39700], \"type\": \"scatter\", \"uid\": \"fcc6281c-fb3c-4706-b964-db8a64d1ffbf\", \"xaxis\": \"x\", \"yaxis\": \"y\"}, {\"marker\": {\"color\": \"red\"}, \"x\": [\"RSS\"], \"y\": [2347115531], \"type\": \"bar\", \"uid\": \"6f96b2dd-d269-4c7c-927b-7cb4e8f8463e\", \"xaxis\": \"x2\", \"yaxis\": \"y2\"}, {\"marker\": {\"color\": \"yellow\"}, \"x\": [\"RSS\"], \"y\": [2027483231], \"type\": \"bar\", \"uid\": \"9df75a98-ec20-4ba1-9d37-a183a58affee\", \"xaxis\": \"x2\", \"yaxis\": \"y2\"}, {\"marker\": {\"color\": \"blue\"}, \"x\": [\"RSS\"], \"y\": [1902430931], \"type\": \"bar\", \"uid\": \"745e6fae-112e-4956-86d5-ffb2ff42b304\", \"xaxis\": \"x2\", \"yaxis\": \"y2\"}, {\"marker\": {\"color\": \"orange\"}, \"x\": [\"RSS\"], \"y\": [1971958631], \"type\": \"bar\", \"uid\": \"e639ffbd-4acf-4254-80a3-65c472488ee1\", \"xaxis\": \"x2\", \"yaxis\": \"y2\"}, {\"marker\": {\"color\": \"green\"}, \"x\": [\"RSS\"], \"y\": [2236066331], \"type\": \"bar\", \"uid\": \"df533e80-ffeb-4303-9f4a-792e73c953cb\", \"xaxis\": \"x2\", \"yaxis\": \"y2\"}], {\"xaxis\": {\"anchor\": \"y\", \"domain\": [0.0, 0.45]}, \"yaxis\": {\"anchor\": \"x\", \"domain\": [0.0, 1.0]}, \"xaxis2\": {\"anchor\": \"y2\", \"domain\": [0.55, 1.0]}, \"yaxis2\": {\"anchor\": \"x2\", \"domain\": [0.0, 1.0]}}, {\"showLink\": false, \"linkText\": \"Export to plot.ly\", \"plotlyServerURL\": \"https://plot.ly\"})});</script><script type=\"text/javascript\">window.addEventListener(\"resize\", function(){window._Plotly.Plots.resize(document.getElementById(\"baf6516e-083e-4225-a027-bbb6e5343b11\"));});</script>"
      ]
     },
     "metadata": {},
     "output_type": "display_data"
    }
   ],
   "source": [
    "from graph import model_trace, trace_rss, pair_colors, plot_side_by_side\n",
    "from graph import trace_values\n",
    "b= 65000\n",
    "\n",
    "import json\n",
    "with open('months-since-revenues.json', 'r') as revenue_file:\n",
    "    monthly_revenues = json.load(revenue_file)\n",
    "\n",
    "month_numbers = list(map(lambda monthly_revenue: monthly_revenue['month_number'], monthly_revenues))\n",
    "revenues = list(map(lambda monthly_revenue: monthly_revenue['revenue'], monthly_revenues))\n",
    "\n",
    "\n",
    "m_values = list(range(-1700, -1000, 150))\n",
    "rss_traces = []\n",
    "model_traces = []\n",
    "\n",
    "actual_trace = trace_values(x_values = month_numbers, y_values = revenues)\n",
    "\n",
    "for m in m_values:\n",
    "    rss_trace = trace_rss(m, b, month_numbers, revenues)\n",
    "    rss_traces.append(rss_trace)\n",
    "    built_model_trace = model_trace(m, b, month_numbers, revenues)\n",
    "    model_traces.append(built_model_trace)\n",
    "    \n",
    "pair_colors(model_traces, rss_traces)\n",
    "plot_side_by_side([actual_trace] + model_traces, rss_traces)"
   ]
  },
  {
   "cell_type": "markdown",
   "metadata": {},
   "source": [
    "We wanted to choose the parameters that minimized our RSS as our RSS reflects closely the related regression model matches our data, and we wish to get as close as possible. \n",
    "\n",
    "Then we saw how we can use a Python to find this minimum value, and thus find the $m$ and $b$ parameters of our best fit line.  For example, below it finds we can minimize our RSS with a value of $-1378$."
   ]
  },
  {
   "cell_type": "code",
   "execution_count": 5,
   "metadata": {},
   "outputs": [
    {
     "data": {
      "text/plain": [
       "      fun: 1900450395.2278943\n",
       " hess_inv: array([[3.59616137e-05]])\n",
       "      jac: array([0.])\n",
       "  message: 'Optimization terminated successfully.'\n",
       "     nfev: 45\n",
       "      nit: 5\n",
       "     njev: 15\n",
       "   status: 0\n",
       "  success: True\n",
       "        x: array([-1378.59792938])"
      ]
     },
     "execution_count": 5,
     "metadata": {},
     "output_type": "execute_result"
    }
   ],
   "source": [
    "from scipy import optimize\n",
    "from error import rss\n",
    "def rss_value_vary_m(m):\n",
    "    b= 65000\n",
    "    return rss(m, b, month_numbers, revenues)\n",
    "\n",
    "optimize.minimize(rss_value_vary_m, x0=-1700)"
   ]
  },
  {
   "cell_type": "markdown",
   "metadata": {},
   "source": [
    "In this lesson, we'll dive a little bit deeper into how computers find this minimum value.  Understanding this procedure is pretty critical to understanding many different machine learning algorithms.  If all machine learning algorithms involve a machine learning model, and a cost function, then each of them also wish to find the minimum of the cost function.  A popular mechanism for doing so is the procedure we'll see below.  And when we understand this procedure we can better understand how to watch out for problems with the procedure, and optimize it in the future.  "
   ]
  },
  {
   "cell_type": "markdown",
   "metadata": {},
   "source": [
    "### Finding the minimum"
   ]
  },
  {
   "cell_type": "markdown",
   "metadata": {},
   "source": [
    "The curve is constructed just like our multicolor plot above.  We're simply plotting how our RSS changes as we vary our values of $m$. "
   ]
  },
  {
   "cell_type": "code",
   "execution_count": 10,
   "metadata": {},
   "outputs": [
    {
     "data": {
      "application/vnd.plotly.v1+json": {
       "config": {
        "linkText": "Export to plot.ly",
        "plotlyServerURL": "https://plot.ly",
        "showLink": false
       },
       "data": [
        {
         "mode": "lines",
         "name": "data",
         "text": [],
         "type": "scatter",
         "uid": "3812637e-148b-4946-9111-6a4f35b73c9e",
         "x": [
          -1750,
          -1740,
          -1730,
          -1720,
          -1710,
          -1700,
          -1690,
          -1680,
          -1670,
          -1660,
          -1650,
          -1640,
          -1630,
          -1620,
          -1610,
          -1600,
          -1590,
          -1580,
          -1570,
          -1560,
          -1550,
          -1540,
          -1530,
          -1520,
          -1510,
          -1500,
          -1490,
          -1480,
          -1470,
          -1460,
          -1450,
          -1440,
          -1430,
          -1420,
          -1410,
          -1400,
          -1390,
          -1380,
          -1370,
          -1360,
          -1350,
          -1340,
          -1330,
          -1320,
          -1310,
          -1300,
          -1290,
          -1280,
          -1270,
          -1260,
          -1250,
          -1240,
          -1230,
          -1220,
          -1210,
          -1200,
          -1190,
          -1180,
          -1170,
          -1160,
          -1150,
          -1140,
          -1130,
          -1120,
          -1110,
          -1100,
          -1090,
          -1080,
          -1070,
          -1060,
          -1050,
          -1040,
          -1030,
          -1020,
          -1010
         ],
         "y": [
          2496899631,
          2465213211,
          2434391591,
          2404434771,
          2375342751,
          2347115531,
          2319753111,
          2293255491,
          2267622671,
          2242854651,
          2218951431,
          2195913011,
          2173739391,
          2152430571,
          2131986551,
          2112407331,
          2093692911,
          2075843291,
          2058858471,
          2042738451,
          2027483231,
          2013092811,
          1999567191,
          1986906371,
          1975110351,
          1964179131,
          1954112711,
          1944911091,
          1936574271,
          1929102251,
          1922495031,
          1916752611,
          1911874991,
          1907862171,
          1904714151,
          1902430931,
          1901012511,
          1900458891,
          1900770071,
          1901946051,
          1903986831,
          1906892411,
          1910662791,
          1915297971,
          1920797951,
          1927162731,
          1934392311,
          1942486691,
          1951445871,
          1961269851,
          1971958631,
          1983512211,
          1995930591,
          2009213771,
          2023361751,
          2038374531,
          2054252111,
          2070994491,
          2088601671,
          2107073651,
          2126410431,
          2146612011,
          2167678391,
          2189609571,
          2212405551,
          2236066331,
          2260591911,
          2285982291,
          2312237471,
          2339357451,
          2367342231,
          2396191811,
          2425906191,
          2456485371,
          2487929351
         ]
        }
       ],
       "layout": {
        "autosize": true,
        "xaxis": {
         "autorange": true,
         "range": [
          -1750,
          -1010
         ],
         "type": "linear"
        },
        "yaxis": {
         "autorange": true,
         "range": [
          1867323294.3333333,
          2530035227.6666665
         ],
         "type": "linear"
        }
       }
      },
      "image/png": "[encoded data removed]",
      "text/html": [
       "<div id=\"a37cf711-12b5-41f6-99d0-8058f088aab2\" style=\"height: 525px; width: 100%;\" class=\"plotly-graph-div\"></div><script type=\"text/javascript\">require([\"plotly\"], function(Plotly) { window.PLOTLYENV=window.PLOTLYENV || {};window.PLOTLYENV.BASE_URL=\"https://plot.ly\";Plotly.newPlot(\"a37cf711-12b5-41f6-99d0-8058f088aab2\", [{\"mode\": \"lines\", \"name\": \"data\", \"text\": [], \"x\": [-1750, -1740, -1730, -1720, -1710, -1700, -1690, -1680, -1670, -1660, -1650, -1640, -1630, -1620, -1610, -1600, -1590, -1580, -1570, -1560, -1550, -1540, -1530, -1520, -1510, -1500, -1490, -1480, -1470, -1460, -1450, -1440, -1430, -1420, -1410, -1400, -1390, -1380, -1370, -1360, -1350, -1340, -1330, -1320, -1310, -1300, -1290, -1280, -1270, -1260, -1250, -1240, -1230, -1220, -1210, -1200, -1190, -1180, -1170, -1160, -1150, -1140, -1130, -1120, -1110, -1100, -1090, -1080, -1070, -1060, -1050, -1040, -1030, -1020, -1010], \"y\": [2496899631, 2465213211, 2434391591, 2404434771, 2375342751, 2347115531, 2319753111, 2293255491, 2267622671, 2242854651, 2218951431, 2195913011, 2173739391, 2152430571, 2131986551, 2112407331, 2093692911, 2075843291, 2058858471, 2042738451, 2027483231, 2013092811, 1999567191, 1986906371, 1975110351, 1964179131, 1954112711, 1944911091, 1936574271, 1929102251, 1922495031, 1916752611, 1911874991, 1907862171, 1904714151, 1902430931, 1901012511, 1900458891, 1900770071, 1901946051, 1903986831, 1906892411, 1910662791, 1915297971, 1920797951, 1927162731, 1934392311, 1942486691, 1951445871, 1961269851, 1971958631, 1983512211, 1995930591, 2009213771, 2023361751, 2038374531, 2054252111, 2070994491, 2088601671, 2107073651, 2126410431, 2146612011, 2167678391, 2189609571, 2212405551, 2236066331, 2260591911, 2285982291, 2312237471, 2339357451, 2367342231, 2396191811, 2425906191, 2456485371, 2487929351], \"type\": \"scatter\", \"uid\": \"d3769a37-777b-4a70-bc64-10c17917b9c0\"}], {}, {\"showLink\": false, \"linkText\": \"Export to plot.ly\", \"plotlyServerURL\": \"https://plot.ly\"})});</script><script type=\"text/javascript\">window.addEventListener(\"resize\", function(){window._Plotly.Plots.resize(document.getElementById(\"a37cf711-12b5-41f6-99d0-8058f088aab2\"));});</script>"
      ],
      "text/vnd.plotly.v1+html": [
       "<div id=\"a37cf711-12b5-41f6-99d0-8058f088aab2\" style=\"height: 525px; width: 100%;\" class=\"plotly-graph-div\"></div><script type=\"text/javascript\">require([\"plotly\"], function(Plotly) { window.PLOTLYENV=window.PLOTLYENV || {};window.PLOTLYENV.BASE_URL=\"https://plot.ly\";Plotly.newPlot(\"a37cf711-12b5-41f6-99d0-8058f088aab2\", [{\"mode\": \"lines\", \"name\": \"data\", \"text\": [], \"x\": [-1750, -1740, -1730, -1720, -1710, -1700, -1690, -1680, -1670, -1660, -1650, -1640, -1630, -1620, -1610, -1600, -1590, -1580, -1570, -1560, -1550, -1540, -1530, -1520, -1510, -1500, -1490, -1480, -1470, -1460, -1450, -1440, -1430, -1420, -1410, -1400, -1390, -1380, -1370, -1360, -1350, -1340, -1330, -1320, -1310, -1300, -1290, -1280, -1270, -1260, -1250, -1240, -1230, -1220, -1210, -1200, -1190, -1180, -1170, -1160, -1150, -1140, -1130, -1120, -1110, -1100, -1090, -1080, -1070, -1060, -1050, -1040, -1030, -1020, -1010], \"y\": [2496899631, 2465213211, 2434391591, 2404434771, 2375342751, 2347115531, 2319753111, 2293255491, 2267622671, 2242854651, 2218951431, 2195913011, 2173739391, 2152430571, 2131986551, 2112407331, 2093692911, 2075843291, 2058858471, 2042738451, 2027483231, 2013092811, 1999567191, 1986906371, 1975110351, 1964179131, 1954112711, 1944911091, 1936574271, 1929102251, 1922495031, 1916752611, 1911874991, 1907862171, 1904714151, 1902430931, 1901012511, 1900458891, 1900770071, 1901946051, 1903986831, 1906892411, 1910662791, 1915297971, 1920797951, 1927162731, 1934392311, 1942486691, 1951445871, 1961269851, 1971958631, 1983512211, 1995930591, 2009213771, 2023361751, 2038374531, 2054252111, 2070994491, 2088601671, 2107073651, 2126410431, 2146612011, 2167678391, 2189609571, 2212405551, 2236066331, 2260591911, 2285982291, 2312237471, 2339357451, 2367342231, 2396191811, 2425906191, 2456485371, 2487929351], \"type\": \"scatter\", \"uid\": \"d3769a37-777b-4a70-bc64-10c17917b9c0\"}], {}, {\"showLink\": false, \"linkText\": \"Export to plot.ly\", \"plotlyServerURL\": \"https://plot.ly\"})});</script><script type=\"text/javascript\">window.addEventListener(\"resize\", function(){window._Plotly.Plots.resize(document.getElementById(\"a37cf711-12b5-41f6-99d0-8058f088aab2\"));});</script>"
      ]
     },
     "metadata": {},
     "output_type": "display_data"
    }
   ],
   "source": [
    "from graph import plot\n",
    "b = 65000\n",
    "m_values = list(range(-1750, -1000, 10))\n",
    "rss_values = list(map(lambda m: rss(m, b, month_numbers, revenues), m_values))\n",
    "rss_trace = trace_values(m_values, rss_values, mode = 'lines')\n",
    "plot([rss_trace])"
   ]
  },
  {
   "cell_type": "markdown",
   "metadata": {},
   "source": [
    "Now as we saw Python can find the minimum of this plot.  \n",
    "\n",
    "```python\n",
    "optimize.minimize(rss_value_vary_m, x0=-1700)\n",
    "```\n",
    "\n",
    "And it can do so without trying out every value.  \n",
    "\n",
    "**Let's see the procedure and then we'll understand why it works** \n",
    "\n",
    "First we start at the point that we pass through as the $x0$ argument.  Above, we passed through the value -1700.  Then we calculates the slope of the RSS plot at this point.  So with the orange line below, you can see the slope of the line when $m= -1700$."
   ]
  },
  {
   "cell_type": "code",
   "execution_count": 19,
   "metadata": {},
   "outputs": [
    {
     "data": {
      "application/vnd.plotly.v1+json": {
       "config": {
        "linkText": "Export to plot.ly",
        "plotlyServerURL": "https://plot.ly",
        "showLink": false
       },
       "data": [
        {
         "mode": "lines",
         "name": "data",
         "text": [],
         "type": "scatter",
         "uid": "7c0de304-954f-49e2-9aad-23576ea019a8",
         "x": [
          -1750,
          -1740,
          -1730,
          -1720,
          -1710,
          -1700,
          -1690,
          -1680,
          -1670,
          -1660,
          -1650,
          -1640,
          -1630,
          -1620,
          -1610,
          -1600,
          -1590,
          -1580,
          -1570,
          -1560,
          -1550,
          -1540,
          -1530,
          -1520,
          -1510,
          -1500,
          -1490,
          -1480,
          -1470,
          -1460,
          -1450,
          -1440,
          -1430,
          -1420,
          -1410,
          -1400,
          -1390,
          -1380,
          -1370,
          -1360,
          -1350,
          -1340,
          -1330,
          -1320,
          -1310
         ],
         "y": [
          2496899631,
          2465213211,
          2434391591,
          2404434771,
          2375342751,
          2347115531,
          2319753111,
          2293255491,
          2267622671,
          2242854651,
          2218951431,
          2195913011,
          2173739391,
          2152430571,
          2131986551,
          2112407331,
          2093692911,
          2075843291,
          2058858471,
          2042738451,
          2027483231,
          2013092811,
          1999567191,
          1986906371,
          1975110351,
          1964179131,
          1954112711,
          1944911091,
          1936574271,
          1929102251,
          1922495031,
          1916752611,
          1911874991,
          1907862171,
          1904714151,
          1902430931,
          1901012511,
          1900458891,
          1900770071,
          1901946051,
          1903986831,
          1906892411,
          1910662791,
          1915297971,
          1920797951
         ]
        },
        {
         "mode": "text+lines",
         "text": [
          "",
          "f' = -2779438.76",
          ""
         ],
         "textposition": "bottom left",
         "type": "scatter",
         "uid": "eff6adfb-1811-47a6-a406-095276c0689a",
         "x": [
          -1775,
          -1700,
          -1625
         ],
         "y": [
          2555573438,
          2347115531,
          2138657624
         ]
        }
       ],
       "layout": {
        "autosize": true,
        "xaxis": {
         "autorange": true,
         "range": [
          -1799.4736842105262,
          -1310
         ],
         "type": "linear"
        },
        "yaxis": {
         "autorange": true,
         "range": [
          1864063638.3888888,
          2591968690.611111
         ],
         "type": "linear"
        }
       }
      },
      "image/png": "[encoded data removed]",
      "text/html": [
       "<div id=\"2b72c5b2-da82-49e0-9cb0-8fd310bf5b21\" style=\"height: 525px; width: 100%;\" class=\"plotly-graph-div\"></div><script type=\"text/javascript\">require([\"plotly\"], function(Plotly) { window.PLOTLYENV=window.PLOTLYENV || {};window.PLOTLYENV.BASE_URL=\"https://plot.ly\";Plotly.newPlot(\"2b72c5b2-da82-49e0-9cb0-8fd310bf5b21\", [{\"mode\": \"lines\", \"name\": \"data\", \"text\": [], \"x\": [-1750, -1740, -1730, -1720, -1710, -1700, -1690, -1680, -1670, -1660, -1650, -1640, -1630, -1620, -1610, -1600, -1590, -1580, -1570, -1560, -1550, -1540, -1530, -1520, -1510, -1500, -1490, -1480, -1470, -1460, -1450, -1440, -1430, -1420, -1410, -1400, -1390, -1380, -1370, -1360, -1350, -1340, -1330, -1320, -1310], \"y\": [2496899631, 2465213211, 2434391591, 2404434771, 2375342751, 2347115531, 2319753111, 2293255491, 2267622671, 2242854651, 2218951431, 2195913011, 2173739391, 2152430571, 2131986551, 2112407331, 2093692911, 2075843291, 2058858471, 2042738451, 2027483231, 2013092811, 1999567191, 1986906371, 1975110351, 1964179131, 1954112711, 1944911091, 1936574271, 1929102251, 1922495031, 1916752611, 1911874991, 1907862171, 1904714151, 1902430931, 1901012511, 1900458891, 1900770071, 1901946051, 1903986831, 1906892411, 1910662791, 1915297971, 1920797951], \"type\": \"scatter\", \"uid\": \"b728c5a4-fd44-4331-baba-398bc728008a\"}, {\"mode\": \"text+lines\", \"text\": [\"\", \"f' = -2779438.76\", \"\"], \"textposition\": \"bottom left\", \"x\": [-1775.0, -1700, -1625.0], \"y\": [2555573438.0, 2347115531, 2138657624.0], \"type\": \"scatter\", \"uid\": \"69038ed6-0632-4bdb-8d36-e6e64ef7f6f9\"}], {}, {\"showLink\": false, \"linkText\": \"Export to plot.ly\", \"plotlyServerURL\": \"https://plot.ly\"})});</script><script type=\"text/javascript\">window.addEventListener(\"resize\", function(){window._Plotly.Plots.resize(document.getElementById(\"2b72c5b2-da82-49e0-9cb0-8fd310bf5b21\"));});</script>"
      ],
      "text/vnd.plotly.v1+html": [
       "<div id=\"2b72c5b2-da82-49e0-9cb0-8fd310bf5b21\" style=\"height: 525px; width: 100%;\" class=\"plotly-graph-div\"></div><script type=\"text/javascript\">require([\"plotly\"], function(Plotly) { window.PLOTLYENV=window.PLOTLYENV || {};window.PLOTLYENV.BASE_URL=\"https://plot.ly\";Plotly.newPlot(\"2b72c5b2-da82-49e0-9cb0-8fd310bf5b21\", [{\"mode\": \"lines\", \"name\": \"data\", \"text\": [], \"x\": [-1750, -1740, -1730, -1720, -1710, -1700, -1690, -1680, -1670, -1660, -1650, -1640, -1630, -1620, -1610, -1600, -1590, -1580, -1570, -1560, -1550, -1540, -1530, -1520, -1510, -1500, -1490, -1480, -1470, -1460, -1450, -1440, -1430, -1420, -1410, -1400, -1390, -1380, -1370, -1360, -1350, -1340, -1330, -1320, -1310], \"y\": [2496899631, 2465213211, 2434391591, 2404434771, 2375342751, 2347115531, 2319753111, 2293255491, 2267622671, 2242854651, 2218951431, 2195913011, 2173739391, 2152430571, 2131986551, 2112407331, 2093692911, 2075843291, 2058858471, 2042738451, 2027483231, 2013092811, 1999567191, 1986906371, 1975110351, 1964179131, 1954112711, 1944911091, 1936574271, 1929102251, 1922495031, 1916752611, 1911874991, 1907862171, 1904714151, 1902430931, 1901012511, 1900458891, 1900770071, 1901946051, 1903986831, 1906892411, 1910662791, 1915297971, 1920797951], \"type\": \"scatter\", \"uid\": \"b728c5a4-fd44-4331-baba-398bc728008a\"}, {\"mode\": \"text+lines\", \"text\": [\"\", \"f' = -2779438.76\", \"\"], \"textposition\": \"bottom left\", \"x\": [-1775.0, -1700, -1625.0], \"y\": [2555573438.0, 2347115531, 2138657624.0], \"type\": \"scatter\", \"uid\": \"69038ed6-0632-4bdb-8d36-e6e64ef7f6f9\"}], {}, {\"showLink\": false, \"linkText\": \"Export to plot.ly\", \"plotlyServerURL\": \"https://plot.ly\"})});</script><script type=\"text/javascript\">window.addEventListener(\"resize\", function(){window._Plotly.Plots.resize(document.getElementById(\"2b72c5b2-da82-49e0-9cb0-8fd310bf5b21\"));});</script>"
      ]
     },
     "metadata": {},
     "output_type": "display_data"
    }
   ],
   "source": [
    "from calculus import derivative_trace\n",
    "d_trace = derivative_trace(rss_value_vary_m, -1700, line_length = 150)\n",
    "b = 65000\n",
    "m_values = list(range(-1750, -1300, 10))\n",
    "rss_values = list(map(lambda m: rss(m, b, month_numbers, revenues), m_values))\n",
    "rss_trace = trace_values(m_values, rss_values, mode = 'lines')\n",
    "\n",
    "plot([rss_trace, d_trace])"
   ]
  },
  {
   "cell_type": "markdown",
   "metadata": {},
   "source": [
    "We take the slope of this at original value of $m$, and multiply the slope by a small negative number like $-.001$.  Whatever the result of this multiplying, we change the value of $m$ by that amount."
   ]
  },
  {
   "cell_type": "markdown",
   "metadata": {},
   "source": [
    "* $m = −1700 $\n",
    "* $slope = -2779438 $\n",
    "\n",
    "So then $-.0001*-2779438 = 278 $"
   ]
  },
  {
   "cell_type": "markdown",
   "metadata": {},
   "source": [
    "So then we update our value of $m$ by this amount."
   ]
  },
  {
   "cell_type": "markdown",
   "metadata": {},
   "source": [
    "$new m = -1700 + 278 = -1422 $"
   ]
  },
  {
   "cell_type": "markdown",
   "metadata": {},
   "source": [
    "Now we do this whole procedure a again.  We find the slope of our line at this new value of $m = -1422 $, find the slope of our RSS curve at that point, multiply that slope by $-.0001$ and update our $m$ value another time."
   ]
  },
  {
   "cell_type": "code",
   "execution_count": 22,
   "metadata": {},
   "outputs": [
    {
     "data": {
      "application/vnd.plotly.v1+json": {
       "config": {
        "linkText": "Export to plot.ly",
        "plotlyServerURL": "https://plot.ly",
        "showLink": false
       },
       "data": [
        {
         "mode": "lines",
         "name": "data",
         "text": [],
         "type": "scatter",
         "uid": "90cd9deb-3a95-47cf-81a8-16fa61ed3921",
         "x": [
          -1750,
          -1740,
          -1730,
          -1720,
          -1710,
          -1700,
          -1690,
          -1680,
          -1670,
          -1660,
          -1650,
          -1640,
          -1630,
          -1620,
          -1610,
          -1600,
          -1590,
          -1580,
          -1570,
          -1560,
          -1550,
          -1540,
          -1530,
          -1520,
          -1510,
          -1500,
          -1490,
          -1480,
          -1470,
          -1460,
          -1450,
          -1440,
          -1430,
          -1420,
          -1410,
          -1400,
          -1390,
          -1380,
          -1370,
          -1360,
          -1350,
          -1340,
          -1330,
          -1320,
          -1310
         ],
         "y": [
          2496899631,
          2465213211,
          2434391591,
          2404434771,
          2375342751,
          2347115531,
          2319753111,
          2293255491,
          2267622671,
          2242854651,
          2218951431,
          2195913011,
          2173739391,
          2152430571,
          2131986551,
          2112407331,
          2093692911,
          2075843291,
          2058858471,
          2042738451,
          2027483231,
          2013092811,
          1999567191,
          1986906371,
          1975110351,
          1964179131,
          1954112711,
          1944911091,
          1936574271,
          1929102251,
          1922495031,
          1916752611,
          1911874991,
          1907862171,
          1904714151,
          1902430931,
          1901012511,
          1900458891,
          1900770071,
          1901946051,
          1903986831,
          1906892411,
          1910662791,
          1915297971,
          1920797951
         ]
        },
        {
         "mode": "text+lines",
         "text": [
          "",
          "f' = -2779438.76",
          ""
         ],
         "textposition": "bottom left",
         "type": "scatter",
         "uid": "33a71c88-d582-4af6-bf69-786e8f8b8c4b",
         "x": [
          -1775,
          -1700,
          -1625
         ],
         "y": [
          2555573438,
          2347115531,
          2138657624
         ]
        },
        {
         "mode": "text+lines",
         "text": [
          "",
          "f' = -375294.76",
          ""
         ],
         "textposition": "bottom left",
         "type": "scatter",
         "uid": "63d9d6b2-292c-42a9-ad47-a0b1bf2af9e1",
         "x": [
          -1497,
          -1422,
          -1347
         ],
         "y": [
          1936742658,
          1908595551,
          1880448444
         ]
        }
       ],
       "layout": {
        "autosize": true,
        "xaxis": {
         "autorange": true,
         "range": [
          -1799.4736842105262,
          -1310
         ],
         "type": "linear"
        },
        "yaxis": {
         "autorange": true,
         "range": [
          1842941499.8888888,
          2593080382.111111
         ],
         "type": "linear"
        }
       }
      },
      "image/png": "[encoded data removed]",
      "text/html": [
       "<div id=\"5c39dda9-6586-40ad-88f8-c30d65a55fe8\" style=\"height: 525px; width: 100%;\" class=\"plotly-graph-div\"></div><script type=\"text/javascript\">require([\"plotly\"], function(Plotly) { window.PLOTLYENV=window.PLOTLYENV || {};window.PLOTLYENV.BASE_URL=\"https://plot.ly\";Plotly.newPlot(\"5c39dda9-6586-40ad-88f8-c30d65a55fe8\", [{\"mode\": \"lines\", \"name\": \"data\", \"text\": [], \"x\": [-1750, -1740, -1730, -1720, -1710, -1700, -1690, -1680, -1670, -1660, -1650, -1640, -1630, -1620, -1610, -1600, -1590, -1580, -1570, -1560, -1550, -1540, -1530, -1520, -1510, -1500, -1490, -1480, -1470, -1460, -1450, -1440, -1430, -1420, -1410, -1400, -1390, -1380, -1370, -1360, -1350, -1340, -1330, -1320, -1310], \"y\": [2496899631, 2465213211, 2434391591, 2404434771, 2375342751, 2347115531, 2319753111, 2293255491, 2267622671, 2242854651, 2218951431, 2195913011, 2173739391, 2152430571, 2131986551, 2112407331, 2093692911, 2075843291, 2058858471, 2042738451, 2027483231, 2013092811, 1999567191, 1986906371, 1975110351, 1964179131, 1954112711, 1944911091, 1936574271, 1929102251, 1922495031, 1916752611, 1911874991, 1907862171, 1904714151, 1902430931, 1901012511, 1900458891, 1900770071, 1901946051, 1903986831, 1906892411, 1910662791, 1915297971, 1920797951], \"type\": \"scatter\", \"uid\": \"8844e44c-3873-4810-8e07-1fe5f3f1c170\"}, {\"mode\": \"text+lines\", \"text\": [\"\", \"f' = -2779438.76\", \"\"], \"textposition\": \"bottom left\", \"x\": [-1775.0, -1700, -1625.0], \"y\": [2555573438.0, 2347115531, 2138657624.0], \"type\": \"scatter\", \"uid\": \"dbbfa518-952a-45e0-920b-4259372e8205\"}, {\"mode\": \"text+lines\", \"text\": [\"\", \"f' = -375294.76\", \"\"], \"textposition\": \"bottom left\", \"x\": [-1497.0, -1422, -1347.0], \"y\": [1936742658.0, 1908595551, 1880448444.0], \"type\": \"scatter\", \"uid\": \"35312033-23c5-4940-96f0-ad30f0ff6f36\"}], {}, {\"showLink\": false, \"linkText\": \"Export to plot.ly\", \"plotlyServerURL\": \"https://plot.ly\"})});</script><script type=\"text/javascript\">window.addEventListener(\"resize\", function(){window._Plotly.Plots.resize(document.getElementById(\"5c39dda9-6586-40ad-88f8-c30d65a55fe8\"));});</script>"
      ],
      "text/vnd.plotly.v1+html": [
       "<div id=\"5c39dda9-6586-40ad-88f8-c30d65a55fe8\" style=\"height: 525px; width: 100%;\" class=\"plotly-graph-div\"></div><script type=\"text/javascript\">require([\"plotly\"], function(Plotly) { window.PLOTLYENV=window.PLOTLYENV || {};window.PLOTLYENV.BASE_URL=\"https://plot.ly\";Plotly.newPlot(\"5c39dda9-6586-40ad-88f8-c30d65a55fe8\", [{\"mode\": \"lines\", \"name\": \"data\", \"text\": [], \"x\": [-1750, -1740, -1730, -1720, -1710, -1700, -1690, -1680, -1670, -1660, -1650, -1640, -1630, -1620, -1610, -1600, -1590, -1580, -1570, -1560, -1550, -1540, -1530, -1520, -1510, -1500, -1490, -1480, -1470, -1460, -1450, -1440, -1430, -1420, -1410, -1400, -1390, -1380, -1370, -1360, -1350, -1340, -1330, -1320, -1310], \"y\": [2496899631, 2465213211, 2434391591, 2404434771, 2375342751, 2347115531, 2319753111, 2293255491, 2267622671, 2242854651, 2218951431, 2195913011, 2173739391, 2152430571, 2131986551, 2112407331, 2093692911, 2075843291, 2058858471, 2042738451, 2027483231, 2013092811, 1999567191, 1986906371, 1975110351, 1964179131, 1954112711, 1944911091, 1936574271, 1929102251, 1922495031, 1916752611, 1911874991, 1907862171, 1904714151, 1902430931, 1901012511, 1900458891, 1900770071, 1901946051, 1903986831, 1906892411, 1910662791, 1915297971, 1920797951], \"type\": \"scatter\", \"uid\": \"8844e44c-3873-4810-8e07-1fe5f3f1c170\"}, {\"mode\": \"text+lines\", \"text\": [\"\", \"f' = -2779438.76\", \"\"], \"textposition\": \"bottom left\", \"x\": [-1775.0, -1700, -1625.0], \"y\": [2555573438.0, 2347115531, 2138657624.0], \"type\": \"scatter\", \"uid\": \"dbbfa518-952a-45e0-920b-4259372e8205\"}, {\"mode\": \"text+lines\", \"text\": [\"\", \"f' = -375294.76\", \"\"], \"textposition\": \"bottom left\", \"x\": [-1497.0, -1422, -1347.0], \"y\": [1936742658.0, 1908595551, 1880448444.0], \"type\": \"scatter\", \"uid\": \"35312033-23c5-4940-96f0-ad30f0ff6f36\"}], {}, {\"showLink\": false, \"linkText\": \"Export to plot.ly\", \"plotlyServerURL\": \"https://plot.ly\"})});</script><script type=\"text/javascript\">window.addEventListener(\"resize\", function(){window._Plotly.Plots.resize(document.getElementById(\"5c39dda9-6586-40ad-88f8-c30d65a55fe8\"));});</script>"
      ]
     },
     "metadata": {},
     "output_type": "display_data"
    }
   ],
   "source": [
    "from calculus import derivative_trace\n",
    "d_trace = derivative_trace(rss_value_vary_m, -1700, line_length = 150)\n",
    "d_trace_two = derivative_trace(rss_value_vary_m, -1422, line_length = 150)\n",
    "b = 65000\n",
    "m_values = list(range(-1750, -1300, 10))\n",
    "rss_values = list(map(lambda m: rss(m, b, month_numbers, revenues), m_values))\n",
    "rss_trace = trace_values(m_values, rss_values, mode = 'lines')\n",
    "\n",
    "plot([rss_trace, d_trace, d_trace_two])"
   ]
  },
  {
   "cell_type": "markdown",
   "metadata": {},
   "source": [
    "Let's do this just one more time, and then we'll explain it."
   ]
  },
  {
   "cell_type": "markdown",
   "metadata": {},
   "source": [
    "* $m = −1422 $\n",
    "* $slope = -375294 $\n",
    "\n",
    "So then $-.0001*-375294 = 37.5 $"
   ]
  },
  {
   "cell_type": "markdown",
   "metadata": {},
   "source": [
    "Again we update our value of $m$ by this number to get our new value.\n",
    "\n",
    "$-1422 + 37.5 = -1385 $\n",
    "\n",
    "Let's update our graph by placing the green line where our new value of $m$ is located."
   ]
  },
  {
   "cell_type": "code",
   "execution_count": 28,
   "metadata": {},
   "outputs": [
    {
     "data": {
      "application/vnd.plotly.v1+json": {
       "config": {
        "linkText": "Export to plot.ly",
        "plotlyServerURL": "https://plot.ly",
        "showLink": false
       },
       "data": [
        {
         "mode": "lines",
         "name": "data",
         "text": [],
         "type": "scatter",
         "uid": "8adc2f3f-c6eb-46e2-9caa-566c2c451b39",
         "x": [
          -1700,
          -1690,
          -1680,
          -1670,
          -1660,
          -1650,
          -1640,
          -1630,
          -1620,
          -1610,
          -1600,
          -1590,
          -1580,
          -1570,
          -1560,
          -1550,
          -1540,
          -1530,
          -1520,
          -1510,
          -1500,
          -1490,
          -1480,
          -1470,
          -1460,
          -1450,
          -1440,
          -1430,
          -1420,
          -1410,
          -1400,
          -1390,
          -1380,
          -1370,
          -1360,
          -1350,
          -1340,
          -1330,
          -1320,
          -1310
         ],
         "y": [
          2347115531,
          2319753111,
          2293255491,
          2267622671,
          2242854651,
          2218951431,
          2195913011,
          2173739391,
          2152430571,
          2131986551,
          2112407331,
          2093692911,
          2075843291,
          2058858471,
          2042738451,
          2027483231,
          2013092811,
          1999567191,
          1986906371,
          1975110351,
          1964179131,
          1954112711,
          1944911091,
          1936574271,
          1929102251,
          1922495031,
          1916752611,
          1911874991,
          1907862171,
          1904714151,
          1902430931,
          1901012511,
          1900458891,
          1900770071,
          1901946051,
          1903986831,
          1906892411,
          1910662791,
          1915297971,
          1920797951
         ]
        },
        {
         "mode": "text+lines",
         "text": [
          "",
          "f' = -2779438.76",
          ""
         ],
         "textposition": "bottom left",
         "type": "scatter",
         "uid": "8f6d5e9f-8a1d-4097-b03f-bc9c7400e102",
         "x": [
          -1725,
          -1700,
          -1675
         ],
         "y": [
          2416601500,
          2347115531,
          2277629562
         ]
        },
        {
         "mode": "text+lines",
         "text": [
          "",
          "f' = -375294.76",
          ""
         ],
         "textposition": "bottom left",
         "type": "scatter",
         "uid": "1fc96737-f739-409a-89a9-57310a9d40a0",
         "x": [
          -1447,
          -1422,
          -1397
         ],
         "y": [
          1917977920,
          1908595551,
          1899213182
         ]
        },
        {
         "mode": "text+lines",
         "text": [
          "",
          "f' = -55318.76",
          ""
         ],
         "textposition": "bottom left",
         "type": "scatter",
         "uid": "cd1860e1-00a5-49de-a568-54e24575f0b3",
         "x": [
          -1410,
          -1385,
          -1360
         ],
         "y": [
          1902010570,
          1900627601,
          1899244632
         ]
        }
       ],
       "layout": {
        "autosize": true,
        "xaxis": {
         "autorange": true,
         "range": [
          -1746.842105263158,
          -1310
         ],
         "type": "linear"
        },
        "yaxis": {
         "autorange": true,
         "range": [
          1870469386.5555556,
          2445345295.4444447
         ],
         "type": "linear"
        }
       }
      },
      "image/png": "[encoded data removed]",
      "text/html": [
       "<div id=\"de39e17e-cdd4-4fbc-8322-35e594007e82\" style=\"height: 525px; width: 100%;\" class=\"plotly-graph-div\"></div><script type=\"text/javascript\">require([\"plotly\"], function(Plotly) { window.PLOTLYENV=window.PLOTLYENV || {};window.PLOTLYENV.BASE_URL=\"https://plot.ly\";Plotly.newPlot(\"de39e17e-cdd4-4fbc-8322-35e594007e82\", [{\"mode\": \"lines\", \"name\": \"data\", \"text\": [], \"x\": [-1700, -1690, -1680, -1670, -1660, -1650, -1640, -1630, -1620, -1610, -1600, -1590, -1580, -1570, -1560, -1550, -1540, -1530, -1520, -1510, -1500, -1490, -1480, -1470, -1460, -1450, -1440, -1430, -1420, -1410, -1400, -1390, -1380, -1370, -1360, -1350, -1340, -1330, -1320, -1310], \"y\": [2347115531, 2319753111, 2293255491, 2267622671, 2242854651, 2218951431, 2195913011, 2173739391, 2152430571, 2131986551, 2112407331, 2093692911, 2075843291, 2058858471, 2042738451, 2027483231, 2013092811, 1999567191, 1986906371, 1975110351, 1964179131, 1954112711, 1944911091, 1936574271, 1929102251, 1922495031, 1916752611, 1911874991, 1907862171, 1904714151, 1902430931, 1901012511, 1900458891, 1900770071, 1901946051, 1903986831, 1906892411, 1910662791, 1915297971, 1920797951], \"type\": \"scatter\", \"uid\": \"b1dded1c-f6fa-401c-9bdb-7c501085e086\"}, {\"mode\": \"text+lines\", \"text\": [\"\", \"f' = -2779438.76\", \"\"], \"textposition\": \"bottom left\", \"x\": [-1725.0, -1700, -1675.0], \"y\": [2416601500.0, 2347115531, 2277629562.0], \"type\": \"scatter\", \"uid\": \"e872a09f-651c-45ce-822a-bd2c920d83e7\"}, {\"mode\": \"text+lines\", \"text\": [\"\", \"f' = -375294.76\", \"\"], \"textposition\": \"bottom left\", \"x\": [-1447.0, -1422, -1397.0], \"y\": [1917977920.0, 1908595551, 1899213182.0], \"type\": \"scatter\", \"uid\": \"eea4b696-ee4e-4811-8168-79158245e8c6\"}, {\"mode\": \"text+lines\", \"text\": [\"\", \"f' = -55318.76\", \"\"], \"textposition\": \"bottom left\", \"x\": [-1410.0, -1385, -1360.0], \"y\": [1902010570.0, 1900627601, 1899244632.0], \"type\": \"scatter\", \"uid\": \"11cfb466-2ffb-4f6c-9ad8-8bd939c72570\"}], {}, {\"showLink\": false, \"linkText\": \"Export to plot.ly\", \"plotlyServerURL\": \"https://plot.ly\"})});</script><script type=\"text/javascript\">window.addEventListener(\"resize\", function(){window._Plotly.Plots.resize(document.getElementById(\"de39e17e-cdd4-4fbc-8322-35e594007e82\"));});</script>"
      ],
      "text/vnd.plotly.v1+html": [
       "<div id=\"de39e17e-cdd4-4fbc-8322-35e594007e82\" style=\"height: 525px; width: 100%;\" class=\"plotly-graph-div\"></div><script type=\"text/javascript\">require([\"plotly\"], function(Plotly) { window.PLOTLYENV=window.PLOTLYENV || {};window.PLOTLYENV.BASE_URL=\"https://plot.ly\";Plotly.newPlot(\"de39e17e-cdd4-4fbc-8322-35e594007e82\", [{\"mode\": \"lines\", \"name\": \"data\", \"text\": [], \"x\": [-1700, -1690, -1680, -1670, -1660, -1650, -1640, -1630, -1620, -1610, -1600, -1590, -1580, -1570, -1560, -1550, -1540, -1530, -1520, -1510, -1500, -1490, -1480, -1470, -1460, -1450, -1440, -1430, -1420, -1410, -1400, -1390, -1380, -1370, -1360, -1350, -1340, -1330, -1320, -1310], \"y\": [2347115531, 2319753111, 2293255491, 2267622671, 2242854651, 2218951431, 2195913011, 2173739391, 2152430571, 2131986551, 2112407331, 2093692911, 2075843291, 2058858471, 2042738451, 2027483231, 2013092811, 1999567191, 1986906371, 1975110351, 1964179131, 1954112711, 1944911091, 1936574271, 1929102251, 1922495031, 1916752611, 1911874991, 1907862171, 1904714151, 1902430931, 1901012511, 1900458891, 1900770071, 1901946051, 1903986831, 1906892411, 1910662791, 1915297971, 1920797951], \"type\": \"scatter\", \"uid\": \"b1dded1c-f6fa-401c-9bdb-7c501085e086\"}, {\"mode\": \"text+lines\", \"text\": [\"\", \"f' = -2779438.76\", \"\"], \"textposition\": \"bottom left\", \"x\": [-1725.0, -1700, -1675.0], \"y\": [2416601500.0, 2347115531, 2277629562.0], \"type\": \"scatter\", \"uid\": \"e872a09f-651c-45ce-822a-bd2c920d83e7\"}, {\"mode\": \"text+lines\", \"text\": [\"\", \"f' = -375294.76\", \"\"], \"textposition\": \"bottom left\", \"x\": [-1447.0, -1422, -1397.0], \"y\": [1917977920.0, 1908595551, 1899213182.0], \"type\": \"scatter\", \"uid\": \"eea4b696-ee4e-4811-8168-79158245e8c6\"}, {\"mode\": \"text+lines\", \"text\": [\"\", \"f' = -55318.76\", \"\"], \"textposition\": \"bottom left\", \"x\": [-1410.0, -1385, -1360.0], \"y\": [1902010570.0, 1900627601, 1899244632.0], \"type\": \"scatter\", \"uid\": \"11cfb466-2ffb-4f6c-9ad8-8bd939c72570\"}], {}, {\"showLink\": false, \"linkText\": \"Export to plot.ly\", \"plotlyServerURL\": \"https://plot.ly\"})});</script><script type=\"text/javascript\">window.addEventListener(\"resize\", function(){window._Plotly.Plots.resize(document.getElementById(\"de39e17e-cdd4-4fbc-8322-35e594007e82\"));});</script>"
      ]
     },
     "metadata": {},
     "output_type": "display_data"
    }
   ],
   "source": [
    "from calculus import derivative_trace\n",
    "d_trace = derivative_trace(rss_value_vary_m, -1700, line_length = 50)\n",
    "d_trace_two = derivative_trace(rss_value_vary_m, -1422, line_length = 50)\n",
    "d_trace_three = derivative_trace(rss_value_vary_m, -1385, line_length = 50)\n",
    "b = 65000\n",
    "m_values = list(range(-1700, -1300, 10))\n",
    "rss_values = list(map(lambda m: rss(m, b, month_numbers, revenues), m_values))\n",
    "rss_trace = trace_values(m_values, rss_values, mode = 'lines')\n",
    "\n",
    "plot([rss_trace, d_trace, d_trace_two, d_trace_three])"
   ]
  },
  {
   "cell_type": "markdown",
   "metadata": {},
   "source": [
    "So notice that our red line is now quite close to our minimum.  Using this procedure we get to a value of -1385 in just a few steps, and when we asked Python to find the minimum it found a value of $-1378$.  So we got very close quite quickly."
   ]
  },
  {
   "cell_type": "markdown",
   "metadata": {},
   "source": [
    "### Why this procedure works so well"
   ]
  },
  {
   "cell_type": "markdown",
   "metadata": {},
   "source": [
    "So our procedure of finding the minimum above was the following: \n",
    "* Start at some initial value of $m$. \n",
    "* Find the slope of the RSS curve at this point.\n",
    "* Calculate an update value by multiplying the slope of RSS by a small negative number, -.001\n",
    "* Update our new m to be the old m plus the update value calculated above."
   ]
  },
  {
   "cell_type": "markdown",
   "metadata": {},
   "source": [
    "Now let's understand why this works.  This works because with this procedure, we update our value of $m$, based on the slope of our parabola at this point, and **the further away from the minimum we are, the steeper the slope**, so the further away from the minimum of the curve, the more we will update our value of m.  Also, the closer we are to the minimum, the flatter the slope, and so we will update our value of m just a little."
   ]
  },
  {
   "cell_type": "markdown",
   "metadata": {},
   "source": [
    "We stop when we update our parameter by such a small number that we feel comfortable stopping, or after a set number of updates."
   ]
  },
  {
   "cell_type": "markdown",
   "metadata": {},
   "source": [
    "### Formalizing our procedure"
   ]
  },
  {
   "cell_type": "markdown",
   "metadata": {},
   "source": [
    "Let's write some code that reflects the procedure in our bullet points above.  \n",
    "\n",
    "> To find the slope at a point, we'll provide a function calculates the slope of a function at a give point, called `derivative_of`.  We won't go into the details of how we find the derivative of a function right now, so just take it as given that we can find the slope of a function at a given point, and doing so is called taking the derivative at that value."
   ]
  },
  {
   "cell_type": "code",
   "execution_count": 48,
   "metadata": {},
   "outputs": [],
   "source": [
    "from calculus import derivative_of\n",
    "\n",
    "# set an initial value of m\n",
    "m = -1700\n",
    "# calculate the slope at that value of m \n",
    "slope_at_m = derivative_of(rss_value_vary_m, m, .01)\n",
    "\n",
    "m = m + -.0001*slope_at_m"
   ]
  },
  {
   "cell_type": "markdown",
   "metadata": {},
   "source": [
    "The last line is the most important.  It shows formula for how we improve our value of $m$, or as a machine learning engineer would say, this is how we *learn* $m$.\n",
    "\n",
    "Let's rewrite this formula mathematically."
   ]
  },
  {
   "cell_type": "markdown",
   "metadata": {},
   "source": [
    "$m = m + -.0001*slopeofrss_m$"
   ]
  },
  {
   "cell_type": "markdown",
   "metadata": {},
   "source": [
    "So this is our learning algorithm written mathematically.  Start with a value of m (to the right of the equals sign), then add the product of a small negative number times our slope, and set that result equal to the new value of m.\n",
    "\n",
    "Ok, time for one more update.  This small negative number (-.0001) is called the learning rate.  It's called the learning rate because if we increase it our updates to our parameter will be larger, and vice versa.  Mathematicians use the symbol $\\alpha$ for the learning rate, so let's replace it accordingly."
   ]
  },
  {
   "cell_type": "markdown",
   "metadata": {},
   "source": [
    "$m = m + -\\alpha*slopeofrss_m$"
   ]
  },
  {
   "cell_type": "markdown",
   "metadata": {},
   "source": [
    "### Multiple updates in code"
   ]
  },
  {
   "cell_type": "markdown",
   "metadata": {},
   "source": [
    "Ok, now let's just prove this is real by doing multiple updates.  Our code is the same as previously, we just place it in a loop, and append our new value of $m$ each time."
   ]
  },
  {
   "cell_type": "code",
   "execution_count": 49,
   "metadata": {},
   "outputs": [],
   "source": [
    "number_of_iterations = 5\n",
    "m_values = []\n",
    "for iteration in list(range(0, number_of_iterations)):\n",
    "    slope_at_m = derivative_of(rss_value_vary_m, m, .01)\n",
    "    m = m + -.0001*slope_at_m\n",
    "    m_values.append(m)\n"
   ]
  },
  {
   "cell_type": "code",
   "execution_count": 50,
   "metadata": {},
   "outputs": [
    {
     "data": {
      "text/plain": [
       "[-1384.478112,\n",
       " -1379.3975647,\n",
       " -1378.7106747,\n",
       " -1378.6178072,\n",
       " -1378.6052515000001]"
      ]
     },
     "execution_count": 50,
     "metadata": {},
     "output_type": "execute_result"
    }
   ],
   "source": [
    "m_values"
   ]
  },
  {
   "cell_type": "markdown",
   "metadata": {},
   "source": [
    "Doing so shows how in just a few attempts we get zoom in on the value of -1378, which is the value of m that minimizes our RSS.  "
   ]
  },
  {
   "cell_type": "code",
   "execution_count": 52,
   "metadata": {},
   "outputs": [
    {
     "data": {
      "application/vnd.plotly.v1+json": {
       "config": {
        "linkText": "Export to plot.ly",
        "plotlyServerURL": "https://plot.ly",
        "showLink": false
       },
       "data": [
        {
         "mode": "lines",
         "name": "data",
         "text": [],
         "type": "scatter",
         "uid": "c22dc06c-82d1-4293-b38f-ba99f8aa4408",
         "x": [
          -1700,
          -1690,
          -1680,
          -1670,
          -1660,
          -1650,
          -1640,
          -1630,
          -1620,
          -1610,
          -1600,
          -1590,
          -1580,
          -1570,
          -1560,
          -1550,
          -1540,
          -1530,
          -1520,
          -1510,
          -1500,
          -1490,
          -1480,
          -1470,
          -1460,
          -1450,
          -1440,
          -1430,
          -1420,
          -1410,
          -1400,
          -1390,
          -1380,
          -1370,
          -1360,
          -1350,
          -1340,
          -1330,
          -1320,
          -1310
         ],
         "y": [
          2347115531,
          2319753111,
          2293255491,
          2267622671,
          2242854651,
          2218951431,
          2195913011,
          2173739391,
          2152430571,
          2131986551,
          2112407331,
          2093692911,
          2075843291,
          2058858471,
          2042738451,
          2027483231,
          2013092811,
          1999567191,
          1986906371,
          1975110351,
          1964179131,
          1954112711,
          1944911091,
          1936574271,
          1929102251,
          1922495031,
          1916752611,
          1911874991,
          1907862171,
          1904714151,
          1902430931,
          1901012511,
          1900458891,
          1900770071,
          1901946051,
          1903986831,
          1906892411,
          1910662791,
          1915297971,
          1920797951
         ]
        },
        {
         "mode": "text+lines",
         "text": [
          "",
          "f' = 5217.24",
          ""
         ],
         "textposition": "bottom left",
         "type": "scatter",
         "uid": "40840517-1465-4dfe-84ba-d1fe34ff70e5",
         "x": [
          -1403,
          -1378,
          -1353
         ],
         "y": [
          1900321512,
          1900451943,
          1900582374
         ]
        }
       ],
       "layout": {
        "autosize": true,
        "xaxis": {
         "autorange": true,
         "range": [
          -1700,
          -1310
         ],
         "type": "linear"
        },
        "yaxis": {
         "autorange": true,
         "range": [
          1875499622.0555556,
          2371937420.9444447
         ],
         "type": "linear"
        }
       }
      },
      "image/png": "[encoded data removed]",
      "text/html": [
       "<div id=\"1c758941-de52-463a-b5d0-3936f4d87a92\" style=\"height: 525px; width: 100%;\" class=\"plotly-graph-div\"></div><script type=\"text/javascript\">require([\"plotly\"], function(Plotly) { window.PLOTLYENV=window.PLOTLYENV || {};window.PLOTLYENV.BASE_URL=\"https://plot.ly\";Plotly.newPlot(\"1c758941-de52-463a-b5d0-3936f4d87a92\", [{\"mode\": \"lines\", \"name\": \"data\", \"text\": [], \"x\": [-1700, -1690, -1680, -1670, -1660, -1650, -1640, -1630, -1620, -1610, -1600, -1590, -1580, -1570, -1560, -1550, -1540, -1530, -1520, -1510, -1500, -1490, -1480, -1470, -1460, -1450, -1440, -1430, -1420, -1410, -1400, -1390, -1380, -1370, -1360, -1350, -1340, -1330, -1320, -1310], \"y\": [2347115531, 2319753111, 2293255491, 2267622671, 2242854651, 2218951431, 2195913011, 2173739391, 2152430571, 2131986551, 2112407331, 2093692911, 2075843291, 2058858471, 2042738451, 2027483231, 2013092811, 1999567191, 1986906371, 1975110351, 1964179131, 1954112711, 1944911091, 1936574271, 1929102251, 1922495031, 1916752611, 1911874991, 1907862171, 1904714151, 1902430931, 1901012511, 1900458891, 1900770071, 1901946051, 1903986831, 1906892411, 1910662791, 1915297971, 1920797951], \"type\": \"scatter\", \"uid\": \"60083384-1b2d-411c-bebc-d7a3814da710\"}, {\"mode\": \"text+lines\", \"text\": [\"\", \"f' = 5217.24\", \"\"], \"textposition\": \"bottom left\", \"x\": [-1403.0, -1378, -1353.0], \"y\": [1900321512.0, 1900451943, 1900582374.0], \"type\": \"scatter\", \"uid\": \"4d24d1d2-4d6c-4ae8-8562-f07915b32c91\"}], {}, {\"showLink\": false, \"linkText\": \"Export to plot.ly\", \"plotlyServerURL\": \"https://plot.ly\"})});</script><script type=\"text/javascript\">window.addEventListener(\"resize\", function(){window._Plotly.Plots.resize(document.getElementById(\"1c758941-de52-463a-b5d0-3936f4d87a92\"));});</script>"
      ],
      "text/vnd.plotly.v1+html": [
       "<div id=\"1c758941-de52-463a-b5d0-3936f4d87a92\" style=\"height: 525px; width: 100%;\" class=\"plotly-graph-div\"></div><script type=\"text/javascript\">require([\"plotly\"], function(Plotly) { window.PLOTLYENV=window.PLOTLYENV || {};window.PLOTLYENV.BASE_URL=\"https://plot.ly\";Plotly.newPlot(\"1c758941-de52-463a-b5d0-3936f4d87a92\", [{\"mode\": \"lines\", \"name\": \"data\", \"text\": [], \"x\": [-1700, -1690, -1680, -1670, -1660, -1650, -1640, -1630, -1620, -1610, -1600, -1590, -1580, -1570, -1560, -1550, -1540, -1530, -1520, -1510, -1500, -1490, -1480, -1470, -1460, -1450, -1440, -1430, -1420, -1410, -1400, -1390, -1380, -1370, -1360, -1350, -1340, -1330, -1320, -1310], \"y\": [2347115531, 2319753111, 2293255491, 2267622671, 2242854651, 2218951431, 2195913011, 2173739391, 2152430571, 2131986551, 2112407331, 2093692911, 2075843291, 2058858471, 2042738451, 2027483231, 2013092811, 1999567191, 1986906371, 1975110351, 1964179131, 1954112711, 1944911091, 1936574271, 1929102251, 1922495031, 1916752611, 1911874991, 1907862171, 1904714151, 1902430931, 1901012511, 1900458891, 1900770071, 1901946051, 1903986831, 1906892411, 1910662791, 1915297971, 1920797951], \"type\": \"scatter\", \"uid\": \"60083384-1b2d-411c-bebc-d7a3814da710\"}, {\"mode\": \"text+lines\", \"text\": [\"\", \"f' = 5217.24\", \"\"], \"textposition\": \"bottom left\", \"x\": [-1403.0, -1378, -1353.0], \"y\": [1900321512.0, 1900451943, 1900582374.0], \"type\": \"scatter\", \"uid\": \"4d24d1d2-4d6c-4ae8-8562-f07915b32c91\"}], {}, {\"showLink\": false, \"linkText\": \"Export to plot.ly\", \"plotlyServerURL\": \"https://plot.ly\"})});</script><script type=\"text/javascript\">window.addEventListener(\"resize\", function(){window._Plotly.Plots.resize(document.getElementById(\"1c758941-de52-463a-b5d0-3936f4d87a92\"));});</script>"
      ]
     },
     "metadata": {},
     "output_type": "display_data"
    }
   ],
   "source": [
    "final_d_trace = derivative_trace(rss_value_vary_m, -1378, line_length = 50)\n",
    "m_values = list(range(-1700, -1300, 10))\n",
    "rss_values = list(map(lambda m: rss(m, b, month_numbers, revenues), m_values))\n",
    "rss_trace = trace_values(m_values, rss_values, mode = 'lines')\n",
    "\n",
    "plot([rss_trace, final_d_trace])"
   ]
  },
  {
   "cell_type": "markdown",
   "metadata": {},
   "source": [
    "### Summary"
   ]
  },
  {
   "cell_type": "markdown",
   "metadata": {},
   "source": [
    "In this lesson we dove deeper into how an algorithtm updates it's model.  In other words we dove deeper into how an algorithm learns.  We saw a stepwise procedure in which the algorithm looks at the slope of the RSS curve for a given value of m, and then updates that value of m by a the negative of a small number times that slope.  This means that our updates will be proportional to the size of the slope at a given value of m.  And because the further away from the minimum, the steeper the slope, this increases the size of the update.  As our algorithm approaches the value of m that produces the minimum, the slope of the RSS decreases, and thus so do the updates.  When those updates are sufficiently small, we stop our algorithm and use the corresponding value of m for our model.\n",
    "\n",
    "We translated this algorithm into code and expressed this mathematically as:\n",
    "\n",
    "$m = m + -.0001*slopeofrss_m$"
   ]
  },
  {
   "cell_type": "markdown",
   "metadata": {},
   "source": [
    "We call this small number .0001 our learning rate, $\\alpha$ as influences the size of the updates of our parameters, so we can rewrite our formula as the following:"
   ]
  },
  {
   "cell_type": "markdown",
   "metadata": {},
   "source": [
    "$m = m + -\\alpha*slopeofrss_m$"
   ]
  }
 ],
 "metadata": {
  "kernelspec": {
   "display_name": "Python 3",
   "language": "python",
   "name": "python3"
  },
  "language_info": {
   "codemirror_mode": {
    "name": "ipython",
    "version": 3
   },
   "file_extension": ".py",
   "mimetype": "text/x-python",
   "name": "python",
   "nbconvert_exporter": "python",
   "pygments_lexer": "ipython3",
   "version": "3.7.0"
  }
 },
 "nbformat": 4,
 "nbformat_minor": 2
}
