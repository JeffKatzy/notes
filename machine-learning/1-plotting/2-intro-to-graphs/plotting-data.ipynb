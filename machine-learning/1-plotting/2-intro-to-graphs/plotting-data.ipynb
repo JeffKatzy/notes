{
 "cells": [
  {
   "cell_type": "markdown",
   "metadata": {},
   "source": [
    "### Introduction"
   ]
  },
  {
   "cell_type": "markdown",
   "metadata": {},
   "source": [
    "\"Visualization gives you answers to questions you didn’t know you had.” – Ben Schneiderman"
   ]
  },
  {
   "cell_type": "markdown",
   "metadata": {},
   "source": [
    "In the past couple of sections, we learned about collecting and processing our data via APIs and Python.  Of course many of use best process trends in the data visually.  It's time to start using Python to generate visualizations of our data."
   ]
  },
  {
   "cell_type": "markdown",
   "metadata": {},
   "source": [
    "### Graph starting points: X axis and Y axis"
   ]
  },
  {
   "cell_type": "markdown",
   "metadata": {},
   "source": [
    "The main way that we will visualize our data is with graphs."
   ]
  },
  {
   "cell_type": "markdown",
   "metadata": {},
   "source": [
    "<img src=\"./graph-intro.png\" width=\"60%\" />"
   ]
  },
  {
   "cell_type": "markdown",
   "metadata": {},
   "source": [
    "Take a look at the graph above.  As you'll see, there are two dark gray lines that intersect.  One of the lines is along the bottom.  That is called our **x axis**.  And dark gray line on the left is our **y axis**.  These x and y axes allow us to take numbers and represent these numbers as a location on the graph.  \n",
    "\n",
    "For example, let's say that every other day, we track the amount of money a business earns.  And we do this for 10 days.  We check in on the second day and see that the business earns 3 dollars (it's a very small business).  We can represent the second day by moving two spaces to the right along, and three spaces up to represent the amount of earned.  \n",
    "\n",
    "Now take a look at the graph below where you can see we did with the first blue marker on the left."
   ]
  },
  {
   "cell_type": "markdown",
   "metadata": {},
   "source": [
    "<img src=\"./plot-with-markers.png\" width=\"80%\"/>"
   ]
  },
  {
   "cell_type": "markdown",
   "metadata": {},
   "source": [
    "So hopefully you can see that representing our numbers on a graph, can help us get some insight.  In the graph above, we see that each day that we check in on the business, the amount of money taken in that day increases.\n",
    "\n",
    "The other thing to notice is that we can annotate our points with the format `(x value, y value)`, so (2, 3) is shorthand for a point whose x value is 2 and y value is 3."
   ]
  },
  {
   "cell_type": "markdown",
   "metadata": {},
   "source": [
    "### Representing our data in Python"
   ]
  },
  {
   "cell_type": "markdown",
   "metadata": {},
   "source": [
    "Let's start by representing our single point `(2, 3)` in Python.  Let's do it using a dictionary."
   ]
  },
  {
   "cell_type": "code",
   "execution_count": 2,
   "metadata": {},
   "outputs": [
    {
     "data": {
      "text/plain": [
       "2"
      ]
     },
     "execution_count": 2,
     "metadata": {},
     "output_type": "execute_result"
    }
   ],
   "source": [
    "{'x': 2, 'y': 3}"
   ]
  },
  {
   "cell_type": "markdown",
   "metadata": {},
   "source": [
    "And if we want to represent all of our each of the points above, we can use a list of dictionaries."
   ]
  },
  {
   "cell_type": "code",
   "execution_count": 3,
   "metadata": {},
   "outputs": [],
   "source": [
    "values = [{'x': 2, 'y': 3}, {'x': 4, 'y': 5}, {'x': 6, 'y': 12}, {'x': 8, 'y': 13}, {'x': 10, 'y': 17}]"
   ]
  },
  {
   "cell_type": "markdown",
   "metadata": {},
   "source": [
    "But a different way to represent these is as a list of x values, and y values."
   ]
  },
  {
   "cell_type": "markdown",
   "metadata": {},
   "source": [
    "The only issue with this above format is that it's not super easy to place data in this format.  Lots of times it's easier to write out these x and y values separately.  \n",
    "\n",
    "For example, let's quickly generate all of the x values."
   ]
  },
  {
   "cell_type": "code",
   "execution_count": 11,
   "metadata": {},
   "outputs": [
    {
     "data": {
      "text/plain": [
       "[0, 2, 4, 6, 8, 10]"
      ]
     },
     "execution_count": 11,
     "metadata": {},
     "output_type": "execute_result"
    }
   ],
   "source": [
    "x_values = list(range(0, 11, 2))\n",
    "x_values"
   ]
  },
  {
   "cell_type": "markdown",
   "metadata": {},
   "source": [
    "So it might be nicer to write out our x and y values separately."
   ]
  },
  {
   "cell_type": "code",
   "execution_count": 12,
   "metadata": {},
   "outputs": [],
   "source": [
    "trace = {'x': [2, 4, 6, 8, 10], 'y': [3, 5, 12, 13, 17]}"
   ]
  },
  {
   "cell_type": "markdown",
   "metadata": {},
   "source": [
    "> We'll talk about what the word `trace` means in our upcoming lesson on Plotly."
   ]
  },
  {
   "cell_type": "markdown",
   "metadata": {},
   "source": [
    "As you'll see, this is how we'll represent our data for plotting. With one list of all of the x coordinates of our points, and a separate list of each of the y coordinates of our points.  And each of these two lists in a dictionary with keys of `'x'` and `'y'`."
   ]
  },
  {
   "cell_type": "markdown",
   "metadata": {},
   "source": [
    "### Introduction to Plotly"
   ]
  },
  {
   "cell_type": "markdown",
   "metadata": {},
   "source": [
    "A great tool for data visualization is called [Plotly](https://plot.ly/).  Let's get started.\n",
    "\n",
    "We download Plotly with the following command."
   ]
  },
  {
   "cell_type": "code",
   "execution_count": null,
   "metadata": {},
   "outputs": [],
   "source": [
    "!pip install plotly"
   ]
  },
  {
   "cell_type": "markdown",
   "metadata": {},
   "source": [
    "> Press shift enter to run the above line of code."
   ]
  },
  {
   "cell_type": "markdown",
   "metadata": {},
   "source": [
    "<img src=\"plotly-two-traces.png\" width=\"60%\"> "
   ]
  },
  {
   "cell_type": "markdown",
   "metadata": {},
   "source": [
    "### Understanding the components of our plot\n",
    "\n",
    "Now plotly can make graphs like the one below.\n",
    "\n",
    "Imagine that the this graph above is used to show the amount of money earned in the first, second, third and fourth month for a restaurant chain.  And imagine that the orange line represents the amount of money earned by a restaurant in Dallas TX, and the blue line represents the amount of money earned by the restaurant in Houston.  So this entire graph shows how the two restaurants are doing side by side.\n",
    "\n",
    "Now let's refer to the components of the graph the way that plotly does.   Plotly calls each of those blue and orange lines a **`trace`**.  We can have as many traces as we want, just as our restaurant chain could potentially have many more restaurants and we want a line for each.  Second, plotly calls that entire graph above a `figure`.  \n",
    "\n",
    "So, the takeaway here is that **a figure consists of a list of traces.**"
   ]
  },
  {
   "cell_type": "markdown",
   "metadata": {},
   "source": [
    "### Building those components in code"
   ]
  },
  {
   "cell_type": "markdown",
   "metadata": {},
   "source": [
    "Ok, now it's time to use plotly.  We already downloaded it with pip, so now we need to import it.  We do so with the following lines."
   ]
  },
  {
   "cell_type": "code",
   "execution_count": 3,
   "metadata": {},
   "outputs": [
    {
     "data": {
      "text/html": [
       "<script type=\"text/javascript\">window.PlotlyConfig = {MathJaxConfig: 'local'};</script><script type=\"text/javascript\">if (window.MathJax) {MathJax.Hub.Config({SVG: {font: \"STIX-Web\"}});}</script><script>requirejs.config({paths: { 'plotly': ['https://cdn.plot.ly/plotly-latest.min']},});if(!window._Plotly) {require(['plotly'],function(plotly) {window._Plotly=plotly;});}</script>"
      ],
      "text/vnd.plotly.v1+html": [
       "<script type=\"text/javascript\">window.PlotlyConfig = {MathJaxConfig: 'local'};</script><script type=\"text/javascript\">if (window.MathJax) {MathJax.Hub.Config({SVG: {font: \"STIX-Web\"}});}</script><script>requirejs.config({paths: { 'plotly': ['https://cdn.plot.ly/plotly-latest.min']},});if(!window._Plotly) {require(['plotly'],function(plotly) {window._Plotly=plotly;});}</script>"
      ]
     },
     "metadata": {},
     "output_type": "display_data"
    }
   ],
   "source": [
    "import plotly\n",
    "from plotly.offline import iplot, init_notebook_mode\n",
    "init_notebook_mode(connected=True)"
   ]
  },
  {
   "cell_type": "markdown",
   "metadata": {},
   "source": [
    "You'll notice that we imported the `iplot` method from the `plotly.offline`.  Let's use it to make our first figure, and then we'll try to understand this code better below."
   ]
  },
  {
   "cell_type": "code",
   "execution_count": 4,
   "metadata": {},
   "outputs": [
    {
     "data": {
      "application/vnd.plotly.v1+json": {
       "config": {
        "linkText": "Export to plot.ly",
        "plotlyServerURL": "https://plot.ly",
        "showLink": false
       },
       "data": [
        {
         "type": "scatter",
         "uid": "6bd935db-420a-4f29-9000-74495920bf0a"
        }
       ],
       "layout": {
        "autosize": true,
        "xaxis": {
         "autorange": true,
         "range": [
          -1,
          6
         ]
        },
        "yaxis": {
         "autorange": true,
         "range": [
          -1,
          4
         ]
        }
       }
      },
      "image/png": "[encoded data removed]",
      "text/html": [
       "<div id=\"18d90dc0-6378-42a7-93ce-b8736a1f004c\" style=\"height: 525px; width: 100%;\" class=\"plotly-graph-div\"></div><script type=\"text/javascript\">require([\"plotly\"], function(Plotly) { window.PLOTLYENV=window.PLOTLYENV || {};window.PLOTLYENV.BASE_URL=\"https://plot.ly\";Plotly.newPlot(\"18d90dc0-6378-42a7-93ce-b8736a1f004c\", [{\"type\": \"scatter\", \"uid\": \"e400680e-b079-471c-894b-e463a83400c4\"}], {}, {\"showLink\": false, \"linkText\": \"Export to plot.ly\", \"plotlyServerURL\": \"https://plot.ly\"})});</script><script type=\"text/javascript\">window.addEventListener(\"resize\", function(){window._Plotly.Plots.resize(document.getElementById(\"18d90dc0-6378-42a7-93ce-b8736a1f004c\"));});</script>"
      ],
      "text/vnd.plotly.v1+html": [
       "<div id=\"18d90dc0-6378-42a7-93ce-b8736a1f004c\" style=\"height: 525px; width: 100%;\" class=\"plotly-graph-div\"></div><script type=\"text/javascript\">require([\"plotly\"], function(Plotly) { window.PLOTLYENV=window.PLOTLYENV || {};window.PLOTLYENV.BASE_URL=\"https://plot.ly\";Plotly.newPlot(\"18d90dc0-6378-42a7-93ce-b8736a1f004c\", [{\"type\": \"scatter\", \"uid\": \"e400680e-b079-471c-894b-e463a83400c4\"}], {}, {\"showLink\": false, \"linkText\": \"Export to plot.ly\", \"plotlyServerURL\": \"https://plot.ly\"})});</script><script type=\"text/javascript\">window.addEventListener(\"resize\", function(){window._Plotly.Plots.resize(document.getElementById(\"18d90dc0-6378-42a7-93ce-b8736a1f004c\"));});</script>"
      ]
     },
     "metadata": {},
     "output_type": "display_data"
    }
   ],
   "source": [
    "iplot([{}])"
   ]
  },
  {
   "cell_type": "markdown",
   "metadata": {},
   "source": [
    "Ah yes, an empty graph.  Let's look at the code again to make sense of it.\n",
    "\n",
    "```python\n",
    "iplot([\n",
    "    {}\n",
    "])\n",
    "\n",
    "```\n",
    "\n",
    "Remember our takeaway from above, **a figure is a list of traces**.  So that list right after the parentheses is our *figure* and the dictionary is a trace.  Because that dictionary is empty we don't see any lines on the screen.\n",
    "\n",
    "Let's change that.\n",
    "\n",
    "We still need our figure, but this time inside of the figure, we'll use a trace with some data."
   ]
  },
  {
   "cell_type": "markdown",
   "metadata": {},
   "source": [
    "<img "
   ]
  },
  {
   "cell_type": "markdown",
   "metadata": {},
   "source": [
    "Now let's take a look at this new code, focusing in on that trace variable."
   ]
  },
  {
   "cell_type": "markdown",
   "metadata": {},
   "source": [
    "```python\n",
    "trace =  {'x': [0, 1, 2, 3, 4], 'y': [0, 4, 8, 12, 16]}\n",
    "iplot([\n",
    "   trace\n",
    "])\n",
    "```"
   ]
  },
  {
   "cell_type": "markdown",
   "metadata": {},
   "source": [
    "As we can see, the trace variable is just a dictionary with keys `'x'` and `'y'`.  The `x` key points to a list of each of the x cooridinates for the corresponding points and the `y` key points to a list of the `y` coordinates.  "
   ]
  },
  {
   "cell_type": "markdown",
   "metadata": {},
   "source": [
    "Now let's create a figure with two traces.  This is easy enough.  Each trace is a dictionary.  And we make each trace an element in our list (which is for our figure).  This makes sense, as our figure is a list of traces.\n"
   ]
  },
  {
   "cell_type": "code",
   "execution_count": 6,
   "metadata": {},
   "outputs": [
    {
     "data": {
      "application/vnd.plotly.v1+json": {
       "config": {
        "linkText": "Export to plot.ly",
        "plotlyServerURL": "https://plot.ly",
        "showLink": false
       },
       "data": [
        {
         "type": "scatter",
         "uid": "35d2aa43-4d73-44ca-b795-c0d8444fda82",
         "x": [
          0,
          1,
          2,
          3,
          4
         ],
         "y": [
          0,
          4,
          8,
          12,
          16
         ]
        },
        {
         "type": "scatter",
         "uid": "95948825-367d-43c3-a6c0-db74117ef9e3",
         "x": [
          0,
          1,
          2,
          3,
          4
         ],
         "y": [
          0,
          8,
          16,
          24,
          32
         ]
        }
       ],
       "layout": {
        "autosize": true,
        "xaxis": {
         "autorange": true,
         "range": [
          -0.24540901502504178,
          4.245409015025042
         ],
         "type": "linear"
        },
        "yaxis": {
         "autorange": true,
         "range": [
          -2.343949044585987,
          34.34394904458599
         ],
         "type": "linear"
        }
       }
      },
      "image/png": "[encoded data removed]",
      "text/html": [
       "<div id=\"6335935a-d1a0-43c5-a8af-3cbc53abe902\" style=\"height: 525px; width: 100%;\" class=\"plotly-graph-div\"></div><script type=\"text/javascript\">require([\"plotly\"], function(Plotly) { window.PLOTLYENV=window.PLOTLYENV || {};window.PLOTLYENV.BASE_URL=\"https://plot.ly\";Plotly.newPlot(\"6335935a-d1a0-43c5-a8af-3cbc53abe902\", [{\"x\": [0, 1, 2, 3, 4], \"y\": [0, 4, 8, 12, 16], \"type\": \"scatter\", \"uid\": \"765e9b00-bb16-45d3-8b94-157ae3b6eaee\"}, {\"x\": [0, 1, 2, 3, 4], \"y\": [0, 8, 16, 24, 32], \"type\": \"scatter\", \"uid\": \"441dd827-fdcf-4a40-af58-9104dd5b73b3\"}], {}, {\"showLink\": false, \"linkText\": \"Export to plot.ly\", \"plotlyServerURL\": \"https://plot.ly\"})});</script><script type=\"text/javascript\">window.addEventListener(\"resize\", function(){window._Plotly.Plots.resize(document.getElementById(\"6335935a-d1a0-43c5-a8af-3cbc53abe902\"));});</script>"
      ],
      "text/vnd.plotly.v1+html": [
       "<div id=\"6335935a-d1a0-43c5-a8af-3cbc53abe902\" style=\"height: 525px; width: 100%;\" class=\"plotly-graph-div\"></div><script type=\"text/javascript\">require([\"plotly\"], function(Plotly) { window.PLOTLYENV=window.PLOTLYENV || {};window.PLOTLYENV.BASE_URL=\"https://plot.ly\";Plotly.newPlot(\"6335935a-d1a0-43c5-a8af-3cbc53abe902\", [{\"x\": [0, 1, 2, 3, 4], \"y\": [0, 4, 8, 12, 16], \"type\": \"scatter\", \"uid\": \"765e9b00-bb16-45d3-8b94-157ae3b6eaee\"}, {\"x\": [0, 1, 2, 3, 4], \"y\": [0, 8, 16, 24, 32], \"type\": \"scatter\", \"uid\": \"441dd827-fdcf-4a40-af58-9104dd5b73b3\"}], {}, {\"showLink\": false, \"linkText\": \"Export to plot.ly\", \"plotlyServerURL\": \"https://plot.ly\"})});</script><script type=\"text/javascript\">window.addEventListener(\"resize\", function(){window._Plotly.Plots.resize(document.getElementById(\"6335935a-d1a0-43c5-a8af-3cbc53abe902\"));});</script>"
      ]
     },
     "metadata": {},
     "output_type": "display_data"
    }
   ],
   "source": [
    "first_trace =  {'x': [0, 1, 2, 3, 4], 'y': [0, 4, 8, 12, 16]}\n",
    "second_trace =  {'x': [0, 1, 2, 3, 4], 'y': [0, 8, 16, 24, 32]}\n",
    "\n",
    "iplot([\n",
    "   first_trace, second_trace\n",
    "])"
   ]
  },
  {
   "cell_type": "markdown",
   "metadata": {},
   "source": [
    "Plotly connects each of our datapoints with a line by default.  However, if we want to just show the markers, we specify this in our trace dictionary with setting a key of `'mode'` equal to the value `'markers'`."
   ]
  },
  {
   "cell_type": "code",
   "execution_count": 24,
   "metadata": {},
   "outputs": [
    {
     "data": {
      "application/vnd.plotly.v1+json": {
       "config": {
        "linkText": "Export to plot.ly",
        "plotlyServerURL": "https://plot.ly",
        "showLink": false
       },
       "data": [
        {
         "mode": "markers",
         "type": "scatter",
         "uid": "87633fde-9205-40ff-afac-3c3be3c31ae3",
         "x": [
          0,
          1,
          2,
          3,
          4
         ],
         "y": [
          0,
          4,
          8,
          12,
          16
         ]
        },
        {
         "mode": "markers",
         "type": "scatter",
         "uid": "9c3e8ab7-0980-4771-ac1a-cf318b71c2e6",
         "x": [
          0,
          1,
          2,
          3,
          4
         ],
         "y": [
          0,
          8,
          16,
          24,
          32
         ]
        }
       ],
       "layout": {
        "autosize": true,
        "xaxis": {
         "autorange": true,
         "range": [
          -0.24540901502504178,
          4.245409015025042
         ],
         "type": "linear"
        },
        "yaxis": {
         "autorange": true,
         "range": [
          -2.343949044585987,
          34.34394904458599
         ],
         "type": "linear"
        }
       }
      },
      "image/png": "[encoded data removed]",
      "text/html": [
       "<div id=\"8b744c76-a544-46f7-9913-b20c5df3d6e7\" style=\"height: 525px; width: 100%;\" class=\"plotly-graph-div\"></div><script type=\"text/javascript\">require([\"plotly\"], function(Plotly) { window.PLOTLYENV=window.PLOTLYENV || {};window.PLOTLYENV.BASE_URL=\"https://plot.ly\";Plotly.newPlot(\"8b744c76-a544-46f7-9913-b20c5df3d6e7\", [{\"mode\": \"markers\", \"x\": [0, 1, 2, 3, 4], \"y\": [0, 4, 8, 12, 16], \"type\": \"scatter\", \"uid\": \"d94695cb-a248-400a-8268-cd9e6885cab7\"}, {\"mode\": \"markers\", \"x\": [0, 1, 2, 3, 4], \"y\": [0, 8, 16, 24, 32], \"type\": \"scatter\", \"uid\": \"98b8a018-d240-40c5-a1ca-9c566fa3adc4\"}], {}, {\"showLink\": false, \"linkText\": \"Export to plot.ly\", \"plotlyServerURL\": \"https://plot.ly\"})});</script><script type=\"text/javascript\">window.addEventListener(\"resize\", function(){window._Plotly.Plots.resize(document.getElementById(\"8b744c76-a544-46f7-9913-b20c5df3d6e7\"));});</script>"
      ],
      "text/vnd.plotly.v1+html": [
       "<div id=\"8b744c76-a544-46f7-9913-b20c5df3d6e7\" style=\"height: 525px; width: 100%;\" class=\"plotly-graph-div\"></div><script type=\"text/javascript\">require([\"plotly\"], function(Plotly) { window.PLOTLYENV=window.PLOTLYENV || {};window.PLOTLYENV.BASE_URL=\"https://plot.ly\";Plotly.newPlot(\"8b744c76-a544-46f7-9913-b20c5df3d6e7\", [{\"mode\": \"markers\", \"x\": [0, 1, 2, 3, 4], \"y\": [0, 4, 8, 12, 16], \"type\": \"scatter\", \"uid\": \"d94695cb-a248-400a-8268-cd9e6885cab7\"}, {\"mode\": \"markers\", \"x\": [0, 1, 2, 3, 4], \"y\": [0, 8, 16, 24, 32], \"type\": \"scatter\", \"uid\": \"98b8a018-d240-40c5-a1ca-9c566fa3adc4\"}], {}, {\"showLink\": false, \"linkText\": \"Export to plot.ly\", \"plotlyServerURL\": \"https://plot.ly\"})});</script><script type=\"text/javascript\">window.addEventListener(\"resize\", function(){window._Plotly.Plots.resize(document.getElementById(\"8b744c76-a544-46f7-9913-b20c5df3d6e7\"));});</script>"
      ]
     },
     "metadata": {},
     "output_type": "display_data"
    }
   ],
   "source": [
    "first_trace =  {'x': [0, 1, 2, 3, 4], 'y': [0, 4, 8, 12, 16], 'mode': 'markers'}\n",
    "second_trace =  {'x': [0, 1, 2, 3, 4], 'y': [0, 8, 16, 24, 32], 'mode': 'markers'}\n",
    "iplot([\n",
    "   first_trace, second_trace\n",
    "])"
   ]
  },
  {
   "cell_type": "markdown",
   "metadata": {},
   "source": [
    "### Plotting our Revenue Data"
   ]
  },
  {
   "cell_type": "markdown",
   "metadata": {},
   "source": [
    "Ok, now let's try to plot some of our restaurant revenue data from Max's.  First, we can load the data with the following."
   ]
  },
  {
   "cell_type": "code",
   "execution_count": 14,
   "metadata": {},
   "outputs": [],
   "source": [
    "import json\n",
    "with open('max-revenue.json') as file:\n",
    "    revenues = json.load(file)"
   ]
  },
  {
   "cell_type": "markdown",
   "metadata": {},
   "source": [
    "Now we have our revenue data.  Let's take a quick look at it again."
   ]
  },
  {
   "cell_type": "code",
   "execution_count": 15,
   "metadata": {},
   "outputs": [
    {
     "data": {
      "text/plain": [
       "25"
      ]
     },
     "execution_count": 15,
     "metadata": {},
     "output_type": "execute_result"
    }
   ],
   "source": [
    "len(revenues)"
   ]
  },
  {
   "cell_type": "code",
   "execution_count": 16,
   "metadata": {},
   "outputs": [
    {
     "data": {
      "text/plain": [
       "[{'total_receipts': 56182, 'end_date': '2016-12-31T00:00:00.000'},\n",
       " {'total_receipts': 9400, 'end_date': '2017-08-31T00:00:00.000'},\n",
       " {'total_receipts': 50574, 'end_date': '2016-06-30T00:00:00.000'}]"
      ]
     },
     "execution_count": 16,
     "metadata": {},
     "output_type": "execute_result"
    }
   ],
   "source": [
    "revenues[0:3]"
   ]
  },
  {
   "cell_type": "markdown",
   "metadata": {},
   "source": [
    "Ok, so each dictionary has the total receipts and the `begin_date`.  Our goal here is to plot the revenue data per month.  The problem we have is that our data is completely out of order.  We can sort our list to have our date increasing by month.  This takes a couple of steps.  \n",
    "\n",
    "First, we need to convert our end_date values into dates.\n",
    "\n",
    "Ok, now let's coerce the string into a datetime.  First we ask the great oracle Google how we can [convert a string into a datetime](https://www.google.com/search?q=datetime+from+string+python&oq=datetime+from+st&aqs=chrome.0.0j69i57j0l4.2653j0j7&sourceid=chrome&ie=UTF-8).  Then we follow the directions in the search results. [One of those results](https://chrisalbon.com/python/basics/strings_to_datetime/) says we can convert with somthing like the following."
   ]
  },
  {
   "cell_type": "code",
   "execution_count": 17,
   "metadata": {},
   "outputs": [
    {
     "data": {
      "text/plain": [
       "datetime.datetime(2011, 1, 3, 0, 0)"
      ]
     },
     "execution_count": 17,
     "metadata": {},
     "output_type": "execute_result"
    }
   ],
   "source": [
    "from datetime import datetime\n",
    "start = '2011-01-03'\n",
    "datetime.strptime(start, '%Y-%m-%d')"
   ]
  },
  {
   "cell_type": "markdown",
   "metadata": {},
   "source": [
    "That gets us part of the way, but our date information includes information about minutes or seconds. So we can either remove that ending data, or we can do some more searching on Google. We go for the searching on Google and wind up with the following."
   ]
  },
  {
   "cell_type": "code",
   "execution_count": 20,
   "metadata": {},
   "outputs": [
    {
     "data": {
      "text/plain": [
       "datetime.datetime(2016, 12, 31, 0, 0)"
      ]
     },
     "execution_count": 20,
     "metadata": {},
     "output_type": "execute_result"
    }
   ],
   "source": [
    "from datetime import datetime\n",
    "end_date = revenues[0]['end_date']\n",
    "datetime.strptime(end_date, '%Y-%m-%dT%H:%M:%S.%f')"
   ]
  },
  {
   "cell_type": "markdown",
   "metadata": {},
   "source": [
    "Ok, now it's that we were able to accomplish this for the attributes of one dictionary, let's use a loop to coerce each dictionary in `revenues`."
   ]
  },
  {
   "cell_type": "code",
   "execution_count": 24,
   "metadata": {},
   "outputs": [
    {
     "data": {
      "text/plain": [
       "[{'total_receipts': 56182, 'end_date': datetime.datetime(2016, 12, 31, 0, 0)},\n",
       " {'total_receipts': 9400, 'end_date': datetime.datetime(2017, 8, 31, 0, 0)}]"
      ]
     },
     "execution_count": 24,
     "metadata": {},
     "output_type": "execute_result"
    }
   ],
   "source": [
    "from datetime import datetime\n",
    "formatted_revenues = []\n",
    "for revenue in revenues:\n",
    "    total = int(revenue['total_receipts'])\n",
    "    end_date = datetime.strptime(revenue['end_date'], '%Y-%m-%dT%H:%M:%S.%f')\n",
    "    revenue = {\n",
    "        'total_receipts': total,\n",
    "        'end_date': end_date,\n",
    "    }\n",
    "    formatted_revenues.append(revenue)\n",
    "formatted_revenues[0:2]"
   ]
  },
  {
   "cell_type": "markdown",
   "metadata": {},
   "source": [
    "Ok, now we can sort by date time."
   ]
  },
  {
   "cell_type": "code",
   "execution_count": 30,
   "metadata": {},
   "outputs": [
    {
     "data": {
      "text/plain": [
       "[{'total_receipts': 0, 'end_date': '2015-08-31T00:00:00.000'},\n",
       " {'total_receipts': 66609, 'end_date': '2015-09-30T00:00:00.000'},\n",
       " {'total_receipts': 67048, 'end_date': '2015-10-31T00:00:00.000'}]"
      ]
     },
     "execution_count": 30,
     "metadata": {},
     "output_type": "execute_result"
    }
   ],
   "source": [
    "sorted_by_date = sorted(revenues, key = lambda revenue: revenue['end_date'])\n",
    "sorted_by_date[0:3]"
   ]
  },
  {
   "cell_type": "markdown",
   "metadata": {},
   "source": [
    "Now that our date is in the right format, we just create the list of dates for our x values, and the total receipts for the y values."
   ]
  },
  {
   "cell_type": "code",
   "execution_count": 32,
   "metadata": {},
   "outputs": [],
   "source": [
    "dates = list(map(lambda revenue: revenue['end_date'], revenues))\n",
    "totals = list(map(lambda revenue: revenue['total_receipts'], revenues))"
   ]
  },
  {
   "cell_type": "code",
   "execution_count": 34,
   "metadata": {},
   "outputs": [
    {
     "data": {
      "application/vnd.plotly.v1+json": {
       "config": {
        "linkText": "Export to plot.ly",
        "plotlyServerURL": "https://plot.ly",
        "showLink": false
       },
       "data": [
        {
         "mode": "markers",
         "type": "scatter",
         "uid": "79be19b5-7f32-4d9d-b8fd-104faf331aab",
         "x": [
          "2016-12-31T00:00:00.000",
          "2017-08-31T00:00:00.000",
          "2016-06-30T00:00:00.000",
          "2016-08-31T00:00:00.000",
          "2015-09-30T00:00:00.000",
          "2017-06-30T00:00:00.000",
          "2017-02-28T00:00:00.000",
          "2017-05-31T00:00:00.000",
          "2016-11-30T00:00:00.000",
          "2016-07-31T00:00:00.000",
          "2017-07-31T00:00:00.000",
          "2016-05-31T00:00:00.000",
          "2016-09-30T00:00:00.000",
          "2017-01-31T00:00:00.000",
          "2015-08-31T00:00:00.000",
          "2016-04-30T00:00:00.000",
          "2017-03-31T00:00:00.000",
          "2015-11-30T00:00:00.000",
          "2016-01-31T00:00:00.000",
          "2015-12-31T00:00:00.000",
          "2017-04-30T00:00:00.000",
          "2016-02-29T00:00:00.000",
          "2016-10-31T00:00:00.000",
          "2016-03-31T00:00:00.000",
          "2015-10-31T00:00:00.000"
         ],
         "y": [
          56182,
          9400,
          50574,
          50305,
          66609,
          39535,
          43094,
          34903,
          41054,
          51707,
          39627,
          48239,
          45590,
          49965,
          0,
          51430,
          44414,
          69664,
          84721,
          72238,
          41393,
          69224,
          42180,
          58697,
          67048
         ]
        }
       ],
       "layout": {
        "autosize": true,
        "xaxis": {
         "autorange": true,
         "range": [
          "2015-07-17 07:33:13.5795",
          "2017-10-14 16:26:46.4205"
         ],
         "type": "date"
        },
        "yaxis": {
         "autorange": true,
         "range": [
          -6205.678343949045,
          90926.67834394904
         ],
         "type": "linear"
        }
       }
      },
      "image/png": "[encoded data removed]",
      "text/html": [
       "<div id=\"08009ddf-1f0e-4459-abe3-ca7eea2aa256\" style=\"height: 525px; width: 100%;\" class=\"plotly-graph-div\"></div><script type=\"text/javascript\">require([\"plotly\"], function(Plotly) { window.PLOTLYENV=window.PLOTLYENV || {};window.PLOTLYENV.BASE_URL=\"https://plot.ly\";Plotly.newPlot(\"08009ddf-1f0e-4459-abe3-ca7eea2aa256\", [{\"mode\": \"markers\", \"x\": [\"2016-12-31T00:00:00.000\", \"2017-08-31T00:00:00.000\", \"2016-06-30T00:00:00.000\", \"2016-08-31T00:00:00.000\", \"2015-09-30T00:00:00.000\", \"2017-06-30T00:00:00.000\", \"2017-02-28T00:00:00.000\", \"2017-05-31T00:00:00.000\", \"2016-11-30T00:00:00.000\", \"2016-07-31T00:00:00.000\", \"2017-07-31T00:00:00.000\", \"2016-05-31T00:00:00.000\", \"2016-09-30T00:00:00.000\", \"2017-01-31T00:00:00.000\", \"2015-08-31T00:00:00.000\", \"2016-04-30T00:00:00.000\", \"2017-03-31T00:00:00.000\", \"2015-11-30T00:00:00.000\", \"2016-01-31T00:00:00.000\", \"2015-12-31T00:00:00.000\", \"2017-04-30T00:00:00.000\", \"2016-02-29T00:00:00.000\", \"2016-10-31T00:00:00.000\", \"2016-03-31T00:00:00.000\", \"2015-10-31T00:00:00.000\"], \"y\": [56182, 9400, 50574, 50305, 66609, 39535, 43094, 34903, 41054, 51707, 39627, 48239, 45590, 49965, 0, 51430, 44414, 69664, 84721, 72238, 41393, 69224, 42180, 58697, 67048], \"type\": \"scatter\", \"uid\": \"4d47a30c-fd02-4fa0-b520-e70b7e9664cb\"}], {}, {\"showLink\": false, \"linkText\": \"Export to plot.ly\", \"plotlyServerURL\": \"https://plot.ly\"})});</script><script type=\"text/javascript\">window.addEventListener(\"resize\", function(){window._Plotly.Plots.resize(document.getElementById(\"08009ddf-1f0e-4459-abe3-ca7eea2aa256\"));});</script>"
      ],
      "text/vnd.plotly.v1+html": [
       "<div id=\"08009ddf-1f0e-4459-abe3-ca7eea2aa256\" style=\"height: 525px; width: 100%;\" class=\"plotly-graph-div\"></div><script type=\"text/javascript\">require([\"plotly\"], function(Plotly) { window.PLOTLYENV=window.PLOTLYENV || {};window.PLOTLYENV.BASE_URL=\"https://plot.ly\";Plotly.newPlot(\"08009ddf-1f0e-4459-abe3-ca7eea2aa256\", [{\"mode\": \"markers\", \"x\": [\"2016-12-31T00:00:00.000\", \"2017-08-31T00:00:00.000\", \"2016-06-30T00:00:00.000\", \"2016-08-31T00:00:00.000\", \"2015-09-30T00:00:00.000\", \"2017-06-30T00:00:00.000\", \"2017-02-28T00:00:00.000\", \"2017-05-31T00:00:00.000\", \"2016-11-30T00:00:00.000\", \"2016-07-31T00:00:00.000\", \"2017-07-31T00:00:00.000\", \"2016-05-31T00:00:00.000\", \"2016-09-30T00:00:00.000\", \"2017-01-31T00:00:00.000\", \"2015-08-31T00:00:00.000\", \"2016-04-30T00:00:00.000\", \"2017-03-31T00:00:00.000\", \"2015-11-30T00:00:00.000\", \"2016-01-31T00:00:00.000\", \"2015-12-31T00:00:00.000\", \"2017-04-30T00:00:00.000\", \"2016-02-29T00:00:00.000\", \"2016-10-31T00:00:00.000\", \"2016-03-31T00:00:00.000\", \"2015-10-31T00:00:00.000\"], \"y\": [56182, 9400, 50574, 50305, 66609, 39535, 43094, 34903, 41054, 51707, 39627, 48239, 45590, 49965, 0, 51430, 44414, 69664, 84721, 72238, 41393, 69224, 42180, 58697, 67048], \"type\": \"scatter\", \"uid\": \"4d47a30c-fd02-4fa0-b520-e70b7e9664cb\"}], {}, {\"showLink\": false, \"linkText\": \"Export to plot.ly\", \"plotlyServerURL\": \"https://plot.ly\"})});</script><script type=\"text/javascript\">window.addEventListener(\"resize\", function(){window._Plotly.Plots.resize(document.getElementById(\"08009ddf-1f0e-4459-abe3-ca7eea2aa256\"));});</script>"
      ]
     },
     "metadata": {},
     "output_type": "display_data"
    }
   ],
   "source": [
    "iplot([{'x': dates, 'y': totals, 'mode': 'markers'}])"
   ]
  },
  {
   "cell_type": "markdown",
   "metadata": {},
   "source": [
    "> Perhaps format by month number instead, and then delay talking about how we did this as a bonus."
   ]
  },
  {
   "cell_type": "code",
   "execution_count": null,
   "metadata": {},
   "outputs": [],
   "source": []
  }
 ],
 "metadata": {
  "kernelspec": {
   "display_name": "Python 3",
   "language": "python",
   "name": "python3"
  },
  "language_info": {
   "codemirror_mode": {
    "name": "ipython",
    "version": 3
   },
   "file_extension": ".py",
   "mimetype": "text/x-python",
   "name": "python",
   "nbconvert_exporter": "python",
   "pygments_lexer": "ipython3",
   "version": "3.7.0"
  }
 },
 "nbformat": 4,
 "nbformat_minor": 2
}
