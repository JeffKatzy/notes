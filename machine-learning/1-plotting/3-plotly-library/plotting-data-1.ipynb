{
 "cells": [
  {
   "cell_type": "markdown",
   "metadata": {},
   "source": [
    "### Introduction to Plotly"
   ]
  },
  {
   "cell_type": "markdown",
   "metadata": {},
   "source": [
    "A great tool for data visualization is called [Plotly](https://plot.ly/).  Let's get started."
   ]
  },
  {
   "cell_type": "markdown",
   "metadata": {},
   "source": [
    "This is a graph in plotly"
   ]
  },
  {
   "cell_type": "markdown",
   "metadata": {},
   "source": [
    "<img src=\"https://00e9e64bac827591f241ccdf1de7ab8f5a967d5edbb284d88f-apidata.googleusercontent.com/download/storage/v1/b/curriculum-assets/o/curriculum-assets.nosync%2Fmachine-learning%2F1-plotting%2F3-plotly-library%2Fplotly-two-traces.png?qk=AD5uMEu_8OfMV2xxdgd2Lb39135OGZwZkV-l6ZRXDqZW07l3m85I4SUX1OUPREmBchCMqS5oSebwpc58FowvIerj18SIHsowPvLEDhhspVV_AD2FwOdKrpGOaevansFGDA1GXal9hzcmIPiUmamPZ_S2x5m3UBy7QLlRWwOK3H4MaKaKhL-NiwIJs0qisYSMTqr-Ohtl0Lu0IX4UoTWfrTNa8850oOtKzuFPCAN8bs3lhN38Yh14hivn022jhlDk6bDAOWQThEohpa08Pc9eedc25NLqeiRLpVkCIroAa8M7o1ycU_kdXFr4MsAkvXOL8aKgzPnqPc0rfg2lT-v3jvbtPkxeSFZf-RMCvB4RURRGJE0q2RYchsocjcSk0mVAFu8bz9caMiYTFW6FjboOdBx4VJkWMicpaGAQkuHqUmVqywoV6sGn3N17oJKoXoXFl1odZ4tjPtkqA10FAUZTbznDqd0QLPbsIBbnv0dDajOQJ-RjwCV-A46Egke-iMoa7MNQcCRVYZd6h31E4_Y7mLtHE1c8pFChQc1NaEVhK_0DDkxl4gD1_M1ZLl7UjF3D6VYGjatTQkA6oghYADT6Ap9qdM34Tg4uJ24S8u9rbR_00cE2Wbvb3RMWsIFYoMj9ldarj0c-RLjG0P69Ny5sGDrqKlop3ID6Ahcdr_0rnkU-ZFTjgyHzBbP_9AXPHwe6eJciKVsOeOs5DysXLKiIbiuZUudZteHSTX0QftdIjMUj-LFABG1--MsJHJoBEmQ-MUvKbEDuvN97VfAsNxNe-w831hrjQD722kygkYf_U9XmkzpOVg1sc6W6WYM_l9tGHRJ7VXJLI6K_FxdgiOdXRDaXSgg5VaJ4YySDpKRlrz_qF56tYYIqKXwSco_xVnIZ78LAYxwEbZTX\" width=\"60%\"> "
   ]
  },
  {
   "cell_type": "markdown",
   "metadata": {},
   "source": [
    "### Understanding the components of our plot\n",
    "\n",
    "Now plotly can make graphs like the one above.\n",
    "\n",
    "Imagine that the this graph above is used to show the amount of money earned in the first, second, third and fourth month for a restaurant chain.  And imagine that the orange line represents the amount of money earned by a restaurant in Dallas TX, and the blue line represents the amount of money earned by the restaurant in Houston.  So this entire graph shows how the two restaurants are doing side by side.\n",
    "\n",
    "Now let's refer to the components of the graph the way that plotly does.   Plotly calls each of those blue and orange lines a **`trace`**.  We can have as many traces as we want, just as our restaurant chain could potentially have many more restaurants and we want a line for each.  Second, plotly calls that entire graph above a `figure`.  \n",
    "\n",
    "So, the takeaway here is that **a figure consists of a list of traces.**"
   ]
  }
 ],
 "metadata": {
  "kernelspec": {
   "display_name": "Python 3",
   "language": "python",
   "name": "python3"
  },
  "language_info": {
   "codemirror_mode": {
    "name": "ipython",
    "version": 3
   },
   "file_extension": ".py",
   "mimetype": "text/x-python",
   "name": "python",
   "nbconvert_exporter": "python",
   "pygments_lexer": "ipython3",
   "version": "3.7.3"
  }
 },
 "nbformat": 4,
 "nbformat_minor": 2
}
