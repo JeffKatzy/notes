{
 "cells": [
  {
   "cell_type": "code",
   "execution_count": null,
   "metadata": {},
   "outputs": [],
   "source": [
    "first_trace =  {'x': [0, 1, 2, 3, 4], 'y': [0, 4, 8, 12, 16]}\n",
    "second_trace =  {'x': [0, 1, 2, 3, 4], 'y': [0, 8, 16, 24, 32]}\n",
    "\n",
    "iplot([\n",
    "   first_trace, second_trace\n",
    "])"
   ]
  }
 ],
 "metadata": {
  "kernelspec": {
   "display_name": "Python 3",
   "language": "python",
   "name": "python3"
  },
  "language_info": {
   "codemirror_mode": {
    "name": "ipython",
    "version": 3
   },
   "file_extension": ".py",
   "mimetype": "text/x-python",
   "name": "python",
   "nbconvert_exporter": "python",
   "pygments_lexer": "ipython3",
   "version": "3.7.3"
  }
 },
 "nbformat": 4,
 "nbformat_minor": 2
}
