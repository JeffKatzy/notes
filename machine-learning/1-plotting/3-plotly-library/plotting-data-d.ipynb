{
 "cells": [
  {
   "cell_type": "markdown",
   "metadata": {},
   "source": [
    "Plotly connects each of our datapoints with a line by default.  However, if we want to just show the markers, we specify this in our trace dictionary with setting a key of `'mode'` equal to the value `'markers'`."
   ]
  },
  {
   "cell_type": "code",
   "execution_count": null,
   "metadata": {},
   "outputs": [],
   "source": [
    "first_trace =  {'x': [0, 1, 2, 3, 4], 'y': [0, 4, 8, 12, 16], 'mode': 'markers'}\n",
    "second_trace =  {'x': [0, 1, 2, 3, 4], 'y': [0, 8, 16, 24, 32], 'mode': 'markers'}\n",
    "iplot([\n",
    "   first_trace, second_trace\n",
    "])"
   ]
  }
 ],
 "metadata": {
  "kernelspec": {
   "display_name": "Python 3",
   "language": "python",
   "name": "python3"
  },
  "language_info": {
   "codemirror_mode": {
    "name": "ipython",
    "version": 3
   },
   "file_extension": ".py",
   "mimetype": "text/x-python",
   "name": "python",
   "nbconvert_exporter": "python",
   "pygments_lexer": "ipython3",
   "version": "3.7.3"
  }
 },
 "nbformat": 4,
 "nbformat_minor": 2
}
