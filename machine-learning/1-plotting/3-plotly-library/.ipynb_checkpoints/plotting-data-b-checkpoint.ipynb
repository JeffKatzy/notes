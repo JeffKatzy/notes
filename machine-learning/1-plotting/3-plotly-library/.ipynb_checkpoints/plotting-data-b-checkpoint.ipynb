{
 "cells": [
  {
   "cell_type": "markdown",
   "metadata": {},
   "source": [
    "Ah yes, an empty graph.  Let's look at the code again to make sense of it.\n",
    "\n",
    "```python\n",
    "iplot([\n",
    "    {}\n",
    "])\n",
    "\n",
    "```\n",
    "\n",
    "Remember our takeaway from above, **a figure is a list of traces**.  So that list right after the parentheses is our *figure* and the dictionary is a trace.  Because that dictionary is empty we don't see any lines on the screen.\n",
    "\n",
    "Let's change that.  We still need our figure, but this time inside of the figure, we'll use a trace with some data. This is the our new code."
   ]
  },
  {
   "cell_type": "markdown",
   "metadata": {},
   "source": [
    "```python\n",
    "trace =  {'x': [0, 1, 2, 3, 4], 'y': [0, 4, 8, 12, 16]}\n",
    "iplot([\n",
    "   trace\n",
    "])\n",
    "```"
   ]
  },
  {
   "cell_type": "markdown",
   "metadata": {},
   "source": [
    "As we can see, the trace variable is just a dictionary with keys `'x'` and `'y'`.  The `x` key points to a list of each of the x cooridinates for the corresponding points and the `y` key points to a list of the `y` coordinates.  "
   ]
  },
  {
   "cell_type": "markdown",
   "metadata": {},
   "source": [
    "Now let's create a figure with two traces.  This is easy enough.  Each trace is a dictionary.  And we make each trace an element in our list (which is for our figure).  This makes sense, as our figure is a list of traces.\n"
   ]
  },
  {
   "cell_type": "code",
   "execution_count": null,
   "metadata": {},
   "outputs": [],
   "source": [
    "first_trace =  {'x': [0, 1, 2, 3, 4], 'y': [0, 4, 8, 12, 16]}\n",
    "second_trace =  {'x': [0, 1, 2, 3, 4], 'y': [0, 8, 16, 24, 32]}\n",
    "\n",
    "iplot([\n",
    "   first_trace, second_trace\n",
    "])"
   ]
  }
 ],
 "metadata": {
  "kernelspec": {
   "display_name": "Python 3",
   "language": "python",
   "name": "python3"
  },
  "language_info": {
   "codemirror_mode": {
    "name": "ipython",
    "version": 3
   },
   "file_extension": ".py",
   "mimetype": "text/x-python",
   "name": "python",
   "nbconvert_exporter": "python",
   "pygments_lexer": "ipython3",
   "version": "3.7.3"
  }
 },
 "nbformat": 4,
 "nbformat_minor": 2
}
