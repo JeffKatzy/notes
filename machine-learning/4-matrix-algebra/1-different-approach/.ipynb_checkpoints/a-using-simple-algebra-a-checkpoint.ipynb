{
 "cells": [
  {
   "cell_type": "markdown",
   "metadata": {},
   "source": [
    "Let's return to our problem of predicting T-shirt sales."
   ]
  },
  {
   "cell_type": "markdown",
   "metadata": {},
   "source": [
    "|ad spending        | t-shirts           \n",
    "| ------------- |:-------------:| \n",
    "|    800        | 330  | \n",
    "|    1500        |780 | \n",
    "|    2000      | 1130 | \n",
    "|    3500      | 1310 | \n",
    "|    4000      | 1780 | "
   ]
  },
  {
   "cell_type": "code",
   "execution_count": 1,
   "metadata": {},
   "outputs": [],
   "source": [
    "inputs = [800, 1500, 2000, 3500, 4000]\n",
    "outcomes = [330, 780, 1130, 1310, 1780]"
   ]
  },
  {
   "cell_type": "markdown",
   "metadata": {},
   "source": [
    "Now let's just look at one of the rows of data."
   ]
  },
  {
   "cell_type": "markdown",
   "metadata": {},
   "source": [
    "|ad spending        | t-shirts           \n",
    "| ------------- |:-------------:| \n",
    "|    800        | 330  | "
   ]
  },
  {
   "cell_type": "markdown",
   "metadata": {},
   "source": [
    "When we do linear regression, really what we are trying to do is the following: \n",
    "\n",
    "> Find the impact of our **independent variable**, here ad-spending, on our **dependent variable** of t-shirts.  \n",
    "\n",
    "We've previously written this as an equation."
   ]
  },
  {
   "cell_type": "markdown",
   "metadata": {},
   "source": [
    "$m*800 = 300$ "
   ]
  },
  {
   "cell_type": "markdown",
   "metadata": {},
   "source": [
    "where:\n",
    "\n",
    "* $800$ is the amount of ad spending\n",
    "* $300$ is the related number of T shirts sold\n",
    "* $m$ is our coefficient - the impact ad spending has on T-shirts"
   ]
  },
  {
   "cell_type": "markdown",
   "metadata": {},
   "source": [
    "So this coefficient $m$ is an example of a parameter we try to solve for when perform linear regression.  \n",
    "\n",
    "When we only have one row of data, solving for $m$ is fairly straight-forward."
   ]
  },
  {
   "cell_type": "markdown",
   "metadata": {},
   "source": [
    "$m*800 = 300$ "
   ]
  },
  {
   "cell_type": "markdown",
   "metadata": {},
   "source": [
    "$ m * \\dfrac{800}{800} = \\dfrac{300}{800} $"
   ]
  },
  {
   "cell_type": "markdown",
   "metadata": {},
   "source": [
    "$m =  \\dfrac{300}{800} $"
   ]
  }
 ],
 "metadata": {
  "kernelspec": {
   "display_name": "Python 3",
   "language": "python",
   "name": "python3"
  },
  "language_info": {
   "codemirror_mode": {
    "name": "ipython",
    "version": 3
   },
   "file_extension": ".py",
   "mimetype": "text/x-python",
   "name": "python",
   "nbconvert_exporter": "python",
   "pygments_lexer": "ipython3",
   "version": "3.7.3"
  }
 },
 "nbformat": 4,
 "nbformat_minor": 2
}
