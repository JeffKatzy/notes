{
 "cells": [
  {
   "cell_type": "markdown",
   "metadata": {},
   "source": [
    "# Vector Addition "
   ]
  },
  {
   "cell_type": "markdown",
   "metadata": {},
   "source": [
    "### Our scenario"
   ]
  },
  {
   "cell_type": "markdown",
   "metadata": {},
   "source": [
    "Now that we have learned a little bit about multiplying vectors, let's learn about adding two vectors.  Let's explore adding vectors with the following scenario:\n",
    "\n",
    "Once again, we have already fit our linear regression model.  This time, we predict that we will sell:\n",
    "* One additional T-shirt for every dollar spent on advertising\n",
    "\n",
    "Sales spending is our budget for having salespeople walk around or store selling T-shirts. We predict that we will sell:\n",
    "* One additional T-shirt for every dollar spent on sales"
   ]
  },
  {
   "cell_type": "markdown",
   "metadata": {},
   "source": [
    "|ad spending    |sales spending    | \n",
    "| :-------------:|:-------------:|\n",
    "|    200        |800        |\n",
    "|    500        |600        |\n",
    "|    1000      | 700      | \n",
    "|    2000      | 300      | \n",
    "|    3000      | 100      | "
   ]
  },
  {
   "cell_type": "markdown",
   "metadata": {},
   "source": [
    "So we can write this as a set of linear expressions, where $x_1 = 1$, and $x_2 = 1$:\n",
    "\n",
    "$$200x_1 +  800x_2 $$\n",
    "$$500x_1 +  600x_2$$\n",
    "$$1000x_1 + 700x_2$$\n",
    "$$2000x_1 + 300x_2$$\n",
    "$$3000x_1 + 100x_2$$"
   ]
  },
  {
   "cell_type": "markdown",
   "metadata": {},
   "source": [
    "And with $x_1 = 1$ and $x_2 = 1$, reduces to the following:\n",
    "\n",
    "$$ 200 +  800 $$\n",
    "$$ 500 +  600$$\n",
    "$$ 1000 + 700$$\n",
    "$$ 2000 + 300$$\n",
    "$$ 3000 + 100$$"
   ]
  },
  {
   "cell_type": "markdown",
   "metadata": {},
   "source": [
    "Nice how that works out, isn't it.  Ok, let's begin to write these expressions as vectors:"
   ]
  },
  {
   "cell_type": "markdown",
   "metadata": {},
   "source": [
    "$\\begin{pmatrix}\n",
    "    200 \\\\\n",
    "    500 \\\\\n",
    "    1000 \\\\\n",
    "    2000 \\\\\n",
    "    3000 \\\\\n",
    "\\end{pmatrix}  + \\begin{pmatrix}\n",
    "    800 \\\\\n",
    "    600 \\\\\n",
    "    700 \\\\\n",
    "    300 \\\\\n",
    "    100\\\\\n",
    "\\end{pmatrix}$"
   ]
  },
  {
   "cell_type": "markdown",
   "metadata": {},
   "source": [
    "Ok, so we still don't know how to add up our vectors.  Let's tackle that now."
   ]
  }
 ],
 "metadata": {
  "kernelspec": {
   "display_name": "Python 3",
   "language": "python",
   "name": "python3"
  },
  "language_info": {
   "codemirror_mode": {
    "name": "ipython",
    "version": 3
   },
   "file_extension": ".py",
   "mimetype": "text/x-python",
   "name": "python",
   "nbconvert_exporter": "python",
   "pygments_lexer": "ipython3",
   "version": "3.7.3"
  }
 },
 "nbformat": 4,
 "nbformat_minor": 2
}
