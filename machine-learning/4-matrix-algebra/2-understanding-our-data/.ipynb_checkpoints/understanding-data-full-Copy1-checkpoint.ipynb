{
 "cells": [
  {
   "cell_type": "markdown",
   "metadata": {},
   "source": [
    "# Breaking down our data"
   ]
  },
  {
   "cell_type": "markdown",
   "metadata": {},
   "source": [
    "### Introduction"
   ]
  },
  {
   "cell_type": "markdown",
   "metadata": {},
   "source": [
    "Let's return to our problem of predicting T-shirt sales."
   ]
  },
  {
   "cell_type": "markdown",
   "metadata": {},
   "source": [
    "|ad spending        | t-shirts           \n",
    "| ------------- |:-------------:| \n",
    "|    800        | 330  | \n",
    "|    1500        |780 | \n",
    "|    2000      | 1130 | \n",
    "|    3500      | 1310 | \n",
    "|    4000      | 1780 | "
   ]
  },
  {
   "cell_type": "markdown",
   "metadata": {},
   "source": [
    "We have `ad spending` as our feature and our target variable is the number of T-shirts that are sold.  And, as we know, we can try to use ad spending to predict the number of T-shirts that are sold, by transforming the above into a system of linear equations, where we are trying to solve for our coefficient $x$ such that:"
   ]
  },
  {
   "cell_type": "markdown",
   "metadata": {},
   "source": [
    "$$800x = 330 $$\n",
    "$$1500x = 780 $$\n",
    "$$2000x = 1130 $$\n",
    "$$3500x = 1310 $$\n",
    "$$4000x = 1780$$"
   ]
  },
  {
   "cell_type": "markdown",
   "metadata": {},
   "source": [
    "And we can rewrite this system of linear equations as $ax = b$ where $a$ and $b$ are defined as the following:"
   ]
  },
  {
   "cell_type": "markdown",
   "metadata": {},
   "source": [
    "$a = \\begin{pmatrix}\n",
    "    800 \\\\\n",
    "    1500 \\\\\n",
    "    2000 \\\\\n",
    "    3500 \\\\\n",
    "    4000 \\\\\n",
    "\\end{pmatrix},  b =  \\begin{pmatrix}\n",
    "330   \\\\\n",
    "780 \\\\\n",
    "1130 \\\\\n",
    "1310 \\\\\n",
    "1780 \\\\\n",
    "\\end{pmatrix}$ "
   ]
  },
  {
   "cell_type": "markdown",
   "metadata": {},
   "source": [
    "Now both $a$ and $b$ are called vectors.  It's time to explore what this means."
   ]
  },
  {
   "cell_type": "markdown",
   "metadata": {},
   "source": [
    "## Vectors: The official introduction"
   ]
  },
  {
   "cell_type": "markdown",
   "metadata": {},
   "source": [
    "**Vectors** are an ordered list of numbers."
   ]
  },
  {
   "cell_type": "markdown",
   "metadata": {},
   "source": [
    "$a = \\begin{pmatrix}\n",
    "    800 \\\\\n",
    "    1500 \\\\\n",
    "    2000 \\\\\n",
    "    3500 \\\\\n",
    "    4000 \\\\\n",
    "\\end{pmatrix}$"
   ]
  },
  {
   "cell_type": "markdown",
   "metadata": {},
   "source": [
    "### Vector Notation"
   ]
  },
  {
   "cell_type": "markdown",
   "metadata": {},
   "source": [
    "Now you may have noticed that vectors in mathematics look pretty similar to a list in Python.  Well they are similar.  But one problem that we have with math and vectors, is that we miss some of the functionality that we get with list.  \n",
    "\n",
    "For example, we know how to inspect a list."
   ]
  },
  {
   "cell_type": "code",
   "execution_count": 2,
   "metadata": {},
   "outputs": [],
   "source": [
    "b = [800,1500,2000,3500,4000]"
   ]
  },
  {
   "cell_type": "markdown",
   "metadata": {},
   "source": [
    "We just call `b` in a cell."
   ]
  },
  {
   "cell_type": "code",
   "execution_count": 3,
   "metadata": {},
   "outputs": [
    {
     "data": {
      "text/plain": [
       "[800, 1500, 2000, 3500, 4000]"
      ]
     },
     "execution_count": 3,
     "metadata": {},
     "output_type": "execute_result"
    }
   ],
   "source": [
    "b"
   ]
  },
  {
   "cell_type": "markdown",
   "metadata": {},
   "source": [
    "However, in math, if we just reference the variable $x$, it may be confusing as to whether $x$ is defined as a vector, or a number, or something else.  To make this more clear, mathematicians can add some clarifying notation.  "
   ]
  },
  {
   "cell_type": "markdown",
   "metadata": {},
   "source": [
    "$ \\vec x $"
   ]
  },
  {
   "cell_type": "markdown",
   "metadata": {},
   "source": [
    "That little arrow above the variable $x$, identifies the variable $x$ as a vector, meaning that it represents a list of values, as opposed to say a single value.  Here is another way that we can specify that we are describing a vector.  "
   ]
  },
  {
   "cell_type": "markdown",
   "metadata": {},
   "source": [
    "$x \\in \\mathbb{R}^n$"
   ]
  },
  {
   "cell_type": "markdown",
   "metadata": {},
   "source": [
    "Let's break down these symbols.\n",
    "* **The $\\mathbb{R}$** \n",
    "    * indicates that all of the entries are **real numbers**\n",
    "    * Real numbers are just numbers, and that's what we'll be working with most of the time.  \n",
    "    * Just for comparison, let's look at a vector not of real numbers, but rather a vector of booleans.\n",
    "    * $ b = \\left< True, False, True, True, True \\right>$\n",
    "    \n",
    "    \n",
    "* The $n$ in $ \\mathbb{R}^n$ \n",
    "    * indicates the **length** or **rank** of the vector.  \n",
    "    * For example, if we want to describe a vector $c$ with five entries we can write $c \\in \\mathbb{R}^5$ .\n",
    "    \n",
    "* The $\\in$\n",
    "    * is read as element\n",
    "    * So for example when $c \\in \\mathbb{R}^3$ we read this as $c$ is an element of the real number space of dimension 3."
   ]
  },
  {
   "cell_type": "markdown",
   "metadata": {},
   "source": [
    "### Understanding vectors graphically"
   ]
  },
  {
   "cell_type": "code",
   "execution_count": 2,
   "metadata": {},
   "outputs": [
    {
     "ename": "SyntaxError",
     "evalue": "invalid syntax (<ipython-input-2-bfb006723621>, line 4)",
     "output_type": "error",
     "traceback": [
      "\u001b[0;36m  File \u001b[0;32m\"<ipython-input-2-bfb006723621>\"\u001b[0;36m, line \u001b[0;32m4\u001b[0m\n\u001b[0;31m    from graph-1 import plot, build_layout, vector_trace\u001b[0m\n\u001b[0m              ^\u001b[0m\n\u001b[0;31mSyntaxError\u001b[0m\u001b[0;31m:\u001b[0m invalid syntax\n"
     ]
    }
   ],
   "source": [
    "import plotly\n",
    "from plotly.offline import iplot, init_notebook_mode\n",
    "init_notebook_mode(connected=True)\n",
    "from graph-1 import plot, build_layout, vector_trace"
   ]
  },
  {
   "cell_type": "markdown",
   "metadata": {},
   "source": [
    "The idea of a \"real number space of dimension\" comes from a purely mathematical understanding of vectors.  It views each number in a vector as representing a number in a coordinate system.  So when we see: \n",
    " \n",
    "$c = \\begin{pmatrix}\n",
    "    1 \\\\\n",
    "\\end{pmatrix}$"
   ]
  },
  {
   "cell_type": "markdown",
   "metadata": {},
   "source": [
    "A mathematician would view this as:"
   ]
  },
  {
   "cell_type": "code",
   "execution_count": 76,
   "metadata": {},
   "outputs": [
    {
     "data": {
      "application/vnd.plotly.v1+json": {
       "config": {
        "linkText": "Export to plot.ly",
        "plotlyServerURL": "https://plot.ly",
        "showLink": false
       },
       "data": [
        {
         "mode": "lines+markers",
         "name": "",
         "text": "",
         "type": "scatter",
         "uid": "b03d9e5f-b155-4bab-9b9c-e66e65373b20",
         "x": [
          0,
          1
         ],
         "y": [
          0,
          0
         ]
        }
       ],
       "layout": {
        "autosize": true,
        "xaxis": {
         "range": [
          0,
          4
         ],
         "type": "linear"
        },
        "yaxis": {
         "range": [
          -0.5,
          0.5
         ],
         "showgrid": false,
         "showline": false,
         "showticklabels": false,
         "ticks": "",
         "type": "linear",
         "zeroline": true
        }
       }
      },
      "image/png": "[encoded data removed]",
      "text/html": [
       "<div>\n",
       "        \n",
       "        \n",
       "            <div id=\"c2ef9bef-859a-4107-a933-b0fdf2e92068\" class=\"plotly-graph-div\" style=\"height:525px; width:100%;\"></div>\n",
       "            <script type=\"text/javascript\">\n",
       "                require([\"plotly\"], function(Plotly) {\n",
       "                    window.PLOTLYENV=window.PLOTLYENV || {};\n",
       "                    window.PLOTLYENV.BASE_URL='https://plot.ly';\n",
       "                    \n",
       "                if (document.getElementById(\"c2ef9bef-859a-4107-a933-b0fdf2e92068\")) {\n",
       "                    Plotly.newPlot(\n",
       "                        'c2ef9bef-859a-4107-a933-b0fdf2e92068',\n",
       "                        [{\"mode\": \"lines+markers\", \"name\": \"\", \"text\": \"\", \"type\": \"scatter\", \"uid\": \"b03d9e5f-b155-4bab-9b9c-e66e65373b20\", \"x\": [0, 1], \"y\": [0, 0]}],\n",
       "                        {\"xaxis\": {\"range\": [0, 4]}, \"yaxis\": {\"range\": [-0.5, 0.5], \"showgrid\": false, \"showline\": false, \"showticklabels\": false, \"ticks\": \"\", \"zeroline\": true}},\n",
       "                        {\"showLink\": false, \"linkText\": \"Export to plot.ly\", \"plotlyServerURL\": \"https://plot.ly\", \"responsive\": true}\n",
       "                    ).then(function(){\n",
       "                            \n",
       "var gd = document.getElementById('c2ef9bef-859a-4107-a933-b0fdf2e92068');\n",
       "var x = new MutationObserver(function (mutations, observer) {{\n",
       "        var display = window.getComputedStyle(gd).display;\n",
       "        if (!display || display === 'none') {{\n",
       "            console.log([gd, 'removed!']);\n",
       "            Plotly.purge(gd);\n",
       "            observer.disconnect();\n",
       "        }}\n",
       "}});\n",
       "\n",
       "// Listen for the removal of the full notebook cells\n",
       "var notebookContainer = gd.closest('#notebook-container');\n",
       "if (notebookContainer) {{\n",
       "    x.observe(notebookContainer, {childList: true});\n",
       "}}\n",
       "\n",
       "// Listen for the clearing of the current output cell\n",
       "var outputEl = gd.closest('.output');\n",
       "if (outputEl) {{\n",
       "    x.observe(outputEl, {childList: true});\n",
       "}}\n",
       "\n",
       "                        })\n",
       "                };\n",
       "                });\n",
       "            </script>\n",
       "        </div>"
      ]
     },
     "metadata": {},
     "output_type": "display_data"
    }
   ],
   "source": [
    "trace = vector_trace([1])\n",
    "trace"
   ]
  },
  {
   "cell_type": "markdown",
   "metadata": {},
   "source": [
    "So it's just a line that begins at 0 and moves one unit in the x direction.  That's why we would describe the vector $c = \\begin{pmatrix}\n",
    "    1 \\\\\n",
    "\\end{pmatrix}$ as $c \\in \\mathbb{R}^1$, because $c$ is a vector that lies in our one dimensional space, the number line above."
   ]
  },
  {
   "cell_type": "markdown",
   "metadata": {},
   "source": [
    "Here's how we can view the vector\n",
    "$d = \\begin{pmatrix}\n",
    "    1 \\\\\n",
    "    4 \\\\\n",
    "\\end{pmatrix}$"
   ]
  },
  {
   "cell_type": "code",
   "execution_count": 82,
   "metadata": {},
   "outputs": [
    {
     "data": {
      "application/vnd.plotly.v1+json": {
       "config": {
        "linkText": "Export to plot.ly",
        "plotlyServerURL": "https://plot.ly",
        "showLink": false
       },
       "data": [
        {
         "mode": "lines+markers",
         "name": "",
         "text": "",
         "type": "scatter",
         "uid": "9354e605-dbeb-4271-89ee-2c6d9d5c85b4",
         "x": [
          0,
          1
         ],
         "y": [
          0,
          4
         ]
        }
       ],
       "layout": {
        "autosize": true,
        "xaxis": {
         "range": [
          0,
          4
         ],
         "type": "linear"
        },
        "yaxis": {
         "range": [
          0,
          5
         ],
         "type": "linear"
        }
       }
      },
      "image/png": "[encoded data removed]",
      "text/html": [
       "<div>\n",
       "        \n",
       "        \n",
       "            <div id=\"5614930e-7516-4f9f-8fa9-95e1fb758d5b\" class=\"plotly-graph-div\" style=\"height:525px; width:100%;\"></div>\n",
       "            <script type=\"text/javascript\">\n",
       "                require([\"plotly\"], function(Plotly) {\n",
       "                    window.PLOTLYENV=window.PLOTLYENV || {};\n",
       "                    window.PLOTLYENV.BASE_URL='https://plot.ly';\n",
       "                    \n",
       "                if (document.getElementById(\"5614930e-7516-4f9f-8fa9-95e1fb758d5b\")) {\n",
       "                    Plotly.newPlot(\n",
       "                        '5614930e-7516-4f9f-8fa9-95e1fb758d5b',\n",
       "                        [{\"mode\": \"lines+markers\", \"name\": \"\", \"text\": \"\", \"type\": \"scatter\", \"uid\": \"9354e605-dbeb-4271-89ee-2c6d9d5c85b4\", \"x\": [0, 1], \"y\": [0, 4]}],\n",
       "                        {\"xaxis\": {\"range\": [0, 4]}, \"yaxis\": {\"range\": [0, 5]}},\n",
       "                        {\"showLink\": false, \"linkText\": \"Export to plot.ly\", \"plotlyServerURL\": \"https://plot.ly\", \"responsive\": true}\n",
       "                    ).then(function(){\n",
       "                            \n",
       "var gd = document.getElementById('5614930e-7516-4f9f-8fa9-95e1fb758d5b');\n",
       "var x = new MutationObserver(function (mutations, observer) {{\n",
       "        var display = window.getComputedStyle(gd).display;\n",
       "        if (!display || display === 'none') {{\n",
       "            console.log([gd, 'removed!']);\n",
       "            Plotly.purge(gd);\n",
       "            observer.disconnect();\n",
       "        }}\n",
       "}});\n",
       "\n",
       "// Listen for the removal of the full notebook cells\n",
       "var notebookContainer = gd.closest('#notebook-container');\n",
       "if (notebookContainer) {{\n",
       "    x.observe(notebookContainer, {childList: true});\n",
       "}}\n",
       "\n",
       "// Listen for the clearing of the current output cell\n",
       "var outputEl = gd.closest('.output');\n",
       "if (outputEl) {{\n",
       "    x.observe(outputEl, {childList: true});\n",
       "}}\n",
       "\n",
       "                        })\n",
       "                };\n",
       "                });\n",
       "            </script>\n",
       "        </div>"
      ]
     },
     "metadata": {},
     "output_type": "display_data"
    }
   ],
   "source": [
    "trace = vector_trace([1, 4])\n",
    "layout = build_layout([0, 4], [0, 5])\n",
    "plot([trace], layout)"
   ]
  },
  {
   "cell_type": "markdown",
   "metadata": {},
   "source": [
    "So here to represent our vector $d = \\begin{pmatrix}\n",
    "    1 \\\\\n",
    "    4 \\\\\n",
    "\\end{pmatrix}$ we just move one in the x direction and four vertically, so we represent this in two dimensional space."
   ]
  },
  {
   "cell_type": "markdown",
   "metadata": {},
   "source": [
    "So now when you see something $x \\in \\mathbb{R}^3$, we can read this as $x$ is an element of the set of vectors that sits in three dimensional space."
   ]
  },
  {
   "cell_type": "markdown",
   "metadata": {},
   "source": [
    "### Vector Entries"
   ]
  },
  {
   "cell_type": "markdown",
   "metadata": {},
   "source": [
    "Now just like we have elements of a list, we also have elements of a vector.  More often, howeverr, we use the word *entries* to describe each component of our vector.  Below, we show the entries of a new vector $y$."
   ]
  },
  {
   "cell_type": "markdown",
   "metadata": {},
   "source": [
    "$y = \\begin{bmatrix}\n",
    "    40 \\\\\n",
    "    22 \\\\\n",
    "    85 \\\\\n",
    "    90 \\\\\n",
    "    76 \\\\\n",
    "\\end{bmatrix}$"
   ]
  },
  {
   "cell_type": "markdown",
   "metadata": {},
   "source": [
    "Just like we can specify an element in a list, with the index, we can do the same thing in a vector.  For example, if we wish to specify the number 40 in our vector, we can refer to it as $y_1$.  To specify the second entry, 22, we use the subscript $y_2$.  So notice that in mathematics, unlike in programming, our indices start at the number one, instead of zero."
   ]
  },
  {
   "cell_type": "markdown",
   "metadata": {},
   "source": [
    "### Summary"
   ]
  },
  {
   "cell_type": "markdown",
   "metadata": {},
   "source": [
    "In this lesson, we learned about vectors.  Vectors are an ordered list of values.  For clarity, we may write variables with an arrow to express that they represent a vector, $\\vec x$.  And we also may denote a vector $x$ as $x \\in \\mathbb{R}^n$ where $n$ is the number of entries.  Finally, we can refer to a specific entry in a vector with the notation $x_i$ where i refers to the index of an entry.  Unlike in programming, in math we begin with the index of 1 instead of 0. "
   ]
  }
 ],
 "metadata": {
  "kernelspec": {
   "display_name": "Python 3",
   "language": "python",
   "name": "python3"
  },
  "language_info": {
   "codemirror_mode": {
    "name": "ipython",
    "version": 3
   },
   "file_extension": ".py",
   "mimetype": "text/x-python",
   "name": "python",
   "nbconvert_exporter": "python",
   "pygments_lexer": "ipython3",
   "version": "3.7.3"
  }
 },
 "nbformat": 4,
 "nbformat_minor": 2
}
