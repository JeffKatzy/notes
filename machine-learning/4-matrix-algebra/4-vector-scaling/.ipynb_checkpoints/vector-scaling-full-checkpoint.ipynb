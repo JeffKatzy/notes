{
 "cells": [
  {
   "cell_type": "markdown",
   "metadata": {},
   "source": [
    "# Vector Scaling "
   ]
  },
  {
   "cell_type": "markdown",
   "metadata": {},
   "source": [
    "### Introduction"
   ]
  },
  {
   "cell_type": "markdown",
   "metadata": {},
   "source": [
    "Now there are two main operations that we perform in linear algebra, multiplication and adding.  Let's start by learning how to multiply a vector."
   ]
  },
  {
   "cell_type": "markdown",
   "metadata": {},
   "source": [
    "### Making predictions"
   ]
  },
  {
   "cell_type": "markdown",
   "metadata": {},
   "source": [
    "Let's assume that we have **already performed linear regression**.  And through linear regression analysis, we determined that \n",
    "   * For every dollar spent on advertising, we sell two T-shirts."
   ]
  },
  {
   "cell_type": "markdown",
   "metadata": {},
   "source": [
    "The marketing department has asked us to determine the number of T-shirts that will be sold with the following ad budgets:"
   ]
  },
  {
   "cell_type": "markdown",
   "metadata": {},
   "source": [
    "|ad spending    | \n",
    "| :-------------: |\n",
    "|    200        |\n",
    "|    500        |\n",
    "|    1000      | \n",
    "|    2000      | \n",
    "|    3000      | "
   ]
  },
  {
   "cell_type": "markdown",
   "metadata": {},
   "source": [
    "Now remember that we believe that ad spending multiplied by some number equals the number of T-shirts sold.  So when we try to predict the number of T-shirts sold we write it as the following:\n",
    "\n",
    "$$200x $$\n",
    "$$500x $$\n",
    "$$1000x$$\n",
    "$$2000x  $$\n",
    "$$3000x $$"
   ]
  },
  {
   "cell_type": "markdown",
   "metadata": {},
   "source": [
    "And because for every dollar on ad spending sold we then sell two t-shirts, we let **$x = 2$**. So we have:"
   ]
  },
  {
   "cell_type": "markdown",
   "metadata": {},
   "source": [
    "$$200*2 = 1600$$\n",
    "$$500*2 = 3000$$\n",
    "$$1000*2 = 4000 $$\n",
    "$$2000*2 = 7500 $$\n",
    "$$3000*2 = 4000 $$"
   ]
  },
  {
   "cell_type": "markdown",
   "metadata": {},
   "source": [
    "Now we have our predictions for each of the ad budgets requested."
   ]
  },
  {
   "cell_type": "markdown",
   "metadata": {},
   "source": [
    "### What's the problem?"
   ]
  },
  {
   "cell_type": "markdown",
   "metadata": {},
   "source": [
    "To perform calculate the above, we had to perform five separate operations.  But remember, when first articulated what we were doing, we described it more abstractly:\n",
    "   * Multiply our set of numbers by two.  \n",
    "\n",
    "*Vectors allow us to stay in this higher level of abstraction.*  We simply treat each of our ad spend feature variables as a vector, and then we can rewrite the above like so."
   ]
  },
  {
   "cell_type": "markdown",
   "metadata": {},
   "source": [
    "$2* \\begin{pmatrix}\n",
    "    200 \\\\\n",
    "    500 \\\\\n",
    "    1000 \\\\\n",
    "    2000 \\\\\n",
    "    3000 \\\\\n",
    "\\end{pmatrix} = \\begin{pmatrix}\n",
    "    2* 200 \\\\\n",
    "    2*500 \\\\\n",
    "    2*1000 \\\\\n",
    "    2*2000 \\\\\n",
    "    2*3000 \\\\\n",
    "\\end{pmatrix} = \\begin{pmatrix}\n",
    "    400 \\\\\n",
    "    500 \\\\\n",
    "    1000 \\\\\n",
    "    2000 \\\\\n",
    "    3000 \\\\\n",
    "\\end{pmatrix} $\n"
   ]
  },
  {
   "cell_type": "markdown",
   "metadata": {},
   "source": [
    "So by using vectors, we can even perform our so that it reflects our thinking: \n",
    "* multiply the vector of advertising budgets by two, becomes: "
   ]
  },
  {
   "cell_type": "markdown",
   "metadata": {},
   "source": [
    "$2 * \\begin{pmatrix}\n",
    "    200 \\\\\n",
    "    500 \\\\\n",
    "    1000 \\\\\n",
    "    2000 \\\\\n",
    "    3000 \\\\\n",
    "\\end{pmatrix} $"
   ]
  },
  {
   "cell_type": "markdown",
   "metadata": {},
   "source": [
    "We see that numpy allows us to stay at this same level of abstraction:"
   ]
  },
  {
   "cell_type": "code",
   "execution_count": 3,
   "metadata": {},
   "outputs": [
    {
     "data": {
      "text/plain": [
       "array([ 400, 1000, 2000, 4000, 6000])"
      ]
     },
     "execution_count": 3,
     "metadata": {},
     "output_type": "execute_result"
    }
   ],
   "source": [
    "import numpy as np\n",
    "a = np.array([200, 500, 1000, 2000, 3000])\n",
    "a*2"
   ]
  },
  {
   "cell_type": "markdown",
   "metadata": {},
   "source": [
    "Another take away from the above is: \n",
    "   * *A number multiplied by a vector, returns to us a vector of the same length as the original.*   \n",
    "   * And it's calculated out multiplying each entry in a vector by that number."
   ]
  },
  {
   "cell_type": "markdown",
   "metadata": {},
   "source": [
    "### Vector multiplication graphically"
   ]
  },
  {
   "cell_type": "markdown",
   "metadata": {},
   "source": [
    "Now multiplying a vector by a number is called scaling the vector.  And in fact, numbers in linear algebra are generally referred to as *scalars*.  To understand why, we need to move back to a visual understanding of what occurs.  Doing so will also reinforce the idea of vector scalar multiplication more generally.\n",
    "\n",
    "Let's let narrow down our observations to two ad budgets."
   ]
  },
  {
   "cell_type": "markdown",
   "metadata": {},
   "source": [
    "|ad spending    | \n",
    "| :-------------: |\n",
    "|    200        |\n",
    "|    500        | "
   ]
  },
  {
   "cell_type": "markdown",
   "metadata": {},
   "source": [
    "Which translates to the following vector:"
   ]
  },
  {
   "cell_type": "markdown",
   "metadata": {},
   "source": [
    "$$ a= \\begin{pmatrix}\n",
    "    200 \\\\\n",
    "    500 \\\\\n",
    "\\end{pmatrix}$$"
   ]
  },
  {
   "cell_type": "code",
   "execution_count": 5,
   "metadata": {},
   "outputs": [
    {
     "data": {
      "text/html": [
       "        <script type=\"text/javascript\">\n",
       "        window.PlotlyConfig = {MathJaxConfig: 'local'};\n",
       "        if (window.MathJax) {MathJax.Hub.Config({SVG: {font: \"STIX-Web\"}});}\n",
       "        if (typeof require !== 'undefined') {\n",
       "        require.undef(\"plotly\");\n",
       "        requirejs.config({\n",
       "            paths: {\n",
       "                'plotly': ['https://cdn.plot.ly/plotly-latest.min']\n",
       "            }\n",
       "        });\n",
       "        require(['plotly'], function(Plotly) {\n",
       "            window._Plotly = Plotly;\n",
       "        });\n",
       "        }\n",
       "        </script>\n",
       "        "
      ]
     },
     "metadata": {},
     "output_type": "display_data"
    },
    {
     "data": {
      "text/plain": [
       "'https://plot.ly/~JeffKatzy/215'"
      ]
     },
     "execution_count": 5,
     "metadata": {},
     "output_type": "execute_result"
    }
   ],
   "source": [
    "from graph import plot\n",
    "import plotly.plotly as py\n",
    "\n",
    "trace1 =dict(mode='lines+markers', x=[0, 1600], y=[0, 3000], name = '2*a', line=dict(width=1))\n",
    "trace =dict(mode='lines+markers', x=[0, 800], y=[0, 1500], name = 'a',line = dict(width = 2))\n",
    "trace2 =dict(mode='lines+markers', x=[0, 400], y=[0, 750], name = '1/2*a', line=dict(width=3))\n",
    "py.plot([trace2, trace, trace1], {'xaxis': {'range': [0, 2000]}, 'yaxis': {'range': [0, 3500]}})"
   ]
  },
  {
   "cell_type": "markdown",
   "metadata": {},
   "source": [
    "Above, \n",
    "* the orange line is the original vector, $ a= \\begin{pmatrix}\n",
    "    200 \\\\\n",
    "    500 \\\\\n",
    "\\end{pmatrix}$\n",
    "* The green line is the vector $2a$\n",
    "\n",
    "* The blue line is the vector $\\frac{1}{2}a$"
   ]
  },
  {
   "cell_type": "markdown",
   "metadata": {},
   "source": [
    "So we see the following in mulitplying a vector by a scalar, \n",
    "1. The vector stays pointing the same direction and \n",
    "2. The multiplication just stretches or shrinks the vector proportionally in each direction.  \n",
    "\n",
    "To accomplish this, we multiply each component of the vector by the same number."
   ]
  },
  {
   "cell_type": "markdown",
   "metadata": {},
   "source": [
    "### Summary"
   ]
  },
  {
   "cell_type": "markdown",
   "metadata": {},
   "source": [
    "In this lesson we learned how to perform scalar multiplication of a vector.  We saw that we perform scalar multiplication by multiplying each entry in the vector, which returns a vector of the same length of the original."
   ]
  },
  {
   "cell_type": "code",
   "execution_count": 4,
   "metadata": {},
   "outputs": [
    {
     "data": {
      "text/plain": [
       "array([ 400, 1000, 2000, 4000, 6000])"
      ]
     },
     "execution_count": 4,
     "metadata": {},
     "output_type": "execute_result"
    }
   ],
   "source": [
    "import numpy as np\n",
    "a = np.array([200, 500, 1000, 2000, 3000])\n",
    "a*2"
   ]
  },
  {
   "cell_type": "markdown",
   "metadata": {},
   "source": [
    "We also saw that, visually, scalar multiplication simply shrinks or stretches the length of a vector, with the vector maintiaining the same direction as the original vector."
   ]
  }
 ],
 "metadata": {
  "kernelspec": {
   "display_name": "Python 3",
   "language": "python",
   "name": "python3"
  },
  "language_info": {
   "codemirror_mode": {
    "name": "ipython",
    "version": 3
   },
   "file_extension": ".py",
   "mimetype": "text/x-python",
   "name": "python",
   "nbconvert_exporter": "python",
   "pygments_lexer": "ipython3",
   "version": "3.7.3"
  }
 },
 "nbformat": 4,
 "nbformat_minor": 2
}
