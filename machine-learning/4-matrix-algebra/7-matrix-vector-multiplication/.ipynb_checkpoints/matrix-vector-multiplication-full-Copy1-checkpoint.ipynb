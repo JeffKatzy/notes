{
 "cells": [
  {
   "cell_type": "markdown",
   "metadata": {},
   "source": [
    "### Our Scenario with Matrices"
   ]
  },
  {
   "cell_type": "markdown",
   "metadata": {},
   "source": [
    "Once again, we have already fit our linear regression model.  This time, we predict that we will sell:\n",
    "* **.35 additional T-shirts** for every dollar spent on advertising\n",
    "\n",
    "Sales spending is our budget for having salespeople walk around or store selling T-shirts. We predict that we will sell:\n",
    "* **.6 additional T-shirts** for every dollar spent on sales"
   ]
  },
  {
   "cell_type": "markdown",
   "metadata": {},
   "source": [
    "The marketing department would like us to predict the number of T-shirts that will be sold if any of the following mixes of spending on advertising and sales people are pursued."
   ]
  },
  {
   "cell_type": "markdown",
   "metadata": {},
   "source": [
    "|ad spending    |sales spending    | \n",
    "| :-------------:|:-------------:|\n",
    "|    200        |800        |\n",
    "|    500        |600        |\n",
    "|    1000      | 700      | \n",
    "|    2000      | 300      | \n",
    "|    3000      | 100      | "
   ]
  },
  {
   "cell_type": "markdown",
   "metadata": {},
   "source": [
    "$ A = \\begin{pmatrix}\n",
    "    200 & 800 \\\\\n",
    "    500 & 600\\\\\n",
    "    1000 & 700\\\\\n",
    "    2000 & 300\\\\\n",
    "    3000 & 100\\\\\n",
    "\\end{pmatrix}$"
   ]
  },
  {
   "cell_type": "markdown",
   "metadata": {},
   "source": [
    "Below we let our coefficients equal $.35$ and $.6$, as this is what we calculated when we performed our linear regression model.  So this translates into the following expressions."
   ]
  },
  {
   "cell_type": "markdown",
   "metadata": {},
   "source": [
    "$$200*.35 + .6*800 $$\n",
    "\n",
    "$$500*.35 + .6*600$$\n",
    "\n",
    "$$1000*.35 + .6*700 $$\n",
    "\n",
    "$$2000*.35 + .6*300 $$\n",
    "\n",
    "$$3000*.35 + .6*100 $$"
   ]
  },
  {
   "cell_type": "markdown",
   "metadata": {},
   "source": [
    "Next, we need to see how to write these expressions using our matrix that we defined above."
   ]
  },
  {
   "cell_type": "markdown",
   "metadata": {},
   "source": [
    "### Multiplication with matrices"
   ]
  },
  {
   "cell_type": "markdown",
   "metadata": {},
   "source": [
    "We would like to translate the system of equations to use matrices.  This is our system of equations."
   ]
  },
  {
   "cell_type": "markdown",
   "metadata": {},
   "source": [
    "$$200*.35 + .6*800 $$\n",
    "\n",
    "$$500*.35 + .6*600$$\n",
    "\n",
    "$$1000*.35 + .6*700 $$\n",
    "\n",
    "$$2000*.35 + .6*300 $$\n",
    "\n",
    "$$3000*.35 + .6*100 $$"
   ]
  },
  {
   "cell_type": "markdown",
   "metadata": {},
   "source": [
    "And we can represent our features variables as the following matrix."
   ]
  },
  {
   "cell_type": "markdown",
   "metadata": {},
   "source": [
    "$ A = \\begin{pmatrix}\n",
    "    200 & 800 \\\\\n",
    "    500 & 600\\\\\n",
    "    1000 & 700\\\\\n",
    "    2000 & 300\\\\\n",
    "    3000 & 100\\\\\n",
    "\\end{pmatrix}$"
   ]
  },
  {
   "cell_type": "markdown",
   "metadata": {},
   "source": [
    "Now, what we would like to do is multiply the first column of matrix A by .35, and the second column by .6.  We can accomplish this with the following.  First we create a new vector to represent our feature variables, .35 and .6."
   ]
  },
  {
   "cell_type": "markdown",
   "metadata": {},
   "source": [
    "$x = \\begin{pmatrix}\n",
    "    .35 \\\\ .6 \n",
    "\\end{pmatrix} $"
   ]
  },
  {
   "cell_type": "markdown",
   "metadata": {},
   "source": [
    "Then we multiply our matrix A by our vector $x$."
   ]
  },
  {
   "cell_type": "markdown",
   "metadata": {},
   "source": [
    "$A \\cdot x =  \\begin{pmatrix}\n",
    "    200 & 800 \\\\\n",
    "    500 & 600\\\\\n",
    "    1000 & 700\\\\\n",
    "    2000 & 300\\\\\n",
    "    3000 & 100\\\\\n",
    "\\end{pmatrix} \\cdot \\begin{pmatrix}\n",
    "    .35 \\\\ .6 \n",
    "\\end{pmatrix} $"
   ]
  },
  {
   "cell_type": "markdown",
   "metadata": {},
   "source": [
    "Doing so, is equivalent to the following:"
   ]
  },
  {
   "cell_type": "markdown",
   "metadata": {},
   "source": [
    "$ A \\cdot x =  \\begin{pmatrix}\n",
    "    200 & 800 \\\\\n",
    "    500 & 600\\\\\n",
    "    1000 & 700\\\\\n",
    "    2000 & 300\\\\\n",
    "    3000 & 100\\\\\n",
    "\\end{pmatrix} \\cdot \\begin{pmatrix}\n",
    "    .35 \\\\ .6 \n",
    "\\end{pmatrix} = .35* \\begin{pmatrix}\n",
    "    200  \\\\\n",
    "    500  \\\\\n",
    "    1000 \\\\\n",
    "    2000 \\\\ \n",
    "    3000 \\\\ \n",
    "\\end{pmatrix} + .6* \\begin{pmatrix}\n",
    "     800 \\\\\n",
    "     600 \\\\\n",
    "     700 \\\\\n",
    "     300 \\\\ \n",
    "     100 \\\\ \n",
    "\\end{pmatrix} $\n",
    "\n"
   ]
  },
  {
   "cell_type": "markdown",
   "metadata": {},
   "source": [
    "Which is precisely what we want.  We want to multiply our first vector of feature variables by our first coefficient, and our second vector of feature variables by the second."
   ]
  },
  {
   "cell_type": "markdown",
   "metadata": {},
   "source": [
    "### Proving it with code"
   ]
  },
  {
   "cell_type": "markdown",
   "metadata": {},
   "source": [
    "Let's walk through these steps with code.  "
   ]
  },
  {
   "cell_type": "code",
   "execution_count": 73,
   "metadata": {},
   "outputs": [
    {
     "data": {
      "text/plain": [
       "array([ 550.,  535.,  770.,  880., 1110.])"
      ]
     },
     "execution_count": 73,
     "metadata": {},
     "output_type": "execute_result"
    }
   ],
   "source": [
    "import numpy as np\n",
    "x = np.array([.35, .6])\n",
    "A = np.array([\n",
    "    [200, 800],\n",
    "    [500, 600],\n",
    "    [1000, 700],\n",
    "    [2000, 300],\n",
    "    [3000, 100],\n",
    "                 ])\n",
    "A.dot(x)"
   ]
  },
  {
   "cell_type": "markdown",
   "metadata": {},
   "source": [
    "> We start off by declaring our matrix $A$ and our vector $x$ in numpy, and then we multiply them together with the `dot` method."
   ]
  },
  {
   "cell_type": "markdown",
   "metadata": {},
   "source": [
    "Now we claimed that $A \\cdot x$ breaks down into the following operations:"
   ]
  },
  {
   "cell_type": "markdown",
   "metadata": {},
   "source": [
    "$A \\cdot x =  \\begin{pmatrix}\n",
    "    200 & 800 \\\\\n",
    "    500 & 600\\\\\n",
    "    1000 & 700\\\\\n",
    "    2000 & 300\\\\\n",
    "    3000 & 100\\\\\n",
    "\\end{pmatrix} \\cdot \\begin{pmatrix}\n",
    "    .35 \\\\ .6 \n",
    "\\end{pmatrix} = .35* \\begin{pmatrix}\n",
    "    200  \\\\\n",
    "    500  \\\\\n",
    "    1000 \\\\\n",
    "    2000 \\\\ \n",
    "    3000 \\\\ \n",
    "\\end{pmatrix} + .6* \\begin{pmatrix}\n",
    "     800 \\\\\n",
    "     600 \\\\\n",
    "     700 \\\\\n",
    "     300 \\\\ \n",
    "     100 \\\\ \n",
    "\\end{pmatrix}  = \\begin{pmatrix}\n",
    "     70 \\\\\n",
    "     175 \\\\\n",
    "     350 \\\\\n",
    "     700 \\\\ \n",
    "     1050 \\\\ \n",
    "\\end{pmatrix} +  \\begin{pmatrix}\n",
    "     480 \\\\\n",
    "     360 \\\\\n",
    "     420 \\\\\n",
    "     180 \\\\ \n",
    "     60 \\\\ \n",
    "\\end{pmatrix} = \n",
    "\\begin{pmatrix}\n",
    "     550 \\\\\n",
    "     535 \\\\\n",
    "     770 \\\\\n",
    "     880 \\\\ \n",
    "     1010 \\\\ \n",
    "\\end{pmatrix}\n",
    "$"
   ]
  },
  {
   "cell_type": "markdown",
   "metadata": {},
   "source": [
    "Let's see these steps in code:\n",
    "\n",
    "#### Our first step: Split apart our matrices into columns"
   ]
  },
  {
   "cell_type": "code",
   "execution_count": 3,
   "metadata": {},
   "outputs": [
    {
     "data": {
      "text/plain": [
       "array([ 200,  500, 1000, 2000, 3000])"
      ]
     },
     "execution_count": 3,
     "metadata": {},
     "output_type": "execute_result"
    }
   ],
   "source": [
    "first_column = A[:, 0] \n",
    "first_column"
   ]
  },
  {
   "cell_type": "code",
   "execution_count": 4,
   "metadata": {},
   "outputs": [
    {
     "data": {
      "text/plain": [
       "array([800, 600, 700, 300, 100])"
      ]
     },
     "execution_count": 4,
     "metadata": {},
     "output_type": "execute_result"
    }
   ],
   "source": [
    "second_column = A[:, 1]\n",
    "second_column"
   ]
  },
  {
   "cell_type": "markdown",
   "metadata": {},
   "source": [
    "#### Second Step: Scale the two columns"
   ]
  },
  {
   "cell_type": "markdown",
   "metadata": {},
   "source": [
    "> We scale the first column by the first entry in the vector $x$, and scale the second column by the second entry in the vector $x$"
   ]
  },
  {
   "cell_type": "markdown",
   "metadata": {},
   "source": [
    "$.35* \\begin{pmatrix}\n",
    "    200  \\\\\n",
    "    500  \\\\\n",
    "    1000 \\\\\n",
    "    2000 \\\\ \n",
    "    3000 \\\\ \n",
    "\\end{pmatrix}$"
   ]
  },
  {
   "cell_type": "code",
   "execution_count": 8,
   "metadata": {},
   "outputs": [
    {
     "data": {
      "text/plain": [
       "array([  70.,  175.,  350.,  700., 1050.])"
      ]
     },
     "execution_count": 8,
     "metadata": {},
     "output_type": "execute_result"
    }
   ],
   "source": [
    "scaled_first = x[0]*first_column \n",
    "scaled_first"
   ]
  },
  {
   "cell_type": "markdown",
   "metadata": {},
   "source": [
    "And scale the `second_column` of A by our second coefficient, $.6$."
   ]
  },
  {
   "cell_type": "markdown",
   "metadata": {},
   "source": [
    "$.6* \\begin{pmatrix}\n",
    "     800 \\\\\n",
    "     600 \\\\\n",
    "     700 \\\\\n",
    "     300 \\\\ \n",
    "     100 \\\\ \n",
    "\\end{pmatrix}$ "
   ]
  },
  {
   "cell_type": "code",
   "execution_count": 10,
   "metadata": {},
   "outputs": [
    {
     "data": {
      "text/plain": [
       "array([480., 360., 420., 180.,  60.])"
      ]
     },
     "execution_count": 10,
     "metadata": {},
     "output_type": "execute_result"
    }
   ],
   "source": [
    "scaled_second = x[1]*second_column\n",
    "scaled_second"
   ]
  },
  {
   "cell_type": "markdown",
   "metadata": {},
   "source": [
    "### Step Three: Add the two scaled columns together."
   ]
  },
  {
   "cell_type": "code",
   "execution_count": 12,
   "metadata": {},
   "outputs": [
    {
     "data": {
      "text/plain": [
       "array([ 550.,  535.,  770.,  880., 1110.])"
      ]
     },
     "execution_count": 12,
     "metadata": {},
     "output_type": "execute_result"
    }
   ],
   "source": [
    "scaled_first + scaled_second"
   ]
  },
  {
   "cell_type": "markdown",
   "metadata": {},
   "source": [
    "Which is precisely what we calculated before.  "
   ]
  },
  {
   "cell_type": "code",
   "execution_count": 13,
   "metadata": {},
   "outputs": [
    {
     "data": {
      "text/plain": [
       "array([ 550.,  535.,  770.,  880., 1110.])"
      ]
     },
     "execution_count": 13,
     "metadata": {},
     "output_type": "execute_result"
    }
   ],
   "source": [
    "A.dot(x)"
   ]
  },
  {
   "cell_type": "markdown",
   "metadata": {},
   "source": [
    "Once, again, this is the entire process of vector matrix multiplication broken down."
   ]
  },
  {
   "cell_type": "markdown",
   "metadata": {},
   "source": [
    "$A \\cdot x =  \\begin{pmatrix}\n",
    "    200 & 800 \\\\\n",
    "    500 & 600\\\\\n",
    "    1000 & 700\\\\\n",
    "    2000 & 300\\\\\n",
    "    3000 & 100\\\\\n",
    "\\end{pmatrix} \\cdot \\begin{pmatrix}\n",
    "    .35 \\\\ .6 \n",
    "\\end{pmatrix} = .35* \\begin{pmatrix}\n",
    "    200  \\\\\n",
    "    500  \\\\\n",
    "    1000 \\\\\n",
    "    2000 \\\\ \n",
    "    3000 \\\\ \n",
    "\\end{pmatrix} + .6* \\begin{pmatrix}\n",
    "     800 \\\\\n",
    "     600 \\\\\n",
    "     700 \\\\\n",
    "     300 \\\\ \n",
    "     100 \\\\ \n",
    "\\end{pmatrix}  = \\begin{pmatrix}\n",
    "     70 \\\\\n",
    "     175 \\\\\n",
    "     350 \\\\\n",
    "     700 \\\\ \n",
    "     1050 \\\\ \n",
    "\\end{pmatrix} +  \\begin{pmatrix}\n",
    "     480 \\\\\n",
    "     360 \\\\\n",
    "     420 \\\\\n",
    "     180 \\\\ \n",
    "     60 \\\\ \n",
    "\\end{pmatrix} = \n",
    "\\begin{pmatrix}\n",
    "     550 \\\\\n",
    "     535 \\\\\n",
    "     770 \\\\\n",
    "     880 \\\\ \n",
    "     1010 \\\\ \n",
    "\\end{pmatrix}\n",
    "$"
   ]
  },
  {
   "cell_type": "markdown",
   "metadata": {},
   "source": [
    "So really matrix vector multiplication is just a combination of what we learned before - first scaling each vector and then adding the two vectors."
   ]
  },
  {
   "cell_type": "markdown",
   "metadata": {},
   "source": [
    "### For the visual mind"
   ]
  },
  {
   "cell_type": "markdown",
   "metadata": {},
   "source": [
    "Visually, and conceptually, matrix vector multiplication is just a combination of what we learned before: scaling  and then then adding.  Because it's easier to understand two-dimensional visualizations, let's just look at our first two combinations of ad spending and sales spending."
   ]
  },
  {
   "cell_type": "markdown",
   "metadata": {},
   "source": [
    "|ad spending    |sales spending    | \n",
    "| :-------------:|:-------------:|\n",
    "|    200        |800        |\n",
    "|    500        |600        |"
   ]
  },
  {
   "cell_type": "markdown",
   "metadata": {},
   "source": [
    "As we know, when we perform matrix vector multiplication, we are really just scaling two vectors and then adding them together."
   ]
  },
  {
   "cell_type": "markdown",
   "metadata": {},
   "source": [
    "$A \\cdot x =  \\begin{pmatrix}\n",
    "    200 & 800 \\\\\n",
    "    500 & 600\\\\\n",
    "\\end{pmatrix} \\cdot \\begin{pmatrix}\n",
    "    .35 \\\\ .6 \n",
    "\\end{pmatrix} = .35* \\begin{pmatrix}\n",
    "    200  \\\\\n",
    "    500  \\\\\n",
    "\\end{pmatrix} + .6* \\begin{pmatrix}\n",
    "     800 \\\\\n",
    "     600 \\\\\n",
    "\\end{pmatrix}  = \\begin{pmatrix}\n",
    "     70 \\\\\n",
    "     175 \\\\\n",
    "\\end{pmatrix} +  \\begin{pmatrix}\n",
    "     480 \\\\\n",
    "     360 \\\\\n",
    "\\end{pmatrix} = \n",
    "\\begin{pmatrix}\n",
    "     550 \\\\\n",
    "     535 \\\\\n",
    "\\end{pmatrix}\n",
    "$"
   ]
  },
  {
   "cell_type": "markdown",
   "metadata": {},
   "source": [
    "Which visually looks like the following:"
   ]
  },
  {
   "cell_type": "code",
   "execution_count": 45,
   "metadata": {},
   "outputs": [],
   "source": [
    "import numpy as np\n",
    "A = np.array([[200, 800],\n",
    "             [500, 600]])"
   ]
  },
  {
   "cell_type": "markdown",
   "metadata": {},
   "source": [
    "### Step one: First split apart the matrix into the respective columns"
   ]
  },
  {
   "cell_type": "code",
   "execution_count": 50,
   "metadata": {},
   "outputs": [
    {
     "data": {
      "text/plain": [
       "array([200, 500])"
      ]
     },
     "execution_count": 50,
     "metadata": {},
     "output_type": "execute_result"
    }
   ],
   "source": [
    "a1 = A[:, 0]\n",
    "a1"
   ]
  },
  {
   "cell_type": "code",
   "execution_count": 51,
   "metadata": {},
   "outputs": [
    {
     "data": {
      "text/plain": [
       "array([800, 600])"
      ]
     },
     "execution_count": 51,
     "metadata": {},
     "output_type": "execute_result"
    }
   ],
   "source": [
    "a2 = A[:, 1]\n",
    "a2"
   ]
  },
  {
   "cell_type": "markdown",
   "metadata": {},
   "source": [
    "$ a_1 = \\begin{pmatrix}\n",
    "    200  \\\\\n",
    "    500 \\\\\n",
    "\\end{pmatrix} ,$\n",
    "$ a_2 = \\begin{pmatrix}\n",
    "     800 \\\\\n",
    "     600\\\\\n",
    "\\end{pmatrix}\n",
    "$"
   ]
  },
  {
   "cell_type": "code",
   "execution_count": 75,
   "metadata": {},
   "outputs": [
    {
     "data": {
      "text/plain": [
       "'https://plot.ly/~JeffKatzy/219'"
      ]
     },
     "execution_count": 75,
     "metadata": {},
     "output_type": "execute_result"
    }
   ],
   "source": [
    "from graph import vector_trace, plot\n",
    "import plotly.plotly as py\n",
    "ad_spending_trace = vector_trace(a_1, name = 'ad spending')\n",
    "sales_spending_trace = vector_trace(a_2, name = 'sales spending')\n",
    "py.plot([ad_spending_trace, sales_spending_trace], layout = {'xaxis': {'range': [0, 850]}, 'yaxis': {'range': [0, 650]}})"
   ]
  },
  {
   "cell_type": "markdown",
   "metadata": {},
   "source": [
    "### Step Two: Then scale each of the vectors by the respective coefficients"
   ]
  },
  {
   "cell_type": "markdown",
   "metadata": {},
   "source": [
    "$.35*\\begin{pmatrix}\n",
    "    200  \\\\\n",
    "    500 \\\\\n",
    "\\end{pmatrix} = \\begin{pmatrix}\n",
    "    70  \\\\\n",
    "    175 \\\\\n",
    "\\end{pmatrix} $"
   ]
  },
  {
   "cell_type": "code",
   "execution_count": 53,
   "metadata": {},
   "outputs": [
    {
     "data": {
      "text/plain": [
       "array([ 70., 175.])"
      ]
     },
     "execution_count": 53,
     "metadata": {},
     "output_type": "execute_result"
    }
   ],
   "source": [
    "import numpy as np\n",
    "x = np.array([.35, .60])\n",
    "scaled_a1 = a1*x[0]\n",
    "scaled_a1"
   ]
  },
  {
   "cell_type": "markdown",
   "metadata": {},
   "source": [
    "$.60*\\begin{pmatrix}\n",
    "     800 \\\\\n",
    "     600\\\\\n",
    "\\end{pmatrix} = \\begin{pmatrix}\n",
    "     480 \\\\\n",
    "     360\\\\\n",
    "\\end{pmatrix}$    "
   ]
  },
  {
   "cell_type": "code",
   "execution_count": 55,
   "metadata": {},
   "outputs": [
    {
     "data": {
      "text/plain": [
       "array([480., 360.])"
      ]
     },
     "execution_count": 55,
     "metadata": {},
     "output_type": "execute_result"
    }
   ],
   "source": [
    "import numpy as np\n",
    "x = np.array([.35, .60])\n",
    "scaled_a2 = a2*x[1]\n",
    "scaled_a2"
   ]
  },
  {
   "cell_type": "code",
   "execution_count": 76,
   "metadata": {},
   "outputs": [
    {
     "data": {
      "text/plain": [
       "'https://plot.ly/~JeffKatzy/221'"
      ]
     },
     "execution_count": 76,
     "metadata": {},
     "output_type": "execute_result"
    }
   ],
   "source": [
    "scaled_ad_spending_trace = vector_trace(.35*a_1, name = 'scaled ad spending')\n",
    "scaled_sales_spending_trace = vector_trace(.6*a_2, name = 'scaled sales spending')\n",
    "py.plot([ad_spending_trace, sales_spending_trace, scaled_ad_spending_trace, scaled_sales_spending_trace], layout = {'xaxis': {'range': [0, 850]}, 'yaxis': {'range': [0, 650]}})"
   ]
  },
  {
   "cell_type": "markdown",
   "metadata": {},
   "source": [
    "> The green and red lines represent the scaled vectors.  Because each of the respective coefficients are less than one, we shrink the two vectors."
   ]
  },
  {
   "cell_type": "markdown",
   "metadata": {},
   "source": [
    "### Step Three: Add the two scaled vectors together"
   ]
  },
  {
   "cell_type": "markdown",
   "metadata": {},
   "source": [
    "$A \\cdot x =  \\begin{pmatrix}\n",
    "    200 & 800 \\\\\n",
    "    500 & 600\\\\\n",
    "\\end{pmatrix} \\cdot \\begin{pmatrix}\n",
    "    .35 \\\\ .6 \n",
    "\\end{pmatrix} = .35* \\begin{pmatrix}\n",
    "    200  \\\\\n",
    "    500  \\\\\n",
    "\\end{pmatrix} + .6* \\begin{pmatrix}\n",
    "     800 \\\\\n",
    "     600 \\\\\n",
    "\\end{pmatrix}  = \\begin{pmatrix}\n",
    "     70 \\\\\n",
    "     175 \\\\\n",
    "\\end{pmatrix} +  \\begin{pmatrix}\n",
    "     480 \\\\\n",
    "     360 \\\\\n",
    "\\end{pmatrix} \n",
    "$"
   ]
  },
  {
   "cell_type": "code",
   "execution_count": 77,
   "metadata": {},
   "outputs": [
    {
     "data": {
      "text/plain": [
       "'https://plot.ly/~JeffKatzy/223'"
      ]
     },
     "execution_count": 77,
     "metadata": {},
     "output_type": "execute_result"
    }
   ],
   "source": [
    "from graph import plus_trace\n",
    "ad_plus_sales = plus_trace(np.array([70, 175]), np.array([480, 360]), name = 'scaled sales spending')\n",
    "py.plot([scaled_ad_spending_trace, ad_plus_sales])"
   ]
  },
  {
   "cell_type": "markdown",
   "metadata": {},
   "source": [
    "### Summary"
   ]
  },
  {
   "cell_type": "markdown",
   "metadata": {},
   "source": [
    "In this lesson, we saw the components involved in vector matrix multiplication.  Vector matrix multiplication is performed by the following: \n",
    "\n",
    "1. Treating the columns of a matrix as independent columns, \n",
    "2. Scaling each column by the respective entry in the multiplying vector.  \n",
    "3. Adding the scaled columns together \n",
    "\n",
    "We used this to predict the T-shirt sales from different combinations of ad spending and sales person spending, after we had already determined the coefficients for each."
   ]
  }
 ],
 "metadata": {
  "kernelspec": {
   "display_name": "Python 3",
   "language": "python",
   "name": "python3"
  },
  "language_info": {
   "codemirror_mode": {
    "name": "ipython",
    "version": 3
   },
   "file_extension": ".py",
   "mimetype": "text/x-python",
   "name": "python",
   "nbconvert_exporter": "python",
   "pygments_lexer": "ipython3",
   "version": "3.7.3"
  }
 },
 "nbformat": 4,
 "nbformat_minor": 2
}
