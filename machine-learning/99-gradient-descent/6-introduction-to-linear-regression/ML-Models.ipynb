{
 "cells": [
  {
   "cell_type": "markdown",
   "metadata": {},
   "source": [
    "# Our first machine learning model"
   ]
  },
  {
   "cell_type": "markdown",
   "metadata": {},
   "source": [
    "> \"All models are wrong, but some are useful.\" \n",
    ">\n",
    "> - George Box (British Statistician)"
   ]
  },
  {
   "cell_type": "markdown",
   "metadata": {},
   "source": [
    "In the last lesson, we saw how to load and plot our data using the plotly.  We applied this to plotting the monthly revenue from Max's Wine Bar in Dallas.  In this lesson, we'll begin to make predictions for future data sets."
   ]
  },
  {
   "cell_type": "markdown",
   "metadata": {},
   "source": [
    "### Reviewing our Graph"
   ]
  },
  {
   "cell_type": "markdown",
   "metadata": {},
   "source": [
    "Let's start by reviewing our graph of monthly revenue from Max's diner."
   ]
  },
  {
   "cell_type": "markdown",
   "metadata": {},
   "source": []
  },
  {
   "cell_type": "markdown",
   "metadata": {},
   "source": [
    "import plotly.plotly as py\n",
    "\n",
    "\n",
    "scatter = {'x': months, 'y': revenues, 'mode': 'markers'}\n",
    "py.plot([scatter])"
   ]
  },
  {
   "cell_type": "markdown",
   "metadata": {},
   "source": [
    "Now it's generally easier to work with numbers instead of dates.  So let's change our months into \"Months since September 2015\".  So our first month would be month zero, and our second month October 2015 would be month 1, and so on.\n",
    "\n",
    "This is easy enough to do.  Because our dates are in order, and don't skip any values.  Instead of our current list of months for September 2015 through October 2017, we can just use the numbers 0 through 23."
   ]
  },
  {
   "cell_type": "code",
   "execution_count": 1,
   "metadata": {},
   "outputs": [],
   "source": [
    "months_since_september = list(range(0, 24))"
   ]
  },
  {
   "cell_type": "code",
   "execution_count": 2,
   "metadata": {},
   "outputs": [
    {
     "data": {
      "text/html": [
       "<script type=\"text/javascript\">window.PlotlyConfig = {MathJaxConfig: 'local'};</script><script type=\"text/javascript\">if (window.MathJax) {MathJax.Hub.Config({SVG: {font: \"STIX-Web\"}});}</script><script>requirejs.config({paths: { 'plotly': ['https://cdn.plot.ly/plotly-latest.min']},});if(!window._Plotly) {require(['plotly'],function(plotly) {window._Plotly=plotly;});}</script>"
      ],
      "text/vnd.plotly.v1+html": [
       "<script type=\"text/javascript\">window.PlotlyConfig = {MathJaxConfig: 'local'};</script><script type=\"text/javascript\">if (window.MathJax) {MathJax.Hub.Config({SVG: {font: \"STIX-Web\"}});}</script><script>requirejs.config({paths: { 'plotly': ['https://cdn.plot.ly/plotly-latest.min']},});if(!window._Plotly) {require(['plotly'],function(plotly) {window._Plotly=plotly;});}</script>"
      ]
     },
     "metadata": {},
     "output_type": "display_data"
    },
    {
     "ename": "NameError",
     "evalue": "name 'revenues' is not defined",
     "output_type": "error",
     "traceback": [
      "\u001b[0;31m---------------------------------------------------------------------------\u001b[0m",
      "\u001b[0;31mNameError\u001b[0m                                 Traceback (most recent call last)",
      "\u001b[0;32m<ipython-input-2-d9deeb22b0a1>\u001b[0m in \u001b[0;36m<module>\u001b[0;34m()\u001b[0m\n\u001b[1;32m      2\u001b[0m \u001b[0;32mfrom\u001b[0m \u001b[0mplotly\u001b[0m\u001b[0;34m.\u001b[0m\u001b[0moffline\u001b[0m \u001b[0;32mimport\u001b[0m \u001b[0miplot\u001b[0m\u001b[0;34m,\u001b[0m \u001b[0minit_notebook_mode\u001b[0m\u001b[0;34m\u001b[0m\u001b[0m\n\u001b[1;32m      3\u001b[0m \u001b[0minit_notebook_mode\u001b[0m\u001b[0;34m(\u001b[0m\u001b[0mconnected\u001b[0m\u001b[0;34m=\u001b[0m\u001b[0;32mTrue\u001b[0m\u001b[0;34m)\u001b[0m\u001b[0;34m\u001b[0m\u001b[0m\n\u001b[0;32m----> 4\u001b[0;31m \u001b[0mscatter\u001b[0m \u001b[0;34m=\u001b[0m \u001b[0;34m{\u001b[0m\u001b[0;34m'x'\u001b[0m\u001b[0;34m:\u001b[0m \u001b[0mmonths_since_september\u001b[0m\u001b[0;34m,\u001b[0m \u001b[0;34m'y'\u001b[0m\u001b[0;34m:\u001b[0m \u001b[0mrevenues\u001b[0m\u001b[0;34m,\u001b[0m \u001b[0;34m'mode'\u001b[0m\u001b[0;34m:\u001b[0m \u001b[0;34m'markers'\u001b[0m\u001b[0;34m}\u001b[0m\u001b[0;34m\u001b[0m\u001b[0m\n\u001b[0m\u001b[1;32m      5\u001b[0m \u001b[0miplot\u001b[0m\u001b[0;34m(\u001b[0m\u001b[0;34m[\u001b[0m\u001b[0mscatter\u001b[0m\u001b[0;34m]\u001b[0m\u001b[0;34m)\u001b[0m\u001b[0;34m\u001b[0m\u001b[0m\n",
      "\u001b[0;31mNameError\u001b[0m: name 'revenues' is not defined"
     ]
    }
   ],
   "source": [
    "import plotly\n",
    "from plotly.offline import iplot, init_notebook_mode\n",
    "init_notebook_mode(connected=True)\n",
    "scatter = {'x': months_since_september, 'y': revenues, 'mode': 'markers'}\n",
    "iplot([scatter])"
   ]
  },
  {
   "cell_type": "markdown",
   "metadata": {},
   "source": [
    "### Making our estimate"
   ]
  },
  {
   "cell_type": "markdown",
   "metadata": {},
   "source": [
    "Now the plot above shows a downward trend in the data.  And if we were to ask you what the revenue might look like in October 2017, you would probably think that we would continue the downward trend from before.  \n",
    "\n",
    "In machine learning, we do the same thing.  All we do is draw a line through our data."
   ]
  },
  {
   "cell_type": "code",
   "execution_count": null,
   "metadata": {},
   "outputs": [],
   "source": [
    "line = {'x': [months_since_september[0], months_since_september[-1]], 'y': [revenues[0], revenues[-1]]}\n",
    "\n",
    "scatter = {'x': months_since_september, 'y': revenues, 'mode': 'markers'}\n",
    "iplot([scatter, line])"
   ]
  },
  {
   "cell_type": "markdown",
   "metadata": {},
   "source": [
    "To draw this line above, we started with the second point, and ended through the second to last point.  We excluded the first and last points because they really don't fit the rest fo the data.  \n",
    "\n",
    "```python\n",
    "line = {'x': [sorted_dates[1], sorted_dates[-2]], 'y': [sorted_revenues[1], sorted_revenues[-2]]}\n",
    "```"
   ]
  },
  {
   "cell_type": "markdown",
   "metadata": {},
   "source": [
    "But don't worry too much about our formula for drawing a line.  We'll improve upon it later.\n",
    "\n",
    "The important thing, is that everything along this line is a prediction.  So the line's prediction for revenue in the month of May 31 is a little above 40k while the we can see that the actual value was 34.9 thousand.  "
   ]
  },
  {
   "cell_type": "markdown",
   "metadata": {},
   "source": [
    "### Improving our line"
   ]
  },
  {
   "cell_type": "markdown",
   "metadata": {},
   "source": [
    "Now after drawing our initial line, the next step is to draw a better line.  For example, maybe we should tilt our line down more, or shift the whole line up or down.\n",
    "\n",
    "If we just had a metric to determine what makes a line \"better\".  The way that we'll evaluate our line is to see the difference between what the line *predicted* for a data point, and the *actual* value."
   ]
  },
  {
   "cell_type": "code",
   "execution_count": 98,
   "metadata": {},
   "outputs": [],
   "source": [
    "from error import error_line_trace\n",
    "from linear_equations import build_regression_line\n",
    "from graph import m_b_trace, plot, m_b_data, trace_values"
   ]
  },
  {
   "cell_type": "code",
   "execution_count": 97,
   "metadata": {},
   "outputs": [],
   "source": [
    "y_values = m_b_data(-2487.34, 66609, list(range(0, 24)))['y']"
   ]
  },
  {
   "cell_type": "code",
   "execution_count": 107,
   "metadata": {},
   "outputs": [
    {
     "data": {
      "text/plain": [
       "23"
      ]
     },
     "execution_count": 107,
     "metadata": {},
     "output_type": "execute_result"
    }
   ],
   "source": [
    "list(range(0, 24))[-1]"
   ]
  },
  {
   "cell_type": "code",
   "execution_count": 105,
   "metadata": {},
   "outputs": [],
   "source": [
    "model = build_regression_line(list(range(0, 24)), revenues)"
   ]
  },
  {
   "cell_type": "code",
   "execution_count": 119,
   "metadata": {},
   "outputs": [],
   "source": [
    "error = error_line_trace(list(range(0, 24)), revenues, model['m'], model['b'], 23)\n",
    "error['mode'] = 'lines'\n",
    "error['textposition'] = 'top right'"
   ]
  },
  {
   "cell_type": "code",
   "execution_count": 122,
   "metadata": {},
   "outputs": [],
   "source": [
    "error['x'] = [months[-2], months[-2]]"
   ]
  },
  {
   "cell_type": "code",
   "execution_count": 125,
   "metadata": {},
   "outputs": [],
   "source": [
    "error['y'][0] = 39627"
   ]
  },
  {
   "cell_type": "code",
   "execution_count": 128,
   "metadata": {},
   "outputs": [],
   "source": [
    "error['y'][1] = 11887"
   ]
  },
  {
   "cell_type": "code",
   "execution_count": 129,
   "metadata": {},
   "outputs": [
    {
     "data": {
      "application/vnd.plotly.v1+json": {
       "config": {
        "linkText": "Export to plot.ly",
        "plotlyServerURL": "https://plot.ly",
        "showLink": false
       },
       "data": [
        {
         "mode": "markers",
         "type": "scatter",
         "uid": "90622fbe-e940-45e4-b0bc-e28293963d44",
         "x": [
          "2015-09-30T00:00:00.000",
          "2015-10-31T00:00:00.000",
          "2015-11-30T00:00:00.000",
          "2015-12-31T00:00:00.000",
          "2016-01-31T00:00:00.000",
          "2016-02-29T00:00:00.000",
          "2016-03-31T00:00:00.000",
          "2016-04-30T00:00:00.000",
          "2016-05-31T00:00:00.000",
          "2016-06-30T00:00:00.000",
          "2016-07-31T00:00:00.000",
          "2016-08-31T00:00:00.000",
          "2016-09-30T00:00:00.000",
          "2016-10-31T00:00:00.000",
          "2016-11-30T00:00:00.000",
          "2016-12-31T00:00:00.000",
          "2017-01-31T00:00:00.000",
          "2017-02-28T00:00:00.000",
          "2017-03-31T00:00:00.000",
          "2017-04-30T00:00:00.000",
          "2017-05-31T00:00:00.000",
          "2017-06-30T00:00:00.000",
          "2017-07-31T00:00:00.000",
          "2017-08-31T00:00:00.000"
         ],
         "y": [
          66609,
          67048,
          69664,
          72238,
          84721,
          69224,
          58697,
          51430,
          48239,
          50574,
          51707,
          50305,
          45590,
          42180,
          41054,
          56182,
          49965,
          43094,
          44414,
          41393,
          34903,
          39535,
          39627,
          9400
         ]
        },
        {
         "mode": "lines",
         "name": "data",
         "text": [],
         "type": "scatter",
         "uid": "004c3070-8996-47b9-9feb-94229584acf5",
         "x": [
          "2015-09-30T00:00:00.000",
          "2015-10-31T00:00:00.000",
          "2015-11-30T00:00:00.000",
          "2015-12-31T00:00:00.000",
          "2016-01-31T00:00:00.000",
          "2016-02-29T00:00:00.000",
          "2016-03-31T00:00:00.000",
          "2016-04-30T00:00:00.000",
          "2016-05-31T00:00:00.000",
          "2016-06-30T00:00:00.000",
          "2016-07-31T00:00:00.000",
          "2016-08-31T00:00:00.000",
          "2016-09-30T00:00:00.000",
          "2016-10-31T00:00:00.000",
          "2016-11-30T00:00:00.000",
          "2016-12-31T00:00:00.000",
          "2017-01-31T00:00:00.000",
          "2017-02-28T00:00:00.000",
          "2017-03-31T00:00:00.000",
          "2017-04-30T00:00:00.000",
          "2017-05-31T00:00:00.000",
          "2017-06-30T00:00:00.000",
          "2017-07-31T00:00:00.000",
          "2017-08-31T00:00:00.000"
         ],
         "y": [
          66609,
          64121.66,
          61634.32,
          59146.979999999996,
          56659.64,
          54172.3,
          51684.96,
          49197.619999999995,
          46710.28,
          44222.94,
          41735.6,
          39248.259999999995,
          36760.92,
          34273.58,
          31786.239999999998,
          29298.899999999994,
          26811.559999999998,
          24324.22,
          21836.879999999997,
          19349.539999999994,
          16862.199999999997,
          14374.86,
          11887.519999999997,
          9400.179999999993
         ]
        },
        {
         "marker": {
          "color": "red"
         },
         "mode": "lines",
         "name": "error at 23",
         "text": [
          "0.0"
         ],
         "textposition": "top right",
         "type": "scatter",
         "uid": "8cfcf403-326c-44de-b74d-c5fa0154d78d",
         "x": [
          "2017-07-31T00:00:00.000",
          "2017-07-31T00:00:00.000"
         ],
         "y": [
          39627,
          11887
         ]
        }
       ],
       "layout": {
        "autosize": true,
        "xaxis": {
         "autorange": true,
         "range": [
          "2015-08-17 00:42:00.1859",
          "2017-10-13 23:17:59.8141"
         ],
         "type": "date"
        },
        "yaxis": {
         "autorange": true,
         "range": [
          3882.856687898089,
          90238.1433121019
         ],
         "type": "linear"
        }
       }
      },
      "image/png": "[encoded data removed]",
      "text/html": [
       "<div id=\"530e8bbe-38fd-4cdd-8ab1-330a700ce74c\" style=\"height: 525px; width: 100%;\" class=\"plotly-graph-div\"></div><script type=\"text/javascript\">require([\"plotly\"], function(Plotly) { window.PLOTLYENV=window.PLOTLYENV || {};window.PLOTLYENV.BASE_URL=\"https://plot.ly\";Plotly.newPlot(\"530e8bbe-38fd-4cdd-8ab1-330a700ce74c\", [{\"mode\": \"markers\", \"x\": [\"2015-09-30T00:00:00.000\", \"2015-10-31T00:00:00.000\", \"2015-11-30T00:00:00.000\", \"2015-12-31T00:00:00.000\", \"2016-01-31T00:00:00.000\", \"2016-02-29T00:00:00.000\", \"2016-03-31T00:00:00.000\", \"2016-04-30T00:00:00.000\", \"2016-05-31T00:00:00.000\", \"2016-06-30T00:00:00.000\", \"2016-07-31T00:00:00.000\", \"2016-08-31T00:00:00.000\", \"2016-09-30T00:00:00.000\", \"2016-10-31T00:00:00.000\", \"2016-11-30T00:00:00.000\", \"2016-12-31T00:00:00.000\", \"2017-01-31T00:00:00.000\", \"2017-02-28T00:00:00.000\", \"2017-03-31T00:00:00.000\", \"2017-04-30T00:00:00.000\", \"2017-05-31T00:00:00.000\", \"2017-06-30T00:00:00.000\", \"2017-07-31T00:00:00.000\", \"2017-08-31T00:00:00.000\"], \"y\": [66609, 67048, 69664, 72238, 84721, 69224, 58697, 51430, 48239, 50574, 51707, 50305, 45590, 42180, 41054, 56182, 49965, 43094, 44414, 41393, 34903, 39535, 39627, 9400], \"type\": \"scatter\", \"uid\": \"49c71a27-924d-477b-907a-1595e393e537\"}, {\"mode\": \"lines\", \"name\": \"data\", \"text\": [], \"x\": [\"2015-09-30T00:00:00.000\", \"2015-10-31T00:00:00.000\", \"2015-11-30T00:00:00.000\", \"2015-12-31T00:00:00.000\", \"2016-01-31T00:00:00.000\", \"2016-02-29T00:00:00.000\", \"2016-03-31T00:00:00.000\", \"2016-04-30T00:00:00.000\", \"2016-05-31T00:00:00.000\", \"2016-06-30T00:00:00.000\", \"2016-07-31T00:00:00.000\", \"2016-08-31T00:00:00.000\", \"2016-09-30T00:00:00.000\", \"2016-10-31T00:00:00.000\", \"2016-11-30T00:00:00.000\", \"2016-12-31T00:00:00.000\", \"2017-01-31T00:00:00.000\", \"2017-02-28T00:00:00.000\", \"2017-03-31T00:00:00.000\", \"2017-04-30T00:00:00.000\", \"2017-05-31T00:00:00.000\", \"2017-06-30T00:00:00.000\", \"2017-07-31T00:00:00.000\", \"2017-08-31T00:00:00.000\"], \"y\": [66609.0, 64121.66, 61634.32, 59146.979999999996, 56659.64, 54172.3, 51684.96, 49197.619999999995, 46710.28, 44222.94, 41735.6, 39248.259999999995, 36760.92, 34273.58, 31786.239999999998, 29298.899999999994, 26811.559999999998, 24324.22, 21836.879999999997, 19349.539999999994, 16862.199999999997, 14374.86, 11887.519999999997, 9400.179999999993], \"type\": \"scatter\", \"uid\": \"8167226b-ad79-417e-823a-83dff66f6249\"}, {\"marker\": {\"color\": \"red\"}, \"mode\": \"lines\", \"name\": \"error at 23\", \"text\": [\"0.0\"], \"textposition\": \"top right\", \"x\": [\"2017-07-31T00:00:00.000\", \"2017-07-31T00:00:00.000\"], \"y\": [39627, 11887], \"type\": \"scatter\", \"uid\": \"7c207828-5890-4a8c-871f-96044c379e88\"}], {}, {\"showLink\": false, \"linkText\": \"Export to plot.ly\", \"plotlyServerURL\": \"https://plot.ly\"})});</script><script type=\"text/javascript\">window.addEventListener(\"resize\", function(){window._Plotly.Plots.resize(document.getElementById(\"530e8bbe-38fd-4cdd-8ab1-330a700ce74c\"));});</script>"
      ],
      "text/vnd.plotly.v1+html": [
       "<div id=\"530e8bbe-38fd-4cdd-8ab1-330a700ce74c\" style=\"height: 525px; width: 100%;\" class=\"plotly-graph-div\"></div><script type=\"text/javascript\">require([\"plotly\"], function(Plotly) { window.PLOTLYENV=window.PLOTLYENV || {};window.PLOTLYENV.BASE_URL=\"https://plot.ly\";Plotly.newPlot(\"530e8bbe-38fd-4cdd-8ab1-330a700ce74c\", [{\"mode\": \"markers\", \"x\": [\"2015-09-30T00:00:00.000\", \"2015-10-31T00:00:00.000\", \"2015-11-30T00:00:00.000\", \"2015-12-31T00:00:00.000\", \"2016-01-31T00:00:00.000\", \"2016-02-29T00:00:00.000\", \"2016-03-31T00:00:00.000\", \"2016-04-30T00:00:00.000\", \"2016-05-31T00:00:00.000\", \"2016-06-30T00:00:00.000\", \"2016-07-31T00:00:00.000\", \"2016-08-31T00:00:00.000\", \"2016-09-30T00:00:00.000\", \"2016-10-31T00:00:00.000\", \"2016-11-30T00:00:00.000\", \"2016-12-31T00:00:00.000\", \"2017-01-31T00:00:00.000\", \"2017-02-28T00:00:00.000\", \"2017-03-31T00:00:00.000\", \"2017-04-30T00:00:00.000\", \"2017-05-31T00:00:00.000\", \"2017-06-30T00:00:00.000\", \"2017-07-31T00:00:00.000\", \"2017-08-31T00:00:00.000\"], \"y\": [66609, 67048, 69664, 72238, 84721, 69224, 58697, 51430, 48239, 50574, 51707, 50305, 45590, 42180, 41054, 56182, 49965, 43094, 44414, 41393, 34903, 39535, 39627, 9400], \"type\": \"scatter\", \"uid\": \"49c71a27-924d-477b-907a-1595e393e537\"}, {\"mode\": \"lines\", \"name\": \"data\", \"text\": [], \"x\": [\"2015-09-30T00:00:00.000\", \"2015-10-31T00:00:00.000\", \"2015-11-30T00:00:00.000\", \"2015-12-31T00:00:00.000\", \"2016-01-31T00:00:00.000\", \"2016-02-29T00:00:00.000\", \"2016-03-31T00:00:00.000\", \"2016-04-30T00:00:00.000\", \"2016-05-31T00:00:00.000\", \"2016-06-30T00:00:00.000\", \"2016-07-31T00:00:00.000\", \"2016-08-31T00:00:00.000\", \"2016-09-30T00:00:00.000\", \"2016-10-31T00:00:00.000\", \"2016-11-30T00:00:00.000\", \"2016-12-31T00:00:00.000\", \"2017-01-31T00:00:00.000\", \"2017-02-28T00:00:00.000\", \"2017-03-31T00:00:00.000\", \"2017-04-30T00:00:00.000\", \"2017-05-31T00:00:00.000\", \"2017-06-30T00:00:00.000\", \"2017-07-31T00:00:00.000\", \"2017-08-31T00:00:00.000\"], \"y\": [66609.0, 64121.66, 61634.32, 59146.979999999996, 56659.64, 54172.3, 51684.96, 49197.619999999995, 46710.28, 44222.94, 41735.6, 39248.259999999995, 36760.92, 34273.58, 31786.239999999998, 29298.899999999994, 26811.559999999998, 24324.22, 21836.879999999997, 19349.539999999994, 16862.199999999997, 14374.86, 11887.519999999997, 9400.179999999993], \"type\": \"scatter\", \"uid\": \"8167226b-ad79-417e-823a-83dff66f6249\"}, {\"marker\": {\"color\": \"red\"}, \"mode\": \"lines\", \"name\": \"error at 23\", \"text\": [\"0.0\"], \"textposition\": \"top right\", \"x\": [\"2017-07-31T00:00:00.000\", \"2017-07-31T00:00:00.000\"], \"y\": [39627, 11887], \"type\": \"scatter\", \"uid\": \"7c207828-5890-4a8c-871f-96044c379e88\"}], {}, {\"showLink\": false, \"linkText\": \"Export to plot.ly\", \"plotlyServerURL\": \"https://plot.ly\"})});</script><script type=\"text/javascript\">window.addEventListener(\"resize\", function(){window._Plotly.Plots.resize(document.getElementById(\"530e8bbe-38fd-4cdd-8ab1-330a700ce74c\"));});</script>"
      ]
     },
     "metadata": {},
     "output_type": "display_data"
    }
   ],
   "source": [
    "line = trace_values(months, y_values, mode = 'lines')\n",
    "plot([scatter, line, error])"
   ]
  },
  {
   "cell_type": "code",
   "execution_count": 84,
   "metadata": {},
   "outputs": [],
   "source": [
    "x_values = list(range(0, 24))"
   ]
  },
  {
   "cell_type": "code",
   "execution_count": 82,
   "metadata": {},
   "outputs": [
    {
     "data": {
      "application/vnd.plotly.v1+json": {
       "config": {
        "linkText": "Export to plot.ly",
        "plotlyServerURL": "https://plot.ly",
        "showLink": false
       },
       "data": [
        {
         "mode": "markers",
         "type": "scatter",
         "uid": "1a115892-644e-415d-a3f1-3f42133ff844",
         "x": [
          "2015-09-30T00:00:00.000",
          "2015-10-31T00:00:00.000",
          "2015-11-30T00:00:00.000",
          "2015-12-31T00:00:00.000",
          "2016-01-31T00:00:00.000",
          "2016-02-29T00:00:00.000",
          "2016-03-31T00:00:00.000",
          "2016-04-30T00:00:00.000",
          "2016-05-31T00:00:00.000",
          "2016-06-30T00:00:00.000",
          "2016-07-31T00:00:00.000",
          "2016-08-31T00:00:00.000",
          "2016-09-30T00:00:00.000",
          "2016-10-31T00:00:00.000",
          "2016-11-30T00:00:00.000",
          "2016-12-31T00:00:00.000",
          "2017-01-31T00:00:00.000",
          "2017-02-28T00:00:00.000",
          "2017-03-31T00:00:00.000",
          "2017-04-30T00:00:00.000",
          "2017-05-31T00:00:00.000",
          "2017-06-30T00:00:00.000",
          "2017-07-31T00:00:00.000",
          "2017-08-31T00:00:00.000"
         ],
         "y": [
          66609,
          67048,
          69664,
          72238,
          84721,
          69224,
          58697,
          51430,
          48239,
          50574,
          51707,
          50305,
          45590,
          42180,
          41054,
          56182,
          49965,
          43094,
          44414,
          41393,
          34903,
          39535,
          39627,
          9400
         ]
        },
        {
         "mode": "lines",
         "name": "line function",
         "type": "scatter",
         "uid": "4176268f-a612-4901-8424-8e8b024daed9",
         "x": [
          0,
          1,
          2,
          3,
          4,
          5,
          6,
          7,
          8,
          9,
          10,
          11,
          12,
          13,
          14,
          15,
          16,
          17,
          18,
          19,
          20,
          21,
          22,
          23
         ],
         "y": [
          66609,
          64121.653,
          61634.306,
          59146.959,
          56659.612,
          54172.265,
          51684.918,
          49197.570999999996,
          46710.224,
          44222.87699999999,
          41735.53,
          39248.183,
          36760.835999999996,
          34273.489,
          31786.142,
          29298.795,
          26811.447999999997,
          24324.100999999995,
          21836.753999999994,
          19349.407,
          16862.059999999998,
          14374.712999999996,
          11887.365999999995,
          9400.018999999993
         ]
        }
       ],
       "layout": {
        "autosize": true,
        "xaxis": {
         "autorange": true,
         "range": [
          "1969-12-31 19:00",
          "2023-01-01"
         ],
         "type": "date"
        },
        "yaxis": {
         "autorange": true,
         "range": [
          3882.856687898089,
          90238.1433121019
         ],
         "type": "linear"
        }
       }
      },
      "image/png": "[encoded data removed]",
      "text/html": [
       "<div id=\"8fa6c8f5-360f-48bc-9148-a750508bff9e\" style=\"height: 525px; width: 100%;\" class=\"plotly-graph-div\"></div><script type=\"text/javascript\">require([\"plotly\"], function(Plotly) { window.PLOTLYENV=window.PLOTLYENV || {};window.PLOTLYENV.BASE_URL=\"https://plot.ly\";Plotly.newPlot(\"8fa6c8f5-360f-48bc-9148-a750508bff9e\", [{\"mode\": \"markers\", \"x\": [\"2015-09-30T00:00:00.000\", \"2015-10-31T00:00:00.000\", \"2015-11-30T00:00:00.000\", \"2015-12-31T00:00:00.000\", \"2016-01-31T00:00:00.000\", \"2016-02-29T00:00:00.000\", \"2016-03-31T00:00:00.000\", \"2016-04-30T00:00:00.000\", \"2016-05-31T00:00:00.000\", \"2016-06-30T00:00:00.000\", \"2016-07-31T00:00:00.000\", \"2016-08-31T00:00:00.000\", \"2016-09-30T00:00:00.000\", \"2016-10-31T00:00:00.000\", \"2016-11-30T00:00:00.000\", \"2016-12-31T00:00:00.000\", \"2017-01-31T00:00:00.000\", \"2017-02-28T00:00:00.000\", \"2017-03-31T00:00:00.000\", \"2017-04-30T00:00:00.000\", \"2017-05-31T00:00:00.000\", \"2017-06-30T00:00:00.000\", \"2017-07-31T00:00:00.000\", \"2017-08-31T00:00:00.000\"], \"y\": [66609, 67048, 69664, 72238, 84721, 69224, 58697, 51430, 48239, 50574, 51707, 50305, 45590, 42180, 41054, 56182, 49965, 43094, 44414, 41393, 34903, 39535, 39627, 9400], \"type\": \"scatter\", \"uid\": \"42d4aa3a-6bbc-496a-a76f-d850946eb3fe\"}, {\"mode\": \"lines\", \"name\": \"line function\", \"x\": [0, 1, 2, 3, 4, 5, 6, 7, 8, 9, 10, 11, 12, 13, 14, 15, 16, 17, 18, 19, 20, 21, 22, 23], \"y\": [66609.0, 64121.653, 61634.306, 59146.959, 56659.612, 54172.265, 51684.918, 49197.570999999996, 46710.224, 44222.87699999999, 41735.53, 39248.183, 36760.835999999996, 34273.489, 31786.142, 29298.795, 26811.447999999997, 24324.100999999995, 21836.753999999994, 19349.407, 16862.059999999998, 14374.712999999996, 11887.365999999995, 9400.018999999993], \"type\": \"scatter\", \"uid\": \"b05cfeaf-f7e4-48df-abd4-acb5286054e6\"}], {}, {\"showLink\": false, \"linkText\": \"Export to plot.ly\", \"plotlyServerURL\": \"https://plot.ly\"})});</script><script type=\"text/javascript\">window.addEventListener(\"resize\", function(){window._Plotly.Plots.resize(document.getElementById(\"8fa6c8f5-360f-48bc-9148-a750508bff9e\"));});</script>"
      ],
      "text/vnd.plotly.v1+html": [
       "<div id=\"8fa6c8f5-360f-48bc-9148-a750508bff9e\" style=\"height: 525px; width: 100%;\" class=\"plotly-graph-div\"></div><script type=\"text/javascript\">require([\"plotly\"], function(Plotly) { window.PLOTLYENV=window.PLOTLYENV || {};window.PLOTLYENV.BASE_URL=\"https://plot.ly\";Plotly.newPlot(\"8fa6c8f5-360f-48bc-9148-a750508bff9e\", [{\"mode\": \"markers\", \"x\": [\"2015-09-30T00:00:00.000\", \"2015-10-31T00:00:00.000\", \"2015-11-30T00:00:00.000\", \"2015-12-31T00:00:00.000\", \"2016-01-31T00:00:00.000\", \"2016-02-29T00:00:00.000\", \"2016-03-31T00:00:00.000\", \"2016-04-30T00:00:00.000\", \"2016-05-31T00:00:00.000\", \"2016-06-30T00:00:00.000\", \"2016-07-31T00:00:00.000\", \"2016-08-31T00:00:00.000\", \"2016-09-30T00:00:00.000\", \"2016-10-31T00:00:00.000\", \"2016-11-30T00:00:00.000\", \"2016-12-31T00:00:00.000\", \"2017-01-31T00:00:00.000\", \"2017-02-28T00:00:00.000\", \"2017-03-31T00:00:00.000\", \"2017-04-30T00:00:00.000\", \"2017-05-31T00:00:00.000\", \"2017-06-30T00:00:00.000\", \"2017-07-31T00:00:00.000\", \"2017-08-31T00:00:00.000\"], \"y\": [66609, 67048, 69664, 72238, 84721, 69224, 58697, 51430, 48239, 50574, 51707, 50305, 45590, 42180, 41054, 56182, 49965, 43094, 44414, 41393, 34903, 39535, 39627, 9400], \"type\": \"scatter\", \"uid\": \"42d4aa3a-6bbc-496a-a76f-d850946eb3fe\"}, {\"mode\": \"lines\", \"name\": \"line function\", \"x\": [0, 1, 2, 3, 4, 5, 6, 7, 8, 9, 10, 11, 12, 13, 14, 15, 16, 17, 18, 19, 20, 21, 22, 23], \"y\": [66609.0, 64121.653, 61634.306, 59146.959, 56659.612, 54172.265, 51684.918, 49197.570999999996, 46710.224, 44222.87699999999, 41735.53, 39248.183, 36760.835999999996, 34273.489, 31786.142, 29298.795, 26811.447999999997, 24324.100999999995, 21836.753999999994, 19349.407, 16862.059999999998, 14374.712999999996, 11887.365999999995, 9400.018999999993], \"type\": \"scatter\", \"uid\": \"b05cfeaf-f7e4-48df-abd4-acb5286054e6\"}], {}, {\"showLink\": false, \"linkText\": \"Export to plot.ly\", \"plotlyServerURL\": \"https://plot.ly\"})});</script><script type=\"text/javascript\">window.addEventListener(\"resize\", function(){window._Plotly.Plots.resize(document.getElementById(\"8fa6c8f5-360f-48bc-9148-a750508bff9e\"));});</script>"
      ]
     },
     "metadata": {},
     "output_type": "display_data"
    }
   ],
   "source": [
    "iplot([scatter, model])"
   ]
  },
  {
   "cell_type": "code",
   "execution_count": 46,
   "metadata": {},
   "outputs": [
    {
     "data": {
      "text/plain": [
       "22"
      ]
     },
     "execution_count": 46,
     "metadata": {},
     "output_type": "execute_result"
    }
   ],
   "source": []
  },
  {
   "cell_type": "code",
   "execution_count": null,
   "metadata": {},
   "outputs": [],
   "source": [
    "error_line_trace(sorted_dates, sorted_revenues, )"
   ]
  }
 ],
 "metadata": {
  "kernelspec": {
   "display_name": "Python 3",
   "language": "python",
   "name": "python3"
  },
  "language_info": {
   "codemirror_mode": {
    "name": "ipython",
    "version": 3
   },
   "file_extension": ".py",
   "mimetype": "text/x-python",
   "name": "python",
   "nbconvert_exporter": "python",
   "pygments_lexer": "ipython3",
   "version": "3.7.0"
  }
 },
 "nbformat": 4,
 "nbformat_minor": 2
}
