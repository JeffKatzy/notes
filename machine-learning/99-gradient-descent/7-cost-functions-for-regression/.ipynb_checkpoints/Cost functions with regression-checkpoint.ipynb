{
 "cells": [
  {
   "cell_type": "markdown",
   "metadata": {},
   "source": [
    "# Cost Functions with Linear Regression"
   ]
  },
  {
   "cell_type": "markdown",
   "metadata": {},
   "source": [
    "### Introduction"
   ]
  },
  {
   "cell_type": "markdown",
   "metadata": {},
   "source": [
    "In the last lesson, we learned about our machine learning model of a regression line.  We saw how we can represent regression lines both in code and with a mathematical formula.  With simple linear regression, we know that our model takes the format of $/hat{y} = mx + b$ where $/hat{y}$ is the y value estimated by our line, $m$ is the slope of the line and $b$ is the $y$ intercept. \n",
    "\n",
    "We can use this formula to produce a line, and estimate an output for each provided input value, $x$.  In this lesson, we'll learn how to evaluate our line, with a cost function."
   ]
  },
  {
   "cell_type": "markdown",
   "metadata": {},
   "source": [
    "## Reviewing how to generate regression "
   ]
  },
  {
   "cell_type": "markdown",
   "metadata": {},
   "source": [
    "To evaluate the performance of our model, we first need to load our data, and build a model to see how well the model approximates our exists data.  \n",
    "\n",
    "1. Load the data \n",
    "\n",
    "We load the data from the `months-since-revenues.json` and save the data to the variable `monthly revenues`."
   ]
  },
  {
   "cell_type": "code",
   "execution_count": 2,
   "metadata": {},
   "outputs": [],
   "source": [
    "import json\n",
    "with open('months-since-revenues.json', 'r') as revenue_file:\n",
    "    monthly_revenues = json.load(revenue_file)"
   ]
  },
  {
   "cell_type": "markdown",
   "metadata": {},
   "source": [
    "2. Inspect the data"
   ]
  },
  {
   "cell_type": "markdown",
   "metadata": {},
   "source": [
    "Then we reacclimate ourselves with the data that we loaded by looking at the first few entries."
   ]
  },
  {
   "cell_type": "code",
   "execution_count": 3,
   "metadata": {},
   "outputs": [
    {
     "data": {
      "text/plain": [
       "[{'revenue': 66609, 'month': '2015-09-30T00:00:00.000', 'month_number': 0},\n",
       " {'revenue': 67048, 'month': '2015-10-31T00:00:00.000', 'month_number': 1},\n",
       " {'revenue': 69664, 'month': '2015-11-30T00:00:00.000', 'month_number': 2}]"
      ]
     },
     "execution_count": 3,
     "metadata": {},
     "output_type": "execute_result"
    }
   ],
   "source": [
    "monthly_revenues[0:3]"
   ]
  },
  {
   "cell_type": "markdown",
   "metadata": {},
   "source": [
    "3. Plot the data"
   ]
  },
  {
   "cell_type": "markdown",
   "metadata": {},
   "source": [
    "Ok, so the data looks to be sorted, and have attributes of `revenue`, `month`, and `month_number`.  We prefer to work with the `month_number` rather than directly with the date.  So in plotting our points, `month_number` will be our x coordinate and `revenue` will be our y coordinate.  Let's create lists of these two attributes (always checking our work along the way). "
   ]
  },
  {
   "cell_type": "code",
   "execution_count": 5,
   "metadata": {},
   "outputs": [
    {
     "data": {
      "text/plain": [
       "[66609, 67048, 69664]"
      ]
     },
     "execution_count": 5,
     "metadata": {},
     "output_type": "execute_result"
    }
   ],
   "source": [
    "revenues = list(map(lambda monthly_revenue: monthly_revenue['revenue'], monthly_revenues))\n",
    "revenues[0:3]"
   ]
  },
  {
   "cell_type": "code",
   "execution_count": 7,
   "metadata": {},
   "outputs": [
    {
     "data": {
      "text/plain": [
       "[0, 1, 2]"
      ]
     },
     "execution_count": 7,
     "metadata": {},
     "output_type": "execute_result"
    }
   ],
   "source": [
    "month_numbers = list(map(lambda monthly_revenue: monthly_revenue['month_number'], monthly_revenues))\n",
    "month_numbers[0:3]"
   ]
  },
  {
   "cell_type": "markdown",
   "metadata": {},
   "source": [
    "We set our two lists as respective values of our `x` and `y` keys in our trace below."
   ]
  },
  {
   "cell_type": "code",
   "execution_count": 10,
   "metadata": {},
   "outputs": [
    {
     "data": {
      "text/html": [
       "<script type=\"text/javascript\">window.PlotlyConfig = {MathJaxConfig: 'local'};</script><script type=\"text/javascript\">if (window.MathJax) {MathJax.Hub.Config({SVG: {font: \"STIX-Web\"}});}</script><script>requirejs.config({paths: { 'plotly': ['https://cdn.plot.ly/plotly-latest.min']},});if(!window._Plotly) {require(['plotly'],function(plotly) {window._Plotly=plotly;});}</script>"
      ],
      "text/vnd.plotly.v1+html": [
       "<script type=\"text/javascript\">window.PlotlyConfig = {MathJaxConfig: 'local'};</script><script type=\"text/javascript\">if (window.MathJax) {MathJax.Hub.Config({SVG: {font: \"STIX-Web\"}});}</script><script>requirejs.config({paths: { 'plotly': ['https://cdn.plot.ly/plotly-latest.min']},});if(!window._Plotly) {require(['plotly'],function(plotly) {window._Plotly=plotly;});}</script>"
      ]
     },
     "metadata": {},
     "output_type": "display_data"
    },
    {
     "data": {
      "application/vnd.plotly.v1+json": {
       "config": {
        "linkText": "Export to plot.ly",
        "plotlyServerURL": "https://plot.ly",
        "showLink": false
       },
       "data": [
        {
         "mode": "markers",
         "name": "actual",
         "type": "scatter",
         "uid": "b98d71db-fee1-4361-99f7-967297aec002",
         "x": [
          0,
          1,
          2,
          3,
          4,
          5,
          6,
          7,
          8,
          9,
          10,
          11,
          12,
          13,
          14,
          15,
          16,
          17,
          18,
          19,
          20,
          21,
          22,
          23
         ],
         "y": [
          66609,
          67048,
          69664,
          72238,
          84721,
          69224,
          58697,
          51430,
          48239,
          50574,
          51707,
          50305,
          45590,
          42180,
          41054,
          56182,
          49965,
          43094,
          44414,
          41393,
          34903,
          39535,
          39627,
          9400
         ]
        }
       ],
       "layout": {
        "autosize": true,
        "xaxis": {
         "autorange": true,
         "range": [
          -1.4091282894736843,
          24.409128289473685
         ],
         "type": "linear"
        },
        "yaxis": {
         "autorange": true,
         "range": [
          3882.856687898089,
          90238.1433121019
         ],
         "type": "linear"
        }
       }
      },
      "image/png": "[encoded data removed]",
      "text/html": [
       "<div id=\"b74d77a9-f9db-4bbc-8384-7ec14587e5bf\" style=\"height: 525px; width: 100%;\" class=\"plotly-graph-div\"></div><script type=\"text/javascript\">require([\"plotly\"], function(Plotly) { window.PLOTLYENV=window.PLOTLYENV || {};window.PLOTLYENV.BASE_URL=\"https://plot.ly\";Plotly.newPlot(\"b74d77a9-f9db-4bbc-8384-7ec14587e5bf\", [{\"mode\": \"markers\", \"name\": \"actual\", \"x\": [0, 1, 2, 3, 4, 5, 6, 7, 8, 9, 10, 11, 12, 13, 14, 15, 16, 17, 18, 19, 20, 21, 22, 23], \"y\": [66609, 67048, 69664, 72238, 84721, 69224, 58697, 51430, 48239, 50574, 51707, 50305, 45590, 42180, 41054, 56182, 49965, 43094, 44414, 41393, 34903, 39535, 39627, 9400], \"type\": \"scatter\", \"uid\": \"843c05b8-1376-4343-8578-6429e55a63b0\"}], {}, {\"showLink\": false, \"linkText\": \"Export to plot.ly\", \"plotlyServerURL\": \"https://plot.ly\"})});</script><script type=\"text/javascript\">window.addEventListener(\"resize\", function(){window._Plotly.Plots.resize(document.getElementById(\"b74d77a9-f9db-4bbc-8384-7ec14587e5bf\"));});</script>"
      ],
      "text/vnd.plotly.v1+html": [
       "<div id=\"b74d77a9-f9db-4bbc-8384-7ec14587e5bf\" style=\"height: 525px; width: 100%;\" class=\"plotly-graph-div\"></div><script type=\"text/javascript\">require([\"plotly\"], function(Plotly) { window.PLOTLYENV=window.PLOTLYENV || {};window.PLOTLYENV.BASE_URL=\"https://plot.ly\";Plotly.newPlot(\"b74d77a9-f9db-4bbc-8384-7ec14587e5bf\", [{\"mode\": \"markers\", \"name\": \"actual\", \"x\": [0, 1, 2, 3, 4, 5, 6, 7, 8, 9, 10, 11, 12, 13, 14, 15, 16, 17, 18, 19, 20, 21, 22, 23], \"y\": [66609, 67048, 69664, 72238, 84721, 69224, 58697, 51430, 48239, 50574, 51707, 50305, 45590, 42180, 41054, 56182, 49965, 43094, 44414, 41393, 34903, 39535, 39627, 9400], \"type\": \"scatter\", \"uid\": \"843c05b8-1376-4343-8578-6429e55a63b0\"}], {}, {\"showLink\": false, \"linkText\": \"Export to plot.ly\", \"plotlyServerURL\": \"https://plot.ly\"})});</script><script type=\"text/javascript\">window.addEventListener(\"resize\", function(){window._Plotly.Plots.resize(document.getElementById(\"b74d77a9-f9db-4bbc-8384-7ec14587e5bf\"));});</script>"
      ]
     },
     "metadata": {},
     "output_type": "display_data"
    }
   ],
   "source": [
    "import plotly\n",
    "from plotly.offline import iplot, init_notebook_mode\n",
    "init_notebook_mode(connected=True)\n",
    "\n",
    "actual_trace = {'x': month_numbers, 'y': revenues, 'mode': 'markers', 'name': 'actual'}\n",
    "iplot([actual_trace])"
   ]
  },
  {
   "cell_type": "markdown",
   "metadata": {},
   "source": [
    "4. Create and plot our simple linear regression model"
   ]
  },
  {
   "cell_type": "markdown",
   "metadata": {},
   "source": [
    "Our simple linear regression model is simply a formula in the format $\\hat{y} = mx + b $, where what varies is our values of $m$ and $b$.  We'll set $m = -1500$ and $b = 60000$ for the formula $\\hat{y} = -1500x + 6000 $.\n",
    "\n",
    "Then we'll represent that formula as a function in Python.\n"
   ]
  },
  {
   "cell_type": "code",
   "execution_count": 22,
   "metadata": {},
   "outputs": [],
   "source": [
    "def y_hat(x):\n",
    "    m = -1500\n",
    "    b = 65000\n",
    "    return m*x + b "
   ]
  },
  {
   "cell_type": "markdown",
   "metadata": {},
   "source": [
    "This formula predicts an output for every input value of $x$ that we pass through.  So let's use this function to predict an output for each of the x values -- that is, our month numbers -- in our data."
   ]
  },
  {
   "cell_type": "code",
   "execution_count": 23,
   "metadata": {},
   "outputs": [
    {
     "data": {
      "text/plain": [
       "[65000, 63500, 62000]"
      ]
     },
     "execution_count": 23,
     "metadata": {},
     "output_type": "execute_result"
    }
   ],
   "source": [
    "y_hats = list(map(y_hat,month_numbers))\n",
    "y_hats[0:3]"
   ]
  },
  {
   "cell_type": "markdown",
   "metadata": {},
   "source": [
    "Let's see if the numbers we generated make sense, given the input values of the month numbers we provided."
   ]
  },
  {
   "cell_type": "code",
   "execution_count": 24,
   "metadata": {},
   "outputs": [
    {
     "data": {
      "text/plain": [
       "[0, 1, 2]"
      ]
     },
     "execution_count": 24,
     "metadata": {},
     "output_type": "execute_result"
    }
   ],
   "source": [
    "month_numbers[0:3]"
   ]
  },
  {
   "cell_type": "markdown",
   "metadata": {},
   "source": [
    "Ok so when we pass the number 0 to our function, $m*x$ equals zero, then adding $b$ we get 6000, which is our first estimated value.  The other two numbers also look good.  Let's add our simple linear regression model to the earlier plot that we generated.  We'll again set `month_numbers` as our x coordinates, and this time our estimated `y_hats` as the y values. "
   ]
  },
  {
   "cell_type": "code",
   "execution_count": 26,
   "metadata": {},
   "outputs": [
    {
     "data": {
      "application/vnd.plotly.v1+json": {
       "config": {
        "linkText": "Export to plot.ly",
        "plotlyServerURL": "https://plot.ly",
        "showLink": false
       },
       "data": [
        {
         "mode": "markers",
         "name": "actual",
         "type": "scatter",
         "uid": "f4f195b0-6dba-4cd1-bb66-96666e0ddd00",
         "x": [
          0,
          1,
          2,
          3,
          4,
          5,
          6,
          7,
          8,
          9,
          10,
          11,
          12,
          13,
          14,
          15,
          16,
          17,
          18,
          19,
          20,
          21,
          22,
          23
         ],
         "y": [
          66609,
          67048,
          69664,
          72238,
          84721,
          69224,
          58697,
          51430,
          48239,
          50574,
          51707,
          50305,
          45590,
          42180,
          41054,
          56182,
          49965,
          43094,
          44414,
          41393,
          34903,
          39535,
          39627,
          9400
         ]
        },
        {
         "mode": "lines",
         "name": "estimated",
         "type": "scatter",
         "uid": "d8eb0b91-3685-430f-a2df-735d167123f5",
         "x": [
          0,
          1,
          2,
          3,
          4,
          5,
          6,
          7,
          8,
          9,
          10,
          11,
          12,
          13,
          14,
          15,
          16,
          17,
          18,
          19,
          20,
          21,
          22,
          23
         ],
         "y": [
          65000,
          63500,
          62000,
          60500,
          59000,
          57500,
          56000,
          54500,
          53000,
          51500,
          50000,
          48500,
          47000,
          45500,
          44000,
          42500,
          41000,
          39500,
          38000,
          36500,
          35000,
          33500,
          32000,
          30500
         ]
        }
       ],
       "layout": {
        "autosize": true,
        "xaxis": {
         "autorange": true,
         "range": [
          -1.4173951048951046,
          24.417395104895103
         ],
         "type": "linear"
        },
        "yaxis": {
         "autorange": true,
         "range": [
          3882.856687898089,
          90238.1433121019
         ],
         "type": "linear"
        }
       }
      },
      "image/png": "[encoded data removed]",
      "text/html": [
       "<div id=\"18965ff4-56bf-490b-b321-3206893c1acb\" style=\"height: 525px; width: 100%;\" class=\"plotly-graph-div\"></div><script type=\"text/javascript\">require([\"plotly\"], function(Plotly) { window.PLOTLYENV=window.PLOTLYENV || {};window.PLOTLYENV.BASE_URL=\"https://plot.ly\";Plotly.newPlot(\"18965ff4-56bf-490b-b321-3206893c1acb\", [{\"mode\": \"markers\", \"name\": \"actual\", \"x\": [0, 1, 2, 3, 4, 5, 6, 7, 8, 9, 10, 11, 12, 13, 14, 15, 16, 17, 18, 19, 20, 21, 22, 23], \"y\": [66609, 67048, 69664, 72238, 84721, 69224, 58697, 51430, 48239, 50574, 51707, 50305, 45590, 42180, 41054, 56182, 49965, 43094, 44414, 41393, 34903, 39535, 39627, 9400], \"type\": \"scatter\", \"uid\": \"12dca70a-22b0-4f79-92c1-661fb3a133a4\"}, {\"mode\": \"lines\", \"name\": \"estimated\", \"x\": [0, 1, 2, 3, 4, 5, 6, 7, 8, 9, 10, 11, 12, 13, 14, 15, 16, 17, 18, 19, 20, 21, 22, 23], \"y\": [65000, 63500, 62000, 60500, 59000, 57500, 56000, 54500, 53000, 51500, 50000, 48500, 47000, 45500, 44000, 42500, 41000, 39500, 38000, 36500, 35000, 33500, 32000, 30500], \"type\": \"scatter\", \"uid\": \"f1d50735-5e5b-4890-99ae-6d8cea0b7ea5\"}], {}, {\"showLink\": false, \"linkText\": \"Export to plot.ly\", \"plotlyServerURL\": \"https://plot.ly\"})});</script><script type=\"text/javascript\">window.addEventListener(\"resize\", function(){window._Plotly.Plots.resize(document.getElementById(\"18965ff4-56bf-490b-b321-3206893c1acb\"));});</script>"
      ],
      "text/vnd.plotly.v1+html": [
       "<div id=\"18965ff4-56bf-490b-b321-3206893c1acb\" style=\"height: 525px; width: 100%;\" class=\"plotly-graph-div\"></div><script type=\"text/javascript\">require([\"plotly\"], function(Plotly) { window.PLOTLYENV=window.PLOTLYENV || {};window.PLOTLYENV.BASE_URL=\"https://plot.ly\";Plotly.newPlot(\"18965ff4-56bf-490b-b321-3206893c1acb\", [{\"mode\": \"markers\", \"name\": \"actual\", \"x\": [0, 1, 2, 3, 4, 5, 6, 7, 8, 9, 10, 11, 12, 13, 14, 15, 16, 17, 18, 19, 20, 21, 22, 23], \"y\": [66609, 67048, 69664, 72238, 84721, 69224, 58697, 51430, 48239, 50574, 51707, 50305, 45590, 42180, 41054, 56182, 49965, 43094, 44414, 41393, 34903, 39535, 39627, 9400], \"type\": \"scatter\", \"uid\": \"12dca70a-22b0-4f79-92c1-661fb3a133a4\"}, {\"mode\": \"lines\", \"name\": \"estimated\", \"x\": [0, 1, 2, 3, 4, 5, 6, 7, 8, 9, 10, 11, 12, 13, 14, 15, 16, 17, 18, 19, 20, 21, 22, 23], \"y\": [65000, 63500, 62000, 60500, 59000, 57500, 56000, 54500, 53000, 51500, 50000, 48500, 47000, 45500, 44000, 42500, 41000, 39500, 38000, 36500, 35000, 33500, 32000, 30500], \"type\": \"scatter\", \"uid\": \"f1d50735-5e5b-4890-99ae-6d8cea0b7ea5\"}], {}, {\"showLink\": false, \"linkText\": \"Export to plot.ly\", \"plotlyServerURL\": \"https://plot.ly\"})});</script><script type=\"text/javascript\">window.addEventListener(\"resize\", function(){window._Plotly.Plots.resize(document.getElementById(\"18965ff4-56bf-490b-b321-3206893c1acb\"));});</script>"
      ]
     },
     "metadata": {},
     "output_type": "display_data"
    }
   ],
   "source": [
    "regression_model = {'x': month_numbers, 'y': y_hats, 'mode': 'lines', 'name': 'estimated'}\n",
    "iplot([actual_trace, regression_model])"
   ]
  },
  {
   "cell_type": "markdown",
   "metadata": {},
   "source": [
    "### Our cost function"
   ]
  },
  {
   "cell_type": "markdown",
   "metadata": {},
   "source": [
    "Now that we have built this model, the next step is to evaluate how \"good\" this model is.  As always in machine learning, we do this with a cost function.  Let's start with a sum of errors cost function."
   ]
  },
  {
   "cell_type": "markdown",
   "metadata": {},
   "source": [
    "With our sum of errors cost function we simply calculate the error at each of our input  Let's try to do this in code.   datapoints.  Then we add up these errors.  In code, we can just create a list of errors, and then sum up the values of this list using the `sum` function."
   ]
  },
  {
   "cell_type": "code",
   "execution_count": 46,
   "metadata": {},
   "outputs": [
    {
     "data": {
      "text/plain": [
       "3"
      ]
     },
     "execution_count": 46,
     "metadata": {},
     "output_type": "execute_result"
    }
   ],
   "source": [
    "sum([1, 1, 1])"
   ]
  },
  {
   "cell_type": "markdown",
   "metadata": {},
   "source": [
    "As always, to figure out how to calculate the error at each point, we should first determine how to calculate the error at a single point.  Let's calculate the error for our first point.  Our formula for error is the following:\n",
    "\n",
    "> **error** = actual - expected."
   ]
  },
  {
   "cell_type": "markdown",
   "metadata": {},
   "source": [
    "So looking at our first datapoint of (0, 66,609), to representing $66,609 earned in the first month, September 2015.  And remember that we already have a list of actual values.  "
   ]
  },
  {
   "cell_type": "code",
   "execution_count": 35,
   "metadata": {},
   "outputs": [
    {
     "data": {
      "text/plain": [
       "66609"
      ]
     },
     "execution_count": 35,
     "metadata": {},
     "output_type": "execute_result"
    }
   ],
   "source": [
    "revenues[0:3] # [66609, 67048, 69664]\n",
    "revenues[0]"
   ]
  },
  {
   "cell_type": "markdown",
   "metadata": {},
   "source": [
    "And we also have a list of expected values."
   ]
  },
  {
   "cell_type": "code",
   "execution_count": 37,
   "metadata": {},
   "outputs": [
    {
     "data": {
      "text/plain": [
       "[65000, 63500, 62000]"
      ]
     },
     "execution_count": 37,
     "metadata": {},
     "output_type": "execute_result"
    }
   ],
   "source": [
    "y_hats[0:3] # [65000, 63500, 62000]"
   ]
  },
  {
   "cell_type": "markdown",
   "metadata": {},
   "source": [
    "Our error is simply the following."
   ]
  },
  {
   "cell_type": "code",
   "execution_count": 45,
   "metadata": {},
   "outputs": [
    {
     "data": {
      "text/plain": [
       "1609"
      ]
     },
     "execution_count": 45,
     "metadata": {},
     "output_type": "execute_result"
    }
   ],
   "source": [
    "error_at_first_point = revenues[0] - y_hats[0]\n",
    "error_at_first_point"
   ]
  },
  {
   "cell_type": "markdown",
   "metadata": {},
   "source": [
    "Now we want to calculate the error at each data point.  Note that the only part of the code above that will change is the index, 0.  So let's use a `for` loop and simply change the index at each iteration.  We can push in each of our error values as we go. "
   ]
  },
  {
   "cell_type": "code",
   "execution_count": 95,
   "metadata": {},
   "outputs": [],
   "source": [
    "errors = []\n",
    "for idx in range(0, len(monthly_revenues)):\n",
    "    errors.append(revenues[idx] - y_hats[idx])"
   ]
  },
  {
   "cell_type": "code",
   "execution_count": 96,
   "metadata": {},
   "outputs": [
    {
     "data": {
      "text/plain": [
       "[1609, 3548, 7664]"
      ]
     },
     "execution_count": 96,
     "metadata": {},
     "output_type": "execute_result"
    }
   ],
   "source": [
    "errors[0:3]"
   ]
  },
  {
   "cell_type": "markdown",
   "metadata": {},
   "source": [
    "Ok now that we have our list of errors we can just add them up with the sum function."
   ]
  },
  {
   "cell_type": "code",
   "execution_count": 48,
   "metadata": {},
   "outputs": [
    {
     "data": {
      "text/plain": [
       "81793"
      ]
     },
     "execution_count": 48,
     "metadata": {},
     "output_type": "execute_result"
    }
   ],
   "source": [
    "total_error = sum(errors)\n",
    "total_error"
   ]
  },
  {
   "cell_type": "markdown",
   "metadata": {},
   "source": [
    "### Improving our cost function"
   ]
  },
  {
   "cell_type": "markdown",
   "metadata": {},
   "source": [
    "Let's display our graph with the errors."
   ]
  },
  {
   "cell_type": "code",
   "execution_count": 77,
   "metadata": {},
   "outputs": [
    {
     "ename": "NameError",
     "evalue": "name 'months_and_errors' is not defined",
     "output_type": "error",
     "traceback": [
      "\u001b[0;31m---------------------------------------------------------------------------\u001b[0m",
      "\u001b[0;31mNameError\u001b[0m                                 Traceback (most recent call last)",
      "\u001b[0;32m<ipython-input-77-ea2be3316604>\u001b[0m in \u001b[0;36m<module>\u001b[0;34m()\u001b[0m\n\u001b[1;32m      1\u001b[0m \u001b[0;34m\u001b[0m\u001b[0m\n\u001b[1;32m      2\u001b[0m \u001b[0;34m\u001b[0m\u001b[0m\n\u001b[0;32m----> 3\u001b[0;31m \u001b[0merror_traces\u001b[0m \u001b[0;34m=\u001b[0m \u001b[0merror_line_traces\u001b[0m\u001b[0;34m(\u001b[0m\u001b[0mmonth_numbers\u001b[0m\u001b[0;34m,\u001b[0m \u001b[0mrevenues\u001b[0m\u001b[0;34m,\u001b[0m \u001b[0merrors\u001b[0m\u001b[0;34m)\u001b[0m\u001b[0;34m\u001b[0m\u001b[0m\n\u001b[0m",
      "\u001b[0;32m~/Documents/jigsaw/curriculum/data-science-intro/section-plotting-data/lessons/7-cost-functions-for-regression/error.py\u001b[0m in \u001b[0;36merror_line_traces\u001b[0;34m(x_values, y_values, errors)\u001b[0m\n\u001b[1;32m     16\u001b[0m \u001b[0;34m\u001b[0m\u001b[0m\n\u001b[1;32m     17\u001b[0m \u001b[0;32mdef\u001b[0m \u001b[0merror_line_traces\u001b[0m\u001b[0;34m(\u001b[0m\u001b[0mx_values\u001b[0m\u001b[0;34m,\u001b[0m \u001b[0my_values\u001b[0m\u001b[0;34m,\u001b[0m \u001b[0merrors\u001b[0m\u001b[0;34m)\u001b[0m\u001b[0;34m:\u001b[0m\u001b[0;34m\u001b[0m\u001b[0m\n\u001b[0;32m---> 18\u001b[0;31m     \u001b[0mcoords_and_errors\u001b[0m \u001b[0;34m=\u001b[0m \u001b[0mlist\u001b[0m\u001b[0;34m(\u001b[0m\u001b[0mzip\u001b[0m\u001b[0;34m(\u001b[0m\u001b[0mx_values\u001b[0m\u001b[0;34m,\u001b[0m \u001b[0my_values\u001b[0m\u001b[0;34m,\u001b[0m \u001b[0merrors\u001b[0m\u001b[0;34m)\u001b[0m\u001b[0;34m)\u001b[0m\u001b[0;34m\u001b[0m\u001b[0m\n\u001b[0m\u001b[1;32m     19\u001b[0m     \u001b[0;32mreturn\u001b[0m \u001b[0;34m[\u001b[0m\u001b[0merror_line_trace\u001b[0m\u001b[0;34m(\u001b[0m\u001b[0mcoords_and_error\u001b[0m\u001b[0;34m[\u001b[0m\u001b[0;36m0\u001b[0m\u001b[0;34m]\u001b[0m\u001b[0;34m,\u001b[0m \u001b[0mcoords_and_error\u001b[0m\u001b[0;34m[\u001b[0m\u001b[0;36m1\u001b[0m\u001b[0;34m]\u001b[0m\u001b[0;34m,\u001b[0m \u001b[0mcoords_and_error\u001b[0m\u001b[0;34m[\u001b[0m\u001b[0;36m2\u001b[0m\u001b[0;34m]\u001b[0m\u001b[0;34m)\u001b[0m \u001b[0;32mfor\u001b[0m \u001b[0mcoords_and_error\u001b[0m \u001b[0;32min\u001b[0m \u001b[0mcoords_and_errors\u001b[0m\u001b[0;34m]\u001b[0m\u001b[0;34m\u001b[0m\u001b[0m\n\u001b[1;32m     20\u001b[0m \u001b[0;34m\u001b[0m\u001b[0m\n",
      "\u001b[0;31mNameError\u001b[0m: name 'months_and_errors' is not defined"
     ]
    }
   ],
   "source": [
    "error_traces = error_line_traces(month_numbers, revenues, errors)"
   ]
  },
  {
   "cell_type": "code",
   "execution_count": 69,
   "metadata": {},
   "outputs": [
    {
     "data": {
      "application/vnd.plotly.v1+json": {
       "config": {
        "linkText": "Export to plot.ly",
        "plotlyServerURL": "https://plot.ly",
        "showLink": false
       },
       "data": [
        {
         "mode": "markers",
         "name": "actual",
         "type": "scatter",
         "uid": "3de75a4e-78b3-4c6d-b2f3-61b85d4c8448",
         "x": [
          0,
          1,
          2,
          3,
          4,
          5,
          6,
          7,
          8,
          9,
          10,
          11,
          12,
          13,
          14,
          15,
          16,
          17,
          18,
          19,
          20,
          21,
          22,
          23
         ],
         "y": [
          66609,
          67048,
          69664,
          72238,
          84721,
          69224,
          58697,
          51430,
          48239,
          50574,
          51707,
          50305,
          45590,
          42180,
          41054,
          56182,
          49965,
          43094,
          44414,
          41393,
          34903,
          39535,
          39627,
          9400
         ]
        },
        {
         "mode": "lines",
         "name": "estimated",
         "type": "scatter",
         "uid": "8ba0f000-3855-4c30-95dc-303aa96ea59b",
         "x": [
          0,
          1,
          2,
          3,
          4,
          5,
          6,
          7,
          8,
          9,
          10,
          11,
          12,
          13,
          14,
          15,
          16,
          17,
          18,
          19,
          20,
          21,
          22,
          23
         ],
         "y": [
          65000,
          63500,
          62000,
          60500,
          59000,
          57500,
          56000,
          54500,
          53000,
          51500,
          50000,
          48500,
          47000,
          45500,
          44000,
          42500,
          41000,
          39500,
          38000,
          36500,
          35000,
          33500,
          32000,
          30500
         ]
        },
        {
         "hoverinfo": "none",
         "marker": {
          "color": "red"
         },
         "mode": "lines",
         "name": "error at 0",
         "text": [
          "1609"
         ],
         "textposition": "top right",
         "type": "scatter",
         "uid": "23f3d609-4675-4b26-a266-0fbbe1f05840",
         "x": [
          0,
          0
         ],
         "y": [
          65000,
          66609
         ]
        },
        {
         "hoverinfo": "none",
         "marker": {
          "color": "red"
         },
         "mode": "lines",
         "name": "error at 1",
         "text": [
          "3548"
         ],
         "textposition": "top right",
         "type": "scatter",
         "uid": "1ad9a73d-6264-42ad-b74d-6d7a1a757fdf",
         "x": [
          1,
          1
         ],
         "y": [
          63500,
          67048
         ]
        },
        {
         "hoverinfo": "none",
         "marker": {
          "color": "red"
         },
         "mode": "lines",
         "name": "error at 2",
         "text": [
          "7664"
         ],
         "textposition": "top right",
         "type": "scatter",
         "uid": "12eec9e2-ffca-4761-bb13-ad41f7db90b1",
         "x": [
          2,
          2
         ],
         "y": [
          62000,
          69664
         ]
        },
        {
         "hoverinfo": "none",
         "marker": {
          "color": "red"
         },
         "mode": "lines",
         "name": "error at 3",
         "text": [
          "11738"
         ],
         "textposition": "top right",
         "type": "scatter",
         "uid": "15c839dc-fa4b-4f78-88e3-570b211021b4",
         "x": [
          3,
          3
         ],
         "y": [
          60500,
          72238
         ]
        },
        {
         "hoverinfo": "none",
         "marker": {
          "color": "red"
         },
         "mode": "lines",
         "name": "error at 4",
         "text": [
          "25721"
         ],
         "textposition": "top right",
         "type": "scatter",
         "uid": "8710fef2-3ed5-4010-a5b3-10ea19222e42",
         "x": [
          4,
          4
         ],
         "y": [
          59000,
          84721
         ]
        },
        {
         "hoverinfo": "none",
         "marker": {
          "color": "red"
         },
         "mode": "lines",
         "name": "error at 5",
         "text": [
          "11724"
         ],
         "textposition": "top right",
         "type": "scatter",
         "uid": "f1282bcf-47df-4216-aa4f-6409c3f36ae0",
         "x": [
          5,
          5
         ],
         "y": [
          57500,
          69224
         ]
        },
        {
         "hoverinfo": "none",
         "marker": {
          "color": "red"
         },
         "mode": "lines",
         "name": "error at 6",
         "text": [
          "2697"
         ],
         "textposition": "top right",
         "type": "scatter",
         "uid": "e1b63ac5-681f-4c61-b7ad-12c82acc114c",
         "x": [
          6,
          6
         ],
         "y": [
          56000,
          58697
         ]
        },
        {
         "hoverinfo": "none",
         "marker": {
          "color": "red"
         },
         "mode": "lines",
         "name": "error at 7",
         "text": [
          "-3070"
         ],
         "textposition": "top right",
         "type": "scatter",
         "uid": "7807ca2c-190c-44d3-94a1-4bd5e57693c0",
         "x": [
          7,
          7
         ],
         "y": [
          54500,
          51430
         ]
        },
        {
         "hoverinfo": "none",
         "marker": {
          "color": "red"
         },
         "mode": "lines",
         "name": "error at 8",
         "text": [
          "-4761"
         ],
         "textposition": "top right",
         "type": "scatter",
         "uid": "83b55d45-5fb8-4382-8072-cf28389ca73d",
         "x": [
          8,
          8
         ],
         "y": [
          53000,
          48239
         ]
        },
        {
         "hoverinfo": "none",
         "marker": {
          "color": "red"
         },
         "mode": "lines",
         "name": "error at 9",
         "text": [
          "-926"
         ],
         "textposition": "top right",
         "type": "scatter",
         "uid": "93c0637a-170b-4387-99bb-34e1edf88c58",
         "x": [
          9,
          9
         ],
         "y": [
          51500,
          50574
         ]
        },
        {
         "hoverinfo": "none",
         "marker": {
          "color": "red"
         },
         "mode": "lines",
         "name": "error at 10",
         "text": [
          "1707"
         ],
         "textposition": "top right",
         "type": "scatter",
         "uid": "bd3cc411-5bfe-48a1-886b-e64b91f5de0f",
         "x": [
          10,
          10
         ],
         "y": [
          50000,
          51707
         ]
        },
        {
         "hoverinfo": "none",
         "marker": {
          "color": "red"
         },
         "mode": "lines",
         "name": "error at 11",
         "text": [
          "1805"
         ],
         "textposition": "top right",
         "type": "scatter",
         "uid": "980d4310-b4e0-46eb-8e7f-b5fcac82cff4",
         "x": [
          11,
          11
         ],
         "y": [
          48500,
          50305
         ]
        },
        {
         "hoverinfo": "none",
         "marker": {
          "color": "red"
         },
         "mode": "lines",
         "name": "error at 12",
         "text": [
          "-1410"
         ],
         "textposition": "top right",
         "type": "scatter",
         "uid": "e94a1bcf-5e60-4307-987c-e9d76c8f6688",
         "x": [
          12,
          12
         ],
         "y": [
          47000,
          45590
         ]
        },
        {
         "hoverinfo": "none",
         "marker": {
          "color": "red"
         },
         "mode": "lines",
         "name": "error at 13",
         "text": [
          "-3320"
         ],
         "textposition": "top right",
         "type": "scatter",
         "uid": "53c92cd7-2271-44dd-bcda-4e2b96c33a98",
         "x": [
          13,
          13
         ],
         "y": [
          45500,
          42180
         ]
        },
        {
         "hoverinfo": "none",
         "marker": {
          "color": "red"
         },
         "mode": "lines",
         "name": "error at 14",
         "text": [
          "-2946"
         ],
         "textposition": "top right",
         "type": "scatter",
         "uid": "70307c36-c9b7-4dd8-bd76-23a0ff5cad80",
         "x": [
          14,
          14
         ],
         "y": [
          44000,
          41054
         ]
        },
        {
         "hoverinfo": "none",
         "marker": {
          "color": "red"
         },
         "mode": "lines",
         "name": "error at 15",
         "text": [
          "13682"
         ],
         "textposition": "top right",
         "type": "scatter",
         "uid": "a6d79ef8-8636-4dfc-a29a-6df1eedd751f",
         "x": [
          15,
          15
         ],
         "y": [
          42500,
          56182
         ]
        },
        {
         "hoverinfo": "none",
         "marker": {
          "color": "red"
         },
         "mode": "lines",
         "name": "error at 16",
         "text": [
          "8965"
         ],
         "textposition": "top right",
         "type": "scatter",
         "uid": "3bb5e0b2-94f3-4be6-8033-fc748837effb",
         "x": [
          16,
          16
         ],
         "y": [
          41000,
          49965
         ]
        },
        {
         "hoverinfo": "none",
         "marker": {
          "color": "red"
         },
         "mode": "lines",
         "name": "error at 17",
         "text": [
          "3594"
         ],
         "textposition": "top right",
         "type": "scatter",
         "uid": "3a88f627-a3fb-49e0-9e29-7ce578ce3029",
         "x": [
          17,
          17
         ],
         "y": [
          39500,
          43094
         ]
        },
        {
         "hoverinfo": "none",
         "marker": {
          "color": "red"
         },
         "mode": "lines",
         "name": "error at 18",
         "text": [
          "6414"
         ],
         "textposition": "top right",
         "type": "scatter",
         "uid": "42c0d07c-a8d7-4efe-b61e-2b255b852153",
         "x": [
          18,
          18
         ],
         "y": [
          38000,
          44414
         ]
        },
        {
         "hoverinfo": "none",
         "marker": {
          "color": "red"
         },
         "mode": "lines",
         "name": "error at 19",
         "text": [
          "4893"
         ],
         "textposition": "top right",
         "type": "scatter",
         "uid": "201a999d-cd19-4d57-97a9-e3c51e703d6a",
         "x": [
          19,
          19
         ],
         "y": [
          36500,
          41393
         ]
        },
        {
         "hoverinfo": "none",
         "marker": {
          "color": "red"
         },
         "mode": "lines",
         "name": "error at 20",
         "text": [
          "-97"
         ],
         "textposition": "top right",
         "type": "scatter",
         "uid": "2cc26f5e-6464-4c38-a403-4de08d21bfd8",
         "x": [
          20,
          20
         ],
         "y": [
          35000,
          34903
         ]
        },
        {
         "hoverinfo": "none",
         "marker": {
          "color": "red"
         },
         "mode": "lines",
         "name": "error at 21",
         "text": [
          "6035"
         ],
         "textposition": "top right",
         "type": "scatter",
         "uid": "a0a9d423-3cf9-44da-b2ac-808a11145b14",
         "x": [
          21,
          21
         ],
         "y": [
          33500,
          39535
         ]
        },
        {
         "hoverinfo": "none",
         "marker": {
          "color": "red"
         },
         "mode": "lines",
         "name": "error at 22",
         "text": [
          "7627"
         ],
         "textposition": "top right",
         "type": "scatter",
         "uid": "88fed148-49cc-4048-a751-94aafb88c2e7",
         "x": [
          22,
          22
         ],
         "y": [
          32000,
          39627
         ]
        },
        {
         "hoverinfo": "none",
         "marker": {
          "color": "red"
         },
         "mode": "lines",
         "name": "error at 23",
         "text": [
          "-21100"
         ],
         "textposition": "top right",
         "type": "scatter",
         "uid": "729f35cf-ffc4-47b7-be9a-a2e38a394a71",
         "x": [
          23,
          23
         ],
         "y": [
          30500,
          9400
         ]
        }
       ],
       "layout": {
        "autosize": true,
        "xaxis": {
         "autorange": true,
         "range": [
          -1.4181312243702402,
          24.41813122437024
         ],
         "type": "linear"
        },
        "yaxis": {
         "autorange": true,
         "range": [
          3882.856687898089,
          90238.1433121019
         ],
         "type": "linear"
        }
       }
      },
      "image/png": "[encoded data removed]",
      "text/html": [
       "<div id=\"8980f88b-5424-4b83-bec9-17f8d18b23cd\" style=\"height: 525px; width: 100%;\" class=\"plotly-graph-div\"></div><script type=\"text/javascript\">require([\"plotly\"], function(Plotly) { window.PLOTLYENV=window.PLOTLYENV || {};window.PLOTLYENV.BASE_URL=\"https://plot.ly\";Plotly.newPlot(\"8980f88b-5424-4b83-bec9-17f8d18b23cd\", [{\"mode\": \"markers\", \"name\": \"actual\", \"x\": [0, 1, 2, 3, 4, 5, 6, 7, 8, 9, 10, 11, 12, 13, 14, 15, 16, 17, 18, 19, 20, 21, 22, 23], \"y\": [66609, 67048, 69664, 72238, 84721, 69224, 58697, 51430, 48239, 50574, 51707, 50305, 45590, 42180, 41054, 56182, 49965, 43094, 44414, 41393, 34903, 39535, 39627, 9400], \"type\": \"scatter\", \"uid\": \"f974a966-747b-435d-a2cc-61cdc96a8e40\"}, {\"mode\": \"lines\", \"name\": \"estimated\", \"x\": [0, 1, 2, 3, 4, 5, 6, 7, 8, 9, 10, 11, 12, 13, 14, 15, 16, 17, 18, 19, 20, 21, 22, 23], \"y\": [65000, 63500, 62000, 60500, 59000, 57500, 56000, 54500, 53000, 51500, 50000, 48500, 47000, 45500, 44000, 42500, 41000, 39500, 38000, 36500, 35000, 33500, 32000, 30500], \"type\": \"scatter\", \"uid\": \"01881ea0-a159-4a22-bbd9-1d7baa7778ac\"}, {\"hoverinfo\": \"none\", \"marker\": {\"color\": \"red\"}, \"mode\": \"lines\", \"name\": \"error at 0\", \"text\": [\"1609\"], \"textposition\": \"top right\", \"x\": [0, 0], \"y\": [65000, 66609], \"type\": \"scatter\", \"uid\": \"183f33f4-2c4e-477d-bad5-0a90f16c4a0a\"}, {\"hoverinfo\": \"none\", \"marker\": {\"color\": \"red\"}, \"mode\": \"lines\", \"name\": \"error at 1\", \"text\": [\"3548\"], \"textposition\": \"top right\", \"x\": [1, 1], \"y\": [63500, 67048], \"type\": \"scatter\", \"uid\": \"4c98a523-4411-49fd-ad46-ea2399c45bef\"}, {\"hoverinfo\": \"none\", \"marker\": {\"color\": \"red\"}, \"mode\": \"lines\", \"name\": \"error at 2\", \"text\": [\"7664\"], \"textposition\": \"top right\", \"x\": [2, 2], \"y\": [62000, 69664], \"type\": \"scatter\", \"uid\": \"71c91176-8031-4cf6-abbe-1144fbe6907a\"}, {\"hoverinfo\": \"none\", \"marker\": {\"color\": \"red\"}, \"mode\": \"lines\", \"name\": \"error at 3\", \"text\": [\"11738\"], \"textposition\": \"top right\", \"x\": [3, 3], \"y\": [60500, 72238], \"type\": \"scatter\", \"uid\": \"b52cc32b-87e2-475d-b958-fc89d59aa451\"}, {\"hoverinfo\": \"none\", \"marker\": {\"color\": \"red\"}, \"mode\": \"lines\", \"name\": \"error at 4\", \"text\": [\"25721\"], \"textposition\": \"top right\", \"x\": [4, 4], \"y\": [59000, 84721], \"type\": \"scatter\", \"uid\": \"d449af20-4a5f-494e-a719-c93f7b7974fe\"}, {\"hoverinfo\": \"none\", \"marker\": {\"color\": \"red\"}, \"mode\": \"lines\", \"name\": \"error at 5\", \"text\": [\"11724\"], \"textposition\": \"top right\", \"x\": [5, 5], \"y\": [57500, 69224], \"type\": \"scatter\", \"uid\": \"a55d40b4-b8b1-4230-abd6-4abe864cb59b\"}, {\"hoverinfo\": \"none\", \"marker\": {\"color\": \"red\"}, \"mode\": \"lines\", \"name\": \"error at 6\", \"text\": [\"2697\"], \"textposition\": \"top right\", \"x\": [6, 6], \"y\": [56000, 58697], \"type\": \"scatter\", \"uid\": \"d197b002-60c5-4c2c-9c32-3c4cc8d800a9\"}, {\"hoverinfo\": \"none\", \"marker\": {\"color\": \"red\"}, \"mode\": \"lines\", \"name\": \"error at 7\", \"text\": [\"-3070\"], \"textposition\": \"top right\", \"x\": [7, 7], \"y\": [54500, 51430], \"type\": \"scatter\", \"uid\": \"bd0d99f9-d04a-4c0b-840f-99811b88a18f\"}, {\"hoverinfo\": \"none\", \"marker\": {\"color\": \"red\"}, \"mode\": \"lines\", \"name\": \"error at 8\", \"text\": [\"-4761\"], \"textposition\": \"top right\", \"x\": [8, 8], \"y\": [53000, 48239], \"type\": \"scatter\", \"uid\": \"0af530c7-a988-4630-926b-417467724fe0\"}, {\"hoverinfo\": \"none\", \"marker\": {\"color\": \"red\"}, \"mode\": \"lines\", \"name\": \"error at 9\", \"text\": [\"-926\"], \"textposition\": \"top right\", \"x\": [9, 9], \"y\": [51500, 50574], \"type\": \"scatter\", \"uid\": \"ec08e4e1-5bac-4696-ac25-6aacf8f7d459\"}, {\"hoverinfo\": \"none\", \"marker\": {\"color\": \"red\"}, \"mode\": \"lines\", \"name\": \"error at 10\", \"text\": [\"1707\"], \"textposition\": \"top right\", \"x\": [10, 10], \"y\": [50000, 51707], \"type\": \"scatter\", \"uid\": \"f188a4e1-2c50-44c0-b3fb-d0e88333170d\"}, {\"hoverinfo\": \"none\", \"marker\": {\"color\": \"red\"}, \"mode\": \"lines\", \"name\": \"error at 11\", \"text\": [\"1805\"], \"textposition\": \"top right\", \"x\": [11, 11], \"y\": [48500, 50305], \"type\": \"scatter\", \"uid\": \"214c80e4-0027-47b7-956f-f747cbcd9564\"}, {\"hoverinfo\": \"none\", \"marker\": {\"color\": \"red\"}, \"mode\": \"lines\", \"name\": \"error at 12\", \"text\": [\"-1410\"], \"textposition\": \"top right\", \"x\": [12, 12], \"y\": [47000, 45590], \"type\": \"scatter\", \"uid\": \"bb2dde27-05c8-459c-8194-51ed88a0be4b\"}, {\"hoverinfo\": \"none\", \"marker\": {\"color\": \"red\"}, \"mode\": \"lines\", \"name\": \"error at 13\", \"text\": [\"-3320\"], \"textposition\": \"top right\", \"x\": [13, 13], \"y\": [45500, 42180], \"type\": \"scatter\", \"uid\": \"70a8ad2a-a87d-4f44-b1d8-e7161c2f1cd7\"}, {\"hoverinfo\": \"none\", \"marker\": {\"color\": \"red\"}, \"mode\": \"lines\", \"name\": \"error at 14\", \"text\": [\"-2946\"], \"textposition\": \"top right\", \"x\": [14, 14], \"y\": [44000, 41054], \"type\": \"scatter\", \"uid\": \"cca2b3a5-4d52-44d6-8e9b-452d1e69bc81\"}, {\"hoverinfo\": \"none\", \"marker\": {\"color\": \"red\"}, \"mode\": \"lines\", \"name\": \"error at 15\", \"text\": [\"13682\"], \"textposition\": \"top right\", \"x\": [15, 15], \"y\": [42500, 56182], \"type\": \"scatter\", \"uid\": \"68f29bc7-2fe5-4983-8ca5-05ac4a6609f6\"}, {\"hoverinfo\": \"none\", \"marker\": {\"color\": \"red\"}, \"mode\": \"lines\", \"name\": \"error at 16\", \"text\": [\"8965\"], \"textposition\": \"top right\", \"x\": [16, 16], \"y\": [41000, 49965], \"type\": \"scatter\", \"uid\": \"409c96da-28ad-464e-850f-dc6653646ce2\"}, {\"hoverinfo\": \"none\", \"marker\": {\"color\": \"red\"}, \"mode\": \"lines\", \"name\": \"error at 17\", \"text\": [\"3594\"], \"textposition\": \"top right\", \"x\": [17, 17], \"y\": [39500, 43094], \"type\": \"scatter\", \"uid\": \"19d5143b-1412-4d56-8106-eafcb483d93c\"}, {\"hoverinfo\": \"none\", \"marker\": {\"color\": \"red\"}, \"mode\": \"lines\", \"name\": \"error at 18\", \"text\": [\"6414\"], \"textposition\": \"top right\", \"x\": [18, 18], \"y\": [38000, 44414], \"type\": \"scatter\", \"uid\": \"fb8c1885-db57-4058-a97f-fa0910d1de74\"}, {\"hoverinfo\": \"none\", \"marker\": {\"color\": \"red\"}, \"mode\": \"lines\", \"name\": \"error at 19\", \"text\": [\"4893\"], \"textposition\": \"top right\", \"x\": [19, 19], \"y\": [36500, 41393], \"type\": \"scatter\", \"uid\": \"061c9ae8-1c6a-480e-bb2a-41dbdbdef61c\"}, {\"hoverinfo\": \"none\", \"marker\": {\"color\": \"red\"}, \"mode\": \"lines\", \"name\": \"error at 20\", \"text\": [\"-97\"], \"textposition\": \"top right\", \"x\": [20, 20], \"y\": [35000, 34903], \"type\": \"scatter\", \"uid\": \"dc8e0ab2-eb3d-4c8f-a1ef-f034b5a8b505\"}, {\"hoverinfo\": \"none\", \"marker\": {\"color\": \"red\"}, \"mode\": \"lines\", \"name\": \"error at 21\", \"text\": [\"6035\"], \"textposition\": \"top right\", \"x\": [21, 21], \"y\": [33500, 39535], \"type\": \"scatter\", \"uid\": \"832035a2-c397-41cd-99bc-43639465974c\"}, {\"hoverinfo\": \"none\", \"marker\": {\"color\": \"red\"}, \"mode\": \"lines\", \"name\": \"error at 22\", \"text\": [\"7627\"], \"textposition\": \"top right\", \"x\": [22, 22], \"y\": [32000, 39627], \"type\": \"scatter\", \"uid\": \"5f1d5053-832b-4e0f-bd18-d8b33c89082e\"}, {\"hoverinfo\": \"none\", \"marker\": {\"color\": \"red\"}, \"mode\": \"lines\", \"name\": \"error at 23\", \"text\": [\"-21100\"], \"textposition\": \"top right\", \"x\": [23, 23], \"y\": [30500, 9400], \"type\": \"scatter\", \"uid\": \"70d443f3-0e2a-4340-8240-e5468a0db55c\"}], {}, {\"showLink\": false, \"linkText\": \"Export to plot.ly\", \"plotlyServerURL\": \"https://plot.ly\"})});</script><script type=\"text/javascript\">window.addEventListener(\"resize\", function(){window._Plotly.Plots.resize(document.getElementById(\"8980f88b-5424-4b83-bec9-17f8d18b23cd\"));});</script>"
      ],
      "text/vnd.plotly.v1+html": [
       "<div id=\"8980f88b-5424-4b83-bec9-17f8d18b23cd\" style=\"height: 525px; width: 100%;\" class=\"plotly-graph-div\"></div><script type=\"text/javascript\">require([\"plotly\"], function(Plotly) { window.PLOTLYENV=window.PLOTLYENV || {};window.PLOTLYENV.BASE_URL=\"https://plot.ly\";Plotly.newPlot(\"8980f88b-5424-4b83-bec9-17f8d18b23cd\", [{\"mode\": \"markers\", \"name\": \"actual\", \"x\": [0, 1, 2, 3, 4, 5, 6, 7, 8, 9, 10, 11, 12, 13, 14, 15, 16, 17, 18, 19, 20, 21, 22, 23], \"y\": [66609, 67048, 69664, 72238, 84721, 69224, 58697, 51430, 48239, 50574, 51707, 50305, 45590, 42180, 41054, 56182, 49965, 43094, 44414, 41393, 34903, 39535, 39627, 9400], \"type\": \"scatter\", \"uid\": \"f974a966-747b-435d-a2cc-61cdc96a8e40\"}, {\"mode\": \"lines\", \"name\": \"estimated\", \"x\": [0, 1, 2, 3, 4, 5, 6, 7, 8, 9, 10, 11, 12, 13, 14, 15, 16, 17, 18, 19, 20, 21, 22, 23], \"y\": [65000, 63500, 62000, 60500, 59000, 57500, 56000, 54500, 53000, 51500, 50000, 48500, 47000, 45500, 44000, 42500, 41000, 39500, 38000, 36500, 35000, 33500, 32000, 30500], \"type\": \"scatter\", \"uid\": \"01881ea0-a159-4a22-bbd9-1d7baa7778ac\"}, {\"hoverinfo\": \"none\", \"marker\": {\"color\": \"red\"}, \"mode\": \"lines\", \"name\": \"error at 0\", \"text\": [\"1609\"], \"textposition\": \"top right\", \"x\": [0, 0], \"y\": [65000, 66609], \"type\": \"scatter\", \"uid\": \"183f33f4-2c4e-477d-bad5-0a90f16c4a0a\"}, {\"hoverinfo\": \"none\", \"marker\": {\"color\": \"red\"}, \"mode\": \"lines\", \"name\": \"error at 1\", \"text\": [\"3548\"], \"textposition\": \"top right\", \"x\": [1, 1], \"y\": [63500, 67048], \"type\": \"scatter\", \"uid\": \"4c98a523-4411-49fd-ad46-ea2399c45bef\"}, {\"hoverinfo\": \"none\", \"marker\": {\"color\": \"red\"}, \"mode\": \"lines\", \"name\": \"error at 2\", \"text\": [\"7664\"], \"textposition\": \"top right\", \"x\": [2, 2], \"y\": [62000, 69664], \"type\": \"scatter\", \"uid\": \"71c91176-8031-4cf6-abbe-1144fbe6907a\"}, {\"hoverinfo\": \"none\", \"marker\": {\"color\": \"red\"}, \"mode\": \"lines\", \"name\": \"error at 3\", \"text\": [\"11738\"], \"textposition\": \"top right\", \"x\": [3, 3], \"y\": [60500, 72238], \"type\": \"scatter\", \"uid\": \"b52cc32b-87e2-475d-b958-fc89d59aa451\"}, {\"hoverinfo\": \"none\", \"marker\": {\"color\": \"red\"}, \"mode\": \"lines\", \"name\": \"error at 4\", \"text\": [\"25721\"], \"textposition\": \"top right\", \"x\": [4, 4], \"y\": [59000, 84721], \"type\": \"scatter\", \"uid\": \"d449af20-4a5f-494e-a719-c93f7b7974fe\"}, {\"hoverinfo\": \"none\", \"marker\": {\"color\": \"red\"}, \"mode\": \"lines\", \"name\": \"error at 5\", \"text\": [\"11724\"], \"textposition\": \"top right\", \"x\": [5, 5], \"y\": [57500, 69224], \"type\": \"scatter\", \"uid\": \"a55d40b4-b8b1-4230-abd6-4abe864cb59b\"}, {\"hoverinfo\": \"none\", \"marker\": {\"color\": \"red\"}, \"mode\": \"lines\", \"name\": \"error at 6\", \"text\": [\"2697\"], \"textposition\": \"top right\", \"x\": [6, 6], \"y\": [56000, 58697], \"type\": \"scatter\", \"uid\": \"d197b002-60c5-4c2c-9c32-3c4cc8d800a9\"}, {\"hoverinfo\": \"none\", \"marker\": {\"color\": \"red\"}, \"mode\": \"lines\", \"name\": \"error at 7\", \"text\": [\"-3070\"], \"textposition\": \"top right\", \"x\": [7, 7], \"y\": [54500, 51430], \"type\": \"scatter\", \"uid\": \"bd0d99f9-d04a-4c0b-840f-99811b88a18f\"}, {\"hoverinfo\": \"none\", \"marker\": {\"color\": \"red\"}, \"mode\": \"lines\", \"name\": \"error at 8\", \"text\": [\"-4761\"], \"textposition\": \"top right\", \"x\": [8, 8], \"y\": [53000, 48239], \"type\": \"scatter\", \"uid\": \"0af530c7-a988-4630-926b-417467724fe0\"}, {\"hoverinfo\": \"none\", \"marker\": {\"color\": \"red\"}, \"mode\": \"lines\", \"name\": \"error at 9\", \"text\": [\"-926\"], \"textposition\": \"top right\", \"x\": [9, 9], \"y\": [51500, 50574], \"type\": \"scatter\", \"uid\": \"ec08e4e1-5bac-4696-ac25-6aacf8f7d459\"}, {\"hoverinfo\": \"none\", \"marker\": {\"color\": \"red\"}, \"mode\": \"lines\", \"name\": \"error at 10\", \"text\": [\"1707\"], \"textposition\": \"top right\", \"x\": [10, 10], \"y\": [50000, 51707], \"type\": \"scatter\", \"uid\": \"f188a4e1-2c50-44c0-b3fb-d0e88333170d\"}, {\"hoverinfo\": \"none\", \"marker\": {\"color\": \"red\"}, \"mode\": \"lines\", \"name\": \"error at 11\", \"text\": [\"1805\"], \"textposition\": \"top right\", \"x\": [11, 11], \"y\": [48500, 50305], \"type\": \"scatter\", \"uid\": \"214c80e4-0027-47b7-956f-f747cbcd9564\"}, {\"hoverinfo\": \"none\", \"marker\": {\"color\": \"red\"}, \"mode\": \"lines\", \"name\": \"error at 12\", \"text\": [\"-1410\"], \"textposition\": \"top right\", \"x\": [12, 12], \"y\": [47000, 45590], \"type\": \"scatter\", \"uid\": \"bb2dde27-05c8-459c-8194-51ed88a0be4b\"}, {\"hoverinfo\": \"none\", \"marker\": {\"color\": \"red\"}, \"mode\": \"lines\", \"name\": \"error at 13\", \"text\": [\"-3320\"], \"textposition\": \"top right\", \"x\": [13, 13], \"y\": [45500, 42180], \"type\": \"scatter\", \"uid\": \"70a8ad2a-a87d-4f44-b1d8-e7161c2f1cd7\"}, {\"hoverinfo\": \"none\", \"marker\": {\"color\": \"red\"}, \"mode\": \"lines\", \"name\": \"error at 14\", \"text\": [\"-2946\"], \"textposition\": \"top right\", \"x\": [14, 14], \"y\": [44000, 41054], \"type\": \"scatter\", \"uid\": \"cca2b3a5-4d52-44d6-8e9b-452d1e69bc81\"}, {\"hoverinfo\": \"none\", \"marker\": {\"color\": \"red\"}, \"mode\": \"lines\", \"name\": \"error at 15\", \"text\": [\"13682\"], \"textposition\": \"top right\", \"x\": [15, 15], \"y\": [42500, 56182], \"type\": \"scatter\", \"uid\": \"68f29bc7-2fe5-4983-8ca5-05ac4a6609f6\"}, {\"hoverinfo\": \"none\", \"marker\": {\"color\": \"red\"}, \"mode\": \"lines\", \"name\": \"error at 16\", \"text\": [\"8965\"], \"textposition\": \"top right\", \"x\": [16, 16], \"y\": [41000, 49965], \"type\": \"scatter\", \"uid\": \"409c96da-28ad-464e-850f-dc6653646ce2\"}, {\"hoverinfo\": \"none\", \"marker\": {\"color\": \"red\"}, \"mode\": \"lines\", \"name\": \"error at 17\", \"text\": [\"3594\"], \"textposition\": \"top right\", \"x\": [17, 17], \"y\": [39500, 43094], \"type\": \"scatter\", \"uid\": \"19d5143b-1412-4d56-8106-eafcb483d93c\"}, {\"hoverinfo\": \"none\", \"marker\": {\"color\": \"red\"}, \"mode\": \"lines\", \"name\": \"error at 18\", \"text\": [\"6414\"], \"textposition\": \"top right\", \"x\": [18, 18], \"y\": [38000, 44414], \"type\": \"scatter\", \"uid\": \"fb8c1885-db57-4058-a97f-fa0910d1de74\"}, {\"hoverinfo\": \"none\", \"marker\": {\"color\": \"red\"}, \"mode\": \"lines\", \"name\": \"error at 19\", \"text\": [\"4893\"], \"textposition\": \"top right\", \"x\": [19, 19], \"y\": [36500, 41393], \"type\": \"scatter\", \"uid\": \"061c9ae8-1c6a-480e-bb2a-41dbdbdef61c\"}, {\"hoverinfo\": \"none\", \"marker\": {\"color\": \"red\"}, \"mode\": \"lines\", \"name\": \"error at 20\", \"text\": [\"-97\"], \"textposition\": \"top right\", \"x\": [20, 20], \"y\": [35000, 34903], \"type\": \"scatter\", \"uid\": \"dc8e0ab2-eb3d-4c8f-a1ef-f034b5a8b505\"}, {\"hoverinfo\": \"none\", \"marker\": {\"color\": \"red\"}, \"mode\": \"lines\", \"name\": \"error at 21\", \"text\": [\"6035\"], \"textposition\": \"top right\", \"x\": [21, 21], \"y\": [33500, 39535], \"type\": \"scatter\", \"uid\": \"832035a2-c397-41cd-99bc-43639465974c\"}, {\"hoverinfo\": \"none\", \"marker\": {\"color\": \"red\"}, \"mode\": \"lines\", \"name\": \"error at 22\", \"text\": [\"7627\"], \"textposition\": \"top right\", \"x\": [22, 22], \"y\": [32000, 39627], \"type\": \"scatter\", \"uid\": \"5f1d5053-832b-4e0f-bd18-d8b33c89082e\"}, {\"hoverinfo\": \"none\", \"marker\": {\"color\": \"red\"}, \"mode\": \"lines\", \"name\": \"error at 23\", \"text\": [\"-21100\"], \"textposition\": \"top right\", \"x\": [23, 23], \"y\": [30500, 9400], \"type\": \"scatter\", \"uid\": \"70d443f3-0e2a-4340-8240-e5468a0db55c\"}], {}, {\"showLink\": false, \"linkText\": \"Export to plot.ly\", \"plotlyServerURL\": \"https://plot.ly\"})});</script><script type=\"text/javascript\">window.addEventListener(\"resize\", function(){window._Plotly.Plots.resize(document.getElementById(\"8980f88b-5424-4b83-bec9-17f8d18b23cd\"));});</script>"
      ]
     },
     "metadata": {},
     "output_type": "display_data"
    }
   ],
   "source": [
    "regression_model = {'x': month_numbers, 'y': y_hats, 'mode': 'lines', 'name': 'estimated'}\n",
    "iplot([actual_trace, regression_model ] + error_traces)"
   ]
  },
  {
   "cell_type": "markdown",
   "metadata": {},
   "source": [
    "Now take a look at the graph above.  Let's take a look at the error at our fifth datapoint, where $x = 4$, and at our last datapoint where $x = 23$.  These are our errors at those two points."
   ]
  },
  {
   "cell_type": "code",
   "execution_count": 84,
   "metadata": {},
   "outputs": [
    {
     "data": {
      "text/plain": [
       "-21100"
      ]
     },
     "execution_count": 84,
     "metadata": {},
     "output_type": "execute_result"
    }
   ],
   "source": [
    "errors[4] # 25721\n",
    "errors[-1] # -21100"
   ]
  },
  {
   "cell_type": "markdown",
   "metadata": {},
   "source": [
    "Notice that when $x = 4$ our error is positive as subtracting `actual - expected` gives us a positive number where our model underestimates the revenue.  However at the final x value, our model overestimates the actual value, and therefore actual - expected = 9400 - 30500, which is negative.\n",
    "\n",
    "Ultimately the cost function we used was sum of the errors.  So when we add these two errors together: $-21100 + 25721 = 4621$, they begin to cancel each other out.  In other words, our positive errors are offsetting our our negative errors, and so when we add up all of these errors, our total will be smaller then we like.\n",
    "\n",
    "This is bad because imagine if we had a model that able to curve closer to that underestimated value at $x = 4$, and that underestimated value at our last point, we would want that to be reflected with a relatively lower cost function.  So we need to prevent our positive and negative errors from offsetting one another."
   ]
  },
  {
   "cell_type": "markdown",
   "metadata": {},
   "source": [
    "### The fix: RSS"
   ]
  },
  {
   "cell_type": "markdown",
   "metadata": {},
   "source": [
    "We can fix solve this problem simply by making each error positive.  After all, with our cost function, we don't really care if our error is positive or negative, we simply want our cost function to increase whenever we miss the actual value. \n",
    "\n",
    "We solve this by squaring each of the errors.  This works because when we square an a number the result is always positive."
   ]
  },
  {
   "cell_type": "code",
   "execution_count": 85,
   "metadata": {},
   "outputs": [
    {
     "data": {
      "text/plain": [
       "9"
      ]
     },
     "execution_count": 85,
     "metadata": {},
     "output_type": "execute_result"
    }
   ],
   "source": [
    "3**2"
   ]
  },
  {
   "cell_type": "code",
   "execution_count": 87,
   "metadata": {},
   "outputs": [
    {
     "data": {
      "text/plain": [
       "9"
      ]
     },
     "execution_count": 87,
     "metadata": {},
     "output_type": "execute_result"
    }
   ],
   "source": [
    "(-3)**2"
   ]
  },
  {
   "cell_type": "markdown",
   "metadata": {},
   "source": [
    "So now we don't need to create a list of errors, and add them up, but to create a list of squared errors and add them up.  This is easy enough.\n",
    "\n",
    "We start with our errors."
   ]
  },
  {
   "cell_type": "code",
   "execution_count": 97,
   "metadata": {},
   "outputs": [
    {
     "data": {
      "text/plain": [
       "[1609, 3548, 7664]"
      ]
     },
     "execution_count": 97,
     "metadata": {},
     "output_type": "execute_result"
    }
   ],
   "source": [
    "errors[0:3]"
   ]
  },
  {
   "cell_type": "markdown",
   "metadata": {},
   "source": [
    "And square each of them."
   ]
  },
  {
   "cell_type": "code",
   "execution_count": 98,
   "metadata": {},
   "outputs": [],
   "source": [
    "squared_errors = list(map(lambda error: (error)**2 ,errors))"
   ]
  },
  {
   "cell_type": "markdown",
   "metadata": {},
   "source": [
    "Let's see if this worked.  We can check on the squared error for our last point, which used to be negative."
   ]
  },
  {
   "cell_type": "code",
   "execution_count": 100,
   "metadata": {},
   "outputs": [
    {
     "data": {
      "text/plain": [
       "445210000"
      ]
     },
     "execution_count": 100,
     "metadata": {},
     "output_type": "execute_result"
    }
   ],
   "source": [
    "squared_errors[-1]"
   ]
  },
  {
   "cell_type": "code",
   "execution_count": 101,
   "metadata": {},
   "outputs": [
    {
     "data": {
      "text/plain": [
       "-21100"
      ]
     },
     "execution_count": 101,
     "metadata": {},
     "output_type": "execute_result"
    }
   ],
   "source": [
    "errors[-1]"
   ]
  },
  {
   "cell_type": "markdown",
   "metadata": {},
   "source": [
    "Cool, that looks better, and also looks like the square.  This is called the Residual Sum of Squares, and is the cost function data scientists the world over use for linear regression.  Let's see this expressed mathematically: "
   ]
  },
  {
   "cell_type": "markdown",
   "metadata": {},
   "source": [
    "$RSS = (actual_1 - expected_1)^2 + (actual_2 - expected_2)^2 + ...$"
   ]
  },
  {
   "cell_type": "markdown",
   "metadata": {},
   "source": [
    "Above just means what we illustrated before.  Calculate the error for the first point and square, then calculate the error for the second point and square it, and so on.  That little 1 at the bottom just means the first datapoint.  You can think of it as the index, but notice that in math we start our index with the number 1 instead of 0.\n",
    "\n",
    "And of course, we can rewrite this formula using the $y$ to represent our actual value and $\\hat{y}$ to represent our expected value, giving us:"
   ]
  },
  {
   "cell_type": "markdown",
   "metadata": {},
   "source": [
    "$RSS = (y_1 - \\hat{y}_1)^2 + (y_2 - \\hat{y}_2)^2 + ...$"
   ]
  },
  {
   "cell_type": "markdown",
   "metadata": {},
   "source": [
    "### Summary"
   ]
  },
  {
   "cell_type": "code",
   "execution_count": null,
   "metadata": {},
   "outputs": [],
   "source": []
  }
 ],
 "metadata": {
  "kernelspec": {
   "display_name": "Python 3",
   "language": "python",
   "name": "python3"
  },
  "language_info": {
   "codemirror_mode": {
    "name": "ipython",
    "version": 3
   },
   "file_extension": ".py",
   "mimetype": "text/x-python",
   "name": "python",
   "nbconvert_exporter": "python",
   "pygments_lexer": "ipython3",
   "version": "3.7.0"
  }
 },
 "nbformat": 4,
 "nbformat_minor": 2
}
