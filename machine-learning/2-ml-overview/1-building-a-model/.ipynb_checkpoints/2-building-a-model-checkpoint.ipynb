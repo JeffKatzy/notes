{
 "cells": [
  {
   "cell_type": "markdown",
   "metadata": {},
   "source": [
    "## Introduction to Hypothesis Functions"
   ]
  },
  {
   "cell_type": "markdown",
   "metadata": {},
   "source": [
    "### Introduction"
   ]
  },
  {
   "cell_type": "markdown",
   "metadata": {},
   "source": [
    "Let's keep going with our basketball data.  As we may remember, we are trying to use our data to find how given shot angles we can predict different distances."
   ]
  },
  {
   "cell_type": "markdown",
   "metadata": {},
   "source": [
    "<img src=\"basketball-shooting.jpg\">"
   ]
  },
  {
   "cell_type": "markdown",
   "metadata": {},
   "source": [
    "This is the data that we saw upon different shot angles."
   ]
  },
  {
   "cell_type": "markdown",
   "metadata": {},
   "source": [
    "\n",
    "| angle        | actual distance           \n",
    "| ------------- |:-------------:| \n",
    "|    .30        | 8 feet | \n",
    "|    .50        | 11 feet | \n",
    "|    .70        | 17 feet | "
   ]
  },
  {
   "cell_type": "markdown",
   "metadata": {},
   "source": [
    "And as we know, we can plot our data like so."
   ]
  },
  {
   "cell_type": "code",
   "execution_count": 1,
   "metadata": {},
   "outputs": [
    {
     "data": {
      "text/html": [
       "<script type=\"text/javascript\">window.PlotlyConfig = {MathJaxConfig: 'local'};</script><script type=\"text/javascript\">if (window.MathJax) {MathJax.Hub.Config({SVG: {font: \"STIX-Web\"}});}</script><script>requirejs.config({paths: { 'plotly': ['https://cdn.plot.ly/plotly-latest.min']},});if(!window._Plotly) {require(['plotly'],function(plotly) {window._Plotly=plotly;});}</script>"
      ],
      "text/vnd.plotly.v1+html": [
       "<script type=\"text/javascript\">window.PlotlyConfig = {MathJaxConfig: 'local'};</script><script type=\"text/javascript\">if (window.MathJax) {MathJax.Hub.Config({SVG: {font: \"STIX-Web\"}});}</script><script>requirejs.config({paths: { 'plotly': ['https://cdn.plot.ly/plotly-latest.min']},});if(!window._Plotly) {require(['plotly'],function(plotly) {window._Plotly=plotly;});}</script>"
      ]
     },
     "metadata": {},
     "output_type": "display_data"
    },
    {
     "data": {
      "application/vnd.plotly.v1+json": {
       "config": {
        "linkText": "Export to plot.ly",
        "plotlyServerURL": "https://plot.ly",
        "showLink": false
       },
       "data": [
        {
         "mode": "markers",
         "name": "data",
         "text": [],
         "type": "scatter",
         "uid": "44f47fef-b96a-4c29-b282-824155446313",
         "x": [
          0.3,
          0.5,
          0.7
         ],
         "y": [
          8,
          11,
          17
         ]
        }
       ],
       "layout": {
        "autosize": true,
        "xaxis": {
         "autorange": true,
         "range": [
          0.27530424458296227,
          0.7246957554170377
         ],
         "title": {
          "text": "shot angle"
         },
         "type": "linear"
        },
        "yaxis": {
         "range": [
          0,
          18
         ],
         "title": {
          "text": "shot distance"
         },
         "type": "linear"
        }
       }
      },
      "image/png": "[encoded data removed]",
      "text/html": [
       "<div id=\"c020d5b7-5adc-470d-bf75-31c9b3198633\" style=\"height: 525px; width: 100%;\" class=\"plotly-graph-div\"></div><script type=\"text/javascript\">require([\"plotly\"], function(Plotly) { window.PLOTLYENV=window.PLOTLYENV || {};window.PLOTLYENV.BASE_URL=\"https://plot.ly\";Plotly.newPlot(\"c020d5b7-5adc-470d-bf75-31c9b3198633\", [{\"mode\": \"markers\", \"name\": \"data\", \"text\": [], \"x\": [0.3, 0.5, 0.7], \"y\": [8, 11, 17], \"type\": \"scatter\", \"uid\": \"5c3aeaef-d7da-4e7c-b19a-2ec8ba337d60\"}], {\"xaxis\": {\"title\": {\"text\": \"shot angle\"}}, \"yaxis\": {\"range\": [0, 18], \"title\": {\"text\": \"shot distance\"}}}, {\"showLink\": false, \"linkText\": \"Export to plot.ly\", \"plotlyServerURL\": \"https://plot.ly\"})});</script><script type=\"text/javascript\">window.addEventListener(\"resize\", function(){window._Plotly.Plots.resize(document.getElementById(\"c020d5b7-5adc-470d-bf75-31c9b3198633\"));});</script>"
      ],
      "text/vnd.plotly.v1+html": [
       "<div id=\"c020d5b7-5adc-470d-bf75-31c9b3198633\" style=\"height: 525px; width: 100%;\" class=\"plotly-graph-div\"></div><script type=\"text/javascript\">require([\"plotly\"], function(Plotly) { window.PLOTLYENV=window.PLOTLYENV || {};window.PLOTLYENV.BASE_URL=\"https://plot.ly\";Plotly.newPlot(\"c020d5b7-5adc-470d-bf75-31c9b3198633\", [{\"mode\": \"markers\", \"name\": \"data\", \"text\": [], \"x\": [0.3, 0.5, 0.7], \"y\": [8, 11, 17], \"type\": \"scatter\", \"uid\": \"5c3aeaef-d7da-4e7c-b19a-2ec8ba337d60\"}], {\"xaxis\": {\"title\": {\"text\": \"shot angle\"}}, \"yaxis\": {\"range\": [0, 18], \"title\": {\"text\": \"shot distance\"}}}, {\"showLink\": false, \"linkText\": \"Export to plot.ly\", \"plotlyServerURL\": \"https://plot.ly\"})});</script><script type=\"text/javascript\">window.addEventListener(\"resize\", function(){window._Plotly.Plots.resize(document.getElementById(\"c020d5b7-5adc-470d-bf75-31c9b3198633\"));});</script>"
      ]
     },
     "metadata": {},
     "output_type": "display_data"
    }
   ],
   "source": [
    "from graph import trace_values, plot\n",
    "layout = {'yaxis': {'range': [0, 18], 'title': 'shot distance'}, 'xaxis': {'title': 'shot angle'}}\n",
    "plot([trace_values([.30, .50, .70], [8, 11, 17])], layout)"
   ]
  },
  {
   "cell_type": "markdown",
   "metadata": {},
   "source": [
    "### Building an initial model"
   ]
  },
  {
   "cell_type": "markdown",
   "metadata": {},
   "source": [
    "So we want to represent our intuition that the higher the angle, the larger the distance.  After this again is our data.\n",
    "\n",
    "| angle        | actual distance           \n",
    "| ------------- |:-------------:| \n",
    "|    .30        | 8 feet | \n",
    "|    .50        | 11 feet | \n",
    "|    .70        | 17 feet | \n"
   ]
  },
  {
   "cell_type": "markdown",
   "metadata": {},
   "source": [
    "Notice that our data is essentially suggests that the larger an input angle, the larger an output of distance.  So we want our intuition to reflect this, and in fact formalize our intuition with some math.  There is some real underlying model between how machine learning works, but we don't know that formula.  All we can do is look at the data, and take a guess - so this is what we come up with."
   ]
  },
  {
   "cell_type": "markdown",
   "metadata": {},
   "source": [
    "$$ distance = 40 * angle $$"
   ]
  },
  {
   "cell_type": "markdown",
   "metadata": {},
   "source": [
    "### Welcome to Machine Learning"
   ]
  },
  {
   "cell_type": "markdown",
   "metadata": {},
   "source": [
    "The task that we just did was machine learning, more or less.  In machine learning we collect lots of data with a goal of inferring our predictive model from our data.  That's what we do above (on a very simple, and small scale).  \n",
    "\n",
    "We start with our data, and then find a formula such that we can plug in our feature inputs, the formula makes predictions close the observed target variables.\n",
    "\n",
    "> We'll say that again, but first let's see an example."
   ]
  },
  {
   "cell_type": "markdown",
   "metadata": {},
   "source": [
    "For example for an angle of .3 we predict.\n",
    "\n",
    "$$ distance = .3 * 40 = 12 $$\n",
    "\n",
    "Ok, let's plug in our feature data into our formula."
   ]
  },
  {
   "cell_type": "markdown",
   "metadata": {},
   "source": [
    "| angle        | actual distance | expected distance             \n",
    "| ------------- |:-------------:| :-------------:| \n",
    "|    .30        | 8 feet | 12 feet | \n",
    "|    .50        | 11 feet | 20 feet | \n",
    "|    .70        | 17 feet | 28 feet | "
   ]
  },
  {
   "cell_type": "markdown",
   "metadata": {},
   "source": [
    "Now whether or not this hypothesis function is good or not, we'll worry about later.  For now, we can see that it comes *close* to predicting our targets."
   ]
  },
  {
   "cell_type": "markdown",
   "metadata": {},
   "source": [
    "We call our formula above, $distance = angle*40$  our hypothesis function. \n",
    "\n",
    "> Our **hypothesis function** takes in our feature inputs to output predictions close to our observed target variables.  Another word for a hypothesis function is a machine learning model - but we prefer to use the term hypothesis function for clarity."
   ]
  },
  {
   "cell_type": "markdown",
   "metadata": {},
   "source": [
    "So we start with our data, and then find a hypothesis function that takes an input of our features and returns predicted outputs close the observed target variables."
   ]
  },
  {
   "cell_type": "markdown",
   "metadata": {},
   "source": [
    "### Other expressions of a function"
   ]
  },
  {
   "cell_type": "markdown",
   "metadata": {},
   "source": [
    "Notice that our hypothesis function sounds kinda like our Python function.  After all, our hypothesis function takes an input of an angle and produces an output of a distance.  This sounds like a Python function."
   ]
  },
  {
   "cell_type": "code",
   "execution_count": 27,
   "metadata": {},
   "outputs": [],
   "source": [
    "def predicted_distance(angle):\n",
    "    return 40*angle"
   ]
  },
  {
   "cell_type": "code",
   "execution_count": 10,
   "metadata": {},
   "outputs": [
    {
     "data": {
      "text/plain": [
       "24.0"
      ]
     },
     "execution_count": 10,
     "metadata": {},
     "output_type": "execute_result"
    }
   ],
   "source": [
    "distance_guess(.10) # 4.0\n",
    "distance_guess(.30) # 12.0\n",
    "distance_guess(.60) # 24.0"
   ]
  },
  {
   "cell_type": "markdown",
   "metadata": {},
   "source": [
    "One thing nice about expressing our hypothesis function in this way is that it makes a prediction for any angle that we provide.  In fact, we could graph all of these predictions side by side our data using plotly.\n",
    "\n",
    "Here's how."
   ]
  },
  {
   "cell_type": "markdown",
   "metadata": {},
   "source": [
    "First we build have a trace of our data again."
   ]
  },
  {
   "cell_type": "code",
   "execution_count": 16,
   "metadata": {},
   "outputs": [
    {
     "data": {
      "text/plain": [
       "{'x': [0.3, 0.5, 0.7],\n",
       " 'y': [8, 11, 17],\n",
       " 'mode': 'markers',\n",
       " 'name': 'data',\n",
       " 'text': []}"
      ]
     },
     "execution_count": 16,
     "metadata": {},
     "output_type": "execute_result"
    }
   ],
   "source": [
    "from graph import trace_values, plot\n",
    "data_trace = trace_values([.30, .50, .70], [8, 11, 17])\n",
    "data_trace"
   ]
  },
  {
   "cell_type": "markdown",
   "metadata": {},
   "source": [
    "And then we build a trace of bunch of predictions that our hypothesis function makes.  We can calculate these predictions simply by using map."
   ]
  },
  {
   "cell_type": "code",
   "execution_count": 18,
   "metadata": {},
   "outputs": [
    {
     "data": {
      "text/plain": [
       "[4.0, 8.0, 12.0, 16.0, 20.0, 24.0, 28.0]"
      ]
     },
     "execution_count": 18,
     "metadata": {},
     "output_type": "execute_result"
    }
   ],
   "source": [
    "angles = [.1, .2, .3, .4, .5, .6, .7]\n",
    "predicted_distances = list(map(lambda angle: 40 * angle, angles))\n",
    "predicted_distances"
   ]
  },
  {
   "cell_type": "markdown",
   "metadata": {},
   "source": [
    "So now let's add a new trace with these predicted distances as the y value.  "
   ]
  },
  {
   "cell_type": "code",
   "execution_count": 26,
   "metadata": {},
   "outputs": [
    {
     "data": {
      "application/vnd.plotly.v1+json": {
       "config": {
        "linkText": "Export to plot.ly",
        "plotlyServerURL": "https://plot.ly",
        "showLink": false
       },
       "data": [
        {
         "mode": "markers",
         "name": "data",
         "text": [],
         "type": "scatter",
         "uid": "5111cb5d-4a24-4daf-890b-f4919cc89187",
         "x": [
          0.3,
          0.5,
          0.7
         ],
         "y": [
          8,
          11,
          17
         ]
        },
        {
         "mode": "lines",
         "name": "model",
         "text": [],
         "type": "scatter",
         "uid": "c373d67e-d7d5-4e5d-a2c0-55f3fceeb76e",
         "x": [
          0.1,
          0.2,
          0.3,
          0.4,
          0.5,
          0.6,
          0.7
         ],
         "y": [
          4,
          8,
          12,
          16,
          20,
          24,
          28
         ]
        }
       ],
       "layout": {
        "autosize": true,
        "xaxis": {
         "autorange": true,
         "range": [
          0.1,
          0.7350174216027874
         ],
         "type": "linear"
        },
        "yaxis": {
         "autorange": true,
         "range": [
          2.666666666666667,
          29.333333333333332
         ],
         "type": "linear"
        }
       }
      },
      "image/png": "[encoded data removed]",
      "text/html": [
       "<div id=\"6371351b-ca4f-4e93-b3ea-a26316623654\" style=\"height: 525px; width: 100%;\" class=\"plotly-graph-div\"></div><script type=\"text/javascript\">require([\"plotly\"], function(Plotly) { window.PLOTLYENV=window.PLOTLYENV || {};window.PLOTLYENV.BASE_URL=\"https://plot.ly\";Plotly.newPlot(\"6371351b-ca4f-4e93-b3ea-a26316623654\", [{\"mode\": \"markers\", \"name\": \"data\", \"text\": [], \"x\": [0.3, 0.5, 0.7], \"y\": [8, 11, 17], \"type\": \"scatter\", \"uid\": \"d9f5199a-5946-4c6a-ae4f-9041e56dc5af\"}, {\"mode\": \"lines\", \"name\": \"model\", \"text\": [], \"x\": [0.1, 0.2, 0.3, 0.4, 0.5, 0.6, 0.7], \"y\": [4.0, 8.0, 12.0, 16.0, 20.0, 24.0, 28.0], \"type\": \"scatter\", \"uid\": \"5c142923-1540-42a8-865a-70f6d0635f7c\"}], {}, {\"showLink\": false, \"linkText\": \"Export to plot.ly\", \"plotlyServerURL\": \"https://plot.ly\"})});</script><script type=\"text/javascript\">window.addEventListener(\"resize\", function(){window._Plotly.Plots.resize(document.getElementById(\"6371351b-ca4f-4e93-b3ea-a26316623654\"));});</script>"
      ],
      "text/vnd.plotly.v1+html": [
       "<div id=\"6371351b-ca4f-4e93-b3ea-a26316623654\" style=\"height: 525px; width: 100%;\" class=\"plotly-graph-div\"></div><script type=\"text/javascript\">require([\"plotly\"], function(Plotly) { window.PLOTLYENV=window.PLOTLYENV || {};window.PLOTLYENV.BASE_URL=\"https://plot.ly\";Plotly.newPlot(\"6371351b-ca4f-4e93-b3ea-a26316623654\", [{\"mode\": \"markers\", \"name\": \"data\", \"text\": [], \"x\": [0.3, 0.5, 0.7], \"y\": [8, 11, 17], \"type\": \"scatter\", \"uid\": \"d9f5199a-5946-4c6a-ae4f-9041e56dc5af\"}, {\"mode\": \"lines\", \"name\": \"model\", \"text\": [], \"x\": [0.1, 0.2, 0.3, 0.4, 0.5, 0.6, 0.7], \"y\": [4.0, 8.0, 12.0, 16.0, 20.0, 24.0, 28.0], \"type\": \"scatter\", \"uid\": \"5c142923-1540-42a8-865a-70f6d0635f7c\"}], {}, {\"showLink\": false, \"linkText\": \"Export to plot.ly\", \"plotlyServerURL\": \"https://plot.ly\"})});</script><script type=\"text/javascript\">window.addEventListener(\"resize\", function(){window._Plotly.Plots.resize(document.getElementById(\"6371351b-ca4f-4e93-b3ea-a26316623654\"));});</script>"
      ]
     },
     "metadata": {},
     "output_type": "display_data"
    }
   ],
   "source": [
    "from graph import trace_values, plot\n",
    "data_trace = trace_values([.30, .50, .70], [8, 11, 17], name = 'data')\n",
    "model_trace = trace_values(angles, predicted_distances, mode = 'lines', name = 'model')\n",
    "layout = {'yaxis': {'range': [0, 18], 'title': 'shot distance'}, 'xaxis': {'title': 'shot angle'}}\n",
    "plot([data_trace, model_trace])"
   ]
  },
  {
   "cell_type": "markdown",
   "metadata": {},
   "source": [
    "So this is another way to view our hypothesis function.  It's just a line that for a set of inputs predicts corresponding outputs."
   ]
  },
  {
   "cell_type": "markdown",
   "metadata": {},
   "source": [
    "### Summary"
   ]
  },
  {
   "cell_type": "markdown",
   "metadata": {},
   "source": [
    "In this lesson we were introduced our hypothesis function. A hypothesis function takes in our feature inputs to output predictions close to our observed target variables.  For example, our hypothesis function predicted outputs of distances given an feature inputs.  \n",
    "\n",
    "We saw a few different ways to represent our hypothesis function.  First, we saw how to represent it as a mathematical formula.\n",
    "\n",
    "$$ distance = 40 * angle $$"
   ]
  },
  {
   "cell_type": "markdown",
   "metadata": {},
   "source": [
    "We saw that with this formula, we can provide different angles as input and the formula will calulate different distances as outputs.  \n",
    "\n",
    "Next we saw how to represent this same hypothesis function as a function in Python."
   ]
  },
  {
   "cell_type": "code",
   "execution_count": 22,
   "metadata": {},
   "outputs": [],
   "source": [
    "def predicted_distance(angle):\n",
    "    return 40*angle"
   ]
  },
  {
   "cell_type": "markdown",
   "metadata": {},
   "source": [
    "Finally we saw that we display this hypothesis function as a line in our graph, by calculating a series of distances for a list of angles and plotting these distances alongside our actual data."
   ]
  },
  {
   "cell_type": "code",
   "execution_count": 25,
   "metadata": {},
   "outputs": [
    {
     "data": {
      "application/vnd.plotly.v1+json": {
       "config": {
        "linkText": "Export to plot.ly",
        "plotlyServerURL": "https://plot.ly",
        "showLink": false
       },
       "data": [
        {
         "mode": "markers",
         "name": "data",
         "text": [],
         "type": "scatter",
         "uid": "509d49ef-cb44-41ad-9e96-c230ad15fd0a",
         "x": [
          0.3,
          0.5,
          0.7
         ],
         "y": [
          8,
          11,
          17
         ]
        },
        {
         "mode": "lines",
         "name": "model",
         "text": [],
         "type": "scatter",
         "uid": "804f65d6-fe79-445a-8f32-11418d96ed7a",
         "x": [
          0.1,
          0.2,
          0.3,
          0.4,
          0.5,
          0.6,
          0.7
         ],
         "y": [
          4,
          8,
          12,
          16,
          20,
          24,
          28
         ]
        }
       ],
       "layout": {
        "autosize": true,
        "xaxis": {
         "autorange": true,
         "range": [
          0.1,
          0.7350174216027874
         ],
         "type": "linear"
        },
        "yaxis": {
         "autorange": true,
         "range": [
          2.666666666666667,
          29.333333333333332
         ],
         "type": "linear"
        }
       }
      },
      "image/png": "[encoded data removed]",
      "text/html": [
       "<div id=\"ef82cda7-dbf6-4d77-8c23-2307ccce41b6\" style=\"height: 525px; width: 100%;\" class=\"plotly-graph-div\"></div><script type=\"text/javascript\">require([\"plotly\"], function(Plotly) { window.PLOTLYENV=window.PLOTLYENV || {};window.PLOTLYENV.BASE_URL=\"https://plot.ly\";Plotly.newPlot(\"ef82cda7-dbf6-4d77-8c23-2307ccce41b6\", [{\"mode\": \"markers\", \"name\": \"data\", \"text\": [], \"x\": [0.3, 0.5, 0.7], \"y\": [8, 11, 17], \"type\": \"scatter\", \"uid\": \"179e3d44-5b95-49ce-b7d1-50fc663073b5\"}, {\"mode\": \"lines\", \"name\": \"model\", \"text\": [], \"x\": [0.1, 0.2, 0.3, 0.4, 0.5, 0.6, 0.7], \"y\": [4.0, 8.0, 12.0, 16.0, 20.0, 24.0, 28.0], \"type\": \"scatter\", \"uid\": \"957e4a24-4c99-43b5-9801-095b22905629\"}], {}, {\"showLink\": false, \"linkText\": \"Export to plot.ly\", \"plotlyServerURL\": \"https://plot.ly\"})});</script><script type=\"text/javascript\">window.addEventListener(\"resize\", function(){window._Plotly.Plots.resize(document.getElementById(\"ef82cda7-dbf6-4d77-8c23-2307ccce41b6\"));});</script>"
      ],
      "text/vnd.plotly.v1+html": [
       "<div id=\"ef82cda7-dbf6-4d77-8c23-2307ccce41b6\" style=\"height: 525px; width: 100%;\" class=\"plotly-graph-div\"></div><script type=\"text/javascript\">require([\"plotly\"], function(Plotly) { window.PLOTLYENV=window.PLOTLYENV || {};window.PLOTLYENV.BASE_URL=\"https://plot.ly\";Plotly.newPlot(\"ef82cda7-dbf6-4d77-8c23-2307ccce41b6\", [{\"mode\": \"markers\", \"name\": \"data\", \"text\": [], \"x\": [0.3, 0.5, 0.7], \"y\": [8, 11, 17], \"type\": \"scatter\", \"uid\": \"179e3d44-5b95-49ce-b7d1-50fc663073b5\"}, {\"mode\": \"lines\", \"name\": \"model\", \"text\": [], \"x\": [0.1, 0.2, 0.3, 0.4, 0.5, 0.6, 0.7], \"y\": [4.0, 8.0, 12.0, 16.0, 20.0, 24.0, 28.0], \"type\": \"scatter\", \"uid\": \"957e4a24-4c99-43b5-9801-095b22905629\"}], {}, {\"showLink\": false, \"linkText\": \"Export to plot.ly\", \"plotlyServerURL\": \"https://plot.ly\"})});</script><script type=\"text/javascript\">window.addEventListener(\"resize\", function(){window._Plotly.Plots.resize(document.getElementById(\"ef82cda7-dbf6-4d77-8c23-2307ccce41b6\"));});</script>"
      ]
     },
     "metadata": {},
     "output_type": "display_data"
    }
   ],
   "source": [
    "from graph import trace_values, plot\n",
    "data_trace = trace_values([.30, .50, .70], [8, 11, 17], name = 'data')\n",
    "model_trace = trace_values(angles, predicted_distances, mode = 'lines', name = 'model')\n",
    "layout = {'yaxis': {'range': [0, 18], 'title': 'shot distance'}, 'xaxis': {'title': 'shot angle'}}\n",
    "plot([data_trace, model_trace])"
   ]
  }
 ],
 "metadata": {
  "kernelspec": {
   "display_name": "Python 3",
   "language": "python",
   "name": "python3"
  },
  "language_info": {
   "codemirror_mode": {
    "name": "ipython",
    "version": 3
   },
   "file_extension": ".py",
   "mimetype": "text/x-python",
   "name": "python",
   "nbconvert_exporter": "python",
   "pygments_lexer": "ipython3",
   "version": "3.7.0"
  }
 },
 "nbformat": 4,
 "nbformat_minor": 2
}
