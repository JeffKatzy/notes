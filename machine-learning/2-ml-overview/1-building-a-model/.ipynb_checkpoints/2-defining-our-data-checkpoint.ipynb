{
 "cells": [
  {
   "cell_type": "markdown",
   "metadata": {},
   "source": [
    "## Defining our data"
   ]
  },
  {
   "cell_type": "markdown",
   "metadata": {},
   "source": [
    "### Introduction"
   ]
  },
  {
   "cell_type": "markdown",
   "metadata": {},
   "source": [
    "Let's stick with our problem of a young basketball player that is trying to use data to improve his basketball shot."
   ]
  },
  {
   "cell_type": "markdown",
   "metadata": {},
   "source": [
    "<img src=\"basketball-shooting.jpg\">"
   ]
  },
  {
   "cell_type": "markdown",
   "metadata": {},
   "source": [
    "He wants to see how the angle of his basketball shot affects the distance of that shot.  So he takes a number of shots and records the distances."
   ]
  },
  {
   "cell_type": "markdown",
   "metadata": {},
   "source": [
    "\n",
    "| angle        | actual distance           \n",
    "| ------------- |:-------------:| \n",
    "|    .30        | 8 feet | \n",
    "|    .50        | 11 feet | \n",
    "|    .70        | 17 feet | "
   ]
  },
  {
   "cell_type": "markdown",
   "metadata": {},
   "source": [
    "### Understanding the data"
   ]
  },
  {
   "cell_type": "markdown",
   "metadata": {},
   "source": [
    "Now what he may want to do is see if there is a relationship between the data.  To do this, plot the angles horizontally on the x axis, and the corresponding distances vertically on the y axis.  Let's do it!"
   ]
  },
  {
   "cell_type": "code",
   "execution_count": 1,
   "metadata": {},
   "outputs": [
    {
     "data": {
      "text/html": [
       "<script type=\"text/javascript\">window.PlotlyConfig = {MathJaxConfig: 'local'};</script><script type=\"text/javascript\">if (window.MathJax) {MathJax.Hub.Config({SVG: {font: \"STIX-Web\"}});}</script><script>requirejs.config({paths: { 'plotly': ['https://cdn.plot.ly/plotly-latest.min']},});if(!window._Plotly) {require(['plotly'],function(plotly) {window._Plotly=plotly;});}</script>"
      ],
      "text/vnd.plotly.v1+html": [
       "<script type=\"text/javascript\">window.PlotlyConfig = {MathJaxConfig: 'local'};</script><script type=\"text/javascript\">if (window.MathJax) {MathJax.Hub.Config({SVG: {font: \"STIX-Web\"}});}</script><script>requirejs.config({paths: { 'plotly': ['https://cdn.plot.ly/plotly-latest.min']},});if(!window._Plotly) {require(['plotly'],function(plotly) {window._Plotly=plotly;});}</script>"
      ]
     },
     "metadata": {},
     "output_type": "display_data"
    },
    {
     "data": {
      "application/vnd.plotly.v1+json": {
       "config": {
        "linkText": "Export to plot.ly",
        "plotlyServerURL": "https://plot.ly",
        "showLink": false
       },
       "data": [
        {
         "mode": "markers",
         "name": "data",
         "text": [],
         "type": "scatter",
         "uid": "44f47fef-b96a-4c29-b282-824155446313",
         "x": [
          0.3,
          0.5,
          0.7
         ],
         "y": [
          8,
          11,
          17
         ]
        }
       ],
       "layout": {
        "autosize": true,
        "xaxis": {
         "autorange": true,
         "range": [
          0.2754934210526316,
          0.7245065789473684
         ],
         "title": {
          "text": "shot angle"
         },
         "type": "linear"
        },
        "yaxis": {
         "range": [
          0,
          18
         ],
         "title": {
          "text": "shot distance"
         },
         "type": "linear"
        }
       }
      },
      "image/png": "[encoded data removed]",
      "text/html": [
       "<div id=\"c020d5b7-5adc-470d-bf75-31c9b3198633\" style=\"height: 525px; width: 100%;\" class=\"plotly-graph-div\"></div><script type=\"text/javascript\">require([\"plotly\"], function(Plotly) { window.PLOTLYENV=window.PLOTLYENV || {};window.PLOTLYENV.BASE_URL=\"https://plot.ly\";Plotly.newPlot(\"c020d5b7-5adc-470d-bf75-31c9b3198633\", [{\"mode\": \"markers\", \"name\": \"data\", \"text\": [], \"x\": [0.3, 0.5, 0.7], \"y\": [8, 11, 17], \"type\": \"scatter\", \"uid\": \"5c3aeaef-d7da-4e7c-b19a-2ec8ba337d60\"}], {\"xaxis\": {\"title\": {\"text\": \"shot angle\"}}, \"yaxis\": {\"range\": [0, 18], \"title\": {\"text\": \"shot distance\"}}}, {\"showLink\": false, \"linkText\": \"Export to plot.ly\", \"plotlyServerURL\": \"https://plot.ly\"})});</script><script type=\"text/javascript\">window.addEventListener(\"resize\", function(){window._Plotly.Plots.resize(document.getElementById(\"c020d5b7-5adc-470d-bf75-31c9b3198633\"));});</script>"
      ],
      "text/vnd.plotly.v1+html": [
       "<div id=\"c020d5b7-5adc-470d-bf75-31c9b3198633\" style=\"height: 525px; width: 100%;\" class=\"plotly-graph-div\"></div><script type=\"text/javascript\">require([\"plotly\"], function(Plotly) { window.PLOTLYENV=window.PLOTLYENV || {};window.PLOTLYENV.BASE_URL=\"https://plot.ly\";Plotly.newPlot(\"c020d5b7-5adc-470d-bf75-31c9b3198633\", [{\"mode\": \"markers\", \"name\": \"data\", \"text\": [], \"x\": [0.3, 0.5, 0.7], \"y\": [8, 11, 17], \"type\": \"scatter\", \"uid\": \"5c3aeaef-d7da-4e7c-b19a-2ec8ba337d60\"}], {\"xaxis\": {\"title\": {\"text\": \"shot angle\"}}, \"yaxis\": {\"range\": [0, 18], \"title\": {\"text\": \"shot distance\"}}}, {\"showLink\": false, \"linkText\": \"Export to plot.ly\", \"plotlyServerURL\": \"https://plot.ly\"})});</script><script type=\"text/javascript\">window.addEventListener(\"resize\", function(){window._Plotly.Plots.resize(document.getElementById(\"c020d5b7-5adc-470d-bf75-31c9b3198633\"));});</script>"
      ]
     },
     "metadata": {},
     "output_type": "display_data"
    }
   ],
   "source": [
    "from graph import trace_values, plot\n",
    "layout = {'yaxis': {'range': [0, 18], 'title': 'shot distance'}, 'xaxis': {'title': 'shot angle'}}\n",
    "plot([trace_values([.30, .50, .70], [8, 11, 17])], layout)"
   ]
  },
  {
   "cell_type": "markdown",
   "metadata": {},
   "source": [
    "Ok, so from the data above, we can see an upward trend.  The steeper the shot angle, the further the distance."
   ]
  },
  {
   "cell_type": "markdown",
   "metadata": {},
   "source": [
    "Now let's stick with our data, and learn the machine learning terms for the different components of our data."
   ]
  },
  {
   "cell_type": "markdown",
   "metadata": {},
   "source": [
    "### Defining our terms"
   ]
  },
  {
   "cell_type": "markdown",
   "metadata": {},
   "source": [
    "Let's take another look at our data."
   ]
  },
  {
   "cell_type": "markdown",
   "metadata": {},
   "source": [
    "| angle        | actual distance           \n",
    "| ------------- |:-------------:| \n",
    "|    .30        | 8 feet | \n",
    "|    .50        | 11 feet | \n",
    "|    .70        | 17 feet | \n"
   ]
  },
  {
   "cell_type": "markdown",
   "metadata": {},
   "source": [
    "**Observations**"
   ]
  },
  {
   "cell_type": "markdown",
   "metadata": {},
   "source": [
    " We can think of the row in the chart above as recommending an experiment - we choose an angle and get a distance. "
   ]
  },
  {
   "cell_type": "markdown",
   "metadata": {},
   "source": [
    "> We call this an **observation**.  An observation is a row or sample in a dataset.  Above we have three observations."
   ]
  },
  {
   "cell_type": "markdown",
   "metadata": {},
   "source": [
    "**Attribute**\n",
    "\n",
    "> We would call the column name `angle` an attribute.  An attribute is a type of property that we observe to predict or explain the target.  It is each of the words at the top of our columns.  An attribute does not include what we are trying to predict.  So in our table above, `angle` is the only attribute."
   ]
  },
  {
   "cell_type": "markdown",
   "metadata": {},
   "source": [
    "**Feature Input**\n",
    "\n",
    "> Now a feature is a combination of the attribute and the corresponding data.  So angle is our attribute, and angle equals .30 is our **feature** or **feature input**.  We have three features in the dataset above, .30, .50, .70."
   ]
  },
  {
   "cell_type": "markdown",
   "metadata": {},
   "source": [
    "**Target** \n",
    "\n",
    "> Finally we can called the column that we are trying to predict our target.  So our target is `actual distance` and the target variables are 8, 11, and 12 feet."
   ]
  },
  {
   "cell_type": "markdown",
   "metadata": {},
   "source": [
    "**Outcomes/Labels/Target Variables**\n",
    "\n",
    "> The data in our target column is caled an outcome, label or target variable.  So nine feet, eleven feet, and seventeen feet are each **outcomes** of our observations.  We'll generally call it an outcome.  An outcome is the end result that we are trying to predict in our machine learning problem.  So our outcomes of our observations above are 8 feet, 11 feet and 17 feet.  "
   ]
  },
  {
   "cell_type": "markdown",
   "metadata": {},
   "source": [
    "Whew! That was a lot of terms.  And unfortunately, it's the one part of this course, where some memorization is involved.  Let's see our table now filled in with the terms."
   ]
  },
  {
   "cell_type": "markdown",
   "metadata": {},
   "source": [
    "| attribute | attribute       | target           \n",
    "| -------------| ------------- |:-------------:| \n",
    "|    feature input|    feature input        | target variable | \n",
    "|    feature input|    feature input        | target variable | \n",
    "|    feature input|    feature input        | target variable | \n"
   ]
  },
  {
   "cell_type": "markdown",
   "metadata": {},
   "source": [
    "So above we have multiple attributes, each use to predict an target.  For example, say we have both shooting angle and force to predict distance."
   ]
  },
  {
   "cell_type": "markdown",
   "metadata": {},
   "source": [
    "### Expressing features and target variables with math"
   ]
  },
  {
   "cell_type": "markdown",
   "metadata": {},
   "source": [
    "Now there's one more thing to point out that we may generally express our feature inputs with the variable $x$ and our target data with the variable $y$."
   ]
  },
  {
   "cell_type": "markdown",
   "metadata": {},
   "source": [
    "| angle        | actual distance           \n",
    "| ------------- |:-------------:| \n",
    "|    .30        | 8 feet | \n",
    "|    .50        | 11 feet | "
   ]
  },
  {
   "cell_type": "markdown",
   "metadata": {},
   "source": [
    "So with the data angle = .30 and distance = .80, we could say that the $x = .30$ and $y = .80$ for that observation."
   ]
  },
  {
   "cell_type": "markdown",
   "metadata": {},
   "source": [
    "If we want to distinguish values for our first and second observations we use a superscript like so:\n",
    "\n",
    "$x^{(1)} = .30, y^{(1)} = 8$\n",
    "\n",
    "$x^{(2)} = .50, y^{(2)} = 11$"
   ]
  },
  {
   "cell_type": "markdown",
   "metadata": {},
   "source": [
    "### Summary"
   ]
  },
  {
   "cell_type": "markdown",
   "metadata": {},
   "source": [
    "Now to summarize, we gather data related to an *attribute* and a *target* that we are interested in predicting.  The data we gather is a collection of *observations* -- where each observation is a row of data.  This data consists of *features* which is the collection of our input data and target variables or outcomes which is our observed outcomes."
   ]
  }
 ],
 "metadata": {
  "kernelspec": {
   "display_name": "Python 3",
   "language": "python",
   "name": "python3"
  },
  "language_info": {
   "codemirror_mode": {
    "name": "ipython",
    "version": 3
   },
   "file_extension": ".py",
   "mimetype": "text/x-python",
   "name": "python",
   "nbconvert_exporter": "python",
   "pygments_lexer": "ipython3",
   "version": "3.7.0"
  }
 },
 "nbformat": 4,
 "nbformat_minor": 2
}
