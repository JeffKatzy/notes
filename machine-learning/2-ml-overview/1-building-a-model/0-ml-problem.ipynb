{
 "cells": [
  {
   "cell_type": "markdown",
   "metadata": {},
   "source": [
    "# The machine learning problem"
   ]
  },
  {
   "cell_type": "markdown",
   "metadata": {},
   "source": [
    "### From Computer Programming to Machine learning "
   ]
  },
  {
   "cell_type": "markdown",
   "metadata": {},
   "source": [
    "Let's begin by thinking about the problem that computer programming generally solves.  With computer programming we begin with a real world procedure, or set of rules, that we feel confident enough to codify.  For example, let's assume that we are writing a computer program to see if someone is qualified for a driver's license.  \n",
    "\n",
    "The standard legal driving age is 16 years old.  So to translate this into code, we write something like the following. "
   ]
  },
  {
   "cell_type": "code",
   "execution_count": 1,
   "metadata": {},
   "outputs": [],
   "source": [
    "def legal_driving_age(age):\n",
    "    return age >= 16"
   ]
  },
  {
   "cell_type": "code",
   "execution_count": 2,
   "metadata": {},
   "outputs": [
    {
     "data": {
      "text/plain": [
       "True"
      ]
     },
     "execution_count": 2,
     "metadata": {},
     "output_type": "execute_result"
    }
   ],
   "source": [
    "legal_driving_age(14)\n",
    "# False\n",
    "legal_driving_age(16)\n",
    "# True"
   ]
  },
  {
   "cell_type": "markdown",
   "metadata": {},
   "source": [
    "Now what if we want to program the chance that when takes a basketball shot, the ball will go through the net.  Try to turn something like this into code.  "
   ]
  },
  {
   "cell_type": "code",
   "execution_count": 3,
   "metadata": {},
   "outputs": [],
   "source": [
    "# go for it"
   ]
  },
  {
   "cell_type": "markdown",
   "metadata": {},
   "source": [
    "With the `legal_driving_age` function, we know that the input to the function is `age`.  But with the jumpshot problem, we have questions. \n",
    "1. What are the inputs to our function \n",
    " * the distance of the shot, the angle of the shot, whether the shooter has a defender near him?  \n",
    "2. And then how do each of these factors combine?  \n",
    " * So unlike our legal driving age problem, here we do not start off knowing the underlying logic that determines the outcome.  "
   ]
  },
  {
   "cell_type": "markdown",
   "metadata": {},
   "source": [
    "Let's move beyond basketball.  Here are some other problems we may want to solve: \n",
    "* Will there will be a hurricane in Miami on a given day?\n",
    "* Will a job applicant be a match for an employer?  \n",
    "* Will someone like a product, or an advertisement?  \n",
    "\n",
    "These are all problems that are difficult to discover both the important inputs, and the combination of these inputs, and thus is difficult to codify.  \n",
    "\n",
    "> With machine learning, we try to discover a procedure that allows us to predict (and often understand) the occurrence of a real world phenomenon.  \n",
    "\n",
    "Let's see how we do this."
   ]
  }
 ],
 "metadata": {
  "kernelspec": {
   "display_name": "Python 3",
   "language": "python",
   "name": "python3"
  },
  "language_info": {
   "codemirror_mode": {
    "name": "ipython",
    "version": 3
   },
   "file_extension": ".py",
   "mimetype": "text/x-python",
   "name": "python",
   "nbconvert_exporter": "python",
   "pygments_lexer": "ipython3",
   "version": "3.7.0"
  }
 },
 "nbformat": 4,
 "nbformat_minor": 2
}
