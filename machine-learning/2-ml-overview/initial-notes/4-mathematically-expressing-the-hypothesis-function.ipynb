{
 "cells": [
  {
   "cell_type": "markdown",
   "metadata": {},
   "source": [
    "## Mathematically expressing Hypothesis Functions"
   ]
  },
  {
   "cell_type": "markdown",
   "metadata": {},
   "source": [
    "In the previous lesson, we saw that our **hypothesis function** takes in feature inputs and outputs predictions close to our observed target variables.  We saw multiple expressoins of our specific hypothesis function used to predict distance.  For example, we saw it as a formula."
   ]
  },
  {
   "cell_type": "markdown",
   "metadata": {},
   "source": [
    "$$ distance = 40 * angle $$"
   ]
  },
  {
   "cell_type": "markdown",
   "metadata": {},
   "source": [
    "And we saw it expressed as a Python function."
   ]
  },
  {
   "cell_type": "code",
   "execution_count": 2,
   "metadata": {},
   "outputs": [],
   "source": [
    "def distance(angle):\n",
    "    return 40*angle"
   ]
  },
  {
   "cell_type": "markdown",
   "metadata": {},
   "source": [
    "In this lesson, let's see how to express our hypothesis function more generically."
   ]
  },
  {
   "cell_type": "markdown",
   "metadata": {},
   "source": [
    "### Expressing our generic hypothesis function as code"
   ]
  },
  {
   "cell_type": "markdown",
   "metadata": {},
   "source": [
    "Let's start writing a generic hypothesis function as code.  We'll do this by starting with our hypothesis function definition: \n",
    " \n",
    "> A **hypothesis function** takes in feature inputs and outputs predictions close to our observed target variables."
   ]
  },
  {
   "cell_type": "markdown",
   "metadata": {},
   "source": [
    "So we define our hypothesis function as a function named `h`."
   ]
  },
  {
   "cell_type": "code",
   "execution_count": 4,
   "metadata": {},
   "outputs": [],
   "source": [
    "def h():\n",
    "    pass"
   ]
  },
  {
   "cell_type": "markdown",
   "metadata": {},
   "source": [
    "Now it says that it takes in feature inputs.  That will be our argument to our function, and remember that we denote our feature inputs generically as $x$.  So let's update our function accordingly."
   ]
  },
  {
   "cell_type": "code",
   "execution_count": 5,
   "metadata": {},
   "outputs": [],
   "source": [
    "def h(x):\n",
    "    pass"
   ]
  },
  {
   "cell_type": "markdown",
   "metadata": {},
   "source": [
    "That's good enough for now."
   ]
  },
  {
   "cell_type": "markdown",
   "metadata": {},
   "source": [
    "### Expressing our hypothesis function with math"
   ]
  },
  {
   "cell_type": "markdown",
   "metadata": {},
   "source": [
    "Now to express our hypothesis function mathematically, we write something quite similar."
   ]
  },
  {
   "cell_type": "markdown",
   "metadata": {},
   "source": [
    "$ h(x) $"
   ]
  },
  {
   "cell_type": "markdown",
   "metadata": {},
   "source": [
    "* $h$ represents the name of our function \n",
    "* $h(x)$ specifies that the function takes in an input, our feature variables $x$.\n",
    "\n",
    "So we covered that our hypothesis function takes in inputs, what about that it outputs predictions?"
   ]
  },
  {
   "cell_type": "markdown",
   "metadata": {},
   "source": [
    "Well it tries to predict our target variable.  Remember that the symbol we use for our target variable is $y$.  But that's what we use to denote our actual observed -- in our example, the actual distances we observed.  To make clear that these are just estimates of our model we use the symbol, $\\hat{y}$, pronounced y hat."
   ]
  },
  {
   "cell_type": "markdown",
   "metadata": {},
   "source": [
    "So we can begin to write this as the following:"
   ]
  },
  {
   "cell_type": "markdown",
   "metadata": {},
   "source": [
    "$$ h(x) \\Rightarrow \\hat{y} $$"
   ]
  },
  {
   "cell_type": "markdown",
   "metadata": {},
   "source": [
    "Which accounts for the first part of our definition:"
   ]
  },
  {
   "cell_type": "markdown",
   "metadata": {},
   "source": [
    "> *\"A hypothesis function takes in feature inputs and outputs predictions...\"* "
   ]
  },
  {
   "cell_type": "markdown",
   "metadata": {},
   "source": [
    "Then our definition continues that the predictions are \"close to our observed target variables\", so we add the following: \n",
    "\n",
    "$$ h(x) \\Rightarrow \\hat{y} \\approx y $$"
   ]
  },
  {
   "cell_type": "markdown",
   "metadata": {},
   "source": [
    "> *\"...close to our observed target variables.\"*"
   ]
  },
  {
   "cell_type": "markdown",
   "metadata": {},
   "source": [
    "### Peaking inside the hypothesis function"
   ]
  },
  {
   "cell_type": "markdown",
   "metadata": {},
   "source": [
    "So we just described inputs, outputs, and aim of the hypothesis function.  Now let's talk a little bit about what goes inside our hypothesis function."
   ]
  },
  {
   "cell_type": "markdown",
   "metadata": {},
   "source": [
    "Well the nature of our hypothesis function varies according to the type of machine learning algorithm we are using, so let's go back to our specific example from earlier: $$ distance = 40 * angle $$."
   ]
  },
  {
   "cell_type": "markdown",
   "metadata": {},
   "source": [
    "In our specific example above, the number 40 is considered a parameter.\n",
    "\n",
    "> A hypothesis functions **parameters** are the variables that our hypothesis function uses to adjust it's predictions come close to the target variables.  \n",
    "\n",
    "So if we change the number 40 to some other number, our hypothesis function would arrive at different predictions for our data."
   ]
  },
  {
   "cell_type": "code",
   "execution_count": 14,
   "metadata": {},
   "outputs": [
    {
     "data": {
      "application/vnd.plotly.v1+json": {
       "config": {
        "linkText": "Export to plot.ly",
        "plotlyServerURL": "https://plot.ly",
        "showLink": false
       },
       "data": [
        {
         "mode": "markers",
         "name": "data",
         "text": [],
         "type": "scatter",
         "uid": "4ed48fe6-1830-4685-856e-964b0f3ae834",
         "x": [
          0.3,
          0.5,
          0.7
         ],
         "y": [
          8,
          11,
          17
         ]
        },
        {
         "mode": "lines",
         "name": "model",
         "text": [],
         "type": "scatter",
         "uid": "6c977bd0-78f1-4203-a4ec-5476cccb4ae5",
         "x": [
          0.3,
          0.5,
          0.7
         ],
         "y": [
          9,
          15,
          21
         ]
        }
       ],
       "layout": {
        "autosize": true,
        "xaxis": {
         "autorange": true,
         "range": [
          0.275408670931059,
          0.724591329068941
         ],
         "title": {
          "text": "shot angle"
         },
         "type": "linear"
        },
        "yaxis": {
         "autorange": true,
         "range": [
          7.06269592476489,
          21.733542319749215
         ],
         "title": {
          "text": "shot distance"
         },
         "type": "linear"
        }
       }
      },
      "image/png": "[encoded data removed]",
      "text/html": [
       "<div id=\"5a51c6de-e8c9-4364-ae9a-a9b21287c4a7\" style=\"height: 525px; width: 100%;\" class=\"plotly-graph-div\"></div><script type=\"text/javascript\">require([\"plotly\"], function(Plotly) { window.PLOTLYENV=window.PLOTLYENV || {};window.PLOTLYENV.BASE_URL=\"https://plot.ly\";Plotly.newPlot(\"5a51c6de-e8c9-4364-ae9a-a9b21287c4a7\", [{\"mode\": \"markers\", \"name\": \"data\", \"text\": [], \"x\": [0.3, 0.5, 0.7], \"y\": [8, 11, 17], \"type\": \"scatter\", \"uid\": \"91583527-2f85-4e35-abf6-b21c3b971f1b\"}, {\"mode\": \"lines\", \"name\": \"model\", \"text\": [], \"x\": [0.3, 0.5, 0.7], \"y\": [9.0, 15.0, 21.0], \"type\": \"scatter\", \"uid\": \"7a21b350-ec63-4618-a114-efb9c490d27e\"}], {\"xaxis\": {\"title\": {\"text\": \"shot angle\"}}, \"yaxis\": {\"title\": {\"text\": \"shot distance\"}}}, {\"showLink\": false, \"linkText\": \"Export to plot.ly\", \"plotlyServerURL\": \"https://plot.ly\"})});</script><script type=\"text/javascript\">window.addEventListener(\"resize\", function(){window._Plotly.Plots.resize(document.getElementById(\"5a51c6de-e8c9-4364-ae9a-a9b21287c4a7\"));});</script>"
      ],
      "text/vnd.plotly.v1+html": [
       "<div id=\"5a51c6de-e8c9-4364-ae9a-a9b21287c4a7\" style=\"height: 525px; width: 100%;\" class=\"plotly-graph-div\"></div><script type=\"text/javascript\">require([\"plotly\"], function(Plotly) { window.PLOTLYENV=window.PLOTLYENV || {};window.PLOTLYENV.BASE_URL=\"https://plot.ly\";Plotly.newPlot(\"5a51c6de-e8c9-4364-ae9a-a9b21287c4a7\", [{\"mode\": \"markers\", \"name\": \"data\", \"text\": [], \"x\": [0.3, 0.5, 0.7], \"y\": [8, 11, 17], \"type\": \"scatter\", \"uid\": \"91583527-2f85-4e35-abf6-b21c3b971f1b\"}, {\"mode\": \"lines\", \"name\": \"model\", \"text\": [], \"x\": [0.3, 0.5, 0.7], \"y\": [9.0, 15.0, 21.0], \"type\": \"scatter\", \"uid\": \"7a21b350-ec63-4618-a114-efb9c490d27e\"}], {\"xaxis\": {\"title\": {\"text\": \"shot angle\"}}, \"yaxis\": {\"title\": {\"text\": \"shot distance\"}}}, {\"showLink\": false, \"linkText\": \"Export to plot.ly\", \"plotlyServerURL\": \"https://plot.ly\"})});</script><script type=\"text/javascript\">window.addEventListener(\"resize\", function(){window._Plotly.Plots.resize(document.getElementById(\"5a51c6de-e8c9-4364-ae9a-a9b21287c4a7\"));});</script>"
      ]
     },
     "metadata": {},
     "output_type": "display_data"
    }
   ],
   "source": [
    "from graph import trace_values, plot\n",
    "\n",
    "parameter = 30\n",
    "# change this number to get different predictions, expressed in the graph\n",
    "\n",
    "angles = [.30, .50, .70]\n",
    "predicted_distances = list(map(lambda angle: parameter * angle, angles))\n",
    "model_trace = trace_values(angles, predicted_distances, mode = 'lines', name = 'model')\n",
    "\n",
    "layout = {'yaxis': {'title': 'shot distance'}, 'xaxis': {'title': 'shot angle'}}\n",
    "plot([trace_values(angles, [8, 11, 17]), model_trace], layout)"
   ]
  },
  {
   "cell_type": "markdown",
   "metadata": {},
   "source": [
    "In machine learning we express our parameters generically with the symbol, $\\theta$, theta."
   ]
  },
  {
   "cell_type": "markdown",
   "metadata": {},
   "source": [
    "So we can say that in machine learning we want to choose the parameters, $\\theta$, such that: \n",
    "\n",
    "$$ h(x) \\Rightarrow \\hat{y} \\approx y $$"
   ]
  },
  {
   "cell_type": "markdown",
   "metadata": {},
   "source": [
    "### Extra notes\n",
    "\n",
    "### Expressing features and target variables with math\n",
    "\n",
    "Now there's one more thing to point out that we may generally express our feature inputs with the variable $x$ and our target data with the variable $y$.\n",
    "\n",
    "| angle        | actual distance           \n",
    "| ------------- |:-------------:| \n",
    "|    .30        | 8 feet | \n",
    "|    .50        | 11 feet |\n",
    "\n",
    "So with the data angle = .30 and distance = .80, we could say that the $x = .30$ and $y = .80$ for that observation.\n",
    "\n",
    "If we want to distinguish values for our first and second observations we use a superscript like so:\n",
    "\n",
    "$x^{(1)} = .30, y^{(1)} = 8$\n",
    "\n",
    "$x^{(2)} = .50, y^{(2)} = 11$"
   ]
  },
  {
   "cell_type": "markdown",
   "metadata": {},
   "source": [
    "### Summary"
   ]
  },
  {
   "cell_type": "markdown",
   "metadata": {},
   "source": [
    "In this lesson we learned some of the mathematical notation to express our hypothesis function.  We saw that we can express that our hypothesis function takes feature inputs, with the notation $h(x)$, and that it makes predictions of our target variable, $\\hat{y}$.  We want our hypothesis function to produce predictions that approximate our actual observed outputs, $y$.  Finally, we mentioned that our hypothesis function has parameters, $\\theta$ that are chosen such that the predictions made by the hypothesis function come close to the observed target variables."
   ]
  }
 ],
 "metadata": {
  "kernelspec": {
   "display_name": "Python 3",
   "language": "python",
   "name": "python3"
  },
  "language_info": {
   "codemirror_mode": {
    "name": "ipython",
    "version": 3
   },
   "file_extension": ".py",
   "mimetype": "text/x-python",
   "name": "python",
   "nbconvert_exporter": "python",
   "pygments_lexer": "ipython3",
   "version": "3.7.0"
  }
 },
 "nbformat": 4,
 "nbformat_minor": 2
}
