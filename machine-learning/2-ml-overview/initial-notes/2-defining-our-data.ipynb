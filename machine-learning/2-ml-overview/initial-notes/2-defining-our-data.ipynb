{
 "cells": [
  {
   "cell_type": "markdown",
   "metadata": {},
   "source": [
    "## Defining our data"
   ]
  },
  {
   "cell_type": "markdown",
   "metadata": {},
   "source": [
    "### Introduction"
   ]
  },
  {
   "cell_type": "markdown",
   "metadata": {},
   "source": [
    "Let's imagine that we are a marketing analyst for an sportswear retailer.  She wants to determine how much to spend on an ad campaign for t-shirts.  To do this, she would like to predict the the number of t-shirts that will be sold, as the company spends more on advertising.  Luckily she already has spending numbers on previous ad campaigns for t-shirts. "
   ]
  },
  {
   "cell_type": "markdown",
   "metadata": {},
   "source": [
    "| spending        | t-shirts           \n",
    "| ------------- |:-------------:| \n",
    "|    2000        |260  | \n",
    "|    3500        |445 | \n",
    "|    4000      | 490 | "
   ]
  },
  {
   "cell_type": "markdown",
   "metadata": {},
   "source": [
    "### Understanding the data"
   ]
  },
  {
   "cell_type": "markdown",
   "metadata": {},
   "source": [
    "Now what he may want to do is see if there is a relationship between the data.  To do this, plot the angles horizontally on the x axis, and the corresponding distances vertically on the y axis.  Let's do it!"
   ]
  },
  {
   "cell_type": "code",
   "execution_count": 1,
   "metadata": {},
   "outputs": [
    {
     "data": {
      "text/html": [
       "<script type=\"text/javascript\">window.PlotlyConfig = {MathJaxConfig: 'local'};</script><script type=\"text/javascript\">if (window.MathJax) {MathJax.Hub.Config({SVG: {font: \"STIX-Web\"}});}</script><script>requirejs.config({paths: { 'plotly': ['https://cdn.plot.ly/plotly-latest.min']},});if(!window._Plotly) {require(['plotly'],function(plotly) {window._Plotly=plotly;});}</script>"
      ],
      "text/vnd.plotly.v1+html": [
       "<script type=\"text/javascript\">window.PlotlyConfig = {MathJaxConfig: 'local'};</script><script type=\"text/javascript\">if (window.MathJax) {MathJax.Hub.Config({SVG: {font: \"STIX-Web\"}});}</script><script>requirejs.config({paths: { 'plotly': ['https://cdn.plot.ly/plotly-latest.min']},});if(!window._Plotly) {require(['plotly'],function(plotly) {window._Plotly=plotly;});}</script>"
      ]
     },
     "metadata": {},
     "output_type": "display_data"
    },
    {
     "data": {
      "application/vnd.plotly.v1+json": {
       "config": {
        "linkText": "Export to plot.ly",
        "plotlyServerURL": "https://plot.ly",
        "showLink": false
       },
       "data": [
        {
         "mode": "markers",
         "name": "data",
         "text": [],
         "type": "scatter",
         "uid": "7408f064-4307-47fd-a2be-870df9229b60",
         "x": [
          2000,
          3500,
          4000
         ],
         "y": [
          260,
          445,
          490
         ]
        }
       ],
       "layout": {
        "autosize": true,
        "xaxis": {
         "autorange": true,
         "range": [
          1877.467105263158,
          4122.5328947368425
         ],
         "title": {
          "text": "ad dollars spent"
         },
         "type": "linear"
        },
        "yaxis": {
         "range": [
          0,
          800
         ],
         "title": {
          "text": "t-shirts sold"
         },
         "type": "linear"
        }
       }
      },
      "image/png": "[encoded data removed]",
      "text/html": [
       "<div id=\"7bb661e8-74e8-4da0-8478-9ad3cd8d4e1b\" style=\"height: 525px; width: 100%;\" class=\"plotly-graph-div\"></div><script type=\"text/javascript\">require([\"plotly\"], function(Plotly) { window.PLOTLYENV=window.PLOTLYENV || {};window.PLOTLYENV.BASE_URL=\"https://plot.ly\";Plotly.newPlot(\"7bb661e8-74e8-4da0-8478-9ad3cd8d4e1b\", [{\"mode\": \"markers\", \"name\": \"data\", \"text\": [], \"x\": [2000, 3500, 4000], \"y\": [260, 445, 490], \"type\": \"scatter\", \"uid\": \"f45bfcfe-a79f-44e3-92e0-e5de480422bd\"}], {\"xaxis\": {\"title\": {\"text\": \"ad dollars spent\"}}, \"yaxis\": {\"range\": [0, 800], \"title\": {\"text\": \"t-shirts sold\"}}}, {\"showLink\": false, \"linkText\": \"Export to plot.ly\", \"plotlyServerURL\": \"https://plot.ly\"})});</script><script type=\"text/javascript\">window.addEventListener(\"resize\", function(){window._Plotly.Plots.resize(document.getElementById(\"7bb661e8-74e8-4da0-8478-9ad3cd8d4e1b\"));});</script>"
      ],
      "text/vnd.plotly.v1+html": [
       "<div id=\"7bb661e8-74e8-4da0-8478-9ad3cd8d4e1b\" style=\"height: 525px; width: 100%;\" class=\"plotly-graph-div\"></div><script type=\"text/javascript\">require([\"plotly\"], function(Plotly) { window.PLOTLYENV=window.PLOTLYENV || {};window.PLOTLYENV.BASE_URL=\"https://plot.ly\";Plotly.newPlot(\"7bb661e8-74e8-4da0-8478-9ad3cd8d4e1b\", [{\"mode\": \"markers\", \"name\": \"data\", \"text\": [], \"x\": [2000, 3500, 4000], \"y\": [260, 445, 490], \"type\": \"scatter\", \"uid\": \"f45bfcfe-a79f-44e3-92e0-e5de480422bd\"}], {\"xaxis\": {\"title\": {\"text\": \"ad dollars spent\"}}, \"yaxis\": {\"range\": [0, 800], \"title\": {\"text\": \"t-shirts sold\"}}}, {\"showLink\": false, \"linkText\": \"Export to plot.ly\", \"plotlyServerURL\": \"https://plot.ly\"})});</script><script type=\"text/javascript\">window.addEventListener(\"resize\", function(){window._Plotly.Plots.resize(document.getElementById(\"7bb661e8-74e8-4da0-8478-9ad3cd8d4e1b\"));});</script>"
      ]
     },
     "metadata": {},
     "output_type": "display_data"
    }
   ],
   "source": [
    "from graph import trace_values, plot\n",
    "layout = {'yaxis': {'title': 't-shirts sold', 'range': [0, 800]}, 'xaxis': {'title': 'ad dollars spent'}}\n",
    "plot([trace_values([2000, 3500, 4000], [260, 445, 490])], layout)"
   ]
  },
  {
   "cell_type": "markdown",
   "metadata": {},
   "source": [
    "Ok, so from the data above, we can see an upward trend.  The more ad dollars spent, the more t-shirts that are sold.  Before we perform analysis to turn this into a predictive model, we should first use this example to understand some machine machine learning terms."
   ]
  },
  {
   "cell_type": "markdown",
   "metadata": {},
   "source": [
    "### Defining our terms"
   ]
  },
  {
   "cell_type": "markdown",
   "metadata": {},
   "source": [
    "Let's take another look at our data."
   ]
  },
  {
   "cell_type": "markdown",
   "metadata": {},
   "source": [
    "| spending        | t-shirts           \n",
    "| ------------- |:-------------:| \n",
    "|    2000        |300  | \n",
    "|    3500        |350 | \n",
    "|    4000      | 380 | \n"
   ]
  },
  {
   "cell_type": "markdown",
   "metadata": {},
   "source": [
    "**Observations**\n",
    "\n",
    "We can think of each row in the chart above as an experiment - we choose an angle and get a distance. \n",
    " \n",
    " > Each row is an **observation**.  An observation is a row or sample in a dataset.  Above we have three observations.\n",
    "\n",
    "**Target** \n",
    "\n",
    "> **Target** is the name of the column that we are trying to predict.  So our target is `number of t-shirts`.\n",
    "\n",
    "**Target Variable**\n",
    "\n",
    "Now as you see above, we have already collected data associated with this column that we are trying to predict.  This is called our target variable.\n",
    "\n",
    "> **Target variables** is the data that we have observed.  Other words for target variables include, **outcomes**, or **labels** of our data.\n",
    "\n",
    "So our target variables are 300 t-shirts, 350 t-shirts, and 380 t-shirts, for our target of `number of t-shirts`.  \n",
    "\n",
    "**Attribute**\n",
    "Now to predict a target, like the number of t shirts sold, we need to consider different attributes.  The column name `spending` is an attribute.\n",
    "\n",
    ">  An **attribute** is a type of property that we use to predict or explain the target.  It is each of the words at the top of our columns.  An attribute does not include what we are trying to predict.  So in our table above, `spending` is the only attribute.\n",
    "\n",
    "**Feature Input**\n",
    "\n",
    "Now we also have data associated with our attributes, and this data is called our features, or feature inputs.\n",
    "\n",
    "> A **feature** is a *combination* of an attribute and the corresponding data.  \n",
    "\n",
    "So `spending` is the attribute, and `spending equals 2000` is our *feature* or *feature input*.  Above, we have three features in the dataset above spending of 2000, 3500 and 4000."
   ]
  },
  {
   "cell_type": "markdown",
   "metadata": {},
   "source": [
    "Whew! That was a lot of terms.  And unfortunately, it's the one part of this course, where some memorization is involved.  Let's see our table now filled in with the terms."
   ]
  },
  {
   "cell_type": "markdown",
   "metadata": {},
   "source": [
    "| attribute | attribute       | target           \n",
    "| -------------| ------------- |:-------------:| \n",
    "|    feature input|    feature input        | target variable | \n",
    "|    feature input|    feature input        | target variable | \n",
    "|    feature input|    feature input        | target variable | \n"
   ]
  },
  {
   "cell_type": "markdown",
   "metadata": {},
   "source": [
    "So above we have multiple attributes, each use to predict an target.  For example, say we have both shooting angle and force to predict distance."
   ]
  },
  {
   "cell_type": "markdown",
   "metadata": {},
   "source": [
    "### Summary"
   ]
  },
  {
   "cell_type": "markdown",
   "metadata": {},
   "source": [
    "Ok, let's review the terms that we have learned.\n",
    "\n",
    "We we gather data related to a *target* that we are interested in predicting.  The data we gather is a collection of *observations* -- where each observation is a row of data.  This data consists of *features*, where a feature is a combination of an attribute and a corresponding piece of data."
   ]
  }
 ],
 "metadata": {
  "kernelspec": {
   "display_name": "Python 3",
   "language": "python",
   "name": "python3"
  },
  "language_info": {
   "codemirror_mode": {
    "name": "ipython",
    "version": 3
   },
   "file_extension": ".py",
   "mimetype": "text/x-python",
   "name": "python",
   "nbconvert_exporter": "python",
   "pygments_lexer": "ipython3",
   "version": "3.7.0"
  }
 },
 "nbformat": 4,
 "nbformat_minor": 2
}
