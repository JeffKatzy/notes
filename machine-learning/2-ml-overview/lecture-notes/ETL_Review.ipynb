{
 "cells": [
  {
   "cell_type": "markdown",
   "metadata": {},
   "source": [
    "### Today"
   ]
  },
  {
   "cell_type": "markdown",
   "metadata": {},
   "source": [
    "I. Review\n",
    "    1. Review ETL\n",
    "        Start with messy data -> objects\n",
    "            \n",
    "        Extract Transform and Load\n",
    "        Data Wrangling -> Transforming the data\n",
    "    2. Plotly \n",
    "\n",
    "II. Machine Learning\n",
    "    1. Why do we need it?\n",
    "    2. What's the ML process?\n",
    "    3. Applied to Linear Regression."
   ]
  },
  {
   "cell_type": "code",
   "execution_count": 2,
   "metadata": {},
   "outputs": [],
   "source": [
    "import requests\n",
    "class Client:\n",
    "    ROOT_URL = 'url'\n",
    "    def run(self):\n",
    "        response = requests.get(ROOT_URL)\n",
    "        return response.json()"
   ]
  },
  {
   "cell_type": "code",
   "execution_count": 3,
   "metadata": {},
   "outputs": [],
   "source": [
    "class Adapter:\n",
    "    def run(self):\n",
    "#         retrieve_data\n",
    "        client = Client()\n",
    "        restaurants_data = client.run()\n",
    "        #{'items': [{'zipcode', 'address', name, street, }, {}], 'count': 300, date: '12'}\n",
    "        # Reject\n",
    "        restaurants_data['items']\n",
    "        selected_restaurants_attributes = [{'name': restaurant_data['name'], \n",
    "                               'location': restaurant_data['location']} \n",
    "                               for restaurant_data \n",
    "                               in restaurants_data]\n",
    "        #   dict_you_want = { your_key: old_dict[your_key] for your_key in your_keys }\n",
    "        # Coerce\n",
    "#       create_restaurants \n",
    "# [Target(rest_attr['name'], rest_attr['location'])for rest_attr in selected_restaurants_attributes]\n",
    "        return self.create_restaurants(selected_restaurants_attributes)\n",
    "        \n",
    "    def create_restaurants(self, selected_restaurants_attributes):\n",
    "        return [Target(rest_attr['name'], rest_attr['location'])for rest_attr in selected_restaurants_attributes]\n",
    "        \n",
    "        \n",
    "            \n",
    "        "
   ]
  },
  {
   "cell_type": "code",
   "execution_count": 9,
   "metadata": {},
   "outputs": [],
   "source": [
    "class Target:\n",
    "    def __init__(self, name, location):\n",
    "        self.name = name\n",
    "        self.location = location\n",
    "        \n",
    "    def get_location(self):\n",
    "        pass"
   ]
  },
  {
   "cell_type": "code",
   "execution_count": 10,
   "metadata": {},
   "outputs": [],
   "source": [
    "target = Target('dunkin donuts', '34th')"
   ]
  },
  {
   "cell_type": "code",
   "execution_count": null,
   "metadata": {},
   "outputs": [],
   "source": []
  }
 ],
 "metadata": {
  "kernelspec": {
   "display_name": "Python 3",
   "language": "python",
   "name": "python3"
  },
  "language_info": {
   "codemirror_mode": {
    "name": "ipython",
    "version": 3
   },
   "file_extension": ".py",
   "mimetype": "text/x-python",
   "name": "python",
   "nbconvert_exporter": "python",
   "pygments_lexer": "ipython3",
   "version": "3.7.3"
  }
 },
 "nbformat": 4,
 "nbformat_minor": 2
}
