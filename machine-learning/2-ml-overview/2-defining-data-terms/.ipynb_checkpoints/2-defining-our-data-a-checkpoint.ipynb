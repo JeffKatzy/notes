{
 "cells": [
  {
   "cell_type": "markdown",
   "metadata": {},
   "source": [
    "### Introduction"
   ]
  },
  {
   "cell_type": "markdown",
   "metadata": {},
   "source": [
    "Let's imagine that we have a marketing analyst for an sportswear retailer.  She wants to determine how much to spend on an ad campaign for t-shirts.  To do this, she would like to predict the the number of t-shirts that will be sold, as the company spends more on advertising.  Luckily she already has spending numbers on previous ad campaigns for t-shirts. \n",
    "\n",
    "| spending        | t-shirts           \n",
    "| ------------- |:-------------:| \n",
    "|    2000        |300  | \n",
    "|    3500        |350 | \n",
    "|    4000      | 380 | "
   ]
  },
  {
   "cell_type": "markdown",
   "metadata": {},
   "source": [
    "### Understanding the data"
   ]
  },
  {
   "cell_type": "markdown",
   "metadata": {},
   "source": [
    "Now what he may want to do is see if there is a relationship between the data.  To do this, plot the angles horizontally on the x axis, and the corresponding distances vertically on the y axis.  Let's do it!"
   ]
  }
 ],
 "metadata": {
  "kernelspec": {
   "display_name": "Python 3",
   "language": "python",
   "name": "python3"
  },
  "language_info": {
   "codemirror_mode": {
    "name": "ipython",
    "version": 3
   },
   "file_extension": ".py",
   "mimetype": "text/x-python",
   "name": "python",
   "nbconvert_exporter": "python",
   "pygments_lexer": "ipython3",
   "version": "3.7.3"
  }
 },
 "nbformat": 4,
 "nbformat_minor": 2
}
