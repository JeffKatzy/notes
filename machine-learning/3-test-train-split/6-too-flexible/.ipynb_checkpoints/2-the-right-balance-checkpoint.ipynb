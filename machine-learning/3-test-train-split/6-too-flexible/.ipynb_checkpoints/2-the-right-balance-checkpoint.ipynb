{
 "cells": [
  {
   "cell_type": "markdown",
   "metadata": {},
   "source": [
    "# Striking the right balance"
   ]
  },
  {
   "cell_type": "markdown",
   "metadata": {},
   "source": [
    "### Introduction"
   ]
  },
  {
   "cell_type": "markdown",
   "metadata": {},
   "source": [
    "We have now been exposed to the three different sources of error that can arise in our model.  Here are the three sources:\n",
    "\n",
    "* **bias** when our model does not include one or more features that contributes to variations in outcomes of our data.  \n",
    "* **variance** when we include too many features in our model that make our models too flexible, such that it picks up on randomness in the data.  \n",
    "* **irreducible error** which occurs due to a degree of randomness in our target variable. "
   ]
  },
  {
   "cell_type": "markdown",
   "metadata": {},
   "source": [
    "As we know, we cannot eliminate irreducible error.  But we can develop techniques for not including too few parameters and thus contributing bias, or too many parameters and thus introducing variance, into our model."
   ]
  },
  {
   "cell_type": "markdown",
   "metadata": {},
   "source": [
    "### Setting up our data"
   ]
  },
  {
   "cell_type": "markdown",
   "metadata": {},
   "source": [
    "So far we have seen a model that suffers from bias, one from variance, and another that has the correct number of variables.  Let's review each of these models."
   ]
  },
  {
   "cell_type": "markdown",
   "metadata": {},
   "source": [
    "First, let's again load our feature data of `temps`, `is_weekends` and `cashier_age`, and our dependent variable of `customers_with_errors`."
   ]
  },
  {
   "cell_type": "code",
   "execution_count": 9,
   "metadata": {},
   "outputs": [],
   "source": [
    "from data import temps, is_weekends, random_ages, customers_with_errors"
   ]
  },
  {
   "cell_type": "markdown",
   "metadata": {},
   "source": [
    "Now as we know, to create different models, we need create collections that have one or more of these features.  That is also included in our data, so let's load that in."
   ]
  },
  {
   "cell_type": "code",
   "execution_count": 10,
   "metadata": {},
   "outputs": [],
   "source": [
    "from data import input_temps, temps_and_is_weekends, temps_weekends_and_ages"
   ]
  },
  {
   "cell_type": "code",
   "execution_count": 11,
   "metadata": {},
   "outputs": [
    {
     "data": {
      "text/plain": [
       "[(30, 0, 28), (31, 0, 30), (32, 1, 30)]"
      ]
     },
     "execution_count": 11,
     "metadata": {},
     "output_type": "execute_result"
    }
   ],
   "source": [
    "input_temps[0:3] # [[30], [31], [32]]\n",
    "temps_and_is_weekends[0:3] # [(30, 0), (31, 0), (32, 1)]\n",
    "temps_weekends_and_ages[0:3] # [(30, 0, 28),  (31, 0, 30),  (32, 1, 30)]"
   ]
  },
  {
   "cell_type": "markdown",
   "metadata": {},
   "source": [
    "### Working with three models"
   ]
  },
  {
   "cell_type": "markdown",
   "metadata": {},
   "source": [
    "Now to create these three models, we'll just use the same process of inititializing our model, fitting the data and looking at some scores.  With this degree of repetition, let's use a loop."
   ]
  },
  {
   "cell_type": "code",
   "execution_count": 14,
   "metadata": {},
   "outputs": [
    {
     "data": {
      "text/plain": [
       "[LinearRegression(copy_X=True, fit_intercept=True, n_jobs=1, normalize=False),\n",
       " LinearRegression(copy_X=True, fit_intercept=True, n_jobs=1, normalize=False),\n",
       " LinearRegression(copy_X=True, fit_intercept=True, n_jobs=1, normalize=False)]"
      ]
     },
     "execution_count": 14,
     "metadata": {},
     "output_type": "execute_result"
    }
   ],
   "source": [
    "from sklearn.linear_model import LinearRegression\n",
    "feature_datasets = [input_temps, temps_and_is_weekends, temps_weekends_and_ages]\n",
    "models = []\n",
    "for dataset in feature_datasets:\n",
    "    model = LinearRegression()\n",
    "    model.fit(dataset, customers_with_errors)\n",
    "    models.append(model)\n",
    "models"
   ]
  },
  {
   "cell_type": "markdown",
   "metadata": {},
   "source": [
    "Now we can use our `map` function to query these models at the same time."
   ]
  },
  {
   "cell_type": "code",
   "execution_count": 18,
   "metadata": {},
   "outputs": [
    {
     "data": {
      "text/plain": [
       "[array([2.87988515]),\n",
       " array([ 3.07299452, 38.61313304]),\n",
       " array([ 3.07698899, 38.62306381, -0.05584566])]"
      ]
     },
     "execution_count": 18,
     "metadata": {},
     "output_type": "execute_result"
    }
   ],
   "source": [
    "coefs = list(map(lambda model: model.coef_, models))\n",
    "coefs"
   ]
  },
  {
   "cell_type": "code",
   "execution_count": 20,
   "metadata": {},
   "outputs": [
    {
     "data": {
      "text/plain": [
       "[35.62031572335471, 9.854773197812762, 12.155548281106803]"
      ]
     },
     "execution_count": 20,
     "metadata": {},
     "output_type": "execute_result"
    }
   ],
   "source": [
    "intercepts = coefs = list(map(lambda model: model.intercept_, models))\n",
    "intercepts"
   ]
  },
  {
   "cell_type": "markdown",
   "metadata": {},
   "source": [
    "But some data like predict, requires both the model, and the related dataset.  For example, if we try to predict with our first model that has just one coefficient with data that has two features, it will break.  So let's pair our models with the related input data. "
   ]
  },
  {
   "cell_type": "code",
   "execution_count": 21,
   "metadata": {},
   "outputs": [],
   "source": [
    "models_and_data = list(zip(models, feature_datasets))"
   ]
  },
  {
   "cell_type": "markdown",
   "metadata": {},
   "source": [
    "And now we can use `map` to make predictions with our three models, and then plot them."
   ]
  },
  {
   "cell_type": "code",
   "execution_count": 22,
   "metadata": {},
   "outputs": [],
   "source": [
    "predictions = list(map(lambda model_and_data: model_and_data[0].predict(model_and_data[1]), models_and_data))"
   ]
  },
  {
   "cell_type": "markdown",
   "metadata": {},
   "source": [
    "So now in the line below we'll look at the first three predictions of our first model."
   ]
  },
  {
   "cell_type": "code",
   "execution_count": 24,
   "metadata": {},
   "outputs": [
    {
     "data": {
      "text/plain": [
       "array([122.01687025, 124.8967554 , 127.77664055])"
      ]
     },
     "execution_count": 24,
     "metadata": {},
     "output_type": "execute_result"
    }
   ],
   "source": [
    "predictions[0][0:3]"
   ]
  },
  {
   "cell_type": "markdown",
   "metadata": {},
   "source": [
    "And after creating our trace of the data."
   ]
  },
  {
   "cell_type": "code",
   "execution_count": 35,
   "metadata": {},
   "outputs": [],
   "source": [
    "from graph import plot, trace_values\n",
    "data_trace = trace_values(temps, customers_with_errors)"
   ]
  },
  {
   "cell_type": "markdown",
   "metadata": {},
   "source": [
    "We can create three traces of these predictions."
   ]
  },
  {
   "cell_type": "code",
   "execution_count": 33,
   "metadata": {},
   "outputs": [],
   "source": [
    "model_traces = list(map(lambda prediction: trace_values(temps, prediction, mode = 'lines'),predictions))"
   ]
  },
  {
   "cell_type": "code",
   "execution_count": 34,
   "metadata": {},
   "outputs": [
    {
     "data": {
      "application/vnd.plotly.v1+json": {
       "config": {
        "linkText": "Export to plot.ly",
        "plotlyServerURL": "https://plot.ly",
        "showLink": false
       },
       "data": [
        {
         "mode": "markers",
         "name": "data",
         "text": [],
         "type": "scatter",
         "uid": "284adde0-dda9-4f6e-b4b5-e259764ff724",
         "x": [
          30,
          31,
          32,
          32,
          33,
          33,
          33,
          33,
          38,
          42,
          42,
          43,
          45,
          45,
          47,
          53,
          56,
          57,
          58,
          58,
          59,
          59,
          59,
          62,
          64,
          67,
          67,
          70,
          72,
          74,
          78,
          78,
          79,
          83,
          84,
          84,
          85,
          86,
          87,
          87,
          88,
          90,
          92,
          93,
          93,
          94,
          97,
          99,
          100,
          101
         ],
         "y": [
          125,
          133,
          170,
          79,
          84,
          124,
          142,
          172,
          144,
          193,
          197,
          151,
          169,
          174,
          137,
          217,
          161,
          189,
          156,
          191,
          200,
          167,
          224,
          206,
          197,
          232,
          267,
          285,
          228,
          262,
          237,
          288,
          316,
          257,
          264,
          249,
          292,
          240,
          296,
          242,
          267,
          319,
          315,
          279,
          317,
          326,
          298,
          374,
          336,
          316
         ]
        },
        {
         "mode": "lines",
         "name": "data",
         "text": [],
         "type": "scatter",
         "uid": "54f858b0-cd2d-4e43-bde0-04eeb1c56553",
         "x": [
          30,
          31,
          32,
          32,
          33,
          33,
          33,
          33,
          38,
          42,
          42,
          43,
          45,
          45,
          47,
          53,
          56,
          57,
          58,
          58,
          59,
          59,
          59,
          62,
          64,
          67,
          67,
          70,
          72,
          74,
          78,
          78,
          79,
          83,
          84,
          84,
          85,
          86,
          87,
          87,
          88,
          90,
          92,
          93,
          93,
          94,
          97,
          99,
          100,
          101
         ],
         "y": [
          122.01687025115665,
          124.89675540208339,
          127.77664055301011,
          127.77664055301011,
          130.65652570393684,
          130.65652570393684,
          130.65652570393684,
          130.65652570393684,
          145.05595145857052,
          156.57549206227742,
          156.57549206227742,
          159.45537721320414,
          165.21514751505762,
          165.21514751505762,
          170.97491781691107,
          188.25422872247148,
          196.89388417525166,
          199.77376932617838,
          202.65365447710514,
          202.65365447710514,
          205.53353962803186,
          205.53353962803186,
          205.53353962803186,
          214.17319508081206,
          219.93296538266551,
          228.57262083544572,
          228.57262083544572,
          237.2122762882259,
          242.97204659007937,
          248.73181689193282,
          260.25135749563975,
          260.25135749563975,
          263.1312426465665,
          274.65078325027343,
          277.53066840120016,
          277.53066840120016,
          280.4105535521269,
          283.2904387030536,
          286.17032385398034,
          286.17032385398034,
          289.05020900490706,
          294.8099793067605,
          300.56974960861396,
          303.4496347595407,
          303.4496347595407,
          306.3295199104674,
          314.9691753632477,
          320.72894566510115,
          323.6088308160279,
          326.4887159669546
         ]
        },
        {
         "mode": "lines",
         "name": "data",
         "text": [],
         "type": "scatter",
         "uid": "13a6215e-5c55-49ab-b5ca-a7801a38dbb8",
         "x": [
          30,
          31,
          32,
          32,
          33,
          33,
          33,
          33,
          38,
          42,
          42,
          43,
          45,
          45,
          47,
          53,
          56,
          57,
          58,
          58,
          59,
          59,
          59,
          62,
          64,
          67,
          67,
          70,
          72,
          74,
          78,
          78,
          79,
          83,
          84,
          84,
          85,
          86,
          87,
          87,
          88,
          90,
          92,
          93,
          93,
          94,
          97,
          99,
          100,
          101
         ],
         "y": [
          102.04460888016085,
          105.11760340290579,
          146.80373096611726,
          108.19059792565072,
          111.26359244839566,
          149.8767254888622,
          149.8767254888622,
          149.8767254888622,
          165.2416981025869,
          177.53367619356663,
          177.53367619356663,
          141.99353767584503,
          148.1395267213349,
          186.75265976180145,
          154.28551576682477,
          211.33661594376093,
          181.9424664715292,
          185.01546099427412,
          188.08845551701907,
          188.08845551701907,
          229.77458308023054,
          191.161450039764,
          191.161450039764,
          200.3804336079988,
          206.52642265348868,
          215.7454062217235,
          254.35853926219005,
          263.57752283042487,
          231.11037883544816,
          237.25636788093803,
          288.16147901238435,
          249.5483459719178,
          291.23447353512927,
          264.91331858564246,
          267.98631310838744,
          267.98631310838744,
          271.05930763113236,
          274.1323021538773,
          277.2052966766222,
          277.2052966766222,
          280.2782911993671,
          325.0374132853236,
          292.5702692903469,
          295.64326381309183,
          295.64326381309183,
          337.3293913763033,
          307.93524190407163,
          352.694363990028,
          317.1542254723064,
          320.2272199950513
         ]
        },
        {
         "mode": "lines",
         "name": "data",
         "text": [],
         "type": "scatter",
         "uid": "70fbe3f6-223b-45a2-895e-acbf0bfe17ee",
         "x": [
          30,
          31,
          32,
          32,
          33,
          33,
          33,
          33,
          38,
          42,
          42,
          43,
          45,
          45,
          47,
          53,
          56,
          57,
          58,
          58,
          59,
          59,
          59,
          62,
          64,
          67,
          67,
          70,
          72,
          74,
          78,
          78,
          79,
          83,
          84,
          84,
          85,
          86,
          87,
          87,
          88,
          90,
          92,
          93,
          93,
          94,
          97,
          99,
          100,
          101
         ],
         "y": [
          102.90153957485495,
          105.8668372488243,
          147.56689004663093,
          107.93860438545978,
          111.74158693817962,
          149.86203981759988,
          150.02957679334997,
          148.80097230451594,
          165.58205872478047,
          176.49387322474067,
          178.50431693374182,
          141.00364406778954,
          148.66545483181255,
          186.3391424425659,
          153.14406305658378,
          211.06674568882127,
          181.2837292454754,
          184.86332916386178,
          187.32601591058082,
          187.661089862081,
          229.1377600255542,
          191.35238109763412,
          192.1900659763846,
          201.47687860837624,
          206.40225210181433,
          215.29814512372238,
          254.42381985764322,
          263.431404196718,
          230.7947813965695,
          236.61368542734147,
          288.8291553459738,
          248.80995007471907,
          291.8502986785265,
          265.3118082020668,
          268.4446428517862,
          269.17063641337,
          271.6891688186724,
          274.26354688255816,
          277.84314680094457,
          278.01068377669463,
          279.74737696182996,
          324.52441875077267,
          292.5579438536246,
          295.13232191751035,
          294.96478494176023,
          338.00513354556773,
          307.6636605163881,
          352.5523936224976,
          316.6153991968795,
          320.2508447738493
         ]
        }
       ],
       "layout": {
        "autosize": true,
        "xaxis": {
         "autorange": true,
         "range": [
          25.640874684608917,
          105.35912531539108
         ],
         "type": "linear"
        },
        "yaxis": {
         "autorange": true,
         "range": [
          57.39171974522293,
          395.60828025477707
         ],
         "type": "linear"
        }
       }
      },
      "image/png": "[encoded data removed]",
      "text/html": [
       "<div id=\"bedc2513-1b6b-4e95-9282-bb438d92771b\" style=\"height: 525px; width: 100%;\" class=\"plotly-graph-div\"></div><script type=\"text/javascript\">require([\"plotly\"], function(Plotly) { window.PLOTLYENV=window.PLOTLYENV || {};window.PLOTLYENV.BASE_URL=\"https://plot.ly\";Plotly.newPlot(\"bedc2513-1b6b-4e95-9282-bb438d92771b\", [{\"mode\": \"markers\", \"name\": \"data\", \"text\": [], \"x\": [30, 31, 32, 32, 33, 33, 33, 33, 38, 42, 42, 43, 45, 45, 47, 53, 56, 57, 58, 58, 59, 59, 59, 62, 64, 67, 67, 70, 72, 74, 78, 78, 79, 83, 84, 84, 85, 86, 87, 87, 88, 90, 92, 93, 93, 94, 97, 99, 100, 101], \"y\": [125, 133, 170, 79, 84, 124, 142, 172, 144, 193, 197, 151, 169, 174, 137, 217, 161, 189, 156, 191, 200, 167, 224, 206, 197, 232, 267, 285, 228, 262, 237, 288, 316, 257, 264, 249, 292, 240, 296, 242, 267, 319, 315, 279, 317, 326, 298, 374, 336, 316], \"type\": \"scatter\", \"uid\": \"59a301e1-add3-4825-9fc5-3cd23a44d86a\"}, {\"mode\": \"lines\", \"name\": \"data\", \"text\": [], \"x\": [30, 31, 32, 32, 33, 33, 33, 33, 38, 42, 42, 43, 45, 45, 47, 53, 56, 57, 58, 58, 59, 59, 59, 62, 64, 67, 67, 70, 72, 74, 78, 78, 79, 83, 84, 84, 85, 86, 87, 87, 88, 90, 92, 93, 93, 94, 97, 99, 100, 101], \"y\": [122.01687025115665, 124.89675540208339, 127.77664055301011, 127.77664055301011, 130.65652570393684, 130.65652570393684, 130.65652570393684, 130.65652570393684, 145.05595145857052, 156.57549206227742, 156.57549206227742, 159.45537721320414, 165.21514751505762, 165.21514751505762, 170.97491781691107, 188.25422872247148, 196.89388417525166, 199.77376932617838, 202.65365447710514, 202.65365447710514, 205.53353962803186, 205.53353962803186, 205.53353962803186, 214.17319508081206, 219.93296538266551, 228.57262083544572, 228.57262083544572, 237.2122762882259, 242.97204659007937, 248.73181689193282, 260.25135749563975, 260.25135749563975, 263.1312426465665, 274.65078325027343, 277.53066840120016, 277.53066840120016, 280.4105535521269, 283.2904387030536, 286.17032385398034, 286.17032385398034, 289.05020900490706, 294.8099793067605, 300.56974960861396, 303.4496347595407, 303.4496347595407, 306.3295199104674, 314.9691753632477, 320.72894566510115, 323.6088308160279, 326.4887159669546], \"type\": \"scatter\", \"uid\": \"9ade4756-3b2e-485f-a2a5-a393a9423be6\"}, {\"mode\": \"lines\", \"name\": \"data\", \"text\": [], \"x\": [30, 31, 32, 32, 33, 33, 33, 33, 38, 42, 42, 43, 45, 45, 47, 53, 56, 57, 58, 58, 59, 59, 59, 62, 64, 67, 67, 70, 72, 74, 78, 78, 79, 83, 84, 84, 85, 86, 87, 87, 88, 90, 92, 93, 93, 94, 97, 99, 100, 101], \"y\": [102.04460888016085, 105.11760340290579, 146.80373096611726, 108.19059792565072, 111.26359244839566, 149.8767254888622, 149.8767254888622, 149.8767254888622, 165.2416981025869, 177.53367619356663, 177.53367619356663, 141.99353767584503, 148.1395267213349, 186.75265976180145, 154.28551576682477, 211.33661594376093, 181.9424664715292, 185.01546099427412, 188.08845551701907, 188.08845551701907, 229.77458308023054, 191.161450039764, 191.161450039764, 200.3804336079988, 206.52642265348868, 215.7454062217235, 254.35853926219005, 263.57752283042487, 231.11037883544816, 237.25636788093803, 288.16147901238435, 249.5483459719178, 291.23447353512927, 264.91331858564246, 267.98631310838744, 267.98631310838744, 271.05930763113236, 274.1323021538773, 277.2052966766222, 277.2052966766222, 280.2782911993671, 325.0374132853236, 292.5702692903469, 295.64326381309183, 295.64326381309183, 337.3293913763033, 307.93524190407163, 352.694363990028, 317.1542254723064, 320.2272199950513], \"type\": \"scatter\", \"uid\": \"dd8489d4-e8eb-4754-89bd-11d9045363af\"}, {\"mode\": \"lines\", \"name\": \"data\", \"text\": [], \"x\": [30, 31, 32, 32, 33, 33, 33, 33, 38, 42, 42, 43, 45, 45, 47, 53, 56, 57, 58, 58, 59, 59, 59, 62, 64, 67, 67, 70, 72, 74, 78, 78, 79, 83, 84, 84, 85, 86, 87, 87, 88, 90, 92, 93, 93, 94, 97, 99, 100, 101], \"y\": [102.90153957485495, 105.8668372488243, 147.56689004663093, 107.93860438545978, 111.74158693817962, 149.86203981759988, 150.02957679334997, 148.80097230451594, 165.58205872478047, 176.49387322474067, 178.50431693374182, 141.00364406778954, 148.66545483181255, 186.3391424425659, 153.14406305658378, 211.06674568882127, 181.2837292454754, 184.86332916386178, 187.32601591058082, 187.661089862081, 229.1377600255542, 191.35238109763412, 192.1900659763846, 201.47687860837624, 206.40225210181433, 215.29814512372238, 254.42381985764322, 263.431404196718, 230.7947813965695, 236.61368542734147, 288.8291553459738, 248.80995007471907, 291.8502986785265, 265.3118082020668, 268.4446428517862, 269.17063641337, 271.6891688186724, 274.26354688255816, 277.84314680094457, 278.01068377669463, 279.74737696182996, 324.52441875077267, 292.5579438536246, 295.13232191751035, 294.96478494176023, 338.00513354556773, 307.6636605163881, 352.5523936224976, 316.6153991968795, 320.2508447738493], \"type\": \"scatter\", \"uid\": \"4fd421c7-06b5-45c0-b8ec-063dc2c4a853\"}], {}, {\"showLink\": false, \"linkText\": \"Export to plot.ly\", \"plotlyServerURL\": \"https://plot.ly\"})});</script><script type=\"text/javascript\">window.addEventListener(\"resize\", function(){window._Plotly.Plots.resize(document.getElementById(\"bedc2513-1b6b-4e95-9282-bb438d92771b\"));});</script>"
      ],
      "text/vnd.plotly.v1+html": [
       "<div id=\"bedc2513-1b6b-4e95-9282-bb438d92771b\" style=\"height: 525px; width: 100%;\" class=\"plotly-graph-div\"></div><script type=\"text/javascript\">require([\"plotly\"], function(Plotly) { window.PLOTLYENV=window.PLOTLYENV || {};window.PLOTLYENV.BASE_URL=\"https://plot.ly\";Plotly.newPlot(\"bedc2513-1b6b-4e95-9282-bb438d92771b\", [{\"mode\": \"markers\", \"name\": \"data\", \"text\": [], \"x\": [30, 31, 32, 32, 33, 33, 33, 33, 38, 42, 42, 43, 45, 45, 47, 53, 56, 57, 58, 58, 59, 59, 59, 62, 64, 67, 67, 70, 72, 74, 78, 78, 79, 83, 84, 84, 85, 86, 87, 87, 88, 90, 92, 93, 93, 94, 97, 99, 100, 101], \"y\": [125, 133, 170, 79, 84, 124, 142, 172, 144, 193, 197, 151, 169, 174, 137, 217, 161, 189, 156, 191, 200, 167, 224, 206, 197, 232, 267, 285, 228, 262, 237, 288, 316, 257, 264, 249, 292, 240, 296, 242, 267, 319, 315, 279, 317, 326, 298, 374, 336, 316], \"type\": \"scatter\", \"uid\": \"59a301e1-add3-4825-9fc5-3cd23a44d86a\"}, {\"mode\": \"lines\", \"name\": \"data\", \"text\": [], \"x\": [30, 31, 32, 32, 33, 33, 33, 33, 38, 42, 42, 43, 45, 45, 47, 53, 56, 57, 58, 58, 59, 59, 59, 62, 64, 67, 67, 70, 72, 74, 78, 78, 79, 83, 84, 84, 85, 86, 87, 87, 88, 90, 92, 93, 93, 94, 97, 99, 100, 101], \"y\": [122.01687025115665, 124.89675540208339, 127.77664055301011, 127.77664055301011, 130.65652570393684, 130.65652570393684, 130.65652570393684, 130.65652570393684, 145.05595145857052, 156.57549206227742, 156.57549206227742, 159.45537721320414, 165.21514751505762, 165.21514751505762, 170.97491781691107, 188.25422872247148, 196.89388417525166, 199.77376932617838, 202.65365447710514, 202.65365447710514, 205.53353962803186, 205.53353962803186, 205.53353962803186, 214.17319508081206, 219.93296538266551, 228.57262083544572, 228.57262083544572, 237.2122762882259, 242.97204659007937, 248.73181689193282, 260.25135749563975, 260.25135749563975, 263.1312426465665, 274.65078325027343, 277.53066840120016, 277.53066840120016, 280.4105535521269, 283.2904387030536, 286.17032385398034, 286.17032385398034, 289.05020900490706, 294.8099793067605, 300.56974960861396, 303.4496347595407, 303.4496347595407, 306.3295199104674, 314.9691753632477, 320.72894566510115, 323.6088308160279, 326.4887159669546], \"type\": \"scatter\", \"uid\": \"9ade4756-3b2e-485f-a2a5-a393a9423be6\"}, {\"mode\": \"lines\", \"name\": \"data\", \"text\": [], \"x\": [30, 31, 32, 32, 33, 33, 33, 33, 38, 42, 42, 43, 45, 45, 47, 53, 56, 57, 58, 58, 59, 59, 59, 62, 64, 67, 67, 70, 72, 74, 78, 78, 79, 83, 84, 84, 85, 86, 87, 87, 88, 90, 92, 93, 93, 94, 97, 99, 100, 101], \"y\": [102.04460888016085, 105.11760340290579, 146.80373096611726, 108.19059792565072, 111.26359244839566, 149.8767254888622, 149.8767254888622, 149.8767254888622, 165.2416981025869, 177.53367619356663, 177.53367619356663, 141.99353767584503, 148.1395267213349, 186.75265976180145, 154.28551576682477, 211.33661594376093, 181.9424664715292, 185.01546099427412, 188.08845551701907, 188.08845551701907, 229.77458308023054, 191.161450039764, 191.161450039764, 200.3804336079988, 206.52642265348868, 215.7454062217235, 254.35853926219005, 263.57752283042487, 231.11037883544816, 237.25636788093803, 288.16147901238435, 249.5483459719178, 291.23447353512927, 264.91331858564246, 267.98631310838744, 267.98631310838744, 271.05930763113236, 274.1323021538773, 277.2052966766222, 277.2052966766222, 280.2782911993671, 325.0374132853236, 292.5702692903469, 295.64326381309183, 295.64326381309183, 337.3293913763033, 307.93524190407163, 352.694363990028, 317.1542254723064, 320.2272199950513], \"type\": \"scatter\", \"uid\": \"dd8489d4-e8eb-4754-89bd-11d9045363af\"}, {\"mode\": \"lines\", \"name\": \"data\", \"text\": [], \"x\": [30, 31, 32, 32, 33, 33, 33, 33, 38, 42, 42, 43, 45, 45, 47, 53, 56, 57, 58, 58, 59, 59, 59, 62, 64, 67, 67, 70, 72, 74, 78, 78, 79, 83, 84, 84, 85, 86, 87, 87, 88, 90, 92, 93, 93, 94, 97, 99, 100, 101], \"y\": [102.90153957485495, 105.8668372488243, 147.56689004663093, 107.93860438545978, 111.74158693817962, 149.86203981759988, 150.02957679334997, 148.80097230451594, 165.58205872478047, 176.49387322474067, 178.50431693374182, 141.00364406778954, 148.66545483181255, 186.3391424425659, 153.14406305658378, 211.06674568882127, 181.2837292454754, 184.86332916386178, 187.32601591058082, 187.661089862081, 229.1377600255542, 191.35238109763412, 192.1900659763846, 201.47687860837624, 206.40225210181433, 215.29814512372238, 254.42381985764322, 263.431404196718, 230.7947813965695, 236.61368542734147, 288.8291553459738, 248.80995007471907, 291.8502986785265, 265.3118082020668, 268.4446428517862, 269.17063641337, 271.6891688186724, 274.26354688255816, 277.84314680094457, 278.01068377669463, 279.74737696182996, 324.52441875077267, 292.5579438536246, 295.13232191751035, 294.96478494176023, 338.00513354556773, 307.6636605163881, 352.5523936224976, 316.6153991968795, 320.2508447738493], \"type\": \"scatter\", \"uid\": \"4fd421c7-06b5-45c0-b8ec-063dc2c4a853\"}], {}, {\"showLink\": false, \"linkText\": \"Export to plot.ly\", \"plotlyServerURL\": \"https://plot.ly\"})});</script><script type=\"text/javascript\">window.addEventListener(\"resize\", function(){window._Plotly.Plots.resize(document.getElementById(\"bedc2513-1b6b-4e95-9282-bb438d92771b\"));});</script>"
      ]
     },
     "metadata": {},
     "output_type": "display_data"
    }
   ],
   "source": [
    "plot([data_trace,*model_traces])"
   ]
  },
  {
   "cell_type": "markdown",
   "metadata": {},
   "source": [
    "Now it may look like there are only two models, but there are three, and they are different.  Hover your cursor over the plot and you can see the slight differences between our two feature and three feature models."
   ]
  },
  {
   "cell_type": "markdown",
   "metadata": {},
   "source": [
    "### Choosing a model"
   ]
  },
  {
   "cell_type": "markdown",
   "metadata": {},
   "source": [
    "Now let's move into our process for choosing a model.  The first thing we may want to do is look at the scores for each of these models."
   ]
  },
  {
   "cell_type": "code",
   "execution_count": 38,
   "metadata": {},
   "outputs": [
    {
     "data": {
      "text/plain": [
       "[0.8420038114597748, 0.9059072683379463, 0.9059869378711805]"
      ]
     },
     "execution_count": 38,
     "metadata": {},
     "output_type": "execute_result"
    }
   ],
   "source": [
    "list(map(lambda model_and_data: model_and_data[0].score(model_and_data[1], customers_with_errors), models_and_data))"
   ]
  },
  {
   "cell_type": "markdown",
   "metadata": {},
   "source": [
    "Now we can see that each of has progressively better scores."
   ]
  },
  {
   "cell_type": "markdown",
   "metadata": {},
   "source": [
    "However, as we mentioned previously the new feature in our last model is the influence of our random list of cashier ages to customers.  This model is just using this random list to find an association between cashier age and customers that doesn't exist.  It's simply coincidence that there exists this association.  This is another case of us overfitting to the randomness in the data"
   ]
  },
  {
   "cell_type": "markdown",
   "metadata": {},
   "source": [
    "### But how do we know?"
   ]
  },
  {
   "cell_type": "markdown",
   "metadata": {},
   "source": [
    "Now the way to detect this overfitting is the same way we did before: we use a holdout set.  Here's why this should work:\n",
    "\n",
    "1. **If the association is real**, then the detected association should continue to be informative even on data the our model did not see.  \n",
    "2. **If the association is not real** then this means that our model just found a random association that is not likely to be replicated on the holdout set."
   ]
  },
  {
   "cell_type": "markdown",
   "metadata": {},
   "source": [
    "Ok, let's try it.  We'll create holdout sets by splitting our data into a group of holdout training data and holdout data."
   ]
  },
  {
   "cell_type": "code",
   "execution_count": 74,
   "metadata": {},
   "outputs": [],
   "source": [
    "split_datasets = []\n",
    "for dataset in feature_datasets:\n",
    "    training_data = dataset[:30]\n",
    "    holdout_data = dataset[30:]\n",
    "    split_dataset = (training_data, holdout_data)\n",
    "    split_datasets.append(split_dataset)"
   ]
  },
  {
   "cell_type": "markdown",
   "metadata": {},
   "source": [
    "So for each of our feature datasets, we placed the first thirty elements into `training_data` and the remaining data into `holdout_data`.  So for example, if we want to see first elements of our holdout dataset for that only includes the `temp` feature, we should go to the first element in our split dataset, and then find the second element which contains that holdout data. "
   ]
  },
  {
   "cell_type": "code",
   "execution_count": 76,
   "metadata": {},
   "outputs": [
    {
     "data": {
      "text/plain": [
       "[[78], [78], [79]]"
      ]
     },
     "execution_count": 76,
     "metadata": {},
     "output_type": "execute_result"
    }
   ],
   "source": [
    "holdout_data_first_dataset = split_datasets[0][1]\n",
    "holdout_data_first_dataset[0:3]"
   ]
  },
  {
   "cell_type": "markdown",
   "metadata": {},
   "source": [
    "Now remember that if we believe our feature does really help, then when it finds an association in our training dataset which produces a certain score, we should be able to show that this is not our model just matching to some association found in the randomness of the data.  We'll be able to show this if this now trained model is also predictive with our holdout dataset."
   ]
  },
  {
   "cell_type": "markdown",
   "metadata": {},
   "source": [
    "So let's first train the three models on the training datasets."
   ]
  },
  {
   "cell_type": "code",
   "execution_count": 104,
   "metadata": {},
   "outputs": [
    {
     "data": {
      "text/plain": [
       "[LinearRegression(copy_X=True, fit_intercept=True, n_jobs=1, normalize=False),\n",
       " LinearRegression(copy_X=True, fit_intercept=True, n_jobs=1, normalize=False),\n",
       " LinearRegression(copy_X=True, fit_intercept=True, n_jobs=1, normalize=False)]"
      ]
     },
     "execution_count": 104,
     "metadata": {},
     "output_type": "execute_result"
    }
   ],
   "source": [
    "training_models = []\n",
    "for dataset in split_datasets:\n",
    "    model = LinearRegression()\n",
    "    training_feature_data = dataset[0]\n",
    "    model.fit(training_feature_data, customers_with_errors[0:30])\n",
    "    training_models.append(model)\n",
    "training_models"
   ]
  },
  {
   "cell_type": "code",
   "execution_count": 105,
   "metadata": {},
   "outputs": [
    {
     "data": {
      "text/plain": [
       "[array([2.83631714]),\n",
       " array([ 3.19619175, 41.15656982]),\n",
       " array([ 3.35363479, 42.63582233, -0.58347836])]"
      ]
     },
     "execution_count": 105,
     "metadata": {},
     "output_type": "execute_result"
    }
   ],
   "source": [
    "list(map(lambda training_model: training_model.coef_ , training_models))"
   ]
  },
  {
   "cell_type": "markdown",
   "metadata": {},
   "source": [
    "And we can get the related scores."
   ]
  },
  {
   "cell_type": "code",
   "execution_count": 108,
   "metadata": {},
   "outputs": [],
   "source": [
    "split_models_with_data = list(zip(training_models, split_datasets))"
   ]
  },
  {
   "cell_type": "code",
   "execution_count": 109,
   "metadata": {},
   "outputs": [],
   "source": [
    "training_scores = []\n",
    "for split_model_with_data in split_models_with_data:\n",
    "    selected_model = split_model_with_data[0]\n",
    "    training_data = split_model_with_data[1][0]\n",
    "    score = selected_model.score(training_data, customers_with_errors[:30])\n",
    "    training_scores.append(score)"
   ]
  },
  {
   "cell_type": "code",
   "execution_count": 110,
   "metadata": {},
   "outputs": [
    {
     "data": {
      "text/plain": [
       "[0.6623863190118378, 0.8252525407686737, 0.8440593106882044]"
      ]
     },
     "execution_count": 110,
     "metadata": {},
     "output_type": "execute_result"
    }
   ],
   "source": [
    "training_scores"
   ]
  },
  {
   "cell_type": "markdown",
   "metadata": {},
   "source": [
    "So as we can see on our training data, our models continue to improve with every new parameter that we add."
   ]
  },
  {
   "cell_type": "markdown",
   "metadata": {},
   "source": [
    "Now let's see how each of our models performs with our holdout data."
   ]
  },
  {
   "cell_type": "code",
   "execution_count": 113,
   "metadata": {},
   "outputs": [],
   "source": [
    "holdout_scores = []\n",
    "for split_model_with_data in split_models_with_data:\n",
    "    selected_model = split_model_with_data[0]\n",
    "    holdout_data = split_model_with_data[1][1]\n",
    "    score = selected_model.score(holdout_data, customers_with_errors[30:])\n",
    "    holdout_scores.append(score)"
   ]
  },
  {
   "cell_type": "code",
   "execution_count": 114,
   "metadata": {},
   "outputs": [
    {
     "data": {
      "text/plain": [
       "[0.4036896487296144, 0.5465540739803845, 0.35116461377626523]"
      ]
     },
     "execution_count": 114,
     "metadata": {},
     "output_type": "execute_result"
    }
   ],
   "source": [
    "holdout_scores"
   ]
  },
  {
   "cell_type": "markdown",
   "metadata": {},
   "source": [
    "So here we can see that our models do not improve with each added parameter.  Rather we see that our bias variance tradeoff reflected in these scores.  The first score is for our one parameter model, which is biased.  Then the second score has our two parameter model, which has the proper features of temps and weekend.  And our final model has three an irrelevant parameter of `random_ages` and thus suffers from variance. "
   ]
  },
  {
   "cell_type": "markdown",
   "metadata": {},
   "source": [
    "| model                  |train score | holdout score |  \n",
    "| ---------------------- |:----------:| :------------:|\n",
    "| temps, ages, weekend   | .66        |  .40          |\n",
    "| temps, weekend         | .82        |  .54      \n",
    "| temps                  | .84        |  .35         | "
   ]
  },
  {
   "cell_type": "code",
   "execution_count": null,
   "metadata": {},
   "outputs": [],
   "source": [
    "model_parameters = [1, 2, 3]\n",
    "trace_values(model_parameters, )"
   ]
  },
  {
   "cell_type": "markdown",
   "metadata": {},
   "source": [
    "### Summary"
   ]
  },
  {
   "cell_type": "markdown",
   "metadata": {},
   "source": [
    "In this lesson, we saw how our final source of error, which is variance.  Variance occurs when our model is too flexible, and thus an irrelevant parameter is introduced, which is influenced by the randomness in the data.  Our models are susceptible to variance because increasing more parameters tends to make our models more flexible, which allows for an increased score.  However, adding in these new irrelevant features can affect the numbers of all of our original features as well.  \n",
    "\n",
    "We can protect against variance with a holdout set, as if our model associating with randomness, we do not expect this to benefit the overfitted model's ability to predict data it has not seen."
   ]
  }
 ],
 "metadata": {
  "kernelspec": {
   "display_name": "Python 3",
   "language": "python",
   "name": "python3"
  },
  "language_info": {
   "codemirror_mode": {
    "name": "ipython",
    "version": 3
   },
   "file_extension": ".py",
   "mimetype": "text/x-python",
   "name": "python",
   "nbconvert_exporter": "python",
   "pygments_lexer": "ipython3",
   "version": "3.7.0"
  }
 },
 "nbformat": 4,
 "nbformat_minor": 2
}
