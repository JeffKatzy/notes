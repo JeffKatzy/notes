{
 "cells": [
  {
   "cell_type": "markdown",
   "metadata": {},
   "source": [
    "# A perfect world"
   ]
  },
  {
   "cell_type": "markdown",
   "metadata": {},
   "source": [
    "### Introduction"
   ]
  },
  {
   "cell_type": "markdown",
   "metadata": {},
   "source": [
    "In the last lesson, we discussed the different types of error that we see when we train our machine learning models: irreducible error, variance and bias.  Now the first two of these errors are due to randomness.  We'll explore these in turn.  \n",
    "\n",
    "The way that we'll do this is by constructing our data in such a way that these errors do not exist.  We'll construct a perfect dataset.  Doing so will have two benefits:\n",
    "\n",
    "1. The easiest way to appreciate and visualize our different errors is to see what a machine learning model looks like when they do not exist.\n",
    "2. The ability to create artificial datasets is crucial to our ability to explore new techniques and algorithms\n",
    "\n",
    "Let's get going."
   ]
  },
  {
   "cell_type": "markdown",
   "metadata": {},
   "source": [
    "### Imagining a world without error"
   ]
  },
  {
   "cell_type": "markdown",
   "metadata": {},
   "source": [
    "Ok, so in this lesson, we'll create a dataset that our machine learning model can perfectly predict.  Then we'll train our model on this dataset."
   ]
  },
  {
   "cell_type": "markdown",
   "metadata": {},
   "source": [
    "Here's our scenario.\n",
    "\n",
    "Imagine that we are hired by a restaurant to predict the number of customers who enter our restaurant each day.  The restaurant wants to reduce the amount it wastes on over purchasing food supplies, a lot of which it cannot use the next day.  It knows that temperature affects the number of customers it sees each day, but it doesn't know how much.\n",
    "\n",
    "In other words, our model looks like the following:"
   ]
  },
  {
   "cell_type": "markdown",
   "metadata": {},
   "source": [
    "$$ customers = \\theta_1*temperature + \\theta_0 $$"
   ]
  },
  {
   "cell_type": "markdown",
   "metadata": {},
   "source": [
    "> Here we use the variable theta, $\\theta$ to represent the parameter for temperature that we are trying top discover.  Previously, we have used $x_1$ or $m$ for this.  $\\theta_1$ is equivalent to our coefficient variable and $\\theta_0$ is equivalent to our intercept variable."
   ]
  },
  {
   "cell_type": "markdown",
   "metadata": {},
   "source": [
    "Now we don't have any data yet from the restaurant -- they haven't yet hired us -- so we need to create a mock dataset ourselves."
   ]
  },
  {
   "cell_type": "markdown",
   "metadata": {},
   "source": [
    "#### 1. Creating random numbers"
   ]
  },
  {
   "cell_type": "markdown",
   "metadata": {},
   "source": [
    "We know that our inputs is going to be temperatures and our outputs will be customers.  So we can start off by creating our input data, a list of random temperatures between 30 degrees and 101 degrees."
   ]
  },
  {
   "cell_type": "code",
   "execution_count": 1,
   "metadata": {},
   "outputs": [
    {
     "data": {
      "text/plain": [
       "[95, 49, 30]"
      ]
     },
     "execution_count": 1,
     "metadata": {},
     "output_type": "execute_result"
    }
   ],
   "source": [
    "from random import randint\n",
    "random_temperatures = list(map(lambda num: randint(30,101), range(0, 50)))\n",
    "random_temperatures[0:3]"
   ]
  },
  {
   "cell_type": "markdown",
   "metadata": {},
   "source": [
    "Press shift + enter on the cell above multiple times.  \n",
    "\n",
    "Notice that every time the cell is executed, a different set of numbers is generated.  This makes sense, but it can also be problematic.  We don't want this process to generate a list of random numbers that we cannot reproduce.  What if soemthing goes wrong?  We'll need the ability to recreate our data so that we can then carefully explore everything that went wrong.  \n",
    "\n",
    "So we want the ability to generate the same list of random, really pseudo-random numbers, each time.  We do this by *seeding* our random number generator. "
   ]
  },
  {
   "cell_type": "markdown",
   "metadata": {},
   "source": [
    "Let's see how seeding works."
   ]
  },
  {
   "cell_type": "code",
   "execution_count": 3,
   "metadata": {},
   "outputs": [
    {
     "data": {
      "text/plain": [
       "3"
      ]
     },
     "execution_count": 3,
     "metadata": {},
     "output_type": "execute_result"
    }
   ],
   "source": [
    "from random import randint\n",
    "import random\n",
    "random.seed(1)\n",
    "randint(1, 10)"
   ]
  },
  {
   "cell_type": "markdown",
   "metadata": {},
   "source": [
    "Seeding configures our random number generator to generate the same sequence of numbers.  Try re-executing the cell above, notice that the first random number is always 3."
   ]
  },
  {
   "cell_type": "markdown",
   "metadata": {},
   "source": [
    "So now let's use seeding to generate a list of 50 random numbers that will be the same list even if we re-execute the cell."
   ]
  },
  {
   "cell_type": "code",
   "execution_count": 4,
   "metadata": {},
   "outputs": [
    {
     "data": {
      "text/plain": [
       "[47, 38, 62]"
      ]
     },
     "execution_count": 4,
     "metadata": {},
     "output_type": "execute_result"
    }
   ],
   "source": [
    "from random import randint\n",
    "random.seed(1)\n",
    "random_temperatures = list(map(lambda num: randint(30,101), range(0, 50)))\n",
    "random_temperatures[0:3]"
   ]
  },
  {
   "cell_type": "markdown",
   "metadata": {},
   "source": [
    "So the first three numbers will always be 47, 38, and 62."
   ]
  },
  {
   "cell_type": "markdown",
   "metadata": {},
   "source": [
    "### 2. Generate perfect outcomes"
   ]
  },
  {
   "cell_type": "markdown",
   "metadata": {},
   "source": [
    "Ok, so now that we have generated a list of random temperatures, our inputs, it's time to generate our outcomes.  Remember we want to do this in a way that these outcomes have no randomness in them.  Also remember that our the restaurant believes that the true model follows the following form: "
   ]
  },
  {
   "cell_type": "markdown",
   "metadata": {},
   "source": [
    "$$ customers = \\theta_1*temperature + \\theta_0 $$"
   ]
  },
  {
   "cell_type": "markdown",
   "metadata": {},
   "source": [
    "Let's assume that $theta_1 = 3$ and $theta_0 = 10$.  We then have the following model:\n",
    "\n",
    "$$ customers = 3*temperature + 10 $$\n",
    "\n",
    "And we should be able to construct a dataset that perfectly matches this model.  Here it is."
   ]
  },
  {
   "cell_type": "code",
   "execution_count": 3,
   "metadata": {},
   "outputs": [
    {
     "data": {
      "text/plain": [
       "[295, 157, 100]"
      ]
     },
     "execution_count": 3,
     "metadata": {},
     "output_type": "execute_result"
    }
   ],
   "source": [
    "perfect_customers = list(map(lambda temp: 3*temp + 10, random_temperatures))\n",
    "perfect_customers[0:3]"
   ]
  },
  {
   "cell_type": "markdown",
   "metadata": {},
   "source": [
    "Ok, so let's plot our data."
   ]
  },
  {
   "cell_type": "code",
   "execution_count": 4,
   "metadata": {},
   "outputs": [
    {
     "data": {
      "text/html": [
       "        <script type=\"text/javascript\">\n",
       "        window.PlotlyConfig = {MathJaxConfig: 'local'};\n",
       "        if (window.MathJax) {MathJax.Hub.Config({SVG: {font: \"STIX-Web\"}});}\n",
       "        if (typeof require !== 'undefined') {\n",
       "        require.undef(\"plotly\");\n",
       "        requirejs.config({\n",
       "            paths: {\n",
       "                'plotly': ['https://cdn.plot.ly/plotly-latest.min']\n",
       "            }\n",
       "        });\n",
       "        require(['plotly'], function(Plotly) {\n",
       "            window._Plotly = Plotly;\n",
       "        });\n",
       "        }\n",
       "        </script>\n",
       "        "
      ]
     },
     "metadata": {},
     "output_type": "display_data"
    },
    {
     "data": {
      "application/vnd.plotly.v1+json": {
       "config": {
        "linkText": "Export to plot.ly",
        "plotlyServerURL": "https://plot.ly",
        "showLink": false
       },
       "data": [
        {
         "mode": "markers",
         "name": "initial data",
         "text": [],
         "type": "scatter",
         "uid": "b16e5678-30e7-4c3a-bd67-6fa63182664e",
         "x": [
          95,
          49,
          30,
          34,
          82,
          45,
          72,
          78,
          100,
          63,
          46,
          45,
          48,
          95,
          49,
          56,
          53,
          64,
          69,
          76,
          42,
          94,
          42,
          35,
          42,
          91,
          41,
          82,
          101,
          81,
          46,
          67,
          43,
          61,
          35,
          75,
          73,
          44,
          97,
          53,
          43,
          41,
          48,
          65,
          70,
          70,
          82,
          32,
          95,
          79
         ],
         "y": [
          295,
          157,
          100,
          112,
          256,
          145,
          226,
          244,
          310,
          199,
          148,
          145,
          154,
          295,
          157,
          178,
          169,
          202,
          217,
          238,
          136,
          292,
          136,
          115,
          136,
          283,
          133,
          256,
          313,
          253,
          148,
          211,
          139,
          193,
          115,
          235,
          229,
          142,
          301,
          169,
          139,
          133,
          154,
          205,
          220,
          220,
          256,
          106,
          295,
          247
         ]
        }
       ],
       "layout": {
        "autosize": true,
        "xaxis": {
         "autorange": true,
         "range": [
          25.534355179704015,
          105.46564482029598
         ],
         "title": {
          "text": "temperature"
         },
         "type": "linear"
        },
        "yaxis": {
         "autorange": true,
         "range": [
          84.39808917197452,
          328.6019108280255
         ],
         "title": {
          "text": "customers"
         },
         "type": "linear"
        }
       }
      },
      "image/png": "[encoded data removed]",
      "text/html": [
       "<div>\n",
       "        \n",
       "        \n",
       "            <div id=\"806b2403-e0de-4234-8c46-c9ce44493862\" class=\"plotly-graph-div\" style=\"height:525px; width:100%;\"></div>\n",
       "            <script type=\"text/javascript\">\n",
       "                require([\"plotly\"], function(Plotly) {\n",
       "                    window.PLOTLYENV=window.PLOTLYENV || {};\n",
       "                    window.PLOTLYENV.BASE_URL='https://plot.ly';\n",
       "                    \n",
       "                if (document.getElementById(\"806b2403-e0de-4234-8c46-c9ce44493862\")) {\n",
       "                    Plotly.newPlot(\n",
       "                        '806b2403-e0de-4234-8c46-c9ce44493862',\n",
       "                        [{\"mode\": \"markers\", \"name\": \"initial data\", \"text\": [], \"type\": \"scatter\", \"uid\": \"b16e5678-30e7-4c3a-bd67-6fa63182664e\", \"x\": [95, 49, 30, 34, 82, 45, 72, 78, 100, 63, 46, 45, 48, 95, 49, 56, 53, 64, 69, 76, 42, 94, 42, 35, 42, 91, 41, 82, 101, 81, 46, 67, 43, 61, 35, 75, 73, 44, 97, 53, 43, 41, 48, 65, 70, 70, 82, 32, 95, 79], \"y\": [295, 157, 100, 112, 256, 145, 226, 244, 310, 199, 148, 145, 154, 295, 157, 178, 169, 202, 217, 238, 136, 292, 136, 115, 136, 283, 133, 256, 313, 253, 148, 211, 139, 193, 115, 235, 229, 142, 301, 169, 139, 133, 154, 205, 220, 220, 256, 106, 295, 247]}],\n",
       "                        {\"xaxis\": {\"title\": {\"text\": \"temperature\"}}, \"yaxis\": {\"title\": {\"text\": \"customers\"}}},\n",
       "                        {\"showLink\": false, \"linkText\": \"Export to plot.ly\", \"plotlyServerURL\": \"https://plot.ly\", \"responsive\": true}\n",
       "                    ).then(function(){\n",
       "                            \n",
       "var gd = document.getElementById('806b2403-e0de-4234-8c46-c9ce44493862');\n",
       "var x = new MutationObserver(function (mutations, observer) {{\n",
       "        var display = window.getComputedStyle(gd).display;\n",
       "        if (!display || display === 'none') {{\n",
       "            console.log([gd, 'removed!']);\n",
       "            Plotly.purge(gd);\n",
       "            observer.disconnect();\n",
       "        }}\n",
       "}});\n",
       "\n",
       "// Listen for the removal of the full notebook cells\n",
       "var notebookContainer = gd.closest('#notebook-container');\n",
       "if (notebookContainer) {{\n",
       "    x.observe(notebookContainer, {childList: true});\n",
       "}}\n",
       "\n",
       "// Listen for the clearing of the current output cell\n",
       "var outputEl = gd.closest('.output');\n",
       "if (outputEl) {{\n",
       "    x.observe(outputEl, {childList: true});\n",
       "}}\n",
       "\n",
       "                        })\n",
       "                };\n",
       "                });\n",
       "            </script>\n",
       "        </div>"
      ]
     },
     "metadata": {},
     "output_type": "display_data"
    }
   ],
   "source": [
    "from graph import trace_values, plot\n",
    "data_trace = trace_values(random_temperatures, perfect_customers, name = 'initial data')\n",
    "layout = {'yaxis': {'title': 'customers'}, 'xaxis': {'title': 'temperature'}}\n",
    "plot([data_trace], layout = layout)"
   ]
  },
  {
   "cell_type": "markdown",
   "metadata": {},
   "source": [
    "Ok, so our restaurant observed the above beautiful data of temperatures and customers. "
   ]
  },
  {
   "cell_type": "markdown",
   "metadata": {},
   "source": [
    "### Training our linear model"
   ]
  },
  {
   "cell_type": "markdown",
   "metadata": {},
   "source": [
    "Now so far we created a synthetic dataset.  And to create a perfect synthetic dataset, we started off with our true model, and then created our dataset from there.\n",
    "\n",
    "But normally, we do not know the true underlying model.  Instead we use a machine learning algorithm to approximate it.  Let's imagine we did not know that our underlying model was $ customers = 3x + 10$ and see how good our regression model is approximating this underlying model."
   ]
  },
  {
   "cell_type": "markdown",
   "metadata": {},
   "source": [
    "1. Transform dataset into rows"
   ]
  },
  {
   "cell_type": "markdown",
   "metadata": {},
   "source": [
    "SciKit learn takes feature variables in the form of a nested list.  So we wrap each of our temperatures in a list like so:"
   ]
  },
  {
   "cell_type": "code",
   "execution_count": 6,
   "metadata": {},
   "outputs": [],
   "source": [
    "temperature_inputs = list(map(lambda temperature: [temperature], random_temperatures))"
   ]
  },
  {
   "cell_type": "markdown",
   "metadata": {},
   "source": [
    "This takes our data from here:"
   ]
  },
  {
   "cell_type": "code",
   "execution_count": 9,
   "metadata": {},
   "outputs": [
    {
     "data": {
      "text/plain": [
       "[95, 49, 30]"
      ]
     },
     "execution_count": 9,
     "metadata": {},
     "output_type": "execute_result"
    }
   ],
   "source": [
    "random_temperatures[0:3]"
   ]
  },
  {
   "cell_type": "markdown",
   "metadata": {},
   "source": [
    "To here:"
   ]
  },
  {
   "cell_type": "code",
   "execution_count": 7,
   "metadata": {},
   "outputs": [
    {
     "data": {
      "text/plain": [
       "[[95], [49], [30]]"
      ]
     },
     "execution_count": 7,
     "metadata": {},
     "output_type": "execute_result"
    }
   ],
   "source": [
    "temperature_inputs[0:3]"
   ]
  },
  {
   "cell_type": "markdown",
   "metadata": {},
   "source": [
    "2. Fit the model to the data"
   ]
  },
  {
   "cell_type": "markdown",
   "metadata": {},
   "source": [
    "Next we go through our standard steps of training our linear regression model, if the model can detect the underlying pattern in the data."
   ]
  },
  {
   "cell_type": "code",
   "execution_count": 11,
   "metadata": {},
   "outputs": [
    {
     "data": {
      "text/plain": [
       "LinearRegression(copy_X=True, fit_intercept=True, n_jobs=None,\n",
       "         normalize=False)"
      ]
     },
     "execution_count": 11,
     "metadata": {},
     "output_type": "execute_result"
    }
   ],
   "source": [
    "from sklearn.linear_model import LinearRegression\n",
    "perfect_model = LinearRegression()\n",
    "perfect_model.fit(temperature_inputs, perfect_customers)"
   ]
  },
  {
   "cell_type": "markdown",
   "metadata": {},
   "source": [
    "3. View the parameters"
   ]
  },
  {
   "cell_type": "markdown",
   "metadata": {},
   "source": [
    "Let's see how well our model did."
   ]
  },
  {
   "cell_type": "code",
   "execution_count": 10,
   "metadata": {},
   "outputs": [
    {
     "data": {
      "text/plain": [
       "array([3.])"
      ]
     },
     "execution_count": 10,
     "metadata": {},
     "output_type": "execute_result"
    }
   ],
   "source": [
    "perfect_model.coef_"
   ]
  },
  {
   "cell_type": "code",
   "execution_count": 11,
   "metadata": {},
   "outputs": [
    {
     "data": {
      "text/plain": [
       "10.000000000000028"
      ]
     },
     "execution_count": 11,
     "metadata": {},
     "output_type": "execute_result"
    }
   ],
   "source": [
    "perfect_model.intercept_"
   ]
  },
  {
   "cell_type": "markdown",
   "metadata": {},
   "source": [
    "Hot damn! Our regression model started off not knowing the underlying true model, but by feeding it data, it was able to discover this model.  \n",
    "\n",
    "We can confirm that this model matches the data well, by scoring the model against this data."
   ]
  },
  {
   "cell_type": "code",
   "execution_count": 12,
   "metadata": {},
   "outputs": [
    {
     "data": {
      "text/plain": [
       "1.0"
      ]
     },
     "execution_count": 12,
     "metadata": {},
     "output_type": "execute_result"
    }
   ],
   "source": [
    "perfect_model.score(temperature_inputs, perfect_customers)"
   ]
  },
  {
   "cell_type": "markdown",
   "metadata": {},
   "source": [
    "> What's that score? This score is the number related to the coefficient of determination, or $r^2$.  This number looks shows the proportion of the variance in the target variables that are explained by the model.  The highest this number can ever reach is 1, and a very low score is 0 (although it can become negative).    "
   ]
  },
  {
   "cell_type": "markdown",
   "metadata": {},
   "source": [
    "Here we reached the highest score we can 1.0.  This makes sense -- we have various outcomes and each of them can perfectly be explained by our model."
   ]
  },
  {
   "cell_type": "markdown",
   "metadata": {},
   "source": [
    "### Releasing the model"
   ]
  },
  {
   "cell_type": "markdown",
   "metadata": {},
   "source": [
    "Now that this model has been trained on our data, we can try the model on data it has not yet seen.  Because we are modeling a world  where we always have $customers =  3*temp + 10 $, and this what our model predicts, our model will predict the new number of customers perfectly."
   ]
  },
  {
   "cell_type": "code",
   "execution_count": 12,
   "metadata": {},
   "outputs": [
    {
     "data": {
      "text/plain": [
       "[31, 56, 41]"
      ]
     },
     "execution_count": 12,
     "metadata": {},
     "output_type": "execute_result"
    }
   ],
   "source": [
    "new_random_temperatures = list(map(lambda num: randint(30,101), range(0, 50)))\n",
    "new_perfect_customers = list(map(lambda temp: 3*temp + 10, new_random_temperatures))\n",
    "new_random_temperatures[0:3]"
   ]
  },
  {
   "cell_type": "code",
   "execution_count": 13,
   "metadata": {},
   "outputs": [
    {
     "data": {
      "text/plain": [
       "[[31], [56], [41]]"
      ]
     },
     "execution_count": 13,
     "metadata": {},
     "output_type": "execute_result"
    }
   ],
   "source": [
    "input_new_temperatures = list(map(lambda temp: [temp], new_random_temperatures))\n",
    "input_new_temperatures[0:3]"
   ]
  },
  {
   "cell_type": "code",
   "execution_count": 16,
   "metadata": {},
   "outputs": [
    {
     "data": {
      "application/vnd.plotly.v1+json": {
       "config": {
        "linkText": "Export to plot.ly",
        "plotlyServerURL": "https://plot.ly",
        "showLink": false
       },
       "data": [
        {
         "mode": "markers",
         "name": "initial data",
         "text": [],
         "type": "scatter",
         "uid": "49961315-f353-418a-b104-8a181792f9cd",
         "x": [
          95,
          49,
          30,
          34,
          82,
          45,
          72,
          78,
          100,
          63,
          46,
          45,
          48,
          95,
          49,
          56,
          53,
          64,
          69,
          76,
          42,
          94,
          42,
          35,
          42,
          91,
          41,
          82,
          101,
          81,
          46,
          67,
          43,
          61,
          35,
          75,
          73,
          44,
          97,
          53,
          43,
          41,
          48,
          65,
          70,
          70,
          82,
          32,
          95,
          79
         ],
         "y": [
          295,
          157,
          100,
          112,
          256,
          145,
          226,
          244,
          310,
          199,
          148,
          145,
          154,
          295,
          157,
          178,
          169,
          202,
          217,
          238,
          136,
          292,
          136,
          115,
          136,
          283,
          133,
          256,
          313,
          253,
          148,
          211,
          139,
          193,
          115,
          235,
          229,
          142,
          301,
          169,
          139,
          133,
          154,
          205,
          220,
          220,
          256,
          106,
          295,
          247
         ]
        },
        {
         "mode": "markers",
         "name": "new data",
         "text": [],
         "type": "scatter",
         "uid": "d370df43-4afa-409e-91c3-29f08219805d",
         "x": [
          31,
          56,
          41,
          33,
          91,
          45,
          59,
          67,
          81,
          34,
          78,
          46,
          73,
          44,
          40,
          95,
          48,
          82,
          56,
          61,
          41,
          33,
          100,
          31,
          60,
          71,
          60,
          79,
          55,
          30,
          67,
          82,
          62,
          48,
          93,
          58,
          90,
          79,
          54,
          97,
          35,
          57,
          92,
          52,
          48,
          30,
          69,
          35,
          35,
          97
         ],
         "y": [
          103,
          178,
          133,
          109,
          283,
          145,
          187,
          211,
          253,
          112,
          244,
          148,
          229,
          142,
          130,
          295,
          154,
          256,
          178,
          193,
          133,
          109,
          310,
          103,
          190,
          223,
          190,
          247,
          175,
          100,
          211,
          256,
          196,
          154,
          289,
          184,
          280,
          247,
          172,
          301,
          115,
          181,
          286,
          166,
          154,
          100,
          217,
          115,
          115,
          301
         ]
        }
       ],
       "layout": {
        "autosize": true,
        "xaxis": {
         "autorange": true,
         "range": [
          25.49141876430206,
          105.50858123569795
         ],
         "title": {
          "text": "temperature"
         },
         "type": "linear"
        },
        "yaxis": {
         "autorange": true,
         "range": [
          84.39808917197452,
          328.6019108280255
         ],
         "title": {
          "text": "customers"
         },
         "type": "linear"
        }
       }
      },
      "image/png": "[encoded data removed]",
      "text/html": [
       "<div>\n",
       "        \n",
       "        \n",
       "            <div id=\"9ab574fa-a124-4817-9799-d33e301b8313\" class=\"plotly-graph-div\" style=\"height:525px; width:100%;\"></div>\n",
       "            <script type=\"text/javascript\">\n",
       "                require([\"plotly\"], function(Plotly) {\n",
       "                    window.PLOTLYENV=window.PLOTLYENV || {};\n",
       "                    window.PLOTLYENV.BASE_URL='https://plot.ly';\n",
       "                    \n",
       "                if (document.getElementById(\"9ab574fa-a124-4817-9799-d33e301b8313\")) {\n",
       "                    Plotly.newPlot(\n",
       "                        '9ab574fa-a124-4817-9799-d33e301b8313',\n",
       "                        [{\"mode\": \"markers\", \"name\": \"initial data\", \"text\": [], \"type\": \"scatter\", \"uid\": \"49961315-f353-418a-b104-8a181792f9cd\", \"x\": [95, 49, 30, 34, 82, 45, 72, 78, 100, 63, 46, 45, 48, 95, 49, 56, 53, 64, 69, 76, 42, 94, 42, 35, 42, 91, 41, 82, 101, 81, 46, 67, 43, 61, 35, 75, 73, 44, 97, 53, 43, 41, 48, 65, 70, 70, 82, 32, 95, 79], \"y\": [295, 157, 100, 112, 256, 145, 226, 244, 310, 199, 148, 145, 154, 295, 157, 178, 169, 202, 217, 238, 136, 292, 136, 115, 136, 283, 133, 256, 313, 253, 148, 211, 139, 193, 115, 235, 229, 142, 301, 169, 139, 133, 154, 205, 220, 220, 256, 106, 295, 247]}, {\"mode\": \"markers\", \"name\": \"new data\", \"text\": [], \"type\": \"scatter\", \"uid\": \"d370df43-4afa-409e-91c3-29f08219805d\", \"x\": [31, 56, 41, 33, 91, 45, 59, 67, 81, 34, 78, 46, 73, 44, 40, 95, 48, 82, 56, 61, 41, 33, 100, 31, 60, 71, 60, 79, 55, 30, 67, 82, 62, 48, 93, 58, 90, 79, 54, 97, 35, 57, 92, 52, 48, 30, 69, 35, 35, 97], \"y\": [103, 178, 133, 109, 283, 145, 187, 211, 253, 112, 244, 148, 229, 142, 130, 295, 154, 256, 178, 193, 133, 109, 310, 103, 190, 223, 190, 247, 175, 100, 211, 256, 196, 154, 289, 184, 280, 247, 172, 301, 115, 181, 286, 166, 154, 100, 217, 115, 115, 301]}],\n",
       "                        {\"xaxis\": {\"title\": {\"text\": \"temperature\"}}, \"yaxis\": {\"title\": {\"text\": \"customers\"}}},\n",
       "                        {\"showLink\": false, \"linkText\": \"Export to plot.ly\", \"plotlyServerURL\": \"https://plot.ly\", \"responsive\": true}\n",
       "                    ).then(function(){\n",
       "                            \n",
       "var gd = document.getElementById('9ab574fa-a124-4817-9799-d33e301b8313');\n",
       "var x = new MutationObserver(function (mutations, observer) {{\n",
       "        var display = window.getComputedStyle(gd).display;\n",
       "        if (!display || display === 'none') {{\n",
       "            console.log([gd, 'removed!']);\n",
       "            Plotly.purge(gd);\n",
       "            observer.disconnect();\n",
       "        }}\n",
       "}});\n",
       "\n",
       "// Listen for the removal of the full notebook cells\n",
       "var notebookContainer = gd.closest('#notebook-container');\n",
       "if (notebookContainer) {{\n",
       "    x.observe(notebookContainer, {childList: true});\n",
       "}}\n",
       "\n",
       "// Listen for the clearing of the current output cell\n",
       "var outputEl = gd.closest('.output');\n",
       "if (outputEl) {{\n",
       "    x.observe(outputEl, {childList: true});\n",
       "}}\n",
       "\n",
       "                        })\n",
       "                };\n",
       "                });\n",
       "            </script>\n",
       "        </div>"
      ]
     },
     "metadata": {},
     "output_type": "display_data"
    }
   ],
   "source": [
    "from graph import trace_values, plot\n",
    "new_data_trace = trace_values(new_random_temperatures, new_perfect_customers, name = 'new data')\n",
    "plot([data_trace, new_data_trace], layout = layout)"
   ]
  },
  {
   "cell_type": "code",
   "execution_count": 15,
   "metadata": {},
   "outputs": [
    {
     "data": {
      "text/plain": [
       "1.0"
      ]
     },
     "execution_count": 15,
     "metadata": {},
     "output_type": "execute_result"
    }
   ],
   "source": [
    "perfect_model.score(input_new_temperatures, new_perfect_customers)"
   ]
  },
  {
   "cell_type": "markdown",
   "metadata": {},
   "source": [
    "### Summary"
   ]
  },
  {
   "cell_type": "markdown",
   "metadata": {},
   "source": [
    "In this lesson, we saw a couple things.\n",
    "\n",
    "First, we saw how to generate a dataset.  To do this, we first created a list of random inputs, our temperatures.  Then we created the corresponding outputs by simply creating outputs that were a function of our inputs.\n",
    "\n",
    "The second thing we saw was what occurs when we train our model on a dataset that perfectly follows a linear equation.  What happens is our model can perfectly discover the underlying model.  We saw this when we trained our model on our dataset.  It perfectly discovered the parameters underlying the data,  $customers = 3xtemperature + 10$.  We also saw that saw tha our model also predicted data it had not previously seen, so long as the outputs also followed the underlying formula.\n",
    "\n",
    "We'll use this perfect scenario by way of comparison to see what occurs when we do not have perfect data."
   ]
  }
 ],
 "metadata": {
  "kernelspec": {
   "display_name": "Python 3",
   "language": "python",
   "name": "python3"
  },
  "language_info": {
   "codemirror_mode": {
    "name": "ipython",
    "version": 3
   },
   "file_extension": ".py",
   "mimetype": "text/x-python",
   "name": "python",
   "nbconvert_exporter": "python",
   "pygments_lexer": "ipython3",
   "version": "3.7.3"
  }
 },
 "nbformat": 4,
 "nbformat_minor": 2
}
