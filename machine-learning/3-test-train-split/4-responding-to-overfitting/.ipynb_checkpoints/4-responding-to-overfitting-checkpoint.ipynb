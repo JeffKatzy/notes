{
 "cells": [
  {
   "cell_type": "markdown",
   "metadata": {},
   "source": [
    "# The data scientist strikes back"
   ]
  },
  {
   "cell_type": "markdown",
   "metadata": {},
   "source": [
    "### Introduction"
   ]
  },
  {
   "cell_type": "markdown",
   "metadata": {},
   "source": [
    "In the last lesson, we learned about error due to variance.  We saw that it occurs because of randomness in our training data, which leads to randomness in our trained parameters.  Because our model trains partially fits to this randomness, and this randomness is unlikely to be replicated, our model tends to overperform on training data as opposed to data it did not train on.  This is called overfitting.    \n",
    "\n",
    "Ok, so this is the problem we want to solve:\n",
    "\n",
    "We'll still let our model still be influenced by the noise of the data.  But, we don't want the model to leave us surprised when it underperforms on the production data. That is, we want to be able to predict how accurate our model will be before we place it into production. Let's get to it."
   ]
  },
  {
   "cell_type": "markdown",
   "metadata": {},
   "source": [
    "### Loading our noisy data"
   ]
  },
  {
   "cell_type": "markdown",
   "metadata": {},
   "source": [
    "So we start by re-creating our noisy dataset, just this time with 400 data points."
   ]
  },
  {
   "cell_type": "code",
   "execution_count": 33,
   "metadata": {},
   "outputs": [],
   "source": [
    "from random import randint, seed\n",
    "from graph import trace_values, plot\n",
    "seed(1)\n",
    "\n",
    "import numpy as np\n",
    "def build_data_set(theta_1 = 3, theta_2 = 10, error_plus_minus = 50, size = 50):\n",
    "    random_temperatures = list(map(lambda num: randint(30,101), range(0, size)))\n",
    "    perfect_customers = list(map(lambda temp: theta_1*temp + theta_2, random_temperatures))\n",
    "    random_errors = list(map(lambda num: randint(-error_plus_minus,error_plus_minus), range(0, size)))\n",
    "    zipped_customers = list(zip(perfect_customers, random_errors))\n",
    "    noisy_customers = [perfect_customer + error for perfect_customer, error in zipped_customers]\n",
    "    return np.array(list(zip(random_temperatures, noisy_customers)))\n",
    "\n",
    "dataset = build_data_set(size = 400)\n",
    "temperatures = dataset[:, 0]\n",
    "noisy_customers = dataset[:, 1]\n"
   ]
  },
  {
   "cell_type": "markdown",
   "metadata": {},
   "source": [
    "And then plotting our data."
   ]
  },
  {
   "cell_type": "code",
   "execution_count": 2,
   "metadata": {},
   "outputs": [
    {
     "data": {
      "application/vnd.plotly.v1+json": {
       "config": {
        "linkText": "Export to plot.ly",
        "plotlyServerURL": "https://plot.ly",
        "showLink": false
       },
       "data": [
        {
         "mode": "markers",
         "name": "initial data",
         "text": [],
         "type": "scatter",
         "uid": "9ddfd2e5-3b5a-4587-a45f-83dd739d25fd",
         "x": [
          47,
          38,
          62,
          45,
          93,
          87,
          90,
          78,
          56,
          42,
          92,
          33,
          79,
          85,
          30,
          87,
          64,
          59,
          43,
          70,
          33,
          32,
          33,
          99,
          31,
          78,
          57,
          84,
          33,
          97,
          58,
          86,
          93,
          100,
          59,
          74,
          59,
          58,
          88,
          67,
          32,
          83,
          101,
          42,
          53,
          67,
          45,
          72,
          94,
          84,
          94,
          54,
          68,
          66,
          93,
          94,
          80,
          34,
          91,
          61,
          81,
          83,
          52,
          76,
          100,
          77,
          41,
          86,
          95,
          43,
          50,
          96,
          80,
          77,
          92,
          33,
          90,
          35,
          69,
          80,
          51,
          51,
          94,
          59,
          31,
          55,
          99,
          100,
          59,
          81,
          95,
          74,
          75,
          88,
          64,
          100,
          30,
          79,
          95,
          46,
          96,
          101,
          56,
          84,
          37,
          91,
          76,
          100,
          55,
          94,
          82,
          92,
          75,
          83,
          74,
          30,
          98,
          99,
          72,
          88,
          33,
          59,
          52,
          100,
          53,
          41,
          100,
          62,
          34,
          39,
          40,
          32,
          87,
          31,
          65,
          61,
          64,
          44,
          53,
          74,
          67,
          38,
          51,
          50,
          62,
          97,
          51,
          64,
          67,
          88,
          71,
          93,
          90,
          44,
          33,
          69,
          79,
          73,
          83,
          54,
          63,
          43,
          62,
          95,
          56,
          85,
          32,
          58,
          32,
          80,
          48,
          34,
          50,
          87,
          94,
          84,
          99,
          58,
          96,
          87,
          58,
          97,
          33,
          80,
          71,
          84,
          37,
          68,
          46,
          57,
          36,
          69,
          39,
          39,
          69,
          68,
          50,
          83,
          62,
          46,
          31,
          101,
          34,
          57,
          88,
          51,
          95,
          34,
          78,
          55,
          74,
          42,
          56,
          85,
          54,
          93,
          43,
          79,
          67,
          94,
          93,
          32,
          71,
          81,
          66,
          32,
          50,
          55,
          71,
          47,
          73,
          84,
          57,
          64,
          42,
          78,
          100,
          74,
          98,
          92,
          98,
          60,
          38,
          35,
          40,
          47,
          51,
          51,
          98,
          57,
          64,
          72,
          94,
          62,
          77,
          73,
          73,
          44,
          67,
          60,
          92,
          47,
          100,
          43,
          71,
          35,
          82,
          39,
          78,
          48,
          46,
          73,
          44,
          78,
          39,
          100,
          58,
          40,
          64,
          76,
          67,
          98,
          44,
          88,
          65,
          43,
          35,
          67,
          31,
          31,
          41,
          82,
          44,
          35,
          54,
          60,
          83,
          50,
          44,
          87,
          51,
          60,
          50,
          43,
          85,
          78,
          99,
          67,
          100,
          62,
          91,
          70,
          42,
          56,
          70,
          35,
          33,
          31,
          67,
          70,
          87,
          80,
          70,
          81,
          38,
          38,
          70,
          88,
          44,
          62,
          57,
          99,
          90,
          75,
          63,
          53,
          99,
          56,
          69,
          55,
          61,
          76,
          40,
          65,
          41,
          87,
          41,
          73,
          59,
          79,
          69,
          35,
          71,
          53,
          70,
          68,
          61,
          72,
          42,
          99,
          41,
          61,
          58,
          32,
          61,
          81,
          39,
          64,
          100,
          39,
          39,
          32,
          31,
          67,
          75,
          93,
          90,
          49,
          42,
          94,
          71,
          39,
          95,
          52,
          52,
          49,
          48,
          70,
          69,
          43,
          95,
          67,
          46,
          56,
          48,
          99,
          34,
          70,
          100,
          56
         ],
         "y": [
          123,
          112,
          201,
          163,
          259,
          227,
          321,
          279,
          159,
          118,
          335,
          67,
          284,
          272,
          105,
          291,
          184,
          206,
          145,
          238,
          117,
          57,
          109,
          300,
          74,
          227,
          193,
          215,
          141,
          304,
          207,
          220,
          246,
          348,
          182,
          256,
          154,
          209,
          240,
          178,
          89,
          244,
          313,
          158,
          170,
          183,
          173,
          187,
          271,
          274,
          242,
          144,
          231,
          198,
          303,
          325,
          256,
          149,
          314,
          236,
          231,
          239,
          156,
          251,
          347,
          252,
          111,
          309,
          297,
          132,
          181,
          326,
          293,
          274,
          271,
          141,
          258,
          71,
          176,
          297,
          178,
          195,
          289,
          157,
          118,
          223,
          283,
          299,
          175,
          291,
          283,
          252,
          232,
          245,
          241,
          349,
          144,
          256,
          321,
          108,
          263,
          340,
          193,
          285,
          119,
          255,
          207,
          292,
          179,
          269,
          278,
          328,
          281,
          309,
          188,
          113,
          341,
          307,
          267,
          305,
          103,
          186,
          181,
          281,
          188,
          176,
          265,
          213,
          73,
          109,
          160,
          68,
          255,
          147,
          165,
          160,
          251,
          170,
          203,
          269,
          250,
          84,
          169,
          140,
          194,
          306,
          163,
          173,
          202,
          280,
          189,
          318,
          292,
          119,
          74,
          222,
          273,
          247,
          261,
          137,
          233,
          126,
          181,
          276,
          176,
          310,
          127,
          134,
          80,
          267,
          160,
          136,
          112,
          224,
          322,
          289,
          288,
          167,
          274,
          243,
          170,
          269,
          128,
          225,
          207,
          251,
          145,
          260,
          130,
          218,
          125,
          188,
          146,
          122,
          229,
          217,
          125,
          307,
          172,
          171,
          102,
          289,
          98,
          144,
          227,
          128,
          317,
          157,
          195,
          194,
          219,
          172,
          225,
          307,
          205,
          256,
          98,
          261,
          208,
          315,
          278,
          111,
          237,
          289,
          203,
          153,
          177,
          166,
          173,
          116,
          235,
          303,
          188,
          196,
          125,
          263,
          311,
          225,
          354,
          329,
          341,
          213,
          137,
          79,
          162,
          149,
          161,
          139,
          325,
          131,
          187,
          257,
          318,
          238,
          285,
          272,
          244,
          117,
          220,
          216,
          302,
          153,
          355,
          180,
          212,
          154,
          227,
          134,
          273,
          189,
          165,
          204,
          138,
          261,
          77,
          346,
          183,
          154,
          206,
          239,
          204,
          333,
          166,
          317,
          244,
          184,
          73,
          224,
          148,
          84,
          164,
          289,
          129,
          145,
          124,
          192,
          301,
          190,
          111,
          302,
          212,
          190,
          210,
          123,
          237,
          292,
          266,
          260,
          337,
          147,
          277,
          203,
          176,
          180,
          257,
          134,
          97,
          72,
          220,
          203,
          283,
          221,
          229,
          268,
          79,
          108,
          235,
          236,
          187,
          221,
          185,
          265,
          275,
          193,
          233,
          175,
          259,
          149,
          231,
          215,
          163,
          276,
          91,
          206,
          164,
          309,
          118,
          256,
          175,
          223,
          234,
          91,
          203,
          161,
          204,
          172,
          152,
          265,
          152,
          341,
          130,
          202,
          199,
          127,
          237,
          209,
          98,
          190,
          343,
          171,
          168,
          127,
          87,
          206,
          263,
          333,
          259,
          157,
          157,
          293,
          195,
          138,
          278,
          194,
          158,
          198,
          132,
          203,
          245,
          179,
          276,
          245,
          101,
          207,
          155,
          297,
          117,
          267,
          291,
          228
         ]
        }
       ],
       "layout": {
        "autosize": true,
        "xaxis": {
         "autorange": true,
         "range": [
          25.5726412014365,
          105.4273587985635
         ],
         "title": {
          "text": "temperature"
         },
         "type": "linear"
        },
        "yaxis": {
         "autorange": true,
         "range": [
          35.171974522293,
          376.828025477707
         ],
         "title": {
          "text": "customers"
         },
         "type": "linear"
        }
       }
      },
      "image/png": "[encoded data removed]",
      "text/html": [
       "<div>\n",
       "        \n",
       "        \n",
       "            <div id=\"d08036dd-4051-4098-827a-889aadbf8223\" class=\"plotly-graph-div\" style=\"height:525px; width:100%;\"></div>\n",
       "            <script type=\"text/javascript\">\n",
       "                require([\"plotly\"], function(Plotly) {\n",
       "                    window.PLOTLYENV=window.PLOTLYENV || {};\n",
       "                    window.PLOTLYENV.BASE_URL='https://plot.ly';\n",
       "                    \n",
       "                if (document.getElementById(\"d08036dd-4051-4098-827a-889aadbf8223\")) {\n",
       "                    Plotly.newPlot(\n",
       "                        'd08036dd-4051-4098-827a-889aadbf8223',\n",
       "                        [{\"mode\": \"markers\", \"name\": \"initial data\", \"text\": [], \"type\": \"scatter\", \"uid\": \"9ddfd2e5-3b5a-4587-a45f-83dd739d25fd\", \"x\": [47, 38, 62, 45, 93, 87, 90, 78, 56, 42, 92, 33, 79, 85, 30, 87, 64, 59, 43, 70, 33, 32, 33, 99, 31, 78, 57, 84, 33, 97, 58, 86, 93, 100, 59, 74, 59, 58, 88, 67, 32, 83, 101, 42, 53, 67, 45, 72, 94, 84, 94, 54, 68, 66, 93, 94, 80, 34, 91, 61, 81, 83, 52, 76, 100, 77, 41, 86, 95, 43, 50, 96, 80, 77, 92, 33, 90, 35, 69, 80, 51, 51, 94, 59, 31, 55, 99, 100, 59, 81, 95, 74, 75, 88, 64, 100, 30, 79, 95, 46, 96, 101, 56, 84, 37, 91, 76, 100, 55, 94, 82, 92, 75, 83, 74, 30, 98, 99, 72, 88, 33, 59, 52, 100, 53, 41, 100, 62, 34, 39, 40, 32, 87, 31, 65, 61, 64, 44, 53, 74, 67, 38, 51, 50, 62, 97, 51, 64, 67, 88, 71, 93, 90, 44, 33, 69, 79, 73, 83, 54, 63, 43, 62, 95, 56, 85, 32, 58, 32, 80, 48, 34, 50, 87, 94, 84, 99, 58, 96, 87, 58, 97, 33, 80, 71, 84, 37, 68, 46, 57, 36, 69, 39, 39, 69, 68, 50, 83, 62, 46, 31, 101, 34, 57, 88, 51, 95, 34, 78, 55, 74, 42, 56, 85, 54, 93, 43, 79, 67, 94, 93, 32, 71, 81, 66, 32, 50, 55, 71, 47, 73, 84, 57, 64, 42, 78, 100, 74, 98, 92, 98, 60, 38, 35, 40, 47, 51, 51, 98, 57, 64, 72, 94, 62, 77, 73, 73, 44, 67, 60, 92, 47, 100, 43, 71, 35, 82, 39, 78, 48, 46, 73, 44, 78, 39, 100, 58, 40, 64, 76, 67, 98, 44, 88, 65, 43, 35, 67, 31, 31, 41, 82, 44, 35, 54, 60, 83, 50, 44, 87, 51, 60, 50, 43, 85, 78, 99, 67, 100, 62, 91, 70, 42, 56, 70, 35, 33, 31, 67, 70, 87, 80, 70, 81, 38, 38, 70, 88, 44, 62, 57, 99, 90, 75, 63, 53, 99, 56, 69, 55, 61, 76, 40, 65, 41, 87, 41, 73, 59, 79, 69, 35, 71, 53, 70, 68, 61, 72, 42, 99, 41, 61, 58, 32, 61, 81, 39, 64, 100, 39, 39, 32, 31, 67, 75, 93, 90, 49, 42, 94, 71, 39, 95, 52, 52, 49, 48, 70, 69, 43, 95, 67, 46, 56, 48, 99, 34, 70, 100, 56], \"y\": [123, 112, 201, 163, 259, 227, 321, 279, 159, 118, 335, 67, 284, 272, 105, 291, 184, 206, 145, 238, 117, 57, 109, 300, 74, 227, 193, 215, 141, 304, 207, 220, 246, 348, 182, 256, 154, 209, 240, 178, 89, 244, 313, 158, 170, 183, 173, 187, 271, 274, 242, 144, 231, 198, 303, 325, 256, 149, 314, 236, 231, 239, 156, 251, 347, 252, 111, 309, 297, 132, 181, 326, 293, 274, 271, 141, 258, 71, 176, 297, 178, 195, 289, 157, 118, 223, 283, 299, 175, 291, 283, 252, 232, 245, 241, 349, 144, 256, 321, 108, 263, 340, 193, 285, 119, 255, 207, 292, 179, 269, 278, 328, 281, 309, 188, 113, 341, 307, 267, 305, 103, 186, 181, 281, 188, 176, 265, 213, 73, 109, 160, 68, 255, 147, 165, 160, 251, 170, 203, 269, 250, 84, 169, 140, 194, 306, 163, 173, 202, 280, 189, 318, 292, 119, 74, 222, 273, 247, 261, 137, 233, 126, 181, 276, 176, 310, 127, 134, 80, 267, 160, 136, 112, 224, 322, 289, 288, 167, 274, 243, 170, 269, 128, 225, 207, 251, 145, 260, 130, 218, 125, 188, 146, 122, 229, 217, 125, 307, 172, 171, 102, 289, 98, 144, 227, 128, 317, 157, 195, 194, 219, 172, 225, 307, 205, 256, 98, 261, 208, 315, 278, 111, 237, 289, 203, 153, 177, 166, 173, 116, 235, 303, 188, 196, 125, 263, 311, 225, 354, 329, 341, 213, 137, 79, 162, 149, 161, 139, 325, 131, 187, 257, 318, 238, 285, 272, 244, 117, 220, 216, 302, 153, 355, 180, 212, 154, 227, 134, 273, 189, 165, 204, 138, 261, 77, 346, 183, 154, 206, 239, 204, 333, 166, 317, 244, 184, 73, 224, 148, 84, 164, 289, 129, 145, 124, 192, 301, 190, 111, 302, 212, 190, 210, 123, 237, 292, 266, 260, 337, 147, 277, 203, 176, 180, 257, 134, 97, 72, 220, 203, 283, 221, 229, 268, 79, 108, 235, 236, 187, 221, 185, 265, 275, 193, 233, 175, 259, 149, 231, 215, 163, 276, 91, 206, 164, 309, 118, 256, 175, 223, 234, 91, 203, 161, 204, 172, 152, 265, 152, 341, 130, 202, 199, 127, 237, 209, 98, 190, 343, 171, 168, 127, 87, 206, 263, 333, 259, 157, 157, 293, 195, 138, 278, 194, 158, 198, 132, 203, 245, 179, 276, 245, 101, 207, 155, 297, 117, 267, 291, 228]}],\n",
       "                        {\"xaxis\": {\"title\": {\"text\": \"temperature\"}}, \"yaxis\": {\"title\": {\"text\": \"customers\"}}},\n",
       "                        {\"showLink\": false, \"linkText\": \"Export to plot.ly\", \"plotlyServerURL\": \"https://plot.ly\", \"responsive\": true}\n",
       "                    ).then(function(){\n",
       "                            \n",
       "var gd = document.getElementById('d08036dd-4051-4098-827a-889aadbf8223');\n",
       "var x = new MutationObserver(function (mutations, observer) {{\n",
       "        var display = window.getComputedStyle(gd).display;\n",
       "        if (!display || display === 'none') {{\n",
       "            console.log([gd, 'removed!']);\n",
       "            Plotly.purge(gd);\n",
       "            observer.disconnect();\n",
       "        }}\n",
       "}});\n",
       "\n",
       "// Listen for the removal of the full notebook cells\n",
       "var notebookContainer = gd.closest('#notebook-container');\n",
       "if (notebookContainer) {{\n",
       "    x.observe(notebookContainer, {childList: true});\n",
       "}}\n",
       "\n",
       "// Listen for the clearing of the current output cell\n",
       "var outputEl = gd.closest('.output');\n",
       "if (outputEl) {{\n",
       "    x.observe(outputEl, {childList: true});\n",
       "}}\n",
       "\n",
       "                        })\n",
       "                };\n",
       "                });\n",
       "            </script>\n",
       "        </div>"
      ]
     },
     "metadata": {},
     "output_type": "display_data"
    }
   ],
   "source": [
    "layout = {'yaxis': {'title': 'customers'}, 'xaxis': {'title': 'temperature'}}\n",
    "data_trace = trace_values(temperatures, noisy_customers, name = 'initial data')\n",
    "plot([data_trace], layout = layout)"
   ]
  },
  {
   "cell_type": "markdown",
   "metadata": {},
   "source": [
    "Now our goal is that when we calculate the score of our dataset, we do not want to get a systematically higher score than we see in production.  That is, we do not want to see an inflated score because our model fits to the randomness of our training data."
   ]
  },
  {
   "cell_type": "markdown",
   "metadata": {},
   "source": [
    "## Our three step solution"
   ]
  },
  {
   "cell_type": "markdown",
   "metadata": {},
   "source": [
    "The way we correct for this is with the following:\n",
    "\n",
    "1. We separate our model into two groups.  \n",
    "    * A random selection of 80 percent of the data, and then the remaining 20 percent of the data.  \n",
    "2. We'll then train our data on just the 80 percent of the data\n",
    "3. Finally, we see how well our model performs on the remaining 20 percent of the data that was not a part of the training process.  \n",
    "\n",
    "We'll see the benefit of this in a little, but for now let's just start."
   ]
  },
  {
   "cell_type": "markdown",
   "metadata": {},
   "source": [
    "### 1. Split our data into two groups"
   ]
  },
  {
   "cell_type": "markdown",
   "metadata": {},
   "source": [
    "To split our data into two groups, we'll shuffle our data and then put the first 80 percent in one group and remaining in another.  Let's see an example of how shuffling works with a small list."
   ]
  },
  {
   "cell_type": "code",
   "execution_count": 4,
   "metadata": {},
   "outputs": [
    {
     "data": {
      "text/plain": [
       "[47, 25, 100, 10000, 93]"
      ]
     },
     "execution_count": 4,
     "metadata": {},
     "output_type": "execute_result"
    }
   ],
   "source": [
    "from random import shuffle\n",
    "seed(2)\n",
    "initial_list = [93, 25, 47, 100, 10000]\n",
    "shuffle(initial_list)\n",
    "initial_list"
   ]
  },
  {
   "cell_type": "code",
   "execution_count": 6,
   "metadata": {},
   "outputs": [
    {
     "data": {
      "text/plain": [
       "[47, 25, 100]"
      ]
     },
     "execution_count": 6,
     "metadata": {},
     "output_type": "execute_result"
    }
   ],
   "source": [
    "initial_list[0:3]"
   ]
  },
  {
   "cell_type": "markdown",
   "metadata": {},
   "source": [
    "Ok, now we want to do this with our datasets of `random_temperatures` and `noisy_customers` above.  But when we do so, we want need to make sure that we are maintaining the relationship between a temperature and the number of customers on that day.  So we cannot shuffle the rows of the dataset individually.  Lucky for us they are already paired uo in the `dataset` array."
   ]
  },
  {
   "cell_type": "code",
   "execution_count": 7,
   "metadata": {},
   "outputs": [
    {
     "data": {
      "text/plain": [
       "array([[ 47, 123],\n",
       "       [ 38, 112],\n",
       "       [ 62, 201]])"
      ]
     },
     "execution_count": 7,
     "metadata": {},
     "output_type": "execute_result"
    }
   ],
   "source": [
    "dataset[0:3]"
   ]
  },
  {
   "cell_type": "code",
   "execution_count": 34,
   "metadata": {},
   "outputs": [],
   "source": [
    "from random import Random\n",
    "\n",
    "Random(1).shuffle(dataset)"
   ]
  },
  {
   "cell_type": "markdown",
   "metadata": {},
   "source": [
    "So now that our paired list is shuffled, we select 80 percent of the dataset.  Eighty percent of 400 is  320 elements, so we select the first 320 elements and assign them to our training dataset."
   ]
  },
  {
   "cell_type": "code",
   "execution_count": 36,
   "metadata": {},
   "outputs": [
    {
     "data": {
      "text/plain": [
       "320"
      ]
     },
     "execution_count": 36,
     "metadata": {},
     "output_type": "execute_result"
    }
   ],
   "source": [
    "training_set = dataset[:320]\n",
    "len(training_set)"
   ]
  },
  {
   "cell_type": "markdown",
   "metadata": {},
   "source": [
    "We assign the second set of data to be our test set."
   ]
  },
  {
   "cell_type": "code",
   "execution_count": 37,
   "metadata": {},
   "outputs": [
    {
     "data": {
      "text/plain": [
       "80"
      ]
     },
     "execution_count": 37,
     "metadata": {},
     "output_type": "execute_result"
    }
   ],
   "source": [
    "test_set = dataset[320:]\n",
    "len(test_set)"
   ]
  },
  {
   "cell_type": "markdown",
   "metadata": {},
   "source": [
    "### 2. Train our model"
   ]
  },
  {
   "cell_type": "markdown",
   "metadata": {},
   "source": [
    "Let's train our our model on our training data."
   ]
  },
  {
   "cell_type": "code",
   "execution_count": 38,
   "metadata": {},
   "outputs": [],
   "source": [
    "temperature_training_inputs = list(map(lambda datapoint: [datapoint[0]], training_set))\n",
    "weather_training = list(map(lambda datapoint: datapoint[1], training_set))"
   ]
  },
  {
   "cell_type": "code",
   "execution_count": 39,
   "metadata": {},
   "outputs": [
    {
     "data": {
      "text/plain": [
       "LinearRegression(copy_X=True, fit_intercept=True, n_jobs=None,\n",
       "         normalize=False)"
      ]
     },
     "execution_count": 39,
     "metadata": {},
     "output_type": "execute_result"
    }
   ],
   "source": [
    "from sklearn.linear_model import LinearRegression\n",
    "model = LinearRegression()\n",
    "model.fit(temperature_training_inputs, weather_training)"
   ]
  },
  {
   "cell_type": "code",
   "execution_count": 40,
   "metadata": {},
   "outputs": [
    {
     "data": {
      "text/plain": [
       "array([3.04946243])"
      ]
     },
     "execution_count": 40,
     "metadata": {},
     "output_type": "execute_result"
    }
   ],
   "source": [
    "model.coef_"
   ]
  },
  {
   "cell_type": "code",
   "execution_count": 41,
   "metadata": {},
   "outputs": [
    {
     "data": {
      "text/plain": [
       "8.9390680660307"
      ]
     },
     "execution_count": 41,
     "metadata": {},
     "output_type": "execute_result"
    }
   ],
   "source": [
    "model.intercept_"
   ]
  },
  {
   "cell_type": "markdown",
   "metadata": {},
   "source": [
    "Now we once again have trained an model that adjusted to the randomness in the data.  And this is reflected in parameters that do not match the underlying model of $y = 3x + 10$.  Because our model matches randomness in data that it will not see again, we expect the it's score be relatively high."
   ]
  },
  {
   "cell_type": "code",
   "execution_count": 42,
   "metadata": {},
   "outputs": [
    {
     "data": {
      "text/plain": [
       "0.868525742382279"
      ]
     },
     "execution_count": 42,
     "metadata": {},
     "output_type": "execute_result"
    }
   ],
   "source": [
    "model.score(temperature_training_inputs, weather_training)"
   ]
  },
  {
   "cell_type": "markdown",
   "metadata": {},
   "source": [
    "We know that when we put this model into production, the production dataset does not have the benefit of being trained on.  Now after we train the model, we still need to decide if we want to dedicate the resources (and potential risk) of relying on this model.  We don't want to wait around for a number of months to collect enough data to see if our model performs well. "
   ]
  },
  {
   "cell_type": "markdown",
   "metadata": {},
   "source": [
    "But, remember, there is one other dataset we have that also does not have the benefit of being trained on."
   ]
  },
  {
   "cell_type": "markdown",
   "metadata": {},
   "source": [
    "### 3. Score on the test set"
   ]
  },
  {
   "cell_type": "markdown",
   "metadata": {},
   "source": [
    "Just like our future production data, the test set has random data that our model did not adjust to.  Because of this, we *do not* expect the score from our test set to reflect that of an overfit model.  Our model won't pick up on the randomness in our test set, because it did not train on our test set.  \n",
    "\n",
    "Ok, let's see how well our model scores on this dataset."
   ]
  },
  {
   "cell_type": "code",
   "execution_count": 43,
   "metadata": {},
   "outputs": [
    {
     "data": {
      "text/plain": [
       "0.8087737444038529"
      ]
     },
     "execution_count": 43,
     "metadata": {},
     "output_type": "execute_result"
    }
   ],
   "source": [
    "test_weather_inputs = list(map(lambda datapoint: [datapoint[0]], test_set))\n",
    "test_customers = list(map(lambda datapoint: datapoint[1], test_set))\n",
    "model.score(test_weather_inputs, test_customers)"
   ]
  },
  {
   "cell_type": "markdown",
   "metadata": {},
   "source": [
    "Ok, so we can see that our model does worse on the test set. \n",
    "\n",
    "* So we did not use our test set to improve our model, but we did use it to get a more accurate sense of how it would perform in the wild."
   ]
  },
  {
   "cell_type": "markdown",
   "metadata": {},
   "source": [
    "### Finally, put it into production"
   ]
  },
  {
   "cell_type": "markdown",
   "metadata": {},
   "source": [
    "If we determine that a score of .87 is strong enough to place into production, we can then wait around and hopefully see that our model actually does do an ok job.\n",
    "\n",
    "Let's simulate that by generating some more data with the same characteristics as previously."
   ]
  },
  {
   "cell_type": "code",
   "execution_count": 48,
   "metadata": {},
   "outputs": [],
   "source": [
    "from random import randint, seed\n",
    "from graph import trace_values, plot\n",
    "seed(5)\n",
    "production_data = build_data_set()\n",
    "production_temps = production_data[:, 0]\n",
    "production_customers = production_data[:, 1]"
   ]
  },
  {
   "cell_type": "code",
   "execution_count": 50,
   "metadata": {},
   "outputs": [
    {
     "data": {
      "text/plain": [
       "0.7774082191359148"
      ]
     },
     "execution_count": 50,
     "metadata": {},
     "output_type": "execute_result"
    }
   ],
   "source": [
    "model.score(production_temps.reshape(-1, 1), production_customers)"
   ]
  },
  {
   "cell_type": "markdown",
   "metadata": {},
   "source": [
    "And we see that our production score is fairly close.  The overall point is that by separating out against a test set, we are helping to protect against a training performance score that we cannot rely on, because of overfitting."
   ]
  },
  {
   "cell_type": "markdown",
   "metadata": {},
   "source": [
    "### Summary"
   ]
  },
  {
   "cell_type": "markdown",
   "metadata": {},
   "source": [
    "In this lesson, we saw the benefits of separating out our data into a training set and a test set.  Our training set is subject to an overfit model, as our model is susceptible to adjusting in the randomness in the data.  Thus if we were to evaluate the performance of our model on our training set, in general we expect our model to perform better than it would on production data.  We can protect against being overconfident in our model by separating out a test set that we do not train our model on.  Because our model has not seen our test set, our model does not have the risk of adjusting to the randomness in the test data.  Because of this, we evaluate the model against the test set."
   ]
  }
 ],
 "metadata": {
  "kernelspec": {
   "display_name": "Python 3",
   "language": "python",
   "name": "python3"
  },
  "language_info": {
   "codemirror_mode": {
    "name": "ipython",
    "version": 3
   },
   "file_extension": ".py",
   "mimetype": "text/x-python",
   "name": "python",
   "nbconvert_exporter": "python",
   "pygments_lexer": "ipython3",
   "version": "3.7.3"
  }
 },
 "nbformat": 4,
 "nbformat_minor": 2
}
