{
 "cells": [
  {
   "cell_type": "markdown",
   "metadata": {},
   "source": [
    "### Introduction"
   ]
  },
  {
   "cell_type": "markdown",
   "metadata": {},
   "source": [
    "Let's see what happens when we bring objects into the world of APIs.  It seems like this could make sense.  If we begin to use objects just like we use APIs, we could write code in such a way that use the API to construct new objects.  Let's give this a shot."
   ]
  },
  {
   "cell_type": "markdown",
   "metadata": {},
   "source": [
    "### APIs"
   ]
  },
  {
   "cell_type": "markdown",
   "metadata": {},
   "source": [
    "First let's make a request for Max's Wine Dive."
   ]
  },
  {
   "cell_type": "code",
   "execution_count": 7,
   "metadata": {},
   "outputs": [],
   "source": [
    "import requests\n",
    "response = requests.get(\"https://data.texas.gov/resource/naix-2893.json?location_name=MAX%27S%20WINE%20DIVE\")\n",
    "restaurant_receipts = response.json()"
   ]
  },
  {
   "cell_type": "code",
   "execution_count": 9,
   "metadata": {},
   "outputs": [
    {
     "data": {
      "text/plain": [
       "[{'taxpayer_number': '12727298569',\n",
       "  'taxpayer_name': 'MWD AUSTIN DOWNTOWN, LLC',\n",
       "  'taxpayer_address': '7026 OLD KATY RD STE 255',\n",
       "  'taxpayer_city': 'HOUSTON',\n",
       "  'taxpayer_state': 'TX',\n",
       "  'taxpayer_zip': '77024',\n",
       "  'taxpayer_county': '101',\n",
       "  'location_number': '1',\n",
       "  'location_name': \"MAX'S WINE DIVE\",\n",
       "  'location_address': '207 SAN JACINTO BLVD STE 200',\n",
       "  'location_city': 'AUSTIN',\n",
       "  'location_state': 'TX',\n",
       "  'location_zip': '78701',\n",
       "  'location_county': '227',\n",
       "  'inside_outside_city_limits_code_y_n': 'Y',\n",
       "  'tabc_permit_number': 'MB944126',\n",
       "  'responsibility_begin_date_yyyymmdd': '2016-05-13T00:00:00.000',\n",
       "  'obligation_end_date_yyyymmdd': '2016-09-30T00:00:00.000',\n",
       "  'liquor_receipts': '18265',\n",
       "  'wine_receipts': '71497',\n",
       "  'beer_receipts': '10606',\n",
       "  'cover_charge_receipts': '0',\n",
       "  'total_receipts': '100368'},\n",
       " {'taxpayer_number': '12727298569',\n",
       "  'taxpayer_name': 'MWD AUSTIN DOWNTOWN, LLC',\n",
       "  'taxpayer_address': '7026 OLD KATY RD STE 255',\n",
       "  'taxpayer_city': 'HOUSTON',\n",
       "  'taxpayer_state': 'TX',\n",
       "  'taxpayer_zip': '77024',\n",
       "  'taxpayer_county': '101',\n",
       "  'location_number': '1',\n",
       "  'location_name': \"MAX'S WINE DIVE\",\n",
       "  'location_address': '207 SAN JACINTO BLVD STE 200',\n",
       "  'location_city': 'AUSTIN',\n",
       "  'location_state': 'TX',\n",
       "  'location_zip': '78701',\n",
       "  'location_county': '227',\n",
       "  'inside_outside_city_limits_code_y_n': 'Y',\n",
       "  'tabc_permit_number': 'MB944126',\n",
       "  'responsibility_begin_date_yyyymmdd': '2016-05-13T00:00:00.000',\n",
       "  'obligation_end_date_yyyymmdd': '2016-10-31T00:00:00.000',\n",
       "  'liquor_receipts': '24237',\n",
       "  'wine_receipts': '68943',\n",
       "  'beer_receipts': '11150',\n",
       "  'cover_charge_receipts': '0',\n",
       "  'total_receipts': '104330'}]"
      ]
     },
     "execution_count": 9,
     "metadata": {},
     "output_type": "execute_result"
    }
   ],
   "source": [
    "restaurant_receipts[0:2]"
   ]
  },
  {
   "cell_type": "markdown",
   "metadata": {},
   "source": [
    "### Our task"
   ]
  },
  {
   "cell_type": "markdown",
   "metadata": {},
   "source": [
    "Now imagine that you are looking to predict revenue as Max's Wine Bar locations.  Choose no more than nine attributes and organize that information into objects.  At the end of the task, achieve the following:\n",
    "\n",
    "1. All of the data you decide is relevant must be stored in objects \n",
    "2. All of the code you write, including making requests to the API must use object orientation (ie. be inside of either a class or an object)\n",
    "3. Use the features of object orientation previously discussed - eg. properties, custom methods - where appropriate\n",
    "4. You should be able to justify the decisions that you make"
   ]
  },
  {
   "cell_type": "markdown",
   "metadata": {},
   "source": [
    "### Helpful guidelines"
   ]
  },
  {
   "cell_type": "markdown",
   "metadata": {},
   "source": [
    "1. Write your code in layers.  \n",
    "    * Try to get simple tasks working, then refactor the code\n",
    "    * Keep doing this until you are done\n",
    "\n",
    "2. In refactoring the code think about: \n",
    "    * Reject, Coerce, Act, Return\n",
    "    * Lots of small objects is often better than a few large objects"
   ]
  }
 ],
 "metadata": {
  "kernelspec": {
   "display_name": "Python 3",
   "language": "python",
   "name": "python3"
  },
  "language_info": {
   "codemirror_mode": {
    "name": "ipython",
    "version": 3
   },
   "file_extension": ".py",
   "mimetype": "text/x-python",
   "name": "python",
   "nbconvert_exporter": "python",
   "pygments_lexer": "ipython3",
   "version": "3.7.0"
  }
 },
 "nbformat": 4,
 "nbformat_minor": 2
}
