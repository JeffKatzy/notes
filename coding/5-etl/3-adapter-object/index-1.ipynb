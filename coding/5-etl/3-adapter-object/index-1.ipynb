{
 "cells": [
  {
   "cell_type": "markdown",
   "metadata": {},
   "source": [
    "### Introduction "
   ]
  },
  {
   "cell_type": "markdown",
   "metadata": {},
   "source": [
    "This is the code that we last left off with."
   ]
  },
  {
   "cell_type": "code",
   "execution_count": 6,
   "metadata": {},
   "outputs": [],
   "source": [
    "class Receipt:\n",
    "    @property\n",
    "    def total_receipts(self): return self._total\n",
    "    @total_receipts.setter\n",
    "    def total_receipts(self, total): self._total = int(total)\n",
    "    @property\n",
    "    def address(self): return self._address\n",
    "    @address.setter\n",
    "    def address(self, address): self._address = address\n",
    "    @property\n",
    "    def end_date(self): return self._end_date\n",
    "    @end_date.setter\n",
    "    def end_date(self, end_date): self._end_date = end_date\n",
    "    @property\n",
    "    def name(self): return self._name\n",
    "    @end_date.setter\n",
    "    def name(self, name): self._name = name"
   ]
  },
  {
   "cell_type": "markdown",
   "metadata": {},
   "source": [
    "Now that our code works, the next step is to clean it up.  Essentially look for the code that's not wrapped in either a method or an object, and that's the first code to clean."
   ]
  },
  {
   "cell_type": "markdown",
   "metadata": {},
   "source": [
    "Let's start by turning the code in the long cell above into a couple of methods."
   ]
  },
  {
   "cell_type": "markdown",
   "metadata": {},
   "source": [
    "### Turning Code into methods"
   ]
  },
  {
   "cell_type": "markdown",
   "metadata": {},
   "source": [
    "This is the code we would like to refactor."
   ]
  },
  {
   "cell_type": "code",
   "execution_count": null,
   "metadata": {},
   "outputs": [],
   "source": [
    "import requests\n",
    "response = requests.get(\"https://data.texas.gov/resource/naix-2893.json?location_name=MAX%27S%20WINE%20DIVE\")\n",
    "restaurant_receipts = response.json()\n",
    "\n",
    "\n",
    "receipts = []\n",
    "for receipt in restaurant_receipts:\n",
    "    attributes = ('total_receipts', 'location_address', 'obligation_end_date_yyyymmdd', 'location_name')\n",
    "    receipt_data = dict((k, receipt[k]) for k in attributes)\n",
    "    \n",
    "    receipt = Receipt()\n",
    "    receipt.total_receipts = receipt_data['total_receipts']\n",
    "    receipt.address = receipt_data['location_address']\n",
    "    receipt.end_date = receipt_data['obligation_end_date_yyyymmdd']\n",
    "    receipt.name = receipt_data['location_name']\n",
    "    receipts.append(receipt)"
   ]
  },
  {
   "cell_type": "markdown",
   "metadata": {},
   "source": [
    "Now let's turn this into functions.  Ideally any function should not be longer than five lines long, and should not be more than one if else statement (ideally zero if else statements)."
   ]
  },
  {
   "cell_type": "markdown",
   "metadata": {},
   "source": [
    "Let's go."
   ]
  },
  {
   "cell_type": "markdown",
   "metadata": {},
   "source": [
    "### 1. Move messy code into an object"
   ]
  },
  {
   "cell_type": "markdown",
   "metadata": {},
   "source": [
    "The first step when we have a collection of messy code, is simply to wrap it in an object."
   ]
  },
  {
   "cell_type": "code",
   "execution_count": 33,
   "metadata": {},
   "outputs": [],
   "source": [
    "import requests\n",
    "class ReceiptBuilder:\n",
    "    def run(self):\n",
    "        response = requests.get(\"https://data.texas.gov/resource/naix-2893.json?location_name=MAX%27S%20WINE%20DIVE\")\n",
    "        restaurant_receipts = response.json()\n",
    "        receipts = []\n",
    "        for restaurant_receipt in restaurant_receipts:\n",
    "            attributes = ('total_receipts', 'location_address', 'obligation_end_date_yyyymmdd', 'location_name')\n",
    "            receipt_data = dict((k, restaurant_receipt[k]) for k in attributes)\n",
    "            \n",
    "            receipt = Receipt()\n",
    "            receipt.total_receipts = receipt_data['total_receipts']\n",
    "            receipt.address = receipt_data['location_address']\n",
    "            receipt.end_date = receipt_data['obligation_end_date_yyyymmdd']\n",
    "            receipt.name = receipt_data['location_name']\n",
    "            receipts.append(receipt)\n",
    "        return receipts"
   ]
  },
  {
   "cell_type": "code",
   "execution_count": 34,
   "metadata": {},
   "outputs": [
    {
     "data": {
      "text/plain": [
       "[<__main__.Receipt at 0x10a18a048>, <__main__.Receipt at 0x10a18a080>]"
      ]
     },
     "execution_count": 34,
     "metadata": {},
     "output_type": "execute_result"
    }
   ],
   "source": [
    "builder = ReceiptBuilder()\n",
    "builder.run()[0:2]"
   ]
  },
  {
   "cell_type": "markdown",
   "metadata": {},
   "source": [
    "This is pretty nice.  We simply call our `run` method, and then immediately get a list of receipts."
   ]
  },
  {
   "cell_type": "markdown",
   "metadata": {},
   "source": [
    "### Refactor into methods"
   ]
  },
  {
   "cell_type": "markdown",
   "metadata": {},
   "source": [
    "Now our `run` method is fairly long.  Ideally we want our methods to be no more than five lines long.  A good technique is to write comments above the code and then turn the comments into methods."
   ]
  },
  {
   "cell_type": "markdown",
   "metadata": {},
   "source": [
    "Give it a shot in the lines below.  You'll know that you didn't break any thing if you can still call `run` and receive back the same list of receipts."
   ]
  },
  {
   "cell_type": "code",
   "execution_count": 36,
   "metadata": {},
   "outputs": [],
   "source": [
    "import requests\n",
    "class ReceiptBuilder:\n",
    "    def run(self):\n",
    "        response = requests.get(\"https://data.texas.gov/resource/naix-2893.json?location_name=MAX%27S%20WINE%20DIVE\")\n",
    "        restaurant_receipts = response.json()\n",
    "        receipts = []\n",
    "        for restaurant_receipt in restaurant_receipts:\n",
    "            attributes = ('total_receipts', 'location_address', 'obligation_end_date_yyyymmdd', 'location_name')\n",
    "            receipt_data = dict((k, restaurant_receipt[k]) for k in attributes)\n",
    "            \n",
    "            receipt = Receipt()\n",
    "            receipt.total_receipts = receipt_data['total_receipts']\n",
    "            receipt.address = receipt_data['location_address']\n",
    "            receipt.end_date = receipt_data['obligation_end_date_yyyymmdd']\n",
    "            receipt.name = receipt_data['location_name']\n",
    "            receipts.append(receipt)\n",
    "        return receipts"
   ]
  },
  {
   "cell_type": "code",
   "execution_count": 37,
   "metadata": {},
   "outputs": [
    {
     "data": {
      "text/plain": [
       "[<__main__.Receipt at 0x10a18d4a8>, <__main__.Receipt at 0x10a18d4e0>]"
      ]
     },
     "execution_count": 37,
     "metadata": {},
     "output_type": "execute_result"
    }
   ],
   "source": [
    "builder = ReceiptBuilder()\n",
    "builder.run()[0:2]"
   ]
  },
  {
   "cell_type": "markdown",
   "metadata": {},
   "source": [
    "### Make methods smaller"
   ]
  },
  {
   "cell_type": "markdown",
   "metadata": {},
   "source": [
    "Ok, let's continue on with our goal of making our methods smaller.  Remember that this involves two steps:\n",
    "\n",
    "1. Write comments above complicated code\n",
    "2. Turn comments into method names"
   ]
  },
  {
   "cell_type": "markdown",
   "metadata": {},
   "source": [
    "Let's start by adding some comments."
   ]
  },
  {
   "cell_type": "code",
   "execution_count": 38,
   "metadata": {},
   "outputs": [],
   "source": [
    "import requests\n",
    "class ReceiptBuilder:\n",
    "    def run(self):\n",
    "        # retrieve restaurant receipts\n",
    "        response = requests.get(\"https://data.texas.gov/resource/naix-2893.json?location_name=MAX%27S%20WINE%20DIVE\")\n",
    "        restaurant_receipts = response.json()\n",
    "        \n",
    "        # turn receipts into objects\n",
    "        receipts = []\n",
    "        for restaurant_receipt in restaurant_receipts:\n",
    "            attributes = ('total_receipts', 'location_address', 'obligation_end_date_yyyymmdd', 'location_name')\n",
    "            receipt_data = dict((k, restaurant_receipt[k]) for k in attributes)\n",
    "            \n",
    "            receipt = Receipt()\n",
    "            receipt.total_receipts = receipt_data['total_receipts']\n",
    "            receipt.address = receipt_data['location_address']\n",
    "            receipt.end_date = receipt_data['obligation_end_date_yyyymmdd']\n",
    "            receipt.name = receipt_data['location_name']\n",
    "            receipts.append(receipt)\n",
    "        return receipts"
   ]
  },
  {
   "cell_type": "markdown",
   "metadata": {},
   "source": [
    "2. Turn comments into methods."
   ]
  },
  {
   "cell_type": "markdown",
   "metadata": {},
   "source": [
    "Now let's change the comments into methods."
   ]
  },
  {
   "cell_type": "code",
   "execution_count": 49,
   "metadata": {},
   "outputs": [],
   "source": [
    "import requests\n",
    "class ReceiptBuilder:\n",
    "    def retrieve_receipts(self):\n",
    "        response = requests.get(\"https://data.texas.gov/resource/naix-2893.json?location_name=MAX%27S%20WINE%20DIVE\")\n",
    "        return response.json()\n",
    "    \n",
    "    def receipts_data_to_objects(self, receipts_data):\n",
    "        receipts = []\n",
    "        for receipt_data in receipts_data:\n",
    "            attributes = ('total_receipts', 'location_address', 'obligation_end_date_yyyymmdd', 'location_name')\n",
    "            selected_data = dict((k, receipt_data[k]) for k in attributes)\n",
    "            \n",
    "            receipt = Receipt()\n",
    "            receipt.total_receipts = receipt_data['total_receipts']\n",
    "            receipt.address = receipt_data['location_address']\n",
    "            receipt.end_date = receipt_data['obligation_end_date_yyyymmdd']\n",
    "            receipt.name = receipt_data['location_name']\n",
    "            receipts.append(receipt)\n",
    "        return receipts\n",
    "    \n",
    "    def run(self):\n",
    "        self._receipts_data = self.retrieve_receipts()\n",
    "        self._receipts = self.receipts_data_to_objects(self._receipts_data)\n",
    "        return self._receipts"
   ]
  },
  {
   "cell_type": "code",
   "execution_count": 51,
   "metadata": {},
   "outputs": [
    {
     "data": {
      "text/plain": [
       "[<__main__.Receipt at 0x10a193c50>,\n",
       " <__main__.Receipt at 0x10a193d68>,\n",
       " <__main__.Receipt at 0x10a193ba8>]"
      ]
     },
     "execution_count": 51,
     "metadata": {},
     "output_type": "execute_result"
    }
   ],
   "source": [
    "builder = ReceiptBuilder()\n",
    "builder.run()[0:3]"
   ]
  },
  {
   "cell_type": "markdown",
   "metadata": {},
   "source": [
    "At this point, our `receipts_data_to_objects` method still is too long so once again, the steps are to read the long method, make comments to see the steps involved, and then turn those comments into methods."
   ]
  },
  {
   "cell_type": "markdown",
   "metadata": {},
   "source": [
    "### Tidying Up"
   ]
  },
  {
   "cell_type": "markdown",
   "metadata": {},
   "source": [
    "This is what we have as our final version of the class.\n",
    "\n",
    "Once again, we need our receipt class."
   ]
  },
  {
   "cell_type": "code",
   "execution_count": 53,
   "metadata": {},
   "outputs": [],
   "source": [
    "class Receipt:\n",
    "    @property\n",
    "    def total_receipts(self): return self._total\n",
    "    @total_receipts.setter\n",
    "    def total_receipts(self, total): self._total = int(total)\n",
    "    @property\n",
    "    def address(self): return self._address\n",
    "    @address.setter\n",
    "    def address(self, address): self._address = address\n",
    "    @property\n",
    "    def end_date(self): return self._end_date\n",
    "    @end_date.setter\n",
    "    def end_date(self, end_date): self._end_date = end_date\n",
    "    @property\n",
    "    def name(self): return self._name\n",
    "    @end_date.setter\n",
    "    def name(self, name): self._name = name"
   ]
  },
  {
   "cell_type": "markdown",
   "metadata": {},
   "source": [
    "And this is our new `ReceiptBuilder`."
   ]
  },
  {
   "cell_type": "code",
   "execution_count": 54,
   "metadata": {},
   "outputs": [],
   "source": [
    "import requests\n",
    "class ReceiptBuilder:\n",
    "    def run(self):\n",
    "        self._receipts_data = self.retrieve_receipts()\n",
    "        self._receipts = self.receipts_data_to_objects(self._receipts_data)\n",
    "        return self._receipts\n",
    "    \n",
    "    def retrieve_receipts(self):\n",
    "        response = requests.get(\"https://data.texas.gov/resource/naix-2893.json?location_name=MAX%27S%20WINE%20DIVE\")\n",
    "        return response.json()\n",
    "    \n",
    "    def select_data(self, receipt_data):\n",
    "        attributes = ('total_receipts', 'location_address', 'obligation_end_date_yyyymmdd', 'location_name')\n",
    "        return dict((k, receipt_data[k]) for k in attributes)\n",
    "    \n",
    "    def create_receipt(self, receipt_data):\n",
    "        receipt = Receipt()\n",
    "        receipt.total_receipts = receipt_data['total_receipts']\n",
    "        receipt.address = receipt_data['location_address']\n",
    "        receipt.end_date = receipt_data['obligation_end_date_yyyymmdd']\n",
    "        receipt.name = receipt_data['location_name']\n",
    "        return receipt\n",
    "    \n",
    "    def receipts_data_to_objects(self, receipts_data):\n",
    "        receipts = []\n",
    "        for receipt_data in receipts_data:\n",
    "            selected_data = self.select_data(receipt_data)\n",
    "            receipt = self.create_receipt(selected_data)\n",
    "            receipts.append(receipt)\n",
    "        return receipts"
   ]
  },
  {
   "cell_type": "code",
   "execution_count": 56,
   "metadata": {},
   "outputs": [
    {
     "data": {
      "text/plain": [
       "[<__main__.Receipt at 0x10a18a748>,\n",
       " <__main__.Receipt at 0x10a18a208>,\n",
       " <__main__.Receipt at 0x10a18ad68>]"
      ]
     },
     "execution_count": 56,
     "metadata": {},
     "output_type": "execute_result"
    }
   ],
   "source": [
    "builder = ReceiptBuilder()\n",
    "builder.run()[0:3]"
   ]
  }
 ],
 "metadata": {
  "kernelspec": {
   "display_name": "Python 3",
   "language": "python",
   "name": "python3"
  },
  "language_info": {
   "codemirror_mode": {
    "name": "ipython",
    "version": 3
   },
   "file_extension": ".py",
   "mimetype": "text/x-python",
   "name": "python",
   "nbconvert_exporter": "python",
   "pygments_lexer": "ipython3",
   "version": "3.7.0"
  }
 },
 "nbformat": 4,
 "nbformat_minor": 2
}
