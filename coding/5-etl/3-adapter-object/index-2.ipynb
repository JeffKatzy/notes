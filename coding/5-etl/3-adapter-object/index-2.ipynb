{
 "cells": [
  {
   "cell_type": "markdown",
   "metadata": {},
   "source": [
    "### Introduction "
   ]
  },
  {
   "cell_type": "markdown",
   "metadata": {},
   "source": [
    "Ok, so far we have created two different classes, a `Receipt` class and a `ReceiptBuilder` class.  Let's review."
   ]
  },
  {
   "cell_type": "markdown",
   "metadata": {},
   "source": [
    "1. Our Receipt class \n",
    "    * This class simply contains setters and getters for the attributes that we find important."
   ]
  },
  {
   "cell_type": "code",
   "execution_count": 13,
   "metadata": {},
   "outputs": [],
   "source": [
    "class Receipt:\n",
    "    @property\n",
    "    def total_receipts(self): return self._total\n",
    "    @total_receipts.setter\n",
    "    def total_receipts(self, total): self._total = int(total)\n",
    "    @property\n",
    "    def address(self): return self._address\n",
    "    @address.setter\n",
    "    def address(self, address): self._address = address\n",
    "    @property\n",
    "    def end_date(self): return self._end_date\n",
    "    @end_date.setter\n",
    "    def end_date(self, end_date): self._end_date = end_date\n",
    "    @property\n",
    "    def name(self): return self._name\n",
    "    @end_date.setter\n",
    "    def name(self, name): self._name = name"
   ]
  },
  {
   "cell_type": "markdown",
   "metadata": {},
   "source": [
    "2. The ReceiptBuilder class constructs new objects."
   ]
  },
  {
   "cell_type": "code",
   "execution_count": 14,
   "metadata": {},
   "outputs": [],
   "source": [
    "import requests\n",
    "class ReceiptBuilder:\n",
    "    def run(self):\n",
    "        self._receipts_data = self.retrieve_receipts()\n",
    "        self._receipts = self.receipts_data_to_objects(self._receipts_data)\n",
    "        return self._receipts\n",
    "    \n",
    "    def retrieve_receipts(self):\n",
    "        response = requests.get(\"https://data.texas.gov/resource/naix-2893.json?location_name=MAX%27S%20WINE%20DIVE\")\n",
    "        return response.json()\n",
    "    \n",
    "    def select_data(self, receipt_data):\n",
    "        attributes = ('total_receipts', 'location_address', 'obligation_end_date_yyyymmdd', 'location_name')\n",
    "        return dict((k, receipt_data[k]) for k in attributes)\n",
    "    \n",
    "    def create_receipt(self):\n",
    "        receipt = Receipt()\n",
    "        receipt.total_receipts = receipt_data['total_receipts']\n",
    "        receipt.address = receipt_data['location_address']\n",
    "        receipt.end_date = receipt_data['obligation_end_date_yyyymmdd']\n",
    "        receipt.name = receipt_data['location_name']\n",
    "        return receipt\n",
    "    \n",
    "    def receipts_data_to_objects(self, receipts_data):\n",
    "        receipts = []\n",
    "        for receipt_data in receipts_data:\n",
    "            selected_data = self.select_data(receipt_data)\n",
    "            receipt = self.create_receipt(selected_data)\n",
    "            receipts.append(receipt)\n",
    "        return receipts"
   ]
  },
  {
   "cell_type": "markdown",
   "metadata": {},
   "source": [
    "We just move the method into a new class."
   ]
  },
  {
   "cell_type": "code",
   "execution_count": 15,
   "metadata": {},
   "outputs": [],
   "source": [
    "class TexasDrinksAPI:\n",
    "    def run(self):\n",
    "        response = requests.get(\"https://data.texas.gov/resource/naix-2893.json?location_name=MAX%27S%20WINE%20DIVE\")\n",
    "        return response.json()"
   ]
  },
  {
   "cell_type": "markdown",
   "metadata": {},
   "source": [
    "And then we remove the related code from the `ReceiptBuilder`, and replace it with a call to the `TexasDrinksAPI`."
   ]
  },
  {
   "cell_type": "code",
   "execution_count": 18,
   "metadata": {},
   "outputs": [],
   "source": [
    "import requests\n",
    "class ReceiptBuilder:\n",
    "    def run(self):\n",
    "        self._request_api = TexasDrinksAPI()\n",
    "        self._receipts_data = self._request_api.run()\n",
    "        self._receipts = self.receipts_data_to_objects(self._receipts_data)\n",
    "        return self._receipts\n",
    "    \n",
    "    # remove retrieve_receipts method\n",
    "    \n",
    "    def select_data(self, receipt_data):\n",
    "        attributes = ('total_receipts', 'location_address', 'obligation_end_date_yyyymmdd', 'location_name')\n",
    "        return dict((k, receipt_data[k]) for k in attributes)\n",
    "    \n",
    "    def create_receipt(self, receipt_data):\n",
    "        receipt = Receipt()\n",
    "        receipt.total_receipts = receipt_data['total_receipts']\n",
    "        receipt.address = receipt_data['location_address']\n",
    "        receipt.end_date = receipt_data['obligation_end_date_yyyymmdd']\n",
    "        receipt.name = receipt_data['location_name']\n",
    "        return receipt\n",
    "    \n",
    "    def receipts_data_to_objects(self, receipts_data):\n",
    "        receipts = []\n",
    "        for receipt_data in receipts_data:\n",
    "            selected_data = self.select_data(receipt_data)\n",
    "            receipt = self.create_receipt(selected_data)\n",
    "            receipts.append(receipt)\n",
    "        return receipts"
   ]
  },
  {
   "cell_type": "markdown",
   "metadata": {},
   "source": [
    "And then we check to make sure that this still works."
   ]
  },
  {
   "cell_type": "code",
   "execution_count": 23,
   "metadata": {},
   "outputs": [
    {
     "data": {
      "text/plain": [
       "[<__main__.Receipt at 0x108982710>,\n",
       " <__main__.Receipt at 0x108982860>,\n",
       " <__main__.Receipt at 0x108982a58>]"
      ]
     },
     "execution_count": 23,
     "metadata": {},
     "output_type": "execute_result"
    }
   ],
   "source": [
    "builder = ReceiptBuilder()\n",
    "receipts = builder.run()\n",
    "receipts[0:3]"
   ]
  },
  {
   "cell_type": "markdown",
   "metadata": {},
   "source": [
    "### Such small improvements?"
   ]
  },
  {
   "cell_type": "markdown",
   "metadata": {},
   "source": [
    "It may seem silly to create a class for just one method.  Why do we?"
   ]
  },
  {
   "cell_type": "code",
   "execution_count": 22,
   "metadata": {},
   "outputs": [],
   "source": [
    "class TexasDrinksAPI:\n",
    "    def run(self):\n",
    "        response = requests.get(\"https://data.texas.gov/resource/naix-2893.json?location_name=MAX%27S%20WINE%20DIVE\")\n",
    "        return response.json()"
   ]
  },
  {
   "cell_type": "markdown",
   "metadata": {},
   "source": [
    "In part we do this because we are following a standard recipe.  If we left the method in the `ReceiptBuilder` class, no great sin would have been committed."
   ]
  },
  {
   "cell_type": "markdown",
   "metadata": {},
   "source": [
    "Here is another reason.  We want to move code into it's own class when we can see ourselves using that code separately from the rest of the methods.  Here, we may want to reach the `TexasDrinksAPI` and not create receipts, perhaps we want to reach it to create a list of restaurant objects that serve alcohol.  Then reaching the TexasDrinksAPI would still be useful, but we don't want to look at code that relates to building receipt objects.  By moving this into it's own class, we avoid this. "
   ]
  },
  {
   "cell_type": "code",
   "execution_count": 25,
   "metadata": {},
   "outputs": [],
   "source": [
    "import pickle\n",
    "fname = \"person_instance_list.pkl\"\n",
    "# pickle dump the list object\n",
    "with open(fname, \"wb\") as fout:\n",
    "    # default protocol is zero\n",
    "    # -1 gives highest prototcol and smallest data file size\n",
    "    pickle.dump(receipts, fout, protocol=-1)"
   ]
  },
  {
   "cell_type": "code",
   "execution_count": 26,
   "metadata": {},
   "outputs": [],
   "source": [
    "with open(fname, \"rb\") as fin:\n",
    "    person_list2 = pickle.load(fin)"
   ]
  },
  {
   "cell_type": "code",
   "execution_count": 27,
   "metadata": {},
   "outputs": [
    {
     "data": {
      "text/plain": [
       "[<__main__.Receipt at 0x109202278>, <__main__.Receipt at 0x1092024e0>]"
      ]
     },
     "execution_count": 27,
     "metadata": {},
     "output_type": "execute_result"
    }
   ],
   "source": [
    "person_list2[0:2]"
   ]
  },
  {
   "cell_type": "markdown",
   "metadata": {},
   "source": [
    "### Summary"
   ]
  },
  {
   "cell_type": "markdown",
   "metadata": {},
   "source": [
    "In this lesson, we learned to remove code related to the API into it's own class.  The reason why we do this is because requesting the Texas API has value even when not related to building receipts.  And we want an easy tool to do this."
   ]
  },
  {
   "cell_type": "markdown",
   "metadata": {},
   "source": [
    "We also saw a standard pattern for reaching an API.  The main idea is that we do not like working with messy dictionaries and instead would prefer to work with objects.  We accomplish this by creating three classes: \n",
    "\n",
    "1. A `TexasDrinksAPI` class that makes requests to the API\n",
    "2. A `ReceiptBuilder` class that turns the data into `Receipt` instances\n",
    "3. The `Receipt` class"
   ]
  }
 ],
 "metadata": {
  "kernelspec": {
   "display_name": "Python 3",
   "language": "python",
   "name": "python3"
  },
  "language_info": {
   "codemirror_mode": {
    "name": "ipython",
    "version": 3
   },
   "file_extension": ".py",
   "mimetype": "text/x-python",
   "name": "python",
   "nbconvert_exporter": "python",
   "pygments_lexer": "ipython3",
   "version": "3.7.0"
  }
 },
 "nbformat": 4,
 "nbformat_minor": 2
}
