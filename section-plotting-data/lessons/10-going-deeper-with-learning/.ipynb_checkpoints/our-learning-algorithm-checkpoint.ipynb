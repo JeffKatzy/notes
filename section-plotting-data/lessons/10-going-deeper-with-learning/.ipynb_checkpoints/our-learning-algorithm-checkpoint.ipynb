{
 "cells": [
  {
   "cell_type": "markdown",
   "metadata": {},
   "source": [
    "# Our learning algorithm"
   ]
  },
  {
   "cell_type": "markdown",
   "metadata": {},
   "source": [
    "### Introduction"
   ]
  },
  {
   "cell_type": "markdown",
   "metadata": {},
   "source": [
    "In the last lesson, we learned about our machine learning model of a regression line.  We saw how we can represent regression lines both in code and with a mathematical formula.  With simple linear regression, we know that our model takes the format of $/hat{y} = mx + b$ where $/hat{y}$ is the y value estimated by our line, $m$ is the slope of the line and $b$ is the $y$ intercept. \n",
    "\n",
    "We can use this formula to produce a line, and estimate an output for each provided input value, $x$.  In this lesson, we'll learn how to evaluate our line, with a cost function."
   ]
  },
  {
   "cell_type": "markdown",
   "metadata": {},
   "source": [
    "## Reviewing our cost function"
   ]
  },
  {
   "cell_type": "markdown",
   "metadata": {},
   "source": [
    "Let's load up our data to then generate a scatter trace of our revenue data."
   ]
  },
  {
   "cell_type": "code",
   "execution_count": 1,
   "metadata": {},
   "outputs": [],
   "source": [
    "import json\n",
    "with open('months-since-revenues.json', 'r') as revenue_file:\n",
    "    monthly_revenues = json.load(revenue_file)\n",
    "\n",
    "month_numbers = list(map(lambda monthly_revenue: monthly_revenue['month_number'], monthly_revenues))\n",
    "revenues = list(map(lambda monthly_revenue: monthly_revenue['revenue'], monthly_revenues))\n",
    "\n",
    "actual_trace = {'x': month_numbers, 'y': revenues, 'mode': 'markers', 'name': 'actual'}"
   ]
  },
  {
   "cell_type": "markdown",
   "metadata": {},
   "source": [
    "Then we generate the regression model and plot create a trace for our model."
   ]
  },
  {
   "cell_type": "code",
   "execution_count": 2,
   "metadata": {},
   "outputs": [],
   "source": [
    "def y_hat(x):\n",
    "    m = -1500\n",
    "    b = 65000\n",
    "    return m*x + b \n",
    "\n",
    "y_hats = list(map(y_hat,month_numbers))\n",
    "regression_model = {'x': month_numbers, 'y': y_hats, 'mode': 'lines', 'name': 'estimated'}"
   ]
  },
  {
   "cell_type": "markdown",
   "metadata": {},
   "source": [
    "Then, we calculate our errors and create traces for each of them."
   ]
  },
  {
   "cell_type": "code",
   "execution_count": 3,
   "metadata": {},
   "outputs": [],
   "source": [
    "from error import error_line_traces\n",
    "\n",
    "actuals_and_expecteds = list(zip(revenues, y_hats))\n",
    "errors = list(map(lambda actual_and_expected: actual_and_expected[0] - actual_and_expected[1], actuals_and_expecteds))\n",
    "error_traces = error_line_traces(month_numbers, revenues, errors)"
   ]
  },
  {
   "cell_type": "markdown",
   "metadata": {},
   "source": [
    "Finally, we plot all of our traces."
   ]
  },
  {
   "cell_type": "code",
   "execution_count": 4,
   "metadata": {},
   "outputs": [
    {
     "data": {
      "text/html": [
       "<script type=\"text/javascript\">window.PlotlyConfig = {MathJaxConfig: 'local'};</script><script type=\"text/javascript\">if (window.MathJax) {MathJax.Hub.Config({SVG: {font: \"STIX-Web\"}});}</script><script>requirejs.config({paths: { 'plotly': ['https://cdn.plot.ly/plotly-latest.min']},});if(!window._Plotly) {require(['plotly'],function(plotly) {window._Plotly=plotly;});}</script>"
      ],
      "text/vnd.plotly.v1+html": [
       "<script type=\"text/javascript\">window.PlotlyConfig = {MathJaxConfig: 'local'};</script><script type=\"text/javascript\">if (window.MathJax) {MathJax.Hub.Config({SVG: {font: \"STIX-Web\"}});}</script><script>requirejs.config({paths: { 'plotly': ['https://cdn.plot.ly/plotly-latest.min']},});if(!window._Plotly) {require(['plotly'],function(plotly) {window._Plotly=plotly;});}</script>"
      ]
     },
     "metadata": {},
     "output_type": "display_data"
    },
    {
     "data": {
      "application/vnd.plotly.v1+json": {
       "config": {
        "linkText": "Export to plot.ly",
        "plotlyServerURL": "https://plot.ly",
        "showLink": false
       },
       "data": [
        {
         "mode": "markers",
         "name": "actual",
         "type": "scatter",
         "uid": "51d28e7a-88d0-46a2-8f42-52dad522cc69",
         "x": [
          0,
          1,
          2,
          3,
          4,
          5,
          6,
          7,
          8,
          9,
          10,
          11,
          12,
          13,
          14,
          15,
          16,
          17,
          18,
          19,
          20,
          21,
          22,
          23
         ],
         "y": [
          66609,
          67048,
          69664,
          72238,
          84721,
          69224,
          58697,
          51430,
          48239,
          50574,
          51707,
          50305,
          45590,
          42180,
          41054,
          56182,
          49965,
          43094,
          44414,
          41393,
          34903,
          39535,
          39627,
          9400
         ]
        },
        {
         "mode": "lines",
         "name": "estimated",
         "type": "scatter",
         "uid": "f250d3ef-3b3e-4452-8539-edeb33799fd1",
         "x": [
          0,
          1,
          2,
          3,
          4,
          5,
          6,
          7,
          8,
          9,
          10,
          11,
          12,
          13,
          14,
          15,
          16,
          17,
          18,
          19,
          20,
          21,
          22,
          23
         ],
         "y": [
          65000,
          63500,
          62000,
          60500,
          59000,
          57500,
          56000,
          54500,
          53000,
          51500,
          50000,
          48500,
          47000,
          45500,
          44000,
          42500,
          41000,
          39500,
          38000,
          36500,
          35000,
          33500,
          32000,
          30500
         ]
        },
        {
         "hoverinfo": "none",
         "marker": {
          "color": "red"
         },
         "mode": "lines",
         "name": "error at 0",
         "text": [
          "1609"
         ],
         "textposition": "top right",
         "type": "scatter",
         "uid": "928b81cd-2a0e-43a2-b089-b8c66d8ff5f4",
         "x": [
          0,
          0
         ],
         "y": [
          65000,
          66609
         ]
        },
        {
         "hoverinfo": "none",
         "marker": {
          "color": "red"
         },
         "mode": "lines",
         "name": "error at 1",
         "text": [
          "3548"
         ],
         "textposition": "top right",
         "type": "scatter",
         "uid": "34ee435d-c871-4058-b36d-717378208c79",
         "x": [
          1,
          1
         ],
         "y": [
          63500,
          67048
         ]
        },
        {
         "hoverinfo": "none",
         "marker": {
          "color": "red"
         },
         "mode": "lines",
         "name": "error at 2",
         "text": [
          "7664"
         ],
         "textposition": "top right",
         "type": "scatter",
         "uid": "bea6d49d-8cd8-4e9b-a9a4-7e7b85fca720",
         "x": [
          2,
          2
         ],
         "y": [
          62000,
          69664
         ]
        },
        {
         "hoverinfo": "none",
         "marker": {
          "color": "red"
         },
         "mode": "lines",
         "name": "error at 3",
         "text": [
          "11738"
         ],
         "textposition": "top right",
         "type": "scatter",
         "uid": "93f0b937-0f9e-4a6e-8a41-178bcb28bb26",
         "x": [
          3,
          3
         ],
         "y": [
          60500,
          72238
         ]
        },
        {
         "hoverinfo": "none",
         "marker": {
          "color": "red"
         },
         "mode": "lines",
         "name": "error at 4",
         "text": [
          "25721"
         ],
         "textposition": "top right",
         "type": "scatter",
         "uid": "e8827376-993e-47db-a777-2b561f31ec8e",
         "x": [
          4,
          4
         ],
         "y": [
          59000,
          84721
         ]
        },
        {
         "hoverinfo": "none",
         "marker": {
          "color": "red"
         },
         "mode": "lines",
         "name": "error at 5",
         "text": [
          "11724"
         ],
         "textposition": "top right",
         "type": "scatter",
         "uid": "be301bc4-e354-4847-818b-83f96e3ab23d",
         "x": [
          5,
          5
         ],
         "y": [
          57500,
          69224
         ]
        },
        {
         "hoverinfo": "none",
         "marker": {
          "color": "red"
         },
         "mode": "lines",
         "name": "error at 6",
         "text": [
          "2697"
         ],
         "textposition": "top right",
         "type": "scatter",
         "uid": "b12e85ac-5cdf-4f00-9705-ef62e16574e7",
         "x": [
          6,
          6
         ],
         "y": [
          56000,
          58697
         ]
        },
        {
         "hoverinfo": "none",
         "marker": {
          "color": "red"
         },
         "mode": "lines",
         "name": "error at 7",
         "text": [
          "-3070"
         ],
         "textposition": "top right",
         "type": "scatter",
         "uid": "579307a0-2db5-4d06-b179-c73a18f1c39b",
         "x": [
          7,
          7
         ],
         "y": [
          54500,
          51430
         ]
        },
        {
         "hoverinfo": "none",
         "marker": {
          "color": "red"
         },
         "mode": "lines",
         "name": "error at 8",
         "text": [
          "-4761"
         ],
         "textposition": "top right",
         "type": "scatter",
         "uid": "0c4a9992-a4d3-460e-ad7e-5c66a8f976a2",
         "x": [
          8,
          8
         ],
         "y": [
          53000,
          48239
         ]
        },
        {
         "hoverinfo": "none",
         "marker": {
          "color": "red"
         },
         "mode": "lines",
         "name": "error at 9",
         "text": [
          "-926"
         ],
         "textposition": "top right",
         "type": "scatter",
         "uid": "019673bd-d997-4610-942c-c5513cc5bba2",
         "x": [
          9,
          9
         ],
         "y": [
          51500,
          50574
         ]
        },
        {
         "hoverinfo": "none",
         "marker": {
          "color": "red"
         },
         "mode": "lines",
         "name": "error at 10",
         "text": [
          "1707"
         ],
         "textposition": "top right",
         "type": "scatter",
         "uid": "10930ba7-a9bf-4f27-b666-9373f6523272",
         "x": [
          10,
          10
         ],
         "y": [
          50000,
          51707
         ]
        },
        {
         "hoverinfo": "none",
         "marker": {
          "color": "red"
         },
         "mode": "lines",
         "name": "error at 11",
         "text": [
          "1805"
         ],
         "textposition": "top right",
         "type": "scatter",
         "uid": "ff679ca3-31d7-4224-948e-79b1db8ff96d",
         "x": [
          11,
          11
         ],
         "y": [
          48500,
          50305
         ]
        },
        {
         "hoverinfo": "none",
         "marker": {
          "color": "red"
         },
         "mode": "lines",
         "name": "error at 12",
         "text": [
          "-1410"
         ],
         "textposition": "top right",
         "type": "scatter",
         "uid": "4d3c12f5-81b3-487a-af4e-60e17563507b",
         "x": [
          12,
          12
         ],
         "y": [
          47000,
          45590
         ]
        },
        {
         "hoverinfo": "none",
         "marker": {
          "color": "red"
         },
         "mode": "lines",
         "name": "error at 13",
         "text": [
          "-3320"
         ],
         "textposition": "top right",
         "type": "scatter",
         "uid": "29918024-e4d9-45b6-9d37-67a03227de56",
         "x": [
          13,
          13
         ],
         "y": [
          45500,
          42180
         ]
        },
        {
         "hoverinfo": "none",
         "marker": {
          "color": "red"
         },
         "mode": "lines",
         "name": "error at 14",
         "text": [
          "-2946"
         ],
         "textposition": "top right",
         "type": "scatter",
         "uid": "5a859f23-a258-4b5e-9f09-45fd85b7001c",
         "x": [
          14,
          14
         ],
         "y": [
          44000,
          41054
         ]
        },
        {
         "hoverinfo": "none",
         "marker": {
          "color": "red"
         },
         "mode": "lines",
         "name": "error at 15",
         "text": [
          "13682"
         ],
         "textposition": "top right",
         "type": "scatter",
         "uid": "6138d8d6-be4a-4014-9c78-65835b7617ca",
         "x": [
          15,
          15
         ],
         "y": [
          42500,
          56182
         ]
        },
        {
         "hoverinfo": "none",
         "marker": {
          "color": "red"
         },
         "mode": "lines",
         "name": "error at 16",
         "text": [
          "8965"
         ],
         "textposition": "top right",
         "type": "scatter",
         "uid": "48966898-9d5c-448a-a35f-a8831e837a14",
         "x": [
          16,
          16
         ],
         "y": [
          41000,
          49965
         ]
        },
        {
         "hoverinfo": "none",
         "marker": {
          "color": "red"
         },
         "mode": "lines",
         "name": "error at 17",
         "text": [
          "3594"
         ],
         "textposition": "top right",
         "type": "scatter",
         "uid": "40cc6278-0189-4986-9873-daaf259222cc",
         "x": [
          17,
          17
         ],
         "y": [
          39500,
          43094
         ]
        },
        {
         "hoverinfo": "none",
         "marker": {
          "color": "red"
         },
         "mode": "lines",
         "name": "error at 18",
         "text": [
          "6414"
         ],
         "textposition": "top right",
         "type": "scatter",
         "uid": "fb67c5b9-bd4f-4cf0-bbd3-7ba7edea2454",
         "x": [
          18,
          18
         ],
         "y": [
          38000,
          44414
         ]
        },
        {
         "hoverinfo": "none",
         "marker": {
          "color": "red"
         },
         "mode": "lines",
         "name": "error at 19",
         "text": [
          "4893"
         ],
         "textposition": "top right",
         "type": "scatter",
         "uid": "ce94b5c5-96a2-41ca-a7bc-e5f4e36aa775",
         "x": [
          19,
          19
         ],
         "y": [
          36500,
          41393
         ]
        },
        {
         "hoverinfo": "none",
         "marker": {
          "color": "red"
         },
         "mode": "lines",
         "name": "error at 20",
         "text": [
          "-97"
         ],
         "textposition": "top right",
         "type": "scatter",
         "uid": "519fc6aa-4f91-4c80-9bf9-4f861bdaa5d4",
         "x": [
          20,
          20
         ],
         "y": [
          35000,
          34903
         ]
        },
        {
         "hoverinfo": "none",
         "marker": {
          "color": "red"
         },
         "mode": "lines",
         "name": "error at 21",
         "text": [
          "6035"
         ],
         "textposition": "top right",
         "type": "scatter",
         "uid": "a9759ceb-c25b-4ffc-bebf-c5bec6fab815",
         "x": [
          21,
          21
         ],
         "y": [
          33500,
          39535
         ]
        },
        {
         "hoverinfo": "none",
         "marker": {
          "color": "red"
         },
         "mode": "lines",
         "name": "error at 22",
         "text": [
          "7627"
         ],
         "textposition": "top right",
         "type": "scatter",
         "uid": "822cc5d8-843d-42fd-98a9-65f11955a213",
         "x": [
          22,
          22
         ],
         "y": [
          32000,
          39627
         ]
        },
        {
         "hoverinfo": "none",
         "marker": {
          "color": "red"
         },
         "mode": "lines",
         "name": "error at 23",
         "text": [
          "-21100"
         ],
         "textposition": "top right",
         "type": "scatter",
         "uid": "3be22890-161b-4254-a8f3-81209d27e935",
         "x": [
          23,
          23
         ],
         "y": [
          30500,
          9400
         ]
        }
       ],
       "layout": {
        "autosize": true,
        "xaxis": {
         "autorange": true,
         "range": [
          -1.4181312243702402,
          24.41813122437024
         ],
         "type": "linear"
        },
        "yaxis": {
         "autorange": true,
         "range": [
          3882.856687898089,
          90238.1433121019
         ],
         "type": "linear"
        }
       }
      },
      "image/png": "[encoded data removed]",
      "text/html": [
       "<div id=\"b90ecbf6-17c7-4187-92c0-b6338cef97d8\" style=\"height: 525px; width: 100%;\" class=\"plotly-graph-div\"></div><script type=\"text/javascript\">require([\"plotly\"], function(Plotly) { window.PLOTLYENV=window.PLOTLYENV || {};window.PLOTLYENV.BASE_URL=\"https://plot.ly\";Plotly.newPlot(\"b90ecbf6-17c7-4187-92c0-b6338cef97d8\", [{\"mode\": \"markers\", \"name\": \"actual\", \"x\": [0, 1, 2, 3, 4, 5, 6, 7, 8, 9, 10, 11, 12, 13, 14, 15, 16, 17, 18, 19, 20, 21, 22, 23], \"y\": [66609, 67048, 69664, 72238, 84721, 69224, 58697, 51430, 48239, 50574, 51707, 50305, 45590, 42180, 41054, 56182, 49965, 43094, 44414, 41393, 34903, 39535, 39627, 9400], \"type\": \"scatter\", \"uid\": \"b2494de6-c087-449e-87fc-fb649eefa44a\"}, {\"mode\": \"lines\", \"name\": \"estimated\", \"x\": [0, 1, 2, 3, 4, 5, 6, 7, 8, 9, 10, 11, 12, 13, 14, 15, 16, 17, 18, 19, 20, 21, 22, 23], \"y\": [65000, 63500, 62000, 60500, 59000, 57500, 56000, 54500, 53000, 51500, 50000, 48500, 47000, 45500, 44000, 42500, 41000, 39500, 38000, 36500, 35000, 33500, 32000, 30500], \"type\": \"scatter\", \"uid\": \"1af40683-fbbe-4472-ad9b-4b46bfd068c9\"}, {\"hoverinfo\": \"none\", \"marker\": {\"color\": \"red\"}, \"mode\": \"lines\", \"name\": \"error at 0\", \"text\": [\"1609\"], \"textposition\": \"top right\", \"x\": [0, 0], \"y\": [65000, 66609], \"type\": \"scatter\", \"uid\": \"cb52124c-3afb-4ce6-9b0d-fbf090dfe639\"}, {\"hoverinfo\": \"none\", \"marker\": {\"color\": \"red\"}, \"mode\": \"lines\", \"name\": \"error at 1\", \"text\": [\"3548\"], \"textposition\": \"top right\", \"x\": [1, 1], \"y\": [63500, 67048], \"type\": \"scatter\", \"uid\": \"9b64380f-8523-47fb-ac49-272d962207a1\"}, {\"hoverinfo\": \"none\", \"marker\": {\"color\": \"red\"}, \"mode\": \"lines\", \"name\": \"error at 2\", \"text\": [\"7664\"], \"textposition\": \"top right\", \"x\": [2, 2], \"y\": [62000, 69664], \"type\": \"scatter\", \"uid\": \"4bc88283-058f-41e7-8ee5-d7909fca871a\"}, {\"hoverinfo\": \"none\", \"marker\": {\"color\": \"red\"}, \"mode\": \"lines\", \"name\": \"error at 3\", \"text\": [\"11738\"], \"textposition\": \"top right\", \"x\": [3, 3], \"y\": [60500, 72238], \"type\": \"scatter\", \"uid\": \"1343a7f0-5b44-4a1b-8118-4f22eb3e7a51\"}, {\"hoverinfo\": \"none\", \"marker\": {\"color\": \"red\"}, \"mode\": \"lines\", \"name\": \"error at 4\", \"text\": [\"25721\"], \"textposition\": \"top right\", \"x\": [4, 4], \"y\": [59000, 84721], \"type\": \"scatter\", \"uid\": \"dbfcb0f9-2579-4abc-8e48-efc4a87ad5c2\"}, {\"hoverinfo\": \"none\", \"marker\": {\"color\": \"red\"}, \"mode\": \"lines\", \"name\": \"error at 5\", \"text\": [\"11724\"], \"textposition\": \"top right\", \"x\": [5, 5], \"y\": [57500, 69224], \"type\": \"scatter\", \"uid\": \"30ce7ceb-4c91-402e-8959-fdff3d3ca6e3\"}, {\"hoverinfo\": \"none\", \"marker\": {\"color\": \"red\"}, \"mode\": \"lines\", \"name\": \"error at 6\", \"text\": [\"2697\"], \"textposition\": \"top right\", \"x\": [6, 6], \"y\": [56000, 58697], \"type\": \"scatter\", \"uid\": \"312e5caf-0aa2-489e-bc33-5e615c002d10\"}, {\"hoverinfo\": \"none\", \"marker\": {\"color\": \"red\"}, \"mode\": \"lines\", \"name\": \"error at 7\", \"text\": [\"-3070\"], \"textposition\": \"top right\", \"x\": [7, 7], \"y\": [54500, 51430], \"type\": \"scatter\", \"uid\": \"577ae6bc-df17-4694-90d1-899694b1ad4b\"}, {\"hoverinfo\": \"none\", \"marker\": {\"color\": \"red\"}, \"mode\": \"lines\", \"name\": \"error at 8\", \"text\": [\"-4761\"], \"textposition\": \"top right\", \"x\": [8, 8], \"y\": [53000, 48239], \"type\": \"scatter\", \"uid\": \"03fdc815-3e5f-451a-a9fc-bd175e304c99\"}, {\"hoverinfo\": \"none\", \"marker\": {\"color\": \"red\"}, \"mode\": \"lines\", \"name\": \"error at 9\", \"text\": [\"-926\"], \"textposition\": \"top right\", \"x\": [9, 9], \"y\": [51500, 50574], \"type\": \"scatter\", \"uid\": \"3de469c9-9483-4c4b-8815-dd96b322d970\"}, {\"hoverinfo\": \"none\", \"marker\": {\"color\": \"red\"}, \"mode\": \"lines\", \"name\": \"error at 10\", \"text\": [\"1707\"], \"textposition\": \"top right\", \"x\": [10, 10], \"y\": [50000, 51707], \"type\": \"scatter\", \"uid\": \"bf2a6244-74b2-408f-bd22-e03a6f9aaba6\"}, {\"hoverinfo\": \"none\", \"marker\": {\"color\": \"red\"}, \"mode\": \"lines\", \"name\": \"error at 11\", \"text\": [\"1805\"], \"textposition\": \"top right\", \"x\": [11, 11], \"y\": [48500, 50305], \"type\": \"scatter\", \"uid\": \"5a6e9573-f2be-4d25-a923-4f88db553d23\"}, {\"hoverinfo\": \"none\", \"marker\": {\"color\": \"red\"}, \"mode\": \"lines\", \"name\": \"error at 12\", \"text\": [\"-1410\"], \"textposition\": \"top right\", \"x\": [12, 12], \"y\": [47000, 45590], \"type\": \"scatter\", \"uid\": \"34486472-8968-41fa-b78a-c6a5d98dedc2\"}, {\"hoverinfo\": \"none\", \"marker\": {\"color\": \"red\"}, \"mode\": \"lines\", \"name\": \"error at 13\", \"text\": [\"-3320\"], \"textposition\": \"top right\", \"x\": [13, 13], \"y\": [45500, 42180], \"type\": \"scatter\", \"uid\": \"ff5898f4-d7c7-4f51-ad5a-eb96ef12be52\"}, {\"hoverinfo\": \"none\", \"marker\": {\"color\": \"red\"}, \"mode\": \"lines\", \"name\": \"error at 14\", \"text\": [\"-2946\"], \"textposition\": \"top right\", \"x\": [14, 14], \"y\": [44000, 41054], \"type\": \"scatter\", \"uid\": \"a52c791e-b7b2-40f7-bc68-7e61774c479e\"}, {\"hoverinfo\": \"none\", \"marker\": {\"color\": \"red\"}, \"mode\": \"lines\", \"name\": \"error at 15\", \"text\": [\"13682\"], \"textposition\": \"top right\", \"x\": [15, 15], \"y\": [42500, 56182], \"type\": \"scatter\", \"uid\": \"8409d6c8-9d85-444b-ac0d-345d1c6e2641\"}, {\"hoverinfo\": \"none\", \"marker\": {\"color\": \"red\"}, \"mode\": \"lines\", \"name\": \"error at 16\", \"text\": [\"8965\"], \"textposition\": \"top right\", \"x\": [16, 16], \"y\": [41000, 49965], \"type\": \"scatter\", \"uid\": \"25aac1ba-8543-4966-81e5-71cbbc685df7\"}, {\"hoverinfo\": \"none\", \"marker\": {\"color\": \"red\"}, \"mode\": \"lines\", \"name\": \"error at 17\", \"text\": [\"3594\"], \"textposition\": \"top right\", \"x\": [17, 17], \"y\": [39500, 43094], \"type\": \"scatter\", \"uid\": \"d34fdb03-7a66-41c2-9a4f-8f3393b51fc4\"}, {\"hoverinfo\": \"none\", \"marker\": {\"color\": \"red\"}, \"mode\": \"lines\", \"name\": \"error at 18\", \"text\": [\"6414\"], \"textposition\": \"top right\", \"x\": [18, 18], \"y\": [38000, 44414], \"type\": \"scatter\", \"uid\": \"ba8dbf67-9272-4531-b3a6-7d0ea64a7b1d\"}, {\"hoverinfo\": \"none\", \"marker\": {\"color\": \"red\"}, \"mode\": \"lines\", \"name\": \"error at 19\", \"text\": [\"4893\"], \"textposition\": \"top right\", \"x\": [19, 19], \"y\": [36500, 41393], \"type\": \"scatter\", \"uid\": \"da7c0b4a-5e3b-47d2-9c0f-e72233cf9ad0\"}, {\"hoverinfo\": \"none\", \"marker\": {\"color\": \"red\"}, \"mode\": \"lines\", \"name\": \"error at 20\", \"text\": [\"-97\"], \"textposition\": \"top right\", \"x\": [20, 20], \"y\": [35000, 34903], \"type\": \"scatter\", \"uid\": \"9109cd88-a7cd-44fd-a4fd-bc07edfeb9eb\"}, {\"hoverinfo\": \"none\", \"marker\": {\"color\": \"red\"}, \"mode\": \"lines\", \"name\": \"error at 21\", \"text\": [\"6035\"], \"textposition\": \"top right\", \"x\": [21, 21], \"y\": [33500, 39535], \"type\": \"scatter\", \"uid\": \"c243c27e-5131-4f5f-9db9-b1718ff2926b\"}, {\"hoverinfo\": \"none\", \"marker\": {\"color\": \"red\"}, \"mode\": \"lines\", \"name\": \"error at 22\", \"text\": [\"7627\"], \"textposition\": \"top right\", \"x\": [22, 22], \"y\": [32000, 39627], \"type\": \"scatter\", \"uid\": \"05f51a69-2cfc-492a-90ab-857818791dd9\"}, {\"hoverinfo\": \"none\", \"marker\": {\"color\": \"red\"}, \"mode\": \"lines\", \"name\": \"error at 23\", \"text\": [\"-21100\"], \"textposition\": \"top right\", \"x\": [23, 23], \"y\": [30500, 9400], \"type\": \"scatter\", \"uid\": \"789d72d1-6423-4c11-b2e9-0572ff64db57\"}], {}, {\"showLink\": false, \"linkText\": \"Export to plot.ly\", \"plotlyServerURL\": \"https://plot.ly\"})});</script><script type=\"text/javascript\">window.addEventListener(\"resize\", function(){window._Plotly.Plots.resize(document.getElementById(\"b90ecbf6-17c7-4187-92c0-b6338cef97d8\"));});</script>"
      ],
      "text/vnd.plotly.v1+html": [
       "<div id=\"b90ecbf6-17c7-4187-92c0-b6338cef97d8\" style=\"height: 525px; width: 100%;\" class=\"plotly-graph-div\"></div><script type=\"text/javascript\">require([\"plotly\"], function(Plotly) { window.PLOTLYENV=window.PLOTLYENV || {};window.PLOTLYENV.BASE_URL=\"https://plot.ly\";Plotly.newPlot(\"b90ecbf6-17c7-4187-92c0-b6338cef97d8\", [{\"mode\": \"markers\", \"name\": \"actual\", \"x\": [0, 1, 2, 3, 4, 5, 6, 7, 8, 9, 10, 11, 12, 13, 14, 15, 16, 17, 18, 19, 20, 21, 22, 23], \"y\": [66609, 67048, 69664, 72238, 84721, 69224, 58697, 51430, 48239, 50574, 51707, 50305, 45590, 42180, 41054, 56182, 49965, 43094, 44414, 41393, 34903, 39535, 39627, 9400], \"type\": \"scatter\", \"uid\": \"b2494de6-c087-449e-87fc-fb649eefa44a\"}, {\"mode\": \"lines\", \"name\": \"estimated\", \"x\": [0, 1, 2, 3, 4, 5, 6, 7, 8, 9, 10, 11, 12, 13, 14, 15, 16, 17, 18, 19, 20, 21, 22, 23], \"y\": [65000, 63500, 62000, 60500, 59000, 57500, 56000, 54500, 53000, 51500, 50000, 48500, 47000, 45500, 44000, 42500, 41000, 39500, 38000, 36500, 35000, 33500, 32000, 30500], \"type\": \"scatter\", \"uid\": \"1af40683-fbbe-4472-ad9b-4b46bfd068c9\"}, {\"hoverinfo\": \"none\", \"marker\": {\"color\": \"red\"}, \"mode\": \"lines\", \"name\": \"error at 0\", \"text\": [\"1609\"], \"textposition\": \"top right\", \"x\": [0, 0], \"y\": [65000, 66609], \"type\": \"scatter\", \"uid\": \"cb52124c-3afb-4ce6-9b0d-fbf090dfe639\"}, {\"hoverinfo\": \"none\", \"marker\": {\"color\": \"red\"}, \"mode\": \"lines\", \"name\": \"error at 1\", \"text\": [\"3548\"], \"textposition\": \"top right\", \"x\": [1, 1], \"y\": [63500, 67048], \"type\": \"scatter\", \"uid\": \"9b64380f-8523-47fb-ac49-272d962207a1\"}, {\"hoverinfo\": \"none\", \"marker\": {\"color\": \"red\"}, \"mode\": \"lines\", \"name\": \"error at 2\", \"text\": [\"7664\"], \"textposition\": \"top right\", \"x\": [2, 2], \"y\": [62000, 69664], \"type\": \"scatter\", \"uid\": \"4bc88283-058f-41e7-8ee5-d7909fca871a\"}, {\"hoverinfo\": \"none\", \"marker\": {\"color\": \"red\"}, \"mode\": \"lines\", \"name\": \"error at 3\", \"text\": [\"11738\"], \"textposition\": \"top right\", \"x\": [3, 3], \"y\": [60500, 72238], \"type\": \"scatter\", \"uid\": \"1343a7f0-5b44-4a1b-8118-4f22eb3e7a51\"}, {\"hoverinfo\": \"none\", \"marker\": {\"color\": \"red\"}, \"mode\": \"lines\", \"name\": \"error at 4\", \"text\": [\"25721\"], \"textposition\": \"top right\", \"x\": [4, 4], \"y\": [59000, 84721], \"type\": \"scatter\", \"uid\": \"dbfcb0f9-2579-4abc-8e48-efc4a87ad5c2\"}, {\"hoverinfo\": \"none\", \"marker\": {\"color\": \"red\"}, \"mode\": \"lines\", \"name\": \"error at 5\", \"text\": [\"11724\"], \"textposition\": \"top right\", \"x\": [5, 5], \"y\": [57500, 69224], \"type\": \"scatter\", \"uid\": \"30ce7ceb-4c91-402e-8959-fdff3d3ca6e3\"}, {\"hoverinfo\": \"none\", \"marker\": {\"color\": \"red\"}, \"mode\": \"lines\", \"name\": \"error at 6\", \"text\": [\"2697\"], \"textposition\": \"top right\", \"x\": [6, 6], \"y\": [56000, 58697], \"type\": \"scatter\", \"uid\": \"312e5caf-0aa2-489e-bc33-5e615c002d10\"}, {\"hoverinfo\": \"none\", \"marker\": {\"color\": \"red\"}, \"mode\": \"lines\", \"name\": \"error at 7\", \"text\": [\"-3070\"], \"textposition\": \"top right\", \"x\": [7, 7], \"y\": [54500, 51430], \"type\": \"scatter\", \"uid\": \"577ae6bc-df17-4694-90d1-899694b1ad4b\"}, {\"hoverinfo\": \"none\", \"marker\": {\"color\": \"red\"}, \"mode\": \"lines\", \"name\": \"error at 8\", \"text\": [\"-4761\"], \"textposition\": \"top right\", \"x\": [8, 8], \"y\": [53000, 48239], \"type\": \"scatter\", \"uid\": \"03fdc815-3e5f-451a-a9fc-bd175e304c99\"}, {\"hoverinfo\": \"none\", \"marker\": {\"color\": \"red\"}, \"mode\": \"lines\", \"name\": \"error at 9\", \"text\": [\"-926\"], \"textposition\": \"top right\", \"x\": [9, 9], \"y\": [51500, 50574], \"type\": \"scatter\", \"uid\": \"3de469c9-9483-4c4b-8815-dd96b322d970\"}, {\"hoverinfo\": \"none\", \"marker\": {\"color\": \"red\"}, \"mode\": \"lines\", \"name\": \"error at 10\", \"text\": [\"1707\"], \"textposition\": \"top right\", \"x\": [10, 10], \"y\": [50000, 51707], \"type\": \"scatter\", \"uid\": \"bf2a6244-74b2-408f-bd22-e03a6f9aaba6\"}, {\"hoverinfo\": \"none\", \"marker\": {\"color\": \"red\"}, \"mode\": \"lines\", \"name\": \"error at 11\", \"text\": [\"1805\"], \"textposition\": \"top right\", \"x\": [11, 11], \"y\": [48500, 50305], \"type\": \"scatter\", \"uid\": \"5a6e9573-f2be-4d25-a923-4f88db553d23\"}, {\"hoverinfo\": \"none\", \"marker\": {\"color\": \"red\"}, \"mode\": \"lines\", \"name\": \"error at 12\", \"text\": [\"-1410\"], \"textposition\": \"top right\", \"x\": [12, 12], \"y\": [47000, 45590], \"type\": \"scatter\", \"uid\": \"34486472-8968-41fa-b78a-c6a5d98dedc2\"}, {\"hoverinfo\": \"none\", \"marker\": {\"color\": \"red\"}, \"mode\": \"lines\", \"name\": \"error at 13\", \"text\": [\"-3320\"], \"textposition\": \"top right\", \"x\": [13, 13], \"y\": [45500, 42180], \"type\": \"scatter\", \"uid\": \"ff5898f4-d7c7-4f51-ad5a-eb96ef12be52\"}, {\"hoverinfo\": \"none\", \"marker\": {\"color\": \"red\"}, \"mode\": \"lines\", \"name\": \"error at 14\", \"text\": [\"-2946\"], \"textposition\": \"top right\", \"x\": [14, 14], \"y\": [44000, 41054], \"type\": \"scatter\", \"uid\": \"a52c791e-b7b2-40f7-bc68-7e61774c479e\"}, {\"hoverinfo\": \"none\", \"marker\": {\"color\": \"red\"}, \"mode\": \"lines\", \"name\": \"error at 15\", \"text\": [\"13682\"], \"textposition\": \"top right\", \"x\": [15, 15], \"y\": [42500, 56182], \"type\": \"scatter\", \"uid\": \"8409d6c8-9d85-444b-ac0d-345d1c6e2641\"}, {\"hoverinfo\": \"none\", \"marker\": {\"color\": \"red\"}, \"mode\": \"lines\", \"name\": \"error at 16\", \"text\": [\"8965\"], \"textposition\": \"top right\", \"x\": [16, 16], \"y\": [41000, 49965], \"type\": \"scatter\", \"uid\": \"25aac1ba-8543-4966-81e5-71cbbc685df7\"}, {\"hoverinfo\": \"none\", \"marker\": {\"color\": \"red\"}, \"mode\": \"lines\", \"name\": \"error at 17\", \"text\": [\"3594\"], \"textposition\": \"top right\", \"x\": [17, 17], \"y\": [39500, 43094], \"type\": \"scatter\", \"uid\": \"d34fdb03-7a66-41c2-9a4f-8f3393b51fc4\"}, {\"hoverinfo\": \"none\", \"marker\": {\"color\": \"red\"}, \"mode\": \"lines\", \"name\": \"error at 18\", \"text\": [\"6414\"], \"textposition\": \"top right\", \"x\": [18, 18], \"y\": [38000, 44414], \"type\": \"scatter\", \"uid\": \"ba8dbf67-9272-4531-b3a6-7d0ea64a7b1d\"}, {\"hoverinfo\": \"none\", \"marker\": {\"color\": \"red\"}, \"mode\": \"lines\", \"name\": \"error at 19\", \"text\": [\"4893\"], \"textposition\": \"top right\", \"x\": [19, 19], \"y\": [36500, 41393], \"type\": \"scatter\", \"uid\": \"da7c0b4a-5e3b-47d2-9c0f-e72233cf9ad0\"}, {\"hoverinfo\": \"none\", \"marker\": {\"color\": \"red\"}, \"mode\": \"lines\", \"name\": \"error at 20\", \"text\": [\"-97\"], \"textposition\": \"top right\", \"x\": [20, 20], \"y\": [35000, 34903], \"type\": \"scatter\", \"uid\": \"9109cd88-a7cd-44fd-a4fd-bc07edfeb9eb\"}, {\"hoverinfo\": \"none\", \"marker\": {\"color\": \"red\"}, \"mode\": \"lines\", \"name\": \"error at 21\", \"text\": [\"6035\"], \"textposition\": \"top right\", \"x\": [21, 21], \"y\": [33500, 39535], \"type\": \"scatter\", \"uid\": \"c243c27e-5131-4f5f-9db9-b1718ff2926b\"}, {\"hoverinfo\": \"none\", \"marker\": {\"color\": \"red\"}, \"mode\": \"lines\", \"name\": \"error at 22\", \"text\": [\"7627\"], \"textposition\": \"top right\", \"x\": [22, 22], \"y\": [32000, 39627], \"type\": \"scatter\", \"uid\": \"05f51a69-2cfc-492a-90ab-857818791dd9\"}, {\"hoverinfo\": \"none\", \"marker\": {\"color\": \"red\"}, \"mode\": \"lines\", \"name\": \"error at 23\", \"text\": [\"-21100\"], \"textposition\": \"top right\", \"x\": [23, 23], \"y\": [30500, 9400], \"type\": \"scatter\", \"uid\": \"789d72d1-6423-4c11-b2e9-0572ff64db57\"}], {}, {\"showLink\": false, \"linkText\": \"Export to plot.ly\", \"plotlyServerURL\": \"https://plot.ly\"})});</script><script type=\"text/javascript\">window.addEventListener(\"resize\", function(){window._Plotly.Plots.resize(document.getElementById(\"b90ecbf6-17c7-4187-92c0-b6338cef97d8\"));});</script>"
      ]
     },
     "metadata": {},
     "output_type": "display_data"
    }
   ],
   "source": [
    "import plotly\n",
    "from plotly.offline import iplot, init_notebook_mode\n",
    "init_notebook_mode(connected=True)\n",
    "iplot([actual_trace, regression_model] + error_traces)"
   ]
  },
  {
   "cell_type": "markdown",
   "metadata": {},
   "source": [
    "Now remember that to calculate our cost function is our residual sum of squares.  And the formula for this is: \n",
    "\n",
    "$$RSS = (y_1 - \\hat{y}_1)^2 + (y_2 - \\hat{y}_2)^2 + ... (y_n - \\hat{y}_n)^2$$\n",
    "\n",
    "And we can calculate this in code, simply by squaring each of our errors, and then taking the sum."
   ]
  },
  {
   "cell_type": "code",
   "execution_count": 5,
   "metadata": {},
   "outputs": [
    {
     "data": {
      "text/plain": [
       "1964179131"
      ]
     },
     "execution_count": 5,
     "metadata": {},
     "output_type": "execute_result"
    }
   ],
   "source": [
    "squared_errors = list(map(lambda error: (error**2),errors))\n",
    "sum(squared_errors)"
   ]
  },
  {
   "cell_type": "markdown",
   "metadata": {},
   "source": [
    "### Unpacking RSS"
   ]
  },
  {
   "cell_type": "markdown",
   "metadata": {},
   "source": [
    "Now let's rewrite our RSS formula a little bit.  The current version hides a little bit.  We want to show exactly how our RSS formula depends on linear regression model.  Our formula for our regression model is: \n",
    "\n",
    "$$\\hat{y} = mx + b$$\n",
    "\n",
    "and so we can plug this into our RSS formula of \n",
    "\n",
    "$$RSS = (y_1 - \\hat{y}_1)^2 + (y_2 - \\hat{y}_2)^2 + ... (y_n - \\hat{y}_n)^2$$\n",
    "\n",
    "which can be rewritten as\n",
    "\n",
    "$$RSS = (y_1 - (mx_1 + b) )^2 + (y_2 - (mx_2 + b) )^2 + ... (y_n - (mx_n + b))^2$$"
   ]
  },
  {
   "cell_type": "code",
   "execution_count": 6,
   "metadata": {},
   "outputs": [
    {
     "data": {
      "text/plain": [
       "[0, 1, 2]"
      ]
     },
     "execution_count": 6,
     "metadata": {},
     "output_type": "execute_result"
    }
   ],
   "source": [
    "month_numbers[0:3]"
   ]
  },
  {
   "cell_type": "markdown",
   "metadata": {},
   "source": [
    "Let's just fill in the first couple of values into this formula to see how it works.  \n",
    "\n",
    "$m = -1500$,\n",
    "$b = 65000$ "
   ]
  },
  {
   "cell_type": "markdown",
   "metadata": {},
   "source": [
    "So then plugging this into our formula we have, \n",
    "\n",
    "$$ RSS = (y_1 - (-1500*x_1 + 65000))^2 + (y_1 - (-1500*x_2 + 65000))^2 ... (y_n - (-1500*x_n + 65000))^2$$"
   ]
  },
  {
   "cell_type": "markdown",
   "metadata": {},
   "source": [
    "where our we plug in for $x_1$ and $y_1$ the coordinates of our first point $(0, 66609)$, and plug in our the coordinates of our second point $(1, 67048)$ for $x_2$ and $y_2$, and so on."
   ]
  },
  {
   "cell_type": "markdown",
   "metadata": {},
   "source": [
    "### Learning to decrease our cost"
   ]
  },
  {
   "cell_type": "markdown",
   "metadata": {},
   "source": [
    "So in the above section, we saw that we can express our RSS formula as a function of $m$ and $b$ parameters of our simple linear regression model, as well as of the $x$ and $y$ coordinates of our dataset.  What's nice about this, is that while the x and y coordinates for a dataset are fixed, we can generate different RSS by changing our m and b parameters, that is the slope and y intercept of our linear regression model.  \n",
    "\n",
    "Let's try this in code."
   ]
  },
  {
   "cell_type": "code",
   "execution_count": 7,
   "metadata": {},
   "outputs": [],
   "source": [
    "def error_from_parameters(m, b, x, y):\n",
    "    y_hat = m*x + b \n",
    "    return y - y_hat\n",
    "\n",
    "def rss(m, b, x_values, y_values):\n",
    "    squared_errors = []\n",
    "    pairs = list(zip(x_values, y_values))\n",
    "    for pair in pairs:\n",
    "        squared_error = error_from_parameters(m, b, pair[0], pair[1])**2\n",
    "        squared_errors.append(squared_error)\n",
    "    return sum(squared_errors)"
   ]
  },
  {
   "cell_type": "code",
   "execution_count": 8,
   "metadata": {},
   "outputs": [
    {
     "data": {
      "text/plain": [
       "1964179131"
      ]
     },
     "execution_count": 8,
     "metadata": {},
     "output_type": "execute_result"
    }
   ],
   "source": [
    "m = -1500\n",
    "b= 65000\n",
    "rss(m, b, month_numbers, revenues)"
   ]
  },
  {
   "cell_type": "markdown",
   "metadata": {},
   "source": [
    "Now that we have written these functions, we can try out parameters for our function and see how it changes."
   ]
  },
  {
   "cell_type": "code",
   "execution_count": 17,
   "metadata": {},
   "outputs": [],
   "source": [
    "from graph import trace_values\n",
    "actual_trace = trace_values(month_numbers, revenues)\n",
    "left_traces = [actual_trace]\n",
    "right_traces = []"
   ]
  },
  {
   "cell_type": "markdown",
   "metadata": {},
   "source": [
    "In the code below change the values of m or b.  Then press shift + enter.  You'll notice the respective RSS values change to the right.  If you want to reset your graph, simply press shift + enter on the cell above."
   ]
  },
  {
   "cell_type": "code",
   "execution_count": 16,
   "metadata": {},
   "outputs": [
    {
     "name": "stdout",
     "output_type": "stream",
     "text": [
      "This is the format of your plot grid:\n",
      "[ (1,1) x1,y1 ]  [ (1,2) x2,y2 ]\n",
      "\n"
     ]
    },
    {
     "data": {
      "application/vnd.plotly.v1+json": {
       "config": {
        "linkText": "Export to plot.ly",
        "plotlyServerURL": "https://plot.ly",
        "showLink": false
       },
       "data": [
        {
         "mode": "markers",
         "name": "data",
         "text": [],
         "type": "scatter",
         "uid": "c3309f61-ce51-41e3-ab98-0074f80b1705",
         "x": [
          0,
          1,
          2,
          3,
          4,
          5,
          6,
          7,
          8,
          9,
          10,
          11,
          12,
          13,
          14,
          15,
          16,
          17,
          18,
          19,
          20,
          21,
          22,
          23
         ],
         "xaxis": "x",
         "y": [
          66609,
          67048,
          69664,
          72238,
          84721,
          69224,
          58697,
          51430,
          48239,
          50574,
          51707,
          50305,
          45590,
          42180,
          41054,
          56182,
          49965,
          43094,
          44414,
          41393,
          34903,
          39535,
          39627,
          9400
         ],
         "yaxis": "y"
        },
        {
         "marker": {
          "color": "red"
         },
         "mode": "lines",
         "name": "data",
         "text": [],
         "type": "scatter",
         "uid": "9826f973-7271-40d0-bb7c-d331ccafe9db",
         "x": [
          0,
          1,
          2,
          3,
          4,
          5,
          6,
          7,
          8,
          9,
          10,
          11,
          12,
          13,
          14,
          15,
          16,
          17,
          18,
          19,
          20,
          21,
          22,
          23
         ],
         "xaxis": "x",
         "y": [
          65000,
          63400,
          61800,
          60200,
          58600,
          57000,
          55400,
          53800,
          52200,
          50600,
          49000,
          47400,
          45800,
          44200,
          42600,
          41000,
          39400,
          37800,
          36200,
          34600,
          33000,
          31400,
          29800,
          28200
         ],
         "yaxis": "y"
        },
        {
         "marker": {
          "color": "red"
         },
         "type": "bar",
         "uid": "700a4475-f06a-4325-ac97-a29fca856169",
         "x": [
          "RSS"
         ],
         "xaxis": "x2",
         "y": [
          2112407331
         ],
         "yaxis": "y2"
        }
       ],
       "layout": {
        "autosize": true,
        "xaxis": {
         "anchor": "y",
         "autorange": true,
         "domain": [
          0,
          0.45
         ],
         "range": [
          -1.585690876668755,
          24.585690876668757
         ],
         "type": "linear"
        },
        "xaxis2": {
         "anchor": "y2",
         "autorange": true,
         "domain": [
          0.55,
          1
         ],
         "range": [
          -0.5,
          0.5
         ],
         "type": "category"
        },
        "yaxis": {
         "anchor": "x",
         "autorange": true,
         "domain": [
          0,
          1
         ],
         "range": [
          3882.856687898089,
          90238.1433121019
         ],
         "type": "linear"
        },
        "yaxis2": {
         "anchor": "x2",
         "autorange": true,
         "domain": [
          0,
          1
         ],
         "range": [
          0,
          2223586664.2105265
         ],
         "type": "linear"
        }
       }
      },
      "image/png": "[encoded data removed]",
      "text/html": [
       "<div id=\"b022a29e-a1b9-4ab0-bd65-010d94f1d7f0\" style=\"height: 525px; width: 100%;\" class=\"plotly-graph-div\"></div><script type=\"text/javascript\">require([\"plotly\"], function(Plotly) { window.PLOTLYENV=window.PLOTLYENV || {};window.PLOTLYENV.BASE_URL=\"https://plot.ly\";Plotly.newPlot(\"b022a29e-a1b9-4ab0-bd65-010d94f1d7f0\", [{\"mode\": \"markers\", \"name\": \"data\", \"text\": [], \"x\": [0, 1, 2, 3, 4, 5, 6, 7, 8, 9, 10, 11, 12, 13, 14, 15, 16, 17, 18, 19, 20, 21, 22, 23], \"y\": [66609, 67048, 69664, 72238, 84721, 69224, 58697, 51430, 48239, 50574, 51707, 50305, 45590, 42180, 41054, 56182, 49965, 43094, 44414, 41393, 34903, 39535, 39627, 9400], \"type\": \"scatter\", \"uid\": \"c3309f61-ce51-41e3-ab98-0074f80b1705\", \"xaxis\": \"x\", \"yaxis\": \"y\"}, {\"marker\": {\"color\": \"red\"}, \"mode\": \"lines\", \"name\": \"data\", \"text\": [], \"x\": [0, 1, 2, 3, 4, 5, 6, 7, 8, 9, 10, 11, 12, 13, 14, 15, 16, 17, 18, 19, 20, 21, 22, 23], \"y\": [65000, 63400, 61800, 60200, 58600, 57000, 55400, 53800, 52200, 50600, 49000, 47400, 45800, 44200, 42600, 41000, 39400, 37800, 36200, 34600, 33000, 31400, 29800, 28200], \"type\": \"scatter\", \"uid\": \"9826f973-7271-40d0-bb7c-d331ccafe9db\", \"xaxis\": \"x\", \"yaxis\": \"y\"}, {\"marker\": {\"color\": \"red\"}, \"x\": [\"RSS\"], \"y\": [2112407331], \"type\": \"bar\", \"uid\": \"700a4475-f06a-4325-ac97-a29fca856169\", \"xaxis\": \"x2\", \"yaxis\": \"y2\"}], {\"xaxis\": {\"anchor\": \"y\", \"domain\": [0.0, 0.45]}, \"yaxis\": {\"anchor\": \"x\", \"domain\": [0.0, 1.0]}, \"xaxis2\": {\"anchor\": \"y2\", \"domain\": [0.55, 1.0]}, \"yaxis2\": {\"anchor\": \"x2\", \"domain\": [0.0, 1.0]}}, {\"showLink\": false, \"linkText\": \"Export to plot.ly\", \"plotlyServerURL\": \"https://plot.ly\"})});</script><script type=\"text/javascript\">window.addEventListener(\"resize\", function(){window._Plotly.Plots.resize(document.getElementById(\"b022a29e-a1b9-4ab0-bd65-010d94f1d7f0\"));});</script>"
      ],
      "text/vnd.plotly.v1+html": [
       "<div id=\"b022a29e-a1b9-4ab0-bd65-010d94f1d7f0\" style=\"height: 525px; width: 100%;\" class=\"plotly-graph-div\"></div><script type=\"text/javascript\">require([\"plotly\"], function(Plotly) { window.PLOTLYENV=window.PLOTLYENV || {};window.PLOTLYENV.BASE_URL=\"https://plot.ly\";Plotly.newPlot(\"b022a29e-a1b9-4ab0-bd65-010d94f1d7f0\", [{\"mode\": \"markers\", \"name\": \"data\", \"text\": [], \"x\": [0, 1, 2, 3, 4, 5, 6, 7, 8, 9, 10, 11, 12, 13, 14, 15, 16, 17, 18, 19, 20, 21, 22, 23], \"y\": [66609, 67048, 69664, 72238, 84721, 69224, 58697, 51430, 48239, 50574, 51707, 50305, 45590, 42180, 41054, 56182, 49965, 43094, 44414, 41393, 34903, 39535, 39627, 9400], \"type\": \"scatter\", \"uid\": \"c3309f61-ce51-41e3-ab98-0074f80b1705\", \"xaxis\": \"x\", \"yaxis\": \"y\"}, {\"marker\": {\"color\": \"red\"}, \"mode\": \"lines\", \"name\": \"data\", \"text\": [], \"x\": [0, 1, 2, 3, 4, 5, 6, 7, 8, 9, 10, 11, 12, 13, 14, 15, 16, 17, 18, 19, 20, 21, 22, 23], \"y\": [65000, 63400, 61800, 60200, 58600, 57000, 55400, 53800, 52200, 50600, 49000, 47400, 45800, 44200, 42600, 41000, 39400, 37800, 36200, 34600, 33000, 31400, 29800, 28200], \"type\": \"scatter\", \"uid\": \"9826f973-7271-40d0-bb7c-d331ccafe9db\", \"xaxis\": \"x\", \"yaxis\": \"y\"}, {\"marker\": {\"color\": \"red\"}, \"x\": [\"RSS\"], \"y\": [2112407331], \"type\": \"bar\", \"uid\": \"700a4475-f06a-4325-ac97-a29fca856169\", \"xaxis\": \"x2\", \"yaxis\": \"y2\"}], {\"xaxis\": {\"anchor\": \"y\", \"domain\": [0.0, 0.45]}, \"yaxis\": {\"anchor\": \"x\", \"domain\": [0.0, 1.0]}, \"xaxis2\": {\"anchor\": \"y2\", \"domain\": [0.55, 1.0]}, \"yaxis2\": {\"anchor\": \"x2\", \"domain\": [0.0, 1.0]}}, {\"showLink\": false, \"linkText\": \"Export to plot.ly\", \"plotlyServerURL\": \"https://plot.ly\"})});</script><script type=\"text/javascript\">window.addEventListener(\"resize\", function(){window._Plotly.Plots.resize(document.getElementById(\"b022a29e-a1b9-4ab0-bd65-010d94f1d7f0\"));});</script>"
      ]
     },
     "metadata": {},
     "output_type": "display_data"
    }
   ],
   "source": [
    "from graph import model_trace, trace_rss, pair_colors, plot_side_by_side\n",
    "\n",
    "m = -1600\n",
    "b= 65000\n",
    "\n",
    "left_traces = left_traces +  [model_trace(m, b, month_numbers, revenues)]\n",
    "right_traces = right_traces + [trace_rss(m, b, month_numbers, revenues)]\n",
    "pair_colors(left_traces[1:], right_traces)\n",
    "\n",
    "plot_side_by_side(left_traces, right_traces)"
   ]
  },
  {
   "cell_type": "markdown",
   "metadata": {},
   "source": [
    "### Choosing our parameters with purpose"
   ]
  },
  {
   "cell_type": "markdown",
   "metadata": {},
   "source": [
    "Ok, now that we have adjusted our parameters of m and b, and have seen how the graph changes, let's see if we can find a pattern to how our RSS changes.  If we can see a pattern in how our RSS changes, then we can figure out how to change our m and b parameters such that it minimizes our cost function.\n",
    "\n",
    "Ok, so to start, let's plot incremental increases in our value of m."
   ]
  },
  {
   "cell_type": "code",
   "execution_count": 27,
   "metadata": {},
   "outputs": [
    {
     "data": {
      "text/plain": [
       "[-1700, -1550, -1400, -1250, -1100]"
      ]
     },
     "execution_count": 27,
     "metadata": {},
     "output_type": "execute_result"
    }
   ],
   "source": [
    "b= 65000\n",
    "m_values = list(range(-1700, -1000, 150))\n",
    "m_values"
   ]
  },
  {
   "cell_type": "markdown",
   "metadata": {},
   "source": [
    "Ok so we'll try plot our graphs and RSS values for each of these different m values.  Note that we'll keep b the same throughout."
   ]
  },
  {
   "cell_type": "code",
   "execution_count": 46,
   "metadata": {},
   "outputs": [
    {
     "name": "stdout",
     "output_type": "stream",
     "text": [
      "This is the format of your plot grid:\n",
      "[ (1,1) x1,y1 ]  [ (1,2) x2,y2 ]\n",
      "\n"
     ]
    },
    {
     "data": {
      "application/vnd.plotly.v1+json": {
       "config": {
        "linkText": "Export to plot.ly",
        "plotlyServerURL": "https://plot.ly",
        "showLink": false
       },
       "data": [
        {
         "mode": "markers",
         "name": "data",
         "text": [],
         "type": "scatter",
         "uid": "6d9c2d35-bea8-4920-a89d-468c94b6b770",
         "x": [
          0,
          1,
          2,
          3,
          4,
          5,
          6,
          7,
          8,
          9,
          10,
          11,
          12,
          13,
          14,
          15,
          16,
          17,
          18,
          19,
          20,
          21,
          22,
          23
         ],
         "xaxis": "x",
         "y": [
          66609,
          67048,
          69664,
          72238,
          84721,
          69224,
          58697,
          51430,
          48239,
          50574,
          51707,
          50305,
          45590,
          42180,
          41054,
          56182,
          49965,
          43094,
          44414,
          41393,
          34903,
          39535,
          39627,
          9400
         ],
         "yaxis": "y"
        },
        {
         "marker": {
          "color": "red"
         },
         "mode": "lines",
         "name": "data",
         "text": [],
         "type": "scatter",
         "uid": "31809f34-d260-4677-a2cc-ac824789f53d",
         "x": [
          0,
          1,
          2,
          3,
          4,
          5,
          6,
          7,
          8,
          9,
          10,
          11,
          12,
          13,
          14,
          15,
          16,
          17,
          18,
          19,
          20,
          21,
          22,
          23
         ],
         "xaxis": "x",
         "y": [
          65000,
          63300,
          61600,
          59900,
          58200,
          56500,
          54800,
          53100,
          51400,
          49700,
          48000,
          46300,
          44600,
          42900,
          41200,
          39500,
          37800,
          36100,
          34400,
          32700,
          31000,
          29300,
          27600,
          25900
         ],
         "yaxis": "y"
        },
        {
         "marker": {
          "color": "yellow"
         },
         "mode": "lines",
         "name": "data",
         "text": [],
         "type": "scatter",
         "uid": "dd3d0cb6-2590-44f8-852a-febb9b33493c",
         "x": [
          0,
          1,
          2,
          3,
          4,
          5,
          6,
          7,
          8,
          9,
          10,
          11,
          12,
          13,
          14,
          15,
          16,
          17,
          18,
          19,
          20,
          21,
          22,
          23
         ],
         "xaxis": "x",
         "y": [
          65000,
          63450,
          61900,
          60350,
          58800,
          57250,
          55700,
          54150,
          52600,
          51050,
          49500,
          47950,
          46400,
          44850,
          43300,
          41750,
          40200,
          38650,
          37100,
          35550,
          34000,
          32450,
          30900,
          29350
         ],
         "yaxis": "y"
        },
        {
         "marker": {
          "color": "blue"
         },
         "mode": "lines",
         "name": "data",
         "text": [],
         "type": "scatter",
         "uid": "90656800-4669-4cb7-b7d4-3cbd64dbd847",
         "x": [
          0,
          1,
          2,
          3,
          4,
          5,
          6,
          7,
          8,
          9,
          10,
          11,
          12,
          13,
          14,
          15,
          16,
          17,
          18,
          19,
          20,
          21,
          22,
          23
         ],
         "xaxis": "x",
         "y": [
          65000,
          63600,
          62200,
          60800,
          59400,
          58000,
          56600,
          55200,
          53800,
          52400,
          51000,
          49600,
          48200,
          46800,
          45400,
          44000,
          42600,
          41200,
          39800,
          38400,
          37000,
          35600,
          34200,
          32800
         ],
         "yaxis": "y"
        },
        {
         "marker": {
          "color": "orange"
         },
         "mode": "lines",
         "name": "data",
         "text": [],
         "type": "scatter",
         "uid": "2c56084b-702d-44a9-ad02-6b3d1d1aa7b4",
         "x": [
          0,
          1,
          2,
          3,
          4,
          5,
          6,
          7,
          8,
          9,
          10,
          11,
          12,
          13,
          14,
          15,
          16,
          17,
          18,
          19,
          20,
          21,
          22,
          23
         ],
         "xaxis": "x",
         "y": [
          65000,
          63750,
          62500,
          61250,
          60000,
          58750,
          57500,
          56250,
          55000,
          53750,
          52500,
          51250,
          50000,
          48750,
          47500,
          46250,
          45000,
          43750,
          42500,
          41250,
          40000,
          38750,
          37500,
          36250
         ],
         "yaxis": "y"
        },
        {
         "marker": {
          "color": "green"
         },
         "mode": "lines",
         "name": "data",
         "text": [],
         "type": "scatter",
         "uid": "cea269e0-2763-4872-bb35-a54d204a5386",
         "x": [
          0,
          1,
          2,
          3,
          4,
          5,
          6,
          7,
          8,
          9,
          10,
          11,
          12,
          13,
          14,
          15,
          16,
          17,
          18,
          19,
          20,
          21,
          22,
          23
         ],
         "xaxis": "x",
         "y": [
          65000,
          63900,
          62800,
          61700,
          60600,
          59500,
          58400,
          57300,
          56200,
          55100,
          54000,
          52900,
          51800,
          50700,
          49600,
          48500,
          47400,
          46300,
          45200,
          44100,
          43000,
          41900,
          40800,
          39700
         ],
         "yaxis": "y"
        },
        {
         "marker": {
          "color": "red"
         },
         "type": "bar",
         "uid": "1cd9d51d-d35d-4887-88fc-2187495b0aab",
         "x": [
          "RSS"
         ],
         "xaxis": "x2",
         "y": [
          2347115531
         ],
         "yaxis": "y2"
        },
        {
         "marker": {
          "color": "yellow"
         },
         "type": "bar",
         "uid": "ee32c7c1-5899-40e2-93a0-7e5fe9b2721b",
         "x": [
          "RSS"
         ],
         "xaxis": "x2",
         "y": [
          2027483231
         ],
         "yaxis": "y2"
        },
        {
         "marker": {
          "color": "blue"
         },
         "type": "bar",
         "uid": "43e4c596-1e37-410c-9c84-79cdc501eaac",
         "x": [
          "RSS"
         ],
         "xaxis": "x2",
         "y": [
          1902430931
         ],
         "yaxis": "y2"
        },
        {
         "marker": {
          "color": "orange"
         },
         "type": "bar",
         "uid": "31e429d9-590f-4528-b63a-0fdf91f108ae",
         "x": [
          "RSS"
         ],
         "xaxis": "x2",
         "y": [
          1971958631
         ],
         "yaxis": "y2"
        },
        {
         "marker": {
          "color": "green"
         },
         "type": "bar",
         "uid": "568516e0-a7a9-43f2-9084-ea26e28e5750",
         "x": [
          "RSS"
         ],
         "xaxis": "x2",
         "y": [
          2236066331
         ],
         "yaxis": "y2"
        }
       ],
       "layout": {
        "autosize": true,
        "xaxis": {
         "anchor": "y",
         "autorange": true,
         "domain": [
          0,
          0.45
         ],
         "range": [
          -1.5885214007782102,
          24.58852140077821
         ],
         "type": "linear"
        },
        "xaxis2": {
         "anchor": "y2",
         "autorange": true,
         "domain": [
          0.55,
          1
         ],
         "range": [
          -0.5,
          0.5
         ],
         "type": "category"
        },
        "yaxis": {
         "anchor": "x",
         "autorange": true,
         "domain": [
          0,
          1
         ],
         "range": [
          3882.856687898089,
          90238.1433121019
         ],
         "type": "linear"
        },
        "yaxis2": {
         "anchor": "x2",
         "autorange": true,
         "domain": [
          0,
          1
         ],
         "range": [
          0,
          2470647927.368421
         ],
         "type": "linear"
        }
       }
      },
      "image/png": "[encoded data removed]",
      "text/html": [
       "<div id=\"4b55d25e-2e46-424d-bac8-bd0fad5cc2dc\" style=\"height: 525px; width: 100%;\" class=\"plotly-graph-div\"></div><script type=\"text/javascript\">require([\"plotly\"], function(Plotly) { window.PLOTLYENV=window.PLOTLYENV || {};window.PLOTLYENV.BASE_URL=\"https://plot.ly\";Plotly.newPlot(\"4b55d25e-2e46-424d-bac8-bd0fad5cc2dc\", [{\"mode\": \"markers\", \"name\": \"data\", \"text\": [], \"x\": [0, 1, 2, 3, 4, 5, 6, 7, 8, 9, 10, 11, 12, 13, 14, 15, 16, 17, 18, 19, 20, 21, 22, 23], \"y\": [66609, 67048, 69664, 72238, 84721, 69224, 58697, 51430, 48239, 50574, 51707, 50305, 45590, 42180, 41054, 56182, 49965, 43094, 44414, 41393, 34903, 39535, 39627, 9400], \"type\": \"scatter\", \"uid\": \"6d9c2d35-bea8-4920-a89d-468c94b6b770\", \"xaxis\": \"x\", \"yaxis\": \"y\"}, {\"marker\": {\"color\": \"red\"}, \"mode\": \"lines\", \"name\": \"data\", \"text\": [], \"x\": [0, 1, 2, 3, 4, 5, 6, 7, 8, 9, 10, 11, 12, 13, 14, 15, 16, 17, 18, 19, 20, 21, 22, 23], \"y\": [65000, 63300, 61600, 59900, 58200, 56500, 54800, 53100, 51400, 49700, 48000, 46300, 44600, 42900, 41200, 39500, 37800, 36100, 34400, 32700, 31000, 29300, 27600, 25900], \"type\": \"scatter\", \"uid\": \"31809f34-d260-4677-a2cc-ac824789f53d\", \"xaxis\": \"x\", \"yaxis\": \"y\"}, {\"marker\": {\"color\": \"yellow\"}, \"mode\": \"lines\", \"name\": \"data\", \"text\": [], \"x\": [0, 1, 2, 3, 4, 5, 6, 7, 8, 9, 10, 11, 12, 13, 14, 15, 16, 17, 18, 19, 20, 21, 22, 23], \"y\": [65000, 63450, 61900, 60350, 58800, 57250, 55700, 54150, 52600, 51050, 49500, 47950, 46400, 44850, 43300, 41750, 40200, 38650, 37100, 35550, 34000, 32450, 30900, 29350], \"type\": \"scatter\", \"uid\": \"dd3d0cb6-2590-44f8-852a-febb9b33493c\", \"xaxis\": \"x\", \"yaxis\": \"y\"}, {\"marker\": {\"color\": \"blue\"}, \"mode\": \"lines\", \"name\": \"data\", \"text\": [], \"x\": [0, 1, 2, 3, 4, 5, 6, 7, 8, 9, 10, 11, 12, 13, 14, 15, 16, 17, 18, 19, 20, 21, 22, 23], \"y\": [65000, 63600, 62200, 60800, 59400, 58000, 56600, 55200, 53800, 52400, 51000, 49600, 48200, 46800, 45400, 44000, 42600, 41200, 39800, 38400, 37000, 35600, 34200, 32800], \"type\": \"scatter\", \"uid\": \"90656800-4669-4cb7-b7d4-3cbd64dbd847\", \"xaxis\": \"x\", \"yaxis\": \"y\"}, {\"marker\": {\"color\": \"orange\"}, \"mode\": \"lines\", \"name\": \"data\", \"text\": [], \"x\": [0, 1, 2, 3, 4, 5, 6, 7, 8, 9, 10, 11, 12, 13, 14, 15, 16, 17, 18, 19, 20, 21, 22, 23], \"y\": [65000, 63750, 62500, 61250, 60000, 58750, 57500, 56250, 55000, 53750, 52500, 51250, 50000, 48750, 47500, 46250, 45000, 43750, 42500, 41250, 40000, 38750, 37500, 36250], \"type\": \"scatter\", \"uid\": \"2c56084b-702d-44a9-ad02-6b3d1d1aa7b4\", \"xaxis\": \"x\", \"yaxis\": \"y\"}, {\"marker\": {\"color\": \"green\"}, \"mode\": \"lines\", \"name\": \"data\", \"text\": [], \"x\": [0, 1, 2, 3, 4, 5, 6, 7, 8, 9, 10, 11, 12, 13, 14, 15, 16, 17, 18, 19, 20, 21, 22, 23], \"y\": [65000, 63900, 62800, 61700, 60600, 59500, 58400, 57300, 56200, 55100, 54000, 52900, 51800, 50700, 49600, 48500, 47400, 46300, 45200, 44100, 43000, 41900, 40800, 39700], \"type\": \"scatter\", \"uid\": \"cea269e0-2763-4872-bb35-a54d204a5386\", \"xaxis\": \"x\", \"yaxis\": \"y\"}, {\"marker\": {\"color\": \"red\"}, \"x\": [\"RSS\"], \"y\": [2347115531], \"type\": \"bar\", \"uid\": \"1cd9d51d-d35d-4887-88fc-2187495b0aab\", \"xaxis\": \"x2\", \"yaxis\": \"y2\"}, {\"marker\": {\"color\": \"yellow\"}, \"x\": [\"RSS\"], \"y\": [2027483231], \"type\": \"bar\", \"uid\": \"ee32c7c1-5899-40e2-93a0-7e5fe9b2721b\", \"xaxis\": \"x2\", \"yaxis\": \"y2\"}, {\"marker\": {\"color\": \"blue\"}, \"x\": [\"RSS\"], \"y\": [1902430931], \"type\": \"bar\", \"uid\": \"43e4c596-1e37-410c-9c84-79cdc501eaac\", \"xaxis\": \"x2\", \"yaxis\": \"y2\"}, {\"marker\": {\"color\": \"orange\"}, \"x\": [\"RSS\"], \"y\": [1971958631], \"type\": \"bar\", \"uid\": \"31e429d9-590f-4528-b63a-0fdf91f108ae\", \"xaxis\": \"x2\", \"yaxis\": \"y2\"}, {\"marker\": {\"color\": \"green\"}, \"x\": [\"RSS\"], \"y\": [2236066331], \"type\": \"bar\", \"uid\": \"568516e0-a7a9-43f2-9084-ea26e28e5750\", \"xaxis\": \"x2\", \"yaxis\": \"y2\"}], {\"xaxis\": {\"anchor\": \"y\", \"domain\": [0.0, 0.45]}, \"yaxis\": {\"anchor\": \"x\", \"domain\": [0.0, 1.0]}, \"xaxis2\": {\"anchor\": \"y2\", \"domain\": [0.55, 1.0]}, \"yaxis2\": {\"anchor\": \"x2\", \"domain\": [0.0, 1.0]}}, {\"showLink\": false, \"linkText\": \"Export to plot.ly\", \"plotlyServerURL\": \"https://plot.ly\"})});</script><script type=\"text/javascript\">window.addEventListener(\"resize\", function(){window._Plotly.Plots.resize(document.getElementById(\"4b55d25e-2e46-424d-bac8-bd0fad5cc2dc\"));});</script>"
      ],
      "text/vnd.plotly.v1+html": [
       "<div id=\"4b55d25e-2e46-424d-bac8-bd0fad5cc2dc\" style=\"height: 525px; width: 100%;\" class=\"plotly-graph-div\"></div><script type=\"text/javascript\">require([\"plotly\"], function(Plotly) { window.PLOTLYENV=window.PLOTLYENV || {};window.PLOTLYENV.BASE_URL=\"https://plot.ly\";Plotly.newPlot(\"4b55d25e-2e46-424d-bac8-bd0fad5cc2dc\", [{\"mode\": \"markers\", \"name\": \"data\", \"text\": [], \"x\": [0, 1, 2, 3, 4, 5, 6, 7, 8, 9, 10, 11, 12, 13, 14, 15, 16, 17, 18, 19, 20, 21, 22, 23], \"y\": [66609, 67048, 69664, 72238, 84721, 69224, 58697, 51430, 48239, 50574, 51707, 50305, 45590, 42180, 41054, 56182, 49965, 43094, 44414, 41393, 34903, 39535, 39627, 9400], \"type\": \"scatter\", \"uid\": \"6d9c2d35-bea8-4920-a89d-468c94b6b770\", \"xaxis\": \"x\", \"yaxis\": \"y\"}, {\"marker\": {\"color\": \"red\"}, \"mode\": \"lines\", \"name\": \"data\", \"text\": [], \"x\": [0, 1, 2, 3, 4, 5, 6, 7, 8, 9, 10, 11, 12, 13, 14, 15, 16, 17, 18, 19, 20, 21, 22, 23], \"y\": [65000, 63300, 61600, 59900, 58200, 56500, 54800, 53100, 51400, 49700, 48000, 46300, 44600, 42900, 41200, 39500, 37800, 36100, 34400, 32700, 31000, 29300, 27600, 25900], \"type\": \"scatter\", \"uid\": \"31809f34-d260-4677-a2cc-ac824789f53d\", \"xaxis\": \"x\", \"yaxis\": \"y\"}, {\"marker\": {\"color\": \"yellow\"}, \"mode\": \"lines\", \"name\": \"data\", \"text\": [], \"x\": [0, 1, 2, 3, 4, 5, 6, 7, 8, 9, 10, 11, 12, 13, 14, 15, 16, 17, 18, 19, 20, 21, 22, 23], \"y\": [65000, 63450, 61900, 60350, 58800, 57250, 55700, 54150, 52600, 51050, 49500, 47950, 46400, 44850, 43300, 41750, 40200, 38650, 37100, 35550, 34000, 32450, 30900, 29350], \"type\": \"scatter\", \"uid\": \"dd3d0cb6-2590-44f8-852a-febb9b33493c\", \"xaxis\": \"x\", \"yaxis\": \"y\"}, {\"marker\": {\"color\": \"blue\"}, \"mode\": \"lines\", \"name\": \"data\", \"text\": [], \"x\": [0, 1, 2, 3, 4, 5, 6, 7, 8, 9, 10, 11, 12, 13, 14, 15, 16, 17, 18, 19, 20, 21, 22, 23], \"y\": [65000, 63600, 62200, 60800, 59400, 58000, 56600, 55200, 53800, 52400, 51000, 49600, 48200, 46800, 45400, 44000, 42600, 41200, 39800, 38400, 37000, 35600, 34200, 32800], \"type\": \"scatter\", \"uid\": \"90656800-4669-4cb7-b7d4-3cbd64dbd847\", \"xaxis\": \"x\", \"yaxis\": \"y\"}, {\"marker\": {\"color\": \"orange\"}, \"mode\": \"lines\", \"name\": \"data\", \"text\": [], \"x\": [0, 1, 2, 3, 4, 5, 6, 7, 8, 9, 10, 11, 12, 13, 14, 15, 16, 17, 18, 19, 20, 21, 22, 23], \"y\": [65000, 63750, 62500, 61250, 60000, 58750, 57500, 56250, 55000, 53750, 52500, 51250, 50000, 48750, 47500, 46250, 45000, 43750, 42500, 41250, 40000, 38750, 37500, 36250], \"type\": \"scatter\", \"uid\": \"2c56084b-702d-44a9-ad02-6b3d1d1aa7b4\", \"xaxis\": \"x\", \"yaxis\": \"y\"}, {\"marker\": {\"color\": \"green\"}, \"mode\": \"lines\", \"name\": \"data\", \"text\": [], \"x\": [0, 1, 2, 3, 4, 5, 6, 7, 8, 9, 10, 11, 12, 13, 14, 15, 16, 17, 18, 19, 20, 21, 22, 23], \"y\": [65000, 63900, 62800, 61700, 60600, 59500, 58400, 57300, 56200, 55100, 54000, 52900, 51800, 50700, 49600, 48500, 47400, 46300, 45200, 44100, 43000, 41900, 40800, 39700], \"type\": \"scatter\", \"uid\": \"cea269e0-2763-4872-bb35-a54d204a5386\", \"xaxis\": \"x\", \"yaxis\": \"y\"}, {\"marker\": {\"color\": \"red\"}, \"x\": [\"RSS\"], \"y\": [2347115531], \"type\": \"bar\", \"uid\": \"1cd9d51d-d35d-4887-88fc-2187495b0aab\", \"xaxis\": \"x2\", \"yaxis\": \"y2\"}, {\"marker\": {\"color\": \"yellow\"}, \"x\": [\"RSS\"], \"y\": [2027483231], \"type\": \"bar\", \"uid\": \"ee32c7c1-5899-40e2-93a0-7e5fe9b2721b\", \"xaxis\": \"x2\", \"yaxis\": \"y2\"}, {\"marker\": {\"color\": \"blue\"}, \"x\": [\"RSS\"], \"y\": [1902430931], \"type\": \"bar\", \"uid\": \"43e4c596-1e37-410c-9c84-79cdc501eaac\", \"xaxis\": \"x2\", \"yaxis\": \"y2\"}, {\"marker\": {\"color\": \"orange\"}, \"x\": [\"RSS\"], \"y\": [1971958631], \"type\": \"bar\", \"uid\": \"31e429d9-590f-4528-b63a-0fdf91f108ae\", \"xaxis\": \"x2\", \"yaxis\": \"y2\"}, {\"marker\": {\"color\": \"green\"}, \"x\": [\"RSS\"], \"y\": [2236066331], \"type\": \"bar\", \"uid\": \"568516e0-a7a9-43f2-9084-ea26e28e5750\", \"xaxis\": \"x2\", \"yaxis\": \"y2\"}], {\"xaxis\": {\"anchor\": \"y\", \"domain\": [0.0, 0.45]}, \"yaxis\": {\"anchor\": \"x\", \"domain\": [0.0, 1.0]}, \"xaxis2\": {\"anchor\": \"y2\", \"domain\": [0.55, 1.0]}, \"yaxis2\": {\"anchor\": \"x2\", \"domain\": [0.0, 1.0]}}, {\"showLink\": false, \"linkText\": \"Export to plot.ly\", \"plotlyServerURL\": \"https://plot.ly\"})});</script><script type=\"text/javascript\">window.addEventListener(\"resize\", function(){window._Plotly.Plots.resize(document.getElementById(\"4b55d25e-2e46-424d-bac8-bd0fad5cc2dc\"));});</script>"
      ]
     },
     "metadata": {},
     "output_type": "display_data"
    }
   ],
   "source": [
    "\n",
    "\n",
    "rss_traces = []\n",
    "model_traces = []\n",
    "for m in m_values:\n",
    "    rss_trace = trace_rss(m, b, month_numbers, revenues)\n",
    "    rss_traces.append(rss_trace)\n",
    "    built_model_trace = model_trace(m, b, month_numbers, revenues)\n",
    "    model_traces.append(built_model_trace)\n",
    "    \n",
    "pair_colors(model_traces, rss_traces)\n",
    "plot_side_by_side([actual_trace] + model_traces, rss_traces)"
   ]
  },
  {
   "cell_type": "markdown",
   "metadata": {},
   "source": [
    "The graph above is an important one.  What we can see is that as we increase our values of m from -1700 to -1100, starting with the red line, at first our RSS is relatively high.  Then it as we have our value of m approach zero, our RSS also gets smaller, up until the we draw our third line, with a value of m = -1400.  So we can see that our a chart of our RSS values forms a smiley face (called a parabola).\n",
    "\n",
    "This will always be the case with whenever we incrementally change one of our parameters in linear regression - our RSS cost function will form a parabola.  "
   ]
  },
  {
   "cell_type": "markdown",
   "metadata": {},
   "source": [
    "### Why this matters"
   ]
  },
  {
   "cell_type": "markdown",
   "metadata": {},
   "source": [
    "This matters because computers are fairly good at finding the low point in a curve.  And that low point in our RSS curve depends on our value of m.  "
   ]
  },
  {
   "cell_type": "code",
   "execution_count": 35,
   "metadata": {},
   "outputs": [
    {
     "data": {
      "application/vnd.plotly.v1+json": {
       "config": {
        "linkText": "Export to plot.ly",
        "plotlyServerURL": "https://plot.ly",
        "showLink": false
       },
       "data": [
        {
         "mode": "lines",
         "name": "data",
         "text": [],
         "type": "scatter",
         "uid": "e1445cc5-40d2-4cbf-8d26-c213daabbe9f",
         "x": [
          -1700,
          -1550,
          -1400,
          -1250,
          -1100
         ],
         "y": [
          2347115531,
          2027483231,
          1902430931,
          1971958631,
          2236066331
         ]
        }
       ],
       "layout": {
        "autosize": true,
        "xaxis": {
         "autorange": true,
         "range": [
          -1700,
          -1100
         ],
         "type": "linear"
        },
        "yaxis": {
         "autorange": true,
         "range": [
          1877726231,
          2371820231
         ],
         "type": "linear"
        }
       }
      },
      "image/png": "[encoded data removed]",
      "text/html": [
       "<div id=\"f1ee71a4-c7ec-4086-bcbf-d0a8bea7284e\" style=\"height: 525px; width: 100%;\" class=\"plotly-graph-div\"></div><script type=\"text/javascript\">require([\"plotly\"], function(Plotly) { window.PLOTLYENV=window.PLOTLYENV || {};window.PLOTLYENV.BASE_URL=\"https://plot.ly\";Plotly.newPlot(\"f1ee71a4-c7ec-4086-bcbf-d0a8bea7284e\", [{\"mode\": \"lines\", \"name\": \"data\", \"text\": [], \"x\": [-1700, -1550, -1400, -1250, -1100], \"y\": [2347115531, 2027483231, 1902430931, 1971958631, 2236066331], \"type\": \"scatter\", \"uid\": \"4bf84abf-3f01-47f5-a421-7a14d957960f\"}], {}, {\"showLink\": false, \"linkText\": \"Export to plot.ly\", \"plotlyServerURL\": \"https://plot.ly\"})});</script><script type=\"text/javascript\">window.addEventListener(\"resize\", function(){window._Plotly.Plots.resize(document.getElementById(\"f1ee71a4-c7ec-4086-bcbf-d0a8bea7284e\"));});</script>"
      ],
      "text/vnd.plotly.v1+html": [
       "<div id=\"f1ee71a4-c7ec-4086-bcbf-d0a8bea7284e\" style=\"height: 525px; width: 100%;\" class=\"plotly-graph-div\"></div><script type=\"text/javascript\">require([\"plotly\"], function(Plotly) { window.PLOTLYENV=window.PLOTLYENV || {};window.PLOTLYENV.BASE_URL=\"https://plot.ly\";Plotly.newPlot(\"f1ee71a4-c7ec-4086-bcbf-d0a8bea7284e\", [{\"mode\": \"lines\", \"name\": \"data\", \"text\": [], \"x\": [-1700, -1550, -1400, -1250, -1100], \"y\": [2347115531, 2027483231, 1902430931, 1971958631, 2236066331], \"type\": \"scatter\", \"uid\": \"4bf84abf-3f01-47f5-a421-7a14d957960f\"}], {}, {\"showLink\": false, \"linkText\": \"Export to plot.ly\", \"plotlyServerURL\": \"https://plot.ly\"})});</script><script type=\"text/javascript\">window.addEventListener(\"resize\", function(){window._Plotly.Plots.resize(document.getElementById(\"f1ee71a4-c7ec-4086-bcbf-d0a8bea7284e\"));});</script>"
      ]
     },
     "metadata": {},
     "output_type": "display_data"
    }
   ],
   "source": [
    "b= 65000\n",
    "m_values = list(range(-1700, -1000, 150))\n",
    "\n",
    "rss_values = list(map(lambda m: rss(m, b, month_numbers, revenues), m_values))\n",
    "\n",
    "iplot([trace_values(m_values, rss_values, mode = 'lines')])"
   ]
  },
  {
   "cell_type": "markdown",
   "metadata": {},
   "source": [
    "So if we find our value of m that minimizes our RSS, then we have a model that minimizes our error, and is thus more predictive.  And we don't have to do this by trying all of the different values of m.  Just from the picture above we can see that our numbers are only going to go up as we move m higher than -1100, and lower than -1700.\n",
    "\n",
    "Computers are even better at finding this minimum value."
   ]
  },
  {
   "cell_type": "code",
   "execution_count": 39,
   "metadata": {},
   "outputs": [
    {
     "data": {
      "text/plain": [
       "      fun: 1900450395.2278943\n",
       " hess_inv: array([[3.59616137e-05]])\n",
       "      jac: array([0.])\n",
       "  message: 'Optimization terminated successfully.'\n",
       "     nfev: 45\n",
       "      nit: 5\n",
       "     njev: 15\n",
       "   status: 0\n",
       "  success: True\n",
       "        x: array([-1378.59792938])"
      ]
     },
     "execution_count": 39,
     "metadata": {},
     "output_type": "execute_result"
    }
   ],
   "source": [
    "from scipy import optimize\n",
    "\n",
    "def rss_value_vary_m(m):\n",
    "    b= 65000\n",
    "    return rss(m, b, month_numbers, revenues)\n",
    "\n",
    "optimize.minimize(rss_value_vary_m, x0=-1700)"
   ]
  },
  {
   "cell_type": "code",
   "execution_count": 40,
   "metadata": {},
   "outputs": [
    {
     "data": {
      "text/plain": [
       "      fun: 1803967335.404646\n",
       " hess_inv: array([[0.06169075]])\n",
       "      jac: array([16.])\n",
       "  message: 'Desired error not necessarily achieved due to precision loss.'\n",
       "     nfev: 276\n",
       "      nit: 4\n",
       "     njev: 88\n",
       "   status: 2\n",
       "  success: False\n",
       "        x: array([67004.72240235])"
      ]
     },
     "execution_count": 40,
     "metadata": {},
     "output_type": "execute_result"
    }
   ],
   "source": [
    "def rss_value_vary_b(b):\n",
    "    m = -1378\n",
    "    return rss(m, b, month_numbers, revenues)\n",
    "\n",
    "optimize.minimize(rss_value_vary_b, x0=-1700)"
   ]
  },
  {
   "cell_type": "code",
   "execution_count": 47,
   "metadata": {},
   "outputs": [
    {
     "data": {
      "application/vnd.plotly.v1+json": {
       "config": {
        "linkText": "Export to plot.ly",
        "plotlyServerURL": "https://plot.ly",
        "showLink": false
       },
       "data": [
        {
         "mode": "lines",
         "name": "data",
         "text": [],
         "type": "scatter",
         "uid": "aa8e0c88-b101-491d-b69a-aec7f0113df7",
         "x": [
          0,
          1,
          2,
          3,
          4,
          5,
          6,
          7,
          8,
          9,
          10,
          11,
          12,
          13,
          14,
          15,
          16,
          17,
          18,
          19,
          20,
          21,
          22,
          23
         ],
         "y": [
          67004.7,
          65626.7,
          64248.7,
          62870.7,
          61492.7,
          60114.7,
          58736.7,
          57358.7,
          55980.7,
          54602.7,
          53224.7,
          51846.7,
          50468.7,
          49090.7,
          47712.7,
          46334.7,
          44956.7,
          43578.7,
          42200.7,
          40822.7,
          39444.7,
          38066.7,
          36688.7,
          35310.7
         ]
        },
        {
         "mode": "markers",
         "name": "data",
         "text": [],
         "type": "scatter",
         "uid": "c6767211-d744-4f42-a3ac-16954da82d04",
         "x": [
          0,
          1,
          2,
          3,
          4,
          5,
          6,
          7,
          8,
          9,
          10,
          11,
          12,
          13,
          14,
          15,
          16,
          17,
          18,
          19,
          20,
          21,
          22,
          23
         ],
         "y": [
          66609,
          67048,
          69664,
          72238,
          84721,
          69224,
          58697,
          51430,
          48239,
          50574,
          51707,
          50305,
          45590,
          42180,
          41054,
          56182,
          49965,
          43094,
          44414,
          41393,
          34903,
          39535,
          39627,
          9400
         ]
        }
       ],
       "layout": {
        "autosize": true,
        "xaxis": {
         "autorange": true,
         "range": [
          -1.4121110176619007,
          24.4121110176619
         ],
         "type": "linear"
        },
        "yaxis": {
         "autorange": true,
         "range": [
          3882.856687898089,
          90238.1433121019
         ],
         "type": "linear"
        }
       }
      },
      "image/png": "[encoded data removed]",
      "text/html": [
       "<div id=\"5d0ec44f-b926-4219-a961-496dabb39b2d\" style=\"height: 525px; width: 100%;\" class=\"plotly-graph-div\"></div><script type=\"text/javascript\">require([\"plotly\"], function(Plotly) { window.PLOTLYENV=window.PLOTLYENV || {};window.PLOTLYENV.BASE_URL=\"https://plot.ly\";Plotly.newPlot(\"5d0ec44f-b926-4219-a961-496dabb39b2d\", [{\"mode\": \"lines\", \"name\": \"data\", \"text\": [], \"x\": [0, 1, 2, 3, 4, 5, 6, 7, 8, 9, 10, 11, 12, 13, 14, 15, 16, 17, 18, 19, 20, 21, 22, 23], \"y\": [67004.7, 65626.7, 64248.7, 62870.7, 61492.7, 60114.7, 58736.7, 57358.7, 55980.7, 54602.7, 53224.7, 51846.7, 50468.7, 49090.7, 47712.7, 46334.7, 44956.7, 43578.7, 42200.7, 40822.7, 39444.7, 38066.7, 36688.7, 35310.7], \"type\": \"scatter\", \"uid\": \"5ceef2b1-67e0-4e18-b8d5-5c573396988b\"}, {\"mode\": \"markers\", \"name\": \"data\", \"text\": [], \"x\": [0, 1, 2, 3, 4, 5, 6, 7, 8, 9, 10, 11, 12, 13, 14, 15, 16, 17, 18, 19, 20, 21, 22, 23], \"y\": [66609, 67048, 69664, 72238, 84721, 69224, 58697, 51430, 48239, 50574, 51707, 50305, 45590, 42180, 41054, 56182, 49965, 43094, 44414, 41393, 34903, 39535, 39627, 9400], \"type\": \"scatter\", \"uid\": \"e2d8e1de-99f5-41c4-a2c6-ecf689bf99ae\"}], {}, {\"showLink\": false, \"linkText\": \"Export to plot.ly\", \"plotlyServerURL\": \"https://plot.ly\"})});</script><script type=\"text/javascript\">window.addEventListener(\"resize\", function(){window._Plotly.Plots.resize(document.getElementById(\"5d0ec44f-b926-4219-a961-496dabb39b2d\"));});</script>"
      ],
      "text/vnd.plotly.v1+html": [
       "<div id=\"5d0ec44f-b926-4219-a961-496dabb39b2d\" style=\"height: 525px; width: 100%;\" class=\"plotly-graph-div\"></div><script type=\"text/javascript\">require([\"plotly\"], function(Plotly) { window.PLOTLYENV=window.PLOTLYENV || {};window.PLOTLYENV.BASE_URL=\"https://plot.ly\";Plotly.newPlot(\"5d0ec44f-b926-4219-a961-496dabb39b2d\", [{\"mode\": \"lines\", \"name\": \"data\", \"text\": [], \"x\": [0, 1, 2, 3, 4, 5, 6, 7, 8, 9, 10, 11, 12, 13, 14, 15, 16, 17, 18, 19, 20, 21, 22, 23], \"y\": [67004.7, 65626.7, 64248.7, 62870.7, 61492.7, 60114.7, 58736.7, 57358.7, 55980.7, 54602.7, 53224.7, 51846.7, 50468.7, 49090.7, 47712.7, 46334.7, 44956.7, 43578.7, 42200.7, 40822.7, 39444.7, 38066.7, 36688.7, 35310.7], \"type\": \"scatter\", \"uid\": \"5ceef2b1-67e0-4e18-b8d5-5c573396988b\"}, {\"mode\": \"markers\", \"name\": \"data\", \"text\": [], \"x\": [0, 1, 2, 3, 4, 5, 6, 7, 8, 9, 10, 11, 12, 13, 14, 15, 16, 17, 18, 19, 20, 21, 22, 23], \"y\": [66609, 67048, 69664, 72238, 84721, 69224, 58697, 51430, 48239, 50574, 51707, 50305, 45590, 42180, 41054, 56182, 49965, 43094, 44414, 41393, 34903, 39535, 39627, 9400], \"type\": \"scatter\", \"uid\": \"e2d8e1de-99f5-41c4-a2c6-ecf689bf99ae\"}], {}, {\"showLink\": false, \"linkText\": \"Export to plot.ly\", \"plotlyServerURL\": \"https://plot.ly\"})});</script><script type=\"text/javascript\">window.addEventListener(\"resize\", function(){window._Plotly.Plots.resize(document.getElementById(\"5d0ec44f-b926-4219-a961-496dabb39b2d\"));});</script>"
      ]
     },
     "metadata": {},
     "output_type": "display_data"
    }
   ],
   "source": [
    "iplot([model_trace(-1378, 67004.7, month_numbers, revenues), actual_trace])"
   ]
  },
  {
   "cell_type": "markdown",
   "metadata": {},
   "source": [
    "Looking at the m and b values produced by calling the `optimize` function above, we see that plotted a line that fits our data fairly well.\n",
    "\n",
    "And comparing it's RSS against those of the previous RSS values we plotted."
   ]
  },
  {
   "cell_type": "code",
   "execution_count": 49,
   "metadata": {},
   "outputs": [
    {
     "data": {
      "text/plain": [
       "[2347115531, 2027483231, 1902430931, 1971958631, 2236066331]"
      ]
     },
     "execution_count": 49,
     "metadata": {},
     "output_type": "execute_result"
    }
   ],
   "source": [
    "b= 65000\n",
    "m_values = list(range(-1700, -1000, 150))\n",
    "\n",
    "list(map(lambda m_value: rss(m_value, 65000, month_numbers, revenues), m_values))"
   ]
  },
  {
   "cell_type": "markdown",
   "metadata": {},
   "source": [
    "Our new RSS value is lower that each of them."
   ]
  },
  {
   "cell_type": "code",
   "execution_count": 51,
   "metadata": {},
   "outputs": [
    {
     "data": {
      "text/plain": [
       "1803967335.7599998"
      ]
     },
     "execution_count": 51,
     "metadata": {},
     "output_type": "execute_result"
    }
   ],
   "source": [
    "m = -1378\n",
    "b = 67004.7\n",
    "rss(m, b, month_numbers, revenues)"
   ]
  },
  {
   "cell_type": "markdown",
   "metadata": {},
   "source": [
    "### Summary"
   ]
  },
  {
   "cell_type": "markdown",
   "metadata": {},
   "source": [
    "In this lesson we saw how to use our RSS calculation to improve our line."
   ]
  },
  {
   "cell_type": "markdown",
   "metadata": {},
   "source": [
    "We can see something else as well.  Notice that the further away from the low point we are, the higher the slope of the parabola, and as we approach the minimum, that the slope flattens out.  We can use this fact to reach our minimum by trying out even fewer points.  We can simply pick a value of m like say -1600, determine the slope of the parabola at this point, and move far if the slope is steep and small if the slope is flat.  \n",
    "\n",
    "Here, let's express this as a function, and then we'll plug in some numbers.\n",
    "\n",
    "$ m_{new} = m_{old} - slopem_{old} * 10$ "
   ]
  }
 ],
 "metadata": {
  "kernelspec": {
   "display_name": "Python 3",
   "language": "python",
   "name": "python3"
  },
  "language_info": {
   "codemirror_mode": {
    "name": "ipython",
    "version": 3
   },
   "file_extension": ".py",
   "mimetype": "text/x-python",
   "name": "python",
   "nbconvert_exporter": "python",
   "pygments_lexer": "ipython3",
   "version": "3.7.0"
  }
 },
 "nbformat": 4,
 "nbformat_minor": 2
}
