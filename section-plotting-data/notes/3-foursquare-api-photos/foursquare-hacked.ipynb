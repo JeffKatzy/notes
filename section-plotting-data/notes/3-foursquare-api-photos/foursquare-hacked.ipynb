{
 "cells": [
  {
   "cell_type": "code",
   "execution_count": 2,
   "metadata": {},
   "outputs": [],
   "source": [
    "winebar_photos = 'https://api.foursquare.com/v2/venues/504f948fd86c37c95befe90f/photos?locale=en&explicit-lang=false&v=20190409&id=504f948fd86c37c95befe90f&limit=200&offset=0&wsid=NFJY12GJBAZFGUNYJ3OPY3U2L1OOXL&oauth_token=NZODC3XYA0Q2JQGBDSBBP3WGYLQDQCVBOOQRQ04JZNZP5AY4'"
   ]
  },
  {
   "cell_type": "code",
   "execution_count": 3,
   "metadata": {},
   "outputs": [],
   "source": [
    "import requests"
   ]
  },
  {
   "cell_type": "code",
   "execution_count": 4,
   "metadata": {},
   "outputs": [],
   "source": [
    "first_two_hundred_photos_response = requests.get(winebar_photos)"
   ]
  },
  {
   "cell_type": "code",
   "execution_count": 6,
   "metadata": {},
   "outputs": [],
   "source": [
    "offset_winebar_photos = 'https://api.foursquare.com/v2/venues/504f948fd86c37c95befe90f/photos?locale=en&explicit-lang=false&v=20190409&id=504f948fd86c37c95befe90f&limit=200&offset=200&wsid=NFJY12GJBAZFGUNYJ3OPY3U2L1OOXL&oauth_token=NZODC3XYA0Q2JQGBDSBBP3WGYLQDQCVBOOQRQ04JZNZP5AY4'"
   ]
  },
  {
   "cell_type": "code",
   "execution_count": 7,
   "metadata": {},
   "outputs": [],
   "source": [
    "last_eighty_photos = requests.get(offset_winebar_photos)"
   ]
  },
  {
   "cell_type": "code",
   "execution_count": 9,
   "metadata": {},
   "outputs": [],
   "source": [
    "tips_url = 'https://api.foursquare.com/v2/venues/504f948fd86c37c95befe90f/tips?locale=en&explicit-lang=false&v=20190409&m=foursquare&offset=0&limit=100&sort=recent&wsid=NFJY12GJBAZFGUNYJ3OPY3U2L1OOXL&oauth_token=NZODC3XYA0Q2JQGBDSBBP3WGYLQDQCVBOOQRQ04JZNZP5AY4'"
   ]
  },
  {
   "cell_type": "code",
   "execution_count": 10,
   "metadata": {},
   "outputs": [],
   "source": [
    "maxs_tips_response = requests.get(tips_url)"
   ]
  },
  {
   "cell_type": "code",
   "execution_count": 47,
   "metadata": {},
   "outputs": [],
   "source": [
    "photos = first_two_hundred_photos_response.json()['response']['photos']['groups'][0]['items']"
   ]
  },
  {
   "cell_type": "code",
   "execution_count": 54,
   "metadata": {},
   "outputs": [],
   "source": [
    "last_photos = last_eighty_photos.json()['response']['photos']['groups'][0]['items']"
   ]
  },
  {
   "cell_type": "code",
   "execution_count": 58,
   "metadata": {},
   "outputs": [],
   "source": [
    "def extract_datetimes(photos):\n",
    "    times = []\n",
    "    for photo in photos:\n",
    "        time = extract_datetime(photo)\n",
    "        times.append(time)\n",
    "    return times"
   ]
  },
  {
   "cell_type": "code",
   "execution_count": 60,
   "metadata": {},
   "outputs": [],
   "source": [
    "last_times = extract_datetimes(last_photos)"
   ]
  },
  {
   "cell_type": "code",
   "execution_count": 61,
   "metadata": {},
   "outputs": [],
   "source": [
    "# times"
   ]
  },
  {
   "cell_type": "code",
   "execution_count": 62,
   "metadata": {},
   "outputs": [],
   "source": [
    "total_photo_times = times + last_times"
   ]
  },
  {
   "cell_type": "code",
   "execution_count": 64,
   "metadata": {},
   "outputs": [],
   "source": [
    "import json\n",
    "\n",
    "# open output file for writing\n",
    "with open('phototimes.json', 'w') as filehandle:  \n",
    "    json.dump(total_photo_times, filehandle)\n"
   ]
  },
  {
   "cell_type": "code",
   "execution_count": 51,
   "metadata": {},
   "outputs": [],
   "source": [
    "def extract_datetime(photo):\n",
    "    import datetime\n",
    "    ts = datetime.datetime.fromtimestamp(photo['createdAt']).strftime('%Y-%m-%d %H:%M:%S')\n",
    "    return ts"
   ]
  },
  {
   "cell_type": "code",
   "execution_count": 14,
   "metadata": {},
   "outputs": [],
   "source": [
    "def wine_bar_yelp(start):\n",
    "    return 'https://www.yelp.com/biz/maxs-wine-dive-dallas/review_feed/?start={start}&sort_by=date_desc'.format(start = start)"
   ]
  },
  {
   "cell_type": "code",
   "execution_count": 15,
   "metadata": {},
   "outputs": [
    {
     "data": {
      "text/plain": [
       "'https://www.yelp.com/biz/maxs-wine-dive-dallas/review_feed/?start=21&sort_by=date_desc'"
      ]
     },
     "execution_count": 15,
     "metadata": {},
     "output_type": "execute_result"
    }
   ],
   "source": [
    "wine_bar_yelp(21)"
   ]
  },
  {
   "cell_type": "code",
   "execution_count": 18,
   "metadata": {},
   "outputs": [],
   "source": [
    "starts = list(range(21, 645, 20))"
   ]
  },
  {
   "cell_type": "code",
   "execution_count": 22,
   "metadata": {},
   "outputs": [
    {
     "data": {
      "text/plain": [
       "32"
      ]
     },
     "execution_count": 22,
     "metadata": {},
     "output_type": "execute_result"
    }
   ],
   "source": [
    "len(starts)"
   ]
  },
  {
   "cell_type": "code",
   "execution_count": 19,
   "metadata": {},
   "outputs": [],
   "source": [
    "yelp_requests = []\n",
    "for start in starts:\n",
    "    yelp_request = wine_bar_yelp(start)\n",
    "    yelp_requests.append(yelp_request)"
   ]
  },
  {
   "cell_type": "code",
   "execution_count": 21,
   "metadata": {},
   "outputs": [
    {
     "data": {
      "text/plain": [
       "['https://www.yelp.com/biz/maxs-wine-dive-dallas/review_feed/?start=21&sort_by=date_desc',\n",
       " 'https://www.yelp.com/biz/maxs-wine-dive-dallas/review_feed/?start=41&sort_by=date_desc',\n",
       " 'https://www.yelp.com/biz/maxs-wine-dive-dallas/review_feed/?start=61&sort_by=date_desc',\n",
       " 'https://www.yelp.com/biz/maxs-wine-dive-dallas/review_feed/?start=81&sort_by=date_desc',\n",
       " 'https://www.yelp.com/biz/maxs-wine-dive-dallas/review_feed/?start=101&sort_by=date_desc',\n",
       " 'https://www.yelp.com/biz/maxs-wine-dive-dallas/review_feed/?start=121&sort_by=date_desc',\n",
       " 'https://www.yelp.com/biz/maxs-wine-dive-dallas/review_feed/?start=141&sort_by=date_desc',\n",
       " 'https://www.yelp.com/biz/maxs-wine-dive-dallas/review_feed/?start=161&sort_by=date_desc',\n",
       " 'https://www.yelp.com/biz/maxs-wine-dive-dallas/review_feed/?start=181&sort_by=date_desc',\n",
       " 'https://www.yelp.com/biz/maxs-wine-dive-dallas/review_feed/?start=201&sort_by=date_desc',\n",
       " 'https://www.yelp.com/biz/maxs-wine-dive-dallas/review_feed/?start=221&sort_by=date_desc',\n",
       " 'https://www.yelp.com/biz/maxs-wine-dive-dallas/review_feed/?start=241&sort_by=date_desc',\n",
       " 'https://www.yelp.com/biz/maxs-wine-dive-dallas/review_feed/?start=261&sort_by=date_desc',\n",
       " 'https://www.yelp.com/biz/maxs-wine-dive-dallas/review_feed/?start=281&sort_by=date_desc',\n",
       " 'https://www.yelp.com/biz/maxs-wine-dive-dallas/review_feed/?start=301&sort_by=date_desc',\n",
       " 'https://www.yelp.com/biz/maxs-wine-dive-dallas/review_feed/?start=321&sort_by=date_desc',\n",
       " 'https://www.yelp.com/biz/maxs-wine-dive-dallas/review_feed/?start=341&sort_by=date_desc',\n",
       " 'https://www.yelp.com/biz/maxs-wine-dive-dallas/review_feed/?start=361&sort_by=date_desc',\n",
       " 'https://www.yelp.com/biz/maxs-wine-dive-dallas/review_feed/?start=381&sort_by=date_desc',\n",
       " 'https://www.yelp.com/biz/maxs-wine-dive-dallas/review_feed/?start=401&sort_by=date_desc',\n",
       " 'https://www.yelp.com/biz/maxs-wine-dive-dallas/review_feed/?start=421&sort_by=date_desc',\n",
       " 'https://www.yelp.com/biz/maxs-wine-dive-dallas/review_feed/?start=441&sort_by=date_desc',\n",
       " 'https://www.yelp.com/biz/maxs-wine-dive-dallas/review_feed/?start=461&sort_by=date_desc',\n",
       " 'https://www.yelp.com/biz/maxs-wine-dive-dallas/review_feed/?start=481&sort_by=date_desc',\n",
       " 'https://www.yelp.com/biz/maxs-wine-dive-dallas/review_feed/?start=501&sort_by=date_desc',\n",
       " 'https://www.yelp.com/biz/maxs-wine-dive-dallas/review_feed/?start=521&sort_by=date_desc',\n",
       " 'https://www.yelp.com/biz/maxs-wine-dive-dallas/review_feed/?start=541&sort_by=date_desc',\n",
       " 'https://www.yelp.com/biz/maxs-wine-dive-dallas/review_feed/?start=561&sort_by=date_desc',\n",
       " 'https://www.yelp.com/biz/maxs-wine-dive-dallas/review_feed/?start=581&sort_by=date_desc',\n",
       " 'https://www.yelp.com/biz/maxs-wine-dive-dallas/review_feed/?start=601&sort_by=date_desc',\n",
       " 'https://www.yelp.com/biz/maxs-wine-dive-dallas/review_feed/?start=621&sort_by=date_desc']"
      ]
     },
     "execution_count": 21,
     "metadata": {},
     "output_type": "execute_result"
    }
   ],
   "source": [
    "yelp_requests[0:-1]"
   ]
  },
  {
   "cell_type": "code",
   "execution_count": null,
   "metadata": {},
   "outputs": [],
   "source": []
  }
 ],
 "metadata": {
  "kernelspec": {
   "display_name": "Python 3",
   "language": "python",
   "name": "python3"
  },
  "language_info": {
   "codemirror_mode": {
    "name": "ipython",
    "version": 3
   },
   "file_extension": ".py",
   "mimetype": "text/x-python",
   "name": "python",
   "nbconvert_exporter": "python",
   "pygments_lexer": "ipython3",
   "version": "3.7.0"
  }
 },
 "nbformat": 4,
 "nbformat_minor": 2
}
