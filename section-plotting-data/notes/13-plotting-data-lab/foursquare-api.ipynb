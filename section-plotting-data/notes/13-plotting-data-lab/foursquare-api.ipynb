{
 "cells": [
  {
   "cell_type": "code",
   "execution_count": null,
   "metadata": {},
   "outputs": [],
   "source": []
  },
  {
   "cell_type": "code",
   "execution_count": 37,
   "metadata": {},
   "outputs": [],
   "source": [
    "\n",
    "def find_venue(location, name):\n",
    "    root_url = \"https://api.foursquare.com/v2/venues/search\"\n",
    "    parameters = \"?near=Dallas&query=Maxs Wine Bar\"\n",
    "    search_url = root_url + parameters\n",
    "    return search_url"
   ]
  },
  {
   "cell_type": "code",
   "execution_count": 6,
   "metadata": {},
   "outputs": [],
   "source": [
    "maxs_wine_bar_id = '53296a08498e13e5721464c9'"
   ]
  },
  {
   "cell_type": "code",
   "execution_count": 60,
   "metadata": {},
   "outputs": [],
   "source": [
    "def get_photos_url(venue_id):   \n",
    "    return 'https://api.foursquare.com/v2/venues/{venue_id}/photos?limit=100&'.format(venue_id = venue_id)"
   ]
  },
  {
   "cell_type": "code",
   "execution_count": 61,
   "metadata": {},
   "outputs": [],
   "source": [
    "def get_tips_url(venue_id):    \n",
    "    return 'https://api.foursquare.com/v2/venues/{venue_id}/tips?limit=100&'.format(venue_id = venue_id)"
   ]
  },
  {
   "cell_type": "code",
   "execution_count": 62,
   "metadata": {},
   "outputs": [],
   "source": [
    "def add_auth(url):\n",
    "    client_id = 'K1EL321SSPT3EL0LQQTEBJMAJK3P45HD4WI2C52WYLDRPEWR'\n",
    "    client_secret = 'BRIJCK2PJHUIUEQFN12H2HFQ2WJBOTNXQ5NMO3QELFGTXU13'\n",
    "    date = '20190408'\n",
    "    auth = 'client_id={client_id}&client_secret={client_secret}&v={date}'.format(client_id = client_id, client_secret = client_secret, date = date)\n",
    "    return url + auth"
   ]
  },
  {
   "cell_type": "code",
   "execution_count": 64,
   "metadata": {},
   "outputs": [],
   "source": [
    "maxs_photos = get_photos_url(maxs_wine_bar_id)\n",
    "photos_url = add_auth(maxs_photos)"
   ]
  },
  {
   "cell_type": "code",
   "execution_count": 67,
   "metadata": {},
   "outputs": [],
   "source": [
    "response = request_url(photos_url)"
   ]
  },
  {
   "cell_type": "code",
   "execution_count": 83,
   "metadata": {},
   "outputs": [],
   "source": [
    "def get_venue_details(venue_id):    \n",
    "    return 'https://api.foursquare.com/v2/venues/{venue_id}?'.format(venue_id = venue_id)\n"
   ]
  },
  {
   "cell_type": "code",
   "execution_count": 84,
   "metadata": {},
   "outputs": [],
   "source": [
    "venue_details = get_venue_details(maxs_wine_bar_id)\n"
   ]
  },
  {
   "cell_type": "code",
   "execution_count": 85,
   "metadata": {},
   "outputs": [],
   "source": [
    "details_url = add_auth(venue_details)"
   ]
  },
  {
   "cell_type": "code",
   "execution_count": 86,
   "metadata": {},
   "outputs": [
    {
     "data": {
      "text/plain": [
       "'https://api.foursquare.com/v2/venues/53296a08498e13e5721464c9?client_id=K1EL321SSPT3EL0LQQTEBJMAJK3P45HD4WI2C52WYLDRPEWR&client_secret=BRIJCK2PJHUIUEQFN12H2HFQ2WJBOTNXQ5NMO3QELFGTXU13&v=20190408'"
      ]
     },
     "execution_count": 86,
     "metadata": {},
     "output_type": "execute_result"
    }
   ],
   "source": [
    "details_url"
   ]
  },
  {
   "cell_type": "code",
   "execution_count": 87,
   "metadata": {},
   "outputs": [],
   "source": [
    "import requests"
   ]
  },
  {
   "cell_type": "code",
   "execution_count": 89,
   "metadata": {},
   "outputs": [],
   "source": [
    "details_response = requests.get(details_url)"
   ]
  },
  {
   "cell_type": "code",
   "execution_count": 90,
   "metadata": {},
   "outputs": [
    {
     "data": {
      "text/plain": [
       "{'meta': {'code': 200, 'requestId': '5cadf6ee6a60712cf651528a'},\n",
       " 'response': {'venue': {'id': '53296a08498e13e5721464c9',\n",
       "   'name': 'MAX’s Wine Dive Dallas – McKinney Ave',\n",
       "   'contact': {'phone': '2145593483', 'formattedPhone': '(214) 559-3483'},\n",
       "   'location': {'address': '3600 McKinney Ave',\n",
       "    'lat': 32.8072045205137,\n",
       "    'lng': -96.82060540826095,\n",
       "    'labeledLatLngs': [{'label': 'display',\n",
       "      'lat': 32.8072045205137,\n",
       "      'lng': -96.82060540826095}],\n",
       "    'postalCode': '75204',\n",
       "    'cc': 'US',\n",
       "    'city': 'Dallas',\n",
       "    'state': 'TX',\n",
       "    'country': 'United States',\n",
       "    'formattedAddress': ['3600 McKinney Ave',\n",
       "     'Dallas, TX 75204',\n",
       "     'United States']},\n",
       "   'canonicalUrl': 'https://foursquare.com/v/maxs-wine-dive-dallas--mckinney-ave/53296a08498e13e5721464c9',\n",
       "   'categories': [{'id': '4bf58dd8d48988d1c4941735',\n",
       "     'name': 'Restaurant',\n",
       "     'pluralName': 'Restaurants',\n",
       "     'shortName': 'Restaurant',\n",
       "     'icon': {'prefix': 'https://ss3.4sqi.net/img/categories_v2/food/default_',\n",
       "      'suffix': '.png'},\n",
       "     'primary': True}],\n",
       "   'verified': False,\n",
       "   'stats': {'tipCount': 1},\n",
       "   'price': {'tier': 3, 'message': 'Expensive', 'currency': '$'},\n",
       "   'likes': {'count': 1,\n",
       "    'groups': [{'type': 'others',\n",
       "      'count': 1,\n",
       "      'items': [{'id': '52979893',\n",
       "        'firstName': 'WyNette',\n",
       "        'gender': 'female',\n",
       "        'photo': {'prefix': 'https://fastly.4sqi.net/img/user/',\n",
       "         'suffix': '/PIJ0IHECJHLVAMNI.jpg'}}]}],\n",
       "    'summary': '1 Like'},\n",
       "   'dislike': False,\n",
       "   'ok': False,\n",
       "   'allowMenuUrlEdit': True,\n",
       "   'beenHere': {'count': 0,\n",
       "    'unconfirmedCount': 0,\n",
       "    'marked': False,\n",
       "    'lastCheckinExpiredAt': 0},\n",
       "   'specials': {'count': 0, 'items': []},\n",
       "   'photos': {'count': 2,\n",
       "    'groups': [{'type': 'checkin',\n",
       "      'name': \"Friends' check-in photos\",\n",
       "      'count': 0,\n",
       "      'items': []},\n",
       "     {'type': 'venue',\n",
       "      'name': 'Venue photos',\n",
       "      'count': 2,\n",
       "      'items': [{'id': '540239a4498e1a5098649339',\n",
       "        'createdAt': 1409431972,\n",
       "        'source': {'name': 'Foursquare for Android',\n",
       "         'url': 'https://foursquare.com/download/#/android'},\n",
       "        'prefix': 'https://fastly.4sqi.net/img/general/',\n",
       "        'suffix': '/93513638_DdfKhlgnmG_XLM-dXZSIkniDzUIzjnRw03l5lEh3qkQ.jpg',\n",
       "        'width': 2688,\n",
       "        'height': 1520,\n",
       "        'user': {'id': '93513638',\n",
       "         'firstName': 'Terrell',\n",
       "         'lastName': 'Smith',\n",
       "         'gender': 'male',\n",
       "         'photo': {'prefix': 'https://fastly.4sqi.net/img/user/',\n",
       "          'suffix': '/93513638-3GBATFDKAWBE53CI.jpg'}},\n",
       "        'visibility': 'public'}]}],\n",
       "    'summary': '0 photos'},\n",
       "   'reasons': {'count': 0, 'items': []},\n",
       "   'hereNow': {'count': 0, 'summary': 'Nobody here', 'groups': []},\n",
       "   'createdAt': 1395223048,\n",
       "   'tips': {'count': 1,\n",
       "    'groups': [{'type': 'others',\n",
       "      'name': 'All tips',\n",
       "      'count': 1,\n",
       "      'items': [{'id': '540239a1498e9454b638bb6e',\n",
       "        'createdAt': 1409431969,\n",
       "        'text': \"Omg I love this place. The fried chicken was amazing....collard greens and jalapeno cheese grits delicious...  You gotta try the grits. My next trip to Dallas I'll be right back here!!!\",\n",
       "        'type': 'user',\n",
       "        'canonicalUrl': 'https://foursquare.com/item/540239a1498e9454b638bb6e',\n",
       "        'photo': {'id': '540239a4498e1a5098649339',\n",
       "         'createdAt': 1409431972,\n",
       "         'source': {'name': 'Foursquare for Android',\n",
       "          'url': 'https://foursquare.com/download/#/android'},\n",
       "         'prefix': 'https://fastly.4sqi.net/img/general/',\n",
       "         'suffix': '/93513638_DdfKhlgnmG_XLM-dXZSIkniDzUIzjnRw03l5lEh3qkQ.jpg',\n",
       "         'width': 2688,\n",
       "         'height': 1520,\n",
       "         'visibility': 'public'},\n",
       "        'photourl': 'https://fastly.4sqi.net/img/general/original/93513638_DdfKhlgnmG_XLM-dXZSIkniDzUIzjnRw03l5lEh3qkQ.jpg',\n",
       "        'lang': 'en',\n",
       "        'likes': {'count': 0, 'groups': []},\n",
       "        'logView': True,\n",
       "        'agreeCount': 0,\n",
       "        'disagreeCount': 0,\n",
       "        'todo': {'count': 0},\n",
       "        'user': {'id': '93513638',\n",
       "         'firstName': 'Terrell',\n",
       "         'lastName': 'Smith',\n",
       "         'gender': 'male',\n",
       "         'photo': {'prefix': 'https://fastly.4sqi.net/img/user/',\n",
       "          'suffix': '/93513638-3GBATFDKAWBE53CI.jpg'}}}]}]},\n",
       "   'shortUrl': 'http://4sq.com/1j2vXUy',\n",
       "   'timeZone': 'America/Chicago',\n",
       "   'listed': {'count': 0,\n",
       "    'groups': [{'type': 'others',\n",
       "      'name': 'Lists from other people',\n",
       "      'count': 0,\n",
       "      'items': []}]},\n",
       "   'hours': {'status': 'Closed until 4:00 PM',\n",
       "    'richStatus': {'entities': [], 'text': 'Closed until 4:00 PM'},\n",
       "    'isOpen': False,\n",
       "    'isLocalHoliday': False,\n",
       "    'dayData': [],\n",
       "    'timeframes': [{'days': 'Mon–Thu',\n",
       "      'includesToday': True,\n",
       "      'open': [{'renderedTime': '4:00 PM–Midnight'}],\n",
       "      'segments': []},\n",
       "     {'days': 'Fri',\n",
       "      'open': [{'renderedTime': '11:00 AM–Midnight'}],\n",
       "      'segments': []},\n",
       "     {'days': 'Sat',\n",
       "      'open': [{'renderedTime': '10:00 AM–Midnight'}],\n",
       "      'segments': []},\n",
       "     {'days': 'Sun',\n",
       "      'open': [{'renderedTime': '10:00 AM–10:00 PM'}],\n",
       "      'segments': []}]},\n",
       "   'pageUpdates': {'count': 0, 'items': []},\n",
       "   'inbox': {'count': 0, 'items': []},\n",
       "   'attributes': {'groups': [{'type': 'price',\n",
       "      'name': 'Price',\n",
       "      'summary': '$$$',\n",
       "      'count': 1,\n",
       "      'items': [{'displayName': 'Price',\n",
       "        'displayValue': '$$$',\n",
       "        'priceTier': 3}]}]},\n",
       "   'bestPhoto': {'id': '540239a4498e1a5098649339',\n",
       "    'createdAt': 1409431972,\n",
       "    'source': {'name': 'Foursquare for Android',\n",
       "     'url': 'https://foursquare.com/download/#/android'},\n",
       "    'prefix': 'https://fastly.4sqi.net/img/general/',\n",
       "    'suffix': '/93513638_DdfKhlgnmG_XLM-dXZSIkniDzUIzjnRw03l5lEh3qkQ.jpg',\n",
       "    'width': 2688,\n",
       "    'height': 1520,\n",
       "    'visibility': 'public'}}}}"
      ]
     },
     "execution_count": 90,
     "metadata": {},
     "output_type": "execute_result"
    }
   ],
   "source": [
    "details_response.json()"
   ]
  },
  {
   "cell_type": "code",
   "execution_count": 92,
   "metadata": {},
   "outputs": [],
   "source": [
    "max_tips_url = get_tips_url(maxs_wine_bar_id)"
   ]
  },
  {
   "cell_type": "code",
   "execution_count": 94,
   "metadata": {},
   "outputs": [],
   "source": [
    "auth_and_tips = add_auth(max_tips_url)"
   ]
  },
  {
   "cell_type": "code",
   "execution_count": 96,
   "metadata": {},
   "outputs": [],
   "source": [
    "import requests\n",
    "response_tips = requests.get(auth_and_tips)"
   ]
  },
  {
   "cell_type": "code",
   "execution_count": 97,
   "metadata": {},
   "outputs": [
    {
     "data": {
      "text/plain": [
       "{'meta': {'code': 200, 'requestId': '5cadf75ddb04f540311c805c'},\n",
       " 'response': {'tips': {'count': 1,\n",
       "   'items': [{'id': '540239a1498e9454b638bb6e',\n",
       "     'createdAt': 1409431969,\n",
       "     'text': \"Omg I love this place. The fried chicken was amazing....collard greens and jalapeno cheese grits delicious...  You gotta try the grits. My next trip to Dallas I'll be right back here!!!\",\n",
       "     'type': 'user',\n",
       "     'canonicalUrl': 'https://foursquare.com/item/540239a1498e9454b638bb6e',\n",
       "     'photo': {'id': '540239a4498e1a5098649339',\n",
       "      'createdAt': 1409431972,\n",
       "      'source': {'name': 'Foursquare for Android',\n",
       "       'url': 'https://foursquare.com/download/#/android'},\n",
       "      'prefix': 'https://fastly.4sqi.net/img/general/',\n",
       "      'suffix': '/93513638_DdfKhlgnmG_XLM-dXZSIkniDzUIzjnRw03l5lEh3qkQ.jpg',\n",
       "      'width': 2688,\n",
       "      'height': 1520,\n",
       "      'visibility': 'public'},\n",
       "     'photourl': 'https://fastly.4sqi.net/img/general/original/93513638_DdfKhlgnmG_XLM-dXZSIkniDzUIzjnRw03l5lEh3qkQ.jpg',\n",
       "     'lang': 'en',\n",
       "     'likes': {'count': 0, 'groups': []},\n",
       "     'logView': True,\n",
       "     'agreeCount': 0,\n",
       "     'disagreeCount': 0,\n",
       "     'todo': {'count': 0},\n",
       "     'user': {'id': '93513638',\n",
       "      'firstName': 'Terrell',\n",
       "      'lastName': 'Smith',\n",
       "      'gender': 'male',\n",
       "      'photo': {'prefix': 'https://fastly.4sqi.net/img/user/',\n",
       "       'suffix': '/93513638-3GBATFDKAWBE53CI.jpg'}}}]}}}"
      ]
     },
     "execution_count": 97,
     "metadata": {},
     "output_type": "execute_result"
    }
   ],
   "source": [
    "response_tips.json()"
   ]
  },
  {
   "cell_type": "code",
   "execution_count": null,
   "metadata": {},
   "outputs": [],
   "source": []
  }
 ],
 "metadata": {
  "kernelspec": {
   "display_name": "Python 3",
   "language": "python",
   "name": "python3"
  },
  "language_info": {
   "codemirror_mode": {
    "name": "ipython",
    "version": 3
   },
   "file_extension": ".py",
   "mimetype": "text/x-python",
   "name": "python",
   "nbconvert_exporter": "python",
   "pygments_lexer": "ipython3",
   "version": "3.7.0"
  }
 },
 "nbformat": 4,
 "nbformat_minor": 2
}
