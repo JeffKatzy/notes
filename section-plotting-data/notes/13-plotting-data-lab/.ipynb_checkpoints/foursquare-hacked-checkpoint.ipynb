{
 "cells": [
  {
   "cell_type": "code",
   "execution_count": 2,
   "metadata": {},
   "outputs": [],
   "source": [
    "winebar_photos = 'https://api.foursquare.com/v2/venues/504f948fd86c37c95befe90f/photos?locale=en&explicit-lang=false&v=20190409&id=504f948fd86c37c95befe90f&limit=200&offset=0&wsid=NFJY12GJBAZFGUNYJ3OPY3U2L1OOXL&oauth_token=NZODC3XYA0Q2JQGBDSBBP3WGYLQDQCVBOOQRQ04JZNZP5AY4'"
   ]
  },
  {
   "cell_type": "code",
   "execution_count": 3,
   "metadata": {},
   "outputs": [],
   "source": [
    "import requests"
   ]
  },
  {
   "cell_type": "code",
   "execution_count": 4,
   "metadata": {},
   "outputs": [],
   "source": [
    "first_two_hundred_photos_response = requests.get(winebar_photos)"
   ]
  },
  {
   "cell_type": "code",
   "execution_count": 6,
   "metadata": {},
   "outputs": [],
   "source": [
    "offset_winebar_photos = 'https://api.foursquare.com/v2/venues/504f948fd86c37c95befe90f/photos?locale=en&explicit-lang=false&v=20190409&id=504f948fd86c37c95befe90f&limit=200&offset=200&wsid=NFJY12GJBAZFGUNYJ3OPY3U2L1OOXL&oauth_token=NZODC3XYA0Q2JQGBDSBBP3WGYLQDQCVBOOQRQ04JZNZP5AY4'"
   ]
  },
  {
   "cell_type": "code",
   "execution_count": 7,
   "metadata": {},
   "outputs": [],
   "source": [
    "last_eighty_photos = requests.get(offset_winebar_photos)"
   ]
  }
 ],
 "metadata": {
  "kernelspec": {
   "display_name": "Python 3",
   "language": "python",
   "name": "python3"
  },
  "language_info": {
   "codemirror_mode": {
    "name": "ipython",
    "version": 3
   },
   "file_extension": ".py",
   "mimetype": "text/x-python",
   "name": "python",
   "nbconvert_exporter": "python",
   "pygments_lexer": "ipython3",
   "version": "3.7.0"
  }
 },
 "nbformat": 4,
 "nbformat_minor": 2
}
