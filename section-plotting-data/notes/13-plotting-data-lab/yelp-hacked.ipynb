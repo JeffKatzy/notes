{
 "cells": [
  {
   "cell_type": "code",
   "execution_count": 163,
   "metadata": {},
   "outputs": [],
   "source": [
    "def wine_bar_yelp(idx):\n",
    "    start = idx*20 + 1 \n",
    "    url = 'https://www.yelp.com/biz/maxs-wine-dive-dallas/review_feed/?start={start}&sort_by=date_desc'.format(start = start)\n",
    "    import requests\n",
    "    response = requests.get(url)\n",
    "    return response.json()['review_list']"
   ]
  },
  {
   "cell_type": "code",
   "execution_count": 162,
   "metadata": {},
   "outputs": [
    {
     "data": {
      "text/plain": [
       "41"
      ]
     },
     "execution_count": 162,
     "metadata": {},
     "output_type": "execute_result"
    }
   ],
   "source": []
  },
  {
   "cell_type": "code",
   "execution_count": 164,
   "metadata": {},
   "outputs": [],
   "source": [
    "def parse_reviews(response_list):\n",
    "    from bs4 import BeautifulSoup\n",
    "    soup = BeautifulSoup(response_list, 'lxml')\n",
    "    return soup.find_all('div', {\"class\": \"review-content\"})"
   ]
  },
  {
   "cell_type": "code",
   "execution_count": 165,
   "metadata": {},
   "outputs": [],
   "source": [
    "def extract_text(review_html):\n",
    "    return review_html.find('p').text"
   ]
  },
  {
   "cell_type": "code",
   "execution_count": 166,
   "metadata": {},
   "outputs": [],
   "source": [
    "def extract_rating(review_html):\n",
    "    return float(review_html.find('div', {'class': 'rating-large'}).attrs['title'][0:3])"
   ]
  },
  {
   "cell_type": "code",
   "execution_count": 167,
   "metadata": {},
   "outputs": [
    {
     "data": {
      "text/plain": [
       "2.0"
      ]
     },
     "execution_count": 167,
     "metadata": {},
     "output_type": "execute_result"
    }
   ],
   "source": [
    "extract_rating(reviews_html[0])"
   ]
  },
  {
   "cell_type": "code",
   "execution_count": 54,
   "metadata": {},
   "outputs": [],
   "source": [
    "review = review_html[0]\n",
    "review.find('span', {'class': 'rating-qualifier'}).text"
   ]
  },
  {
   "cell_type": "code",
   "execution_count": 168,
   "metadata": {},
   "outputs": [],
   "source": [
    "def extract_date(review):\n",
    "    review_text = review.find('span', {'class': 'rating-qualifier'}).text\n",
    "    import re\n",
    "    regex = '\\d{1,2}\\/\\d{1,2}\\/\\d{4}'\n",
    "    m = re.search(regex, review_text)\n",
    "    return m.group(0)"
   ]
  },
  {
   "cell_type": "code",
   "execution_count": 169,
   "metadata": {},
   "outputs": [],
   "source": [
    "def extract_reviews(reviews_html):\n",
    "    reviews = []\n",
    "    for review_html in reviews_html:\n",
    "        review = {\n",
    "        'rating': extract_rating(review_html),\n",
    "        'date': extract_date(review_html),\n",
    "        'text': extract_text(review_html)\n",
    "    }\n",
    "        reviews.append(review)\n",
    "    return reviews"
   ]
  },
  {
   "cell_type": "code",
   "execution_count": 126,
   "metadata": {},
   "outputs": [],
   "source": [
    "parsed = parse_reviews(total_response_lists[0])\n",
    "    "
   ]
  },
  {
   "cell_type": "code",
   "execution_count": 213,
   "metadata": {},
   "outputs": [],
   "source": [
    "parsed_reviews = []\n",
    "len(total_response_lists)\n",
    "for response_list in total_response_lists:\n",
    "    parsed = parse_reviews(response_list)\n",
    "    parsed_reviews.append(parsed)"
   ]
  },
  {
   "cell_type": "code",
   "execution_count": 214,
   "metadata": {},
   "outputs": [],
   "source": [
    "reviews = []\n",
    "for parsed_review_set in parsed_reviews:\n",
    "    extracted = extract_reviews(parsed_review_set)\n",
    "    reviews = reviews + extracted\n"
   ]
  },
  {
   "cell_type": "code",
   "execution_count": 218,
   "metadata": {},
   "outputs": [],
   "source": [
    "import json\n",
    "with open('updated-reviews.json', 'w') as filehandle:  \n",
    "    json.dump(reviews, filehandle)"
   ]
  },
  {
   "cell_type": "code",
   "execution_count": 160,
   "metadata": {},
   "outputs": [],
   "source": [
    "import json\n",
    "\n",
    "# open output file for writing\n",
    "with open('reviews.json', 'w') as filehandle:\n",
    "    json.dump(reviews, filehandle)"
   ]
  },
  {
   "cell_type": "code",
   "execution_count": 170,
   "metadata": {},
   "outputs": [],
   "source": [
    "first_response_list = wine_bar_yelp(0)"
   ]
  },
  {
   "cell_type": "code",
   "execution_count": 171,
   "metadata": {},
   "outputs": [],
   "source": [
    "second_response_list = wine_bar_yelp(1)"
   ]
  },
  {
   "cell_type": "code",
   "execution_count": 172,
   "metadata": {},
   "outputs": [],
   "source": [
    "third_response_list = wine_bar_yelp(2)"
   ]
  },
  {
   "cell_type": "code",
   "execution_count": 174,
   "metadata": {},
   "outputs": [],
   "source": [
    "fourth_response_list = wine_bar_yelp(3)"
   ]
  },
  {
   "cell_type": "code",
   "execution_count": 175,
   "metadata": {},
   "outputs": [],
   "source": [
    "fifth_response_list = wine_bar_yelp(4)"
   ]
  },
  {
   "cell_type": "code",
   "execution_count": 176,
   "metadata": {},
   "outputs": [],
   "source": [
    "sixth_response_list = wine_bar_yelp(5)"
   ]
  },
  {
   "cell_type": "code",
   "execution_count": 177,
   "metadata": {},
   "outputs": [],
   "source": [
    "seventh_response_list = wine_bar_yelp(6)"
   ]
  },
  {
   "cell_type": "code",
   "execution_count": 178,
   "metadata": {},
   "outputs": [],
   "source": [
    "eigth_response_list = wine_bar_yelp(7)"
   ]
  },
  {
   "cell_type": "code",
   "execution_count": 179,
   "metadata": {},
   "outputs": [],
   "source": [
    "ninth_response_list = wine_bar_yelp(8)"
   ]
  },
  {
   "cell_type": "code",
   "execution_count": 180,
   "metadata": {},
   "outputs": [],
   "source": [
    "tenth_response_list = wine_bar_yelp(9)"
   ]
  },
  {
   "cell_type": "code",
   "execution_count": 181,
   "metadata": {},
   "outputs": [],
   "source": [
    "eleventh_response_list = wine_bar_yelp(10)"
   ]
  },
  {
   "cell_type": "code",
   "execution_count": 182,
   "metadata": {},
   "outputs": [],
   "source": [
    "twelth_response_list = wine_bar_yelp(11)"
   ]
  },
  {
   "cell_type": "code",
   "execution_count": 183,
   "metadata": {},
   "outputs": [],
   "source": [
    "thirteenth_response_list = wine_bar_yelp(12)"
   ]
  },
  {
   "cell_type": "code",
   "execution_count": 184,
   "metadata": {},
   "outputs": [],
   "source": [
    "fourteenth_response_list = wine_bar_yelp(13)"
   ]
  },
  {
   "cell_type": "code",
   "execution_count": 185,
   "metadata": {},
   "outputs": [],
   "source": [
    "fifteenth_response_list = wine_bar_yelp(14)"
   ]
  },
  {
   "cell_type": "code",
   "execution_count": 186,
   "metadata": {},
   "outputs": [],
   "source": [
    "sixteenth_response_list = wine_bar_yelp(15)"
   ]
  },
  {
   "cell_type": "code",
   "execution_count": 187,
   "metadata": {},
   "outputs": [],
   "source": [
    "seventeenth_response_list = wine_bar_yelp(16)"
   ]
  },
  {
   "cell_type": "code",
   "execution_count": 188,
   "metadata": {},
   "outputs": [],
   "source": [
    "eighteenth_response_list = wine_bar_yelp(17)"
   ]
  },
  {
   "cell_type": "code",
   "execution_count": 189,
   "metadata": {},
   "outputs": [],
   "source": [
    "response_lists = [first_response_list, second_response_list, third_response_list, fourth_response_list, fifth_response_list, sixth_response_list, seventh_response_list, eigth_response_list, ninth_response_list, tenth_response_list, eleventh_response_list, twelth_response_list, thirteenth_response_list, fourteenth_response_list, fifteenth_response_list, sixteenth_response_list, eighteenth_response_list]"
   ]
  },
  {
   "cell_type": "code",
   "execution_count": 193,
   "metadata": {},
   "outputs": [],
   "source": [
    "# response_lists[-1]"
   ]
  },
  {
   "cell_type": "code",
   "execution_count": 194,
   "metadata": {},
   "outputs": [],
   "source": [
    "response_lists.append(seventeenth_response_list)"
   ]
  },
  {
   "cell_type": "code",
   "execution_count": 195,
   "metadata": {},
   "outputs": [
    {
     "data": {
      "text/plain": [
       "18"
      ]
     },
     "execution_count": 195,
     "metadata": {},
     "output_type": "execute_result"
    }
   ],
   "source": [
    "len(response_lists)"
   ]
  },
  {
   "cell_type": "code",
   "execution_count": 196,
   "metadata": {},
   "outputs": [],
   "source": [
    "nineteenth_response_list = wine_bar_yelp(18)"
   ]
  },
  {
   "cell_type": "code",
   "execution_count": 197,
   "metadata": {},
   "outputs": [],
   "source": [
    "twentieth_response_list = wine_bar_yelp(19)"
   ]
  },
  {
   "cell_type": "code",
   "execution_count": 198,
   "metadata": {},
   "outputs": [],
   "source": [
    "twentone_response_list = wine_bar_yelp(20)"
   ]
  },
  {
   "cell_type": "code",
   "execution_count": 199,
   "metadata": {},
   "outputs": [],
   "source": [
    "twentytwo_response_list = wine_bar_yelp(21)"
   ]
  },
  {
   "cell_type": "code",
   "execution_count": 200,
   "metadata": {},
   "outputs": [],
   "source": [
    "twentythree_response_list = wine_bar_yelp(22)"
   ]
  },
  {
   "cell_type": "code",
   "execution_count": 201,
   "metadata": {},
   "outputs": [],
   "source": [
    "twentyfour_response_list = wine_bar_yelp(23)"
   ]
  },
  {
   "cell_type": "code",
   "execution_count": 202,
   "metadata": {},
   "outputs": [],
   "source": [
    "twentyfive_response_list = wine_bar_yelp(24)"
   ]
  },
  {
   "cell_type": "code",
   "execution_count": 203,
   "metadata": {},
   "outputs": [],
   "source": [
    "twentysix_response_list = wine_bar_yelp(25)"
   ]
  },
  {
   "cell_type": "code",
   "execution_count": 204,
   "metadata": {},
   "outputs": [],
   "source": [
    "twentyseven_response_list = wine_bar_yelp(26)"
   ]
  },
  {
   "cell_type": "code",
   "execution_count": 205,
   "metadata": {},
   "outputs": [],
   "source": [
    "twentyeight_response_list = wine_bar_yelp(27)"
   ]
  },
  {
   "cell_type": "code",
   "execution_count": 206,
   "metadata": {},
   "outputs": [],
   "source": [
    "twentynine_response_list = wine_bar_yelp(28)"
   ]
  },
  {
   "cell_type": "code",
   "execution_count": 207,
   "metadata": {},
   "outputs": [],
   "source": [
    "thirty_response_list = wine_bar_yelp(29)"
   ]
  },
  {
   "cell_type": "code",
   "execution_count": 208,
   "metadata": {},
   "outputs": [],
   "source": [
    "thirty_one_response_list = wine_bar_yelp(30)"
   ]
  },
  {
   "cell_type": "code",
   "execution_count": 209,
   "metadata": {},
   "outputs": [],
   "source": [
    "thirty_two_response_list = wine_bar_yelp(31)"
   ]
  },
  {
   "cell_type": "code",
   "execution_count": 210,
   "metadata": {},
   "outputs": [],
   "source": [
    "second_half_response_list = [ninth_response_list, twentieth_response_list, twentone_response_list, twentytwo_response_list, twentythree_response_list, twentyfour_response_list, twentyfive_response_list, twentysix_response_list, twentyseven_response_list, twentyeight_response_list, twentynine_response_list, thirty_response_list, thirty_one_response_list, thirty_two_response_list]"
   ]
  },
  {
   "cell_type": "code",
   "execution_count": 211,
   "metadata": {},
   "outputs": [],
   "source": [
    "total_response_lists = response_lists + second_half_response_list"
   ]
  },
  {
   "cell_type": "code",
   "execution_count": 212,
   "metadata": {},
   "outputs": [],
   "source": [
    "import json\n",
    "with open('updated-reviews.json', 'w') as filehandle:  \n",
    "    json.dump(total_response_lists, filehandle)"
   ]
  },
  {
   "cell_type": "code",
   "execution_count": null,
   "metadata": {},
   "outputs": [],
   "source": []
  }
 ],
 "metadata": {
  "kernelspec": {
   "display_name": "Python 3",
   "language": "python",
   "name": "python3"
  },
  "language_info": {
   "codemirror_mode": {
    "name": "ipython",
    "version": 3
   },
   "file_extension": ".py",
   "mimetype": "text/x-python",
   "name": "python",
   "nbconvert_exporter": "python",
   "pygments_lexer": "ipython3",
   "version": "3.7.0"
  }
 },
 "nbformat": 4,
 "nbformat_minor": 2
}
