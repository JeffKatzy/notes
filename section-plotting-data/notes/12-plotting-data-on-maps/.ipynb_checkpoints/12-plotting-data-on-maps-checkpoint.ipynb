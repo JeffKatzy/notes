{
 "cells": [
  {
   "cell_type": "markdown",
   "metadata": {},
   "source": [
    "### Plotting restaurants"
   ]
  },
  {
   "cell_type": "markdown",
   "metadata": {},
   "source": [
    "A nice restaurant in New York can get pretty pricy.  But we think we can eat our way to a good deal, if we just find the right buffet.  In this lesson, we'll make a map of the various buffets in New York with data pulled from Yelp. \n",
    "\n",
    "We'll learn how to pull data directly from Yelp in a couple of lessons, but for now, this data is provided for us."
   ]
  },
  {
   "cell_type": "markdown",
   "metadata": {},
   "source": [
    "### Exploring our data"
   ]
  },
  {
   "cell_type": "markdown",
   "metadata": {},
   "source": [
    "If you press `command` + `b` on the keyboard, you can toggle a file tree to the left.  The file tree shows the current folder that we are in `11-plotting-data-on-maps`, as well as the files in that folder.  \n",
    "\n",
    "There you'll see the current notebook, which ends with `.ipynb`, which is the filetype for all notebooks.  Then you'll see `yelp_restaurants.py`.  This is a file that just has Python code.  If you double click on it, you'll see the following."
   ]
  },
  {
   "cell_type": "markdown",
   "metadata": {},
   "source": [
    "<img src=\"./restaurants-tab.png\">"
   ]
  },
  {
   "cell_type": "markdown",
   "metadata": {},
   "source": [
    "Ok, so those are the restaurants that we would like to access.  The problem is that we cannot immediately access that variable `restaurants` as it only exists in the `yelp_restaurants.py` file, and not in this notebook."
   ]
  },
  {
   "cell_type": "code",
   "execution_count": 1,
   "metadata": {},
   "outputs": [
    {
     "ename": "NameError",
     "evalue": "name 'restaurants' is not defined",
     "output_type": "error",
     "traceback": [
      "\u001b[0;31m---------------------------------------------------------------------------\u001b[0m",
      "\u001b[0;31mNameError\u001b[0m                                 Traceback (most recent call last)",
      "\u001b[0;32m<ipython-input-1-fdc66b1de1bf>\u001b[0m in \u001b[0;36m<module>\u001b[0;34m()\u001b[0m\n\u001b[0;32m----> 1\u001b[0;31m \u001b[0mrestaurants\u001b[0m\u001b[0;34m\u001b[0m\u001b[0m\n\u001b[0m",
      "\u001b[0;31mNameError\u001b[0m: name 'restaurants' is not defined"
     ]
    }
   ],
   "source": [
    "restaurants"
   ]
  },
  {
   "cell_type": "markdown",
   "metadata": {},
   "source": [
    "To access a variable from a different file, we simply have to tell Python that file and then the variable we want."
   ]
  },
  {
   "cell_type": "code",
   "execution_count": 2,
   "metadata": {},
   "outputs": [],
   "source": [
    "from yelp_restaurants import restaurants"
   ]
  },
  {
   "cell_type": "markdown",
   "metadata": {},
   "source": [
    "So we just told Python to find the file `yelp_restaurants` and in there import the variable `restaurants`, which you'll see named in `yelp_restaurants.py` file.  \n",
    "\n",
    "Now we can access the restaurants."
   ]
  },
  {
   "cell_type": "code",
   "execution_count": 3,
   "metadata": {},
   "outputs": [
    {
     "data": {
      "text/plain": [
       "20"
      ]
     },
     "execution_count": 3,
     "metadata": {},
     "output_type": "execute_result"
    }
   ],
   "source": [
    "type(restaurants)\n",
    "# list\n",
    "\n",
    "len(restaurants)"
   ]
  },
  {
   "cell_type": "markdown",
   "metadata": {},
   "source": [
    "Let's take a look at our first buffet."
   ]
  },
  {
   "cell_type": "code",
   "execution_count": 4,
   "metadata": {},
   "outputs": [
    {
     "data": {
      "text/plain": [
       "{'name': 'Dhaba Indian Cuisine',\n",
       " 'review_count': 1441,\n",
       " 'price': '$$',\n",
       " 'rating': 3.5,\n",
       " 'coordinates': {'latitude': 40.742364, 'longitude': -73.982813},\n",
       " 'category': 'Indian'}"
      ]
     },
     "execution_count": 4,
     "metadata": {},
     "output_type": "execute_result"
    }
   ],
   "source": [
    "restaurants[0]"
   ]
  },
  {
   "cell_type": "markdown",
   "metadata": {},
   "source": [
    "Ok, looks good.  Now our next task will be to take this data and use it to create markers on a folium map."
   ]
  },
  {
   "cell_type": "markdown",
   "metadata": {},
   "source": [
    "### A quick review of folium"
   ]
  },
  {
   "cell_type": "markdown",
   "metadata": {},
   "source": [
    "Ok, so let's go back to the [folium library](https://github.com/python-visualization/folium).  As we know, we can use folium to plot our maps.  \n",
    "\n",
    "We create a map of NYC with the following code."
   ]
  },
  {
   "cell_type": "code",
   "execution_count": 37,
   "metadata": {},
   "outputs": [],
   "source": [
    "import folium\n",
    "nyc_map = folium.Map(location = [40.7128, -74.0060], zoom_start=12)"
   ]
  },
  {
   "cell_type": "markdown",
   "metadata": {},
   "source": [
    "In the last lesson, we created a marker with the following code:\n",
    "\n",
    "```python\n",
    " marker = folium.Marker(location = [40.7128, -74.0060], popup = 'big apple')\n",
    "```"
   ]
  },
  {
   "cell_type": "markdown",
   "metadata": {},
   "source": [
    "Let's adjust that code so that we can plot the location of our first restaurant.  First, we retrieve the first restaurant from our list."
   ]
  },
  {
   "cell_type": "code",
   "execution_count": 38,
   "metadata": {},
   "outputs": [
    {
     "data": {
      "text/plain": [
       "{'name': 'Dhaba Indian Cuisine',\n",
       " 'review_count': 1441,\n",
       " 'price': '$$',\n",
       " 'rating': 3.5,\n",
       " 'coordinates': {'latitude': 40.742364, 'longitude': -73.982813},\n",
       " 'category': 'Indian'}"
      ]
     },
     "execution_count": 38,
     "metadata": {},
     "output_type": "execute_result"
    }
   ],
   "source": [
    "first_restaurant = restaurants[0]\n",
    "first_restaurant"
   ]
  },
  {
   "cell_type": "markdown",
   "metadata": {},
   "source": [
    "Let's pull out the data we need for the marker.  Looks like we need the longitude and latitude, and let's retreive the name to use as the `popup`."
   ]
  },
  {
   "cell_type": "code",
   "execution_count": 39,
   "metadata": {},
   "outputs": [],
   "source": [
    "name = first_restaurant['name']\n",
    "latitude = first_restaurant['coordinates']['latitude']\n",
    "longitude = first_restaurant['coordinates']['longitude']"
   ]
  },
  {
   "cell_type": "markdown",
   "metadata": {},
   "source": [
    "Finally we can create our marker, and then add it to the map."
   ]
  },
  {
   "cell_type": "code",
   "execution_count": 40,
   "metadata": {},
   "outputs": [],
   "source": [
    "marker = folium.Marker(location = [latitude, longitude], popup = name)"
   ]
  },
  {
   "cell_type": "code",
   "execution_count": 41,
   "metadata": {},
   "outputs": [
    {
     "data": {
      "text/plain": [
       "<folium.map.Marker at 0x11edf4c18>"
      ]
     },
     "execution_count": 41,
     "metadata": {},
     "output_type": "execute_result"
    }
   ],
   "source": [
    "marker.add_to(nyc_map)"
   ]
  },
  {
   "cell_type": "markdown",
   "metadata": {},
   "source": [
    "Ok, let's see the map."
   ]
  },
  {
   "cell_type": "code",
   "execution_count": 42,
   "metadata": {},
   "outputs": [
    {
     "data": {
      "text/html": [
       "<div style=\"width:100%;\"><div style=\"position:relative;width:100%;height:0;padding-bottom:60%;\"><iframe src=\"data:text/html;charset=utf-8;base64,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\" style=\"position:absolute;width:100%;height:100%;left:0;top:0;border:none !important;\" allowfullscreen webkitallowfullscreen mozallowfullscreen></iframe></div></div>"
      ],
      "text/plain": [
       "<folium.folium.Map at 0x11edf4978>"
      ]
     },
     "execution_count": 42,
     "metadata": {},
     "output_type": "execute_result"
    }
   ],
   "source": [
    "nyc_map"
   ]
  },
  {
   "cell_type": "markdown",
   "metadata": {},
   "source": [
    "## Placing markers"
   ]
  },
  {
   "cell_type": "markdown",
   "metadata": {},
   "source": [
    "Once we did this for one marker we should know how to plot for multiple markers.  Let's copy our code from above and work from there."
   ]
  },
  {
   "cell_type": "code",
   "execution_count": 43,
   "metadata": {},
   "outputs": [],
   "source": [
    "first_restaurant = restaurants[0]\n",
    "\n",
    "name = first_restaurant['name']\n",
    "latitude = first_restaurant['coordinates']['latitude']\n",
    "longitude = first_restaurant['coordinates']['longitude']\n",
    "marker = folium.Marker(location = [latitude, longitude], popup = name)\n",
    "marker.add_to(nyc_map)"
   ]
  },
  {
   "cell_type": "markdown",
   "metadata": {},
   "source": [
    "Another good technique is to write out our procedure as a comment, and then translate those comments into code.  Here is our comment."
   ]
  },
  {
   "cell_type": "code",
   "execution_count": 46,
   "metadata": {},
   "outputs": [],
   "source": [
    "# For each restaurant in our list of restaurants\n",
    "# we need to retreive the `name`, `latitude`, and `longitude`, \n",
    "\n",
    "# then pass that data into a marker \n",
    "# and add that marker as a map"
   ]
  },
  {
   "cell_type": "markdown",
   "metadata": {},
   "source": [
    "And here is the respective code."
   ]
  },
  {
   "cell_type": "code",
   "execution_count": 47,
   "metadata": {},
   "outputs": [],
   "source": [
    "# For each restaurant in our list of restaurants\n",
    "for restaurant in restaurants:\n",
    "    # we need to retreive the `name`, `latitude`, and `longitude`, \n",
    "    name = restaurant['name']\n",
    "    latitude = restaurant['coordinates']['latitude']\n",
    "    longitude = restaurant['coordinates']['longitude']\n",
    "    # then pass that data into a marker \n",
    "    marker = folium.Marker(location = [latitude, longitude], popup = name)\n",
    "    \n",
    "    # and add that marker as a map\n",
    "    marker.add_to(nyc_map)"
   ]
  },
  {
   "cell_type": "code",
   "execution_count": 48,
   "metadata": {},
   "outputs": [
    {
     "data": {
      "text/html": [
       "<div style=\"width:100%;\"><div style=\"position:relative;width:100%;height:0;padding-bottom:60%;\"><iframe src=\"data:text/html;charset=utf-8;base64,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\" style=\"position:absolute;width:100%;height:100%;left:0;top:0;border:none !important;\" allowfullscreen webkitallowfullscreen mozallowfullscreen></iframe></div></div>"
      ],
      "text/plain": [
       "<folium.folium.Map at 0x11edf4978>"
      ]
     },
     "execution_count": 48,
     "metadata": {},
     "output_type": "execute_result"
    }
   ],
   "source": [
    "nyc_map"
   ]
  },
  {
   "cell_type": "markdown",
   "metadata": {},
   "source": [
    "### Summary"
   ]
  },
  {
   "cell_type": "markdown",
   "metadata": {},
   "source": [
    "In this lesson, we saw how to take data from Yelp and map that data.  We did so by first trying to plot one datapoint on the map.  And feeling good about that, we then moved to our for loop.  First, we wrote out the procedure for plotting multiple datapoints on the map in comments.  Then we turned those comments into the corresponding code."
   ]
  }
 ],
 "metadata": {
  "kernelspec": {
   "display_name": "Python 3",
   "language": "python",
   "name": "python3"
  },
  "language_info": {
   "codemirror_mode": {
    "name": "ipython",
    "version": 3
   },
   "file_extension": ".py",
   "mimetype": "text/x-python",
   "name": "python",
   "nbconvert_exporter": "python",
   "pygments_lexer": "ipython3",
   "version": "3.7.0"
  }
 },
 "nbformat": 4,
 "nbformat_minor": 2
}
