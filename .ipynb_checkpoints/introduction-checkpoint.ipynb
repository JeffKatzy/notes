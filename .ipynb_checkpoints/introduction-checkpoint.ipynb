{
 "cells": [
  {
   "cell_type": "markdown",
   "metadata": {},
   "source": [
    "### Data Science: Where we are now"
   ]
  },
  {
   "cell_type": "markdown",
   "metadata": {},
   "source": [
    "A lot of people want data science nowadays.  It's becoming apparent that the amount of data we are capturing or could be capturing is immense, and there is advantage extracting insights from and then acting on this data.  That is the value of a data scientist.\n",
    "\n",
    "This *application* of this skillset is coming to almost any field where decisions are made.  Businesses use this data to decide who to market to, what to market, and even to predict future revenues.  In 2012, the Obama campaign employed a fifty-four team specializing in data analytics to decide how to and what voters to target.  And of course tech and car companies are using data science to develop self-driving cars."
   ]
  },
  {
   "cell_type": "markdown",
   "metadata": {},
   "source": [
    "### Data Science: Why Now?"
   ]
  },
  {
   "cell_type": "markdown",
   "metadata": {},
   "source": [
    "Humans have always been making sense of data.  And humans have spent a lot of time developing formal methods to analyse this data.  Probability theory was invented in the 1600s, and many hallmarks of statistics were developed about 80 years ago."
   ]
  },
  {
   "cell_type": "markdown",
   "metadata": {},
   "source": [
    "* Data goes digital \n",
    "\n",
    "One large change, is the digitization of data.  Which allows to use computers to make sense of it.\n",
    "\n",
    "Now instead of data living inside of an individual's brain, data can be shared on the Internet worldwide, or within an organization or department.    \n",
    "\n",
    "* Enter the Computer Scientists \n",
    "\n",
    "Another change is computer scientists introducing new ways to analyze this data.  You may know these techniques as *machine learning*, whatever that means (we'll get there).\n",
    "\n",
    "* Machines take action\n",
    "\n",
    "And the final item making data science more important is the ability of computers to quickly take action with this data.  Computers can now gather data, analyse it, and then take action - like say approve someone for a loan, all with minimal intervention from a human.  "
   ]
  },
  {
   "cell_type": "markdown",
   "metadata": {},
   "source": [
    "### Data Science: What now?"
   ]
  },
  {
   "cell_type": "markdown",
   "metadata": {},
   "source": [
    "So what is data science?  Data science uses a multi-disciplinary field that extracts knowledge and insights from structured and unstructured data."
   ]
  },
  {
   "cell_type": "markdown",
   "metadata": {},
   "source": [
    "When we say multi-disciplinary we mean the combination of three fields:\n",
    "\n",
    "1. programming,\n",
    "2. statistics/machine learning, \n",
    "3. business intelligence"
   ]
  },
  {
   "cell_type": "markdown",
   "metadata": {},
   "source": [
    "### The stages of data science"
   ]
  },
  {
   "cell_type": "markdown",
   "metadata": {},
   "source": [
    "If you think this is a lot to learn, you are right.  But don't worry, data science is not an all or nothing proposition.  The value comes in layers.\n",
    "\n",
    "Just learning how to capture some of this digital information can add value.  Then making sense of it with statistical analysis and machine learning adds more.  And finally, of course, comes making decisions or taking action this analysis.\n"
   ]
  },
  {
   "cell_type": "markdown",
   "metadata": {},
   "source": [
    "Data scientists call this the data science pyramid."
   ]
  },
  {
   "cell_type": "markdown",
   "metadata": {},
   "source": [
    "<img src=\"http://theburndown.com/wp-content/uploads/2017/03/The-Data-Value-Prramid-1024x510.png\" />"
   ]
  },
  {
   "cell_type": "markdown",
   "metadata": {},
   "source": [
    "It's used to explain to businesses the steps necessary to fully extract value from data.  Many organizations struggle with the lowest level of the pyramid, just gathering the raw data.  It can be a tricky task.  But with programming skills, this task becomes easier.  And that's where we'll start, in the next lesson. "
   ]
  },
  {
   "cell_type": "markdown",
   "metadata": {},
   "source": [
    "### Summary"
   ]
  },
  {
   "cell_type": "markdown",
   "metadata": {},
   "source": [
    "From this lesson, hopefully you have a sense of "
   ]
  },
  {
   "cell_type": "code",
   "execution_count": null,
   "metadata": {},
   "outputs": [],
   "source": []
  }
 ],
 "metadata": {
  "kernelspec": {
   "display_name": "Python 3",
   "language": "python",
   "name": "python3"
  },
  "language_info": {
   "codemirror_mode": {
    "name": "ipython",
    "version": 3
   },
   "file_extension": ".py",
   "mimetype": "text/x-python",
   "name": "python",
   "nbconvert_exporter": "python",
   "pygments_lexer": "ipython3",
   "version": "3.7.0"
  }
 },
 "nbformat": 4,
 "nbformat_minor": 2
}
