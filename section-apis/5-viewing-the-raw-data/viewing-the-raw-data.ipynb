{
 "cells": [
  {
   "cell_type": "markdown",
   "metadata": {},
   "source": [
    "## Viewing the raw data"
   ]
  },
  {
   "cell_type": "markdown",
   "metadata": {},
   "source": [
    "If we look at our favorite code, we are narrowing down on the list of things to learn before tying together how web apis work.\n",
    "\n",
    "```python\n",
    "\n",
    "import requests\n",
    "response = requests.get(\"https://www.googleapis.com/books/v1/volumes?q=tom%20sawyer\")\n",
    "response.json()\n",
    "\n",
    "```\n",
    "\n",
    "We know that a request is something sent by our computer to a website.  To request different kinds of information, we change the URL with names that specify what kind of information we would like back.  After making this request to a website or web service, the website sends us back some information.  In this lesson we'll dig in just a little deeper about requests, and also the data sent back in the response.  After this lesson, we'll be ready to start writing code to make our own customized requests and receive back responses."
   ]
  },
  {
   "cell_type": "markdown",
   "metadata": {},
   "source": [
    "### Seeing the response we get back"
   ]
  },
  {
   "cell_type": "markdown",
   "metadata": {},
   "source": [
    "Because it's a little easier than seeing the request, let's start off by seeing the raw data that is sent back in a **response**, and later would look more closely at the request."
   ]
  },
  {
   "cell_type": "markdown",
   "metadata": {},
   "source": [
    "Ok, so when we go to a URL like `www.espn.com` it may seem like what we get back are a bunch background colors and evenly spaced content, but really all we get back is text.  The text that is sent back is HTML, which stands for Hypertext Markup Language.  We can see this text if we open our web inspector.  "
   ]
  },
  {
   "cell_type": "markdown",
   "metadata": {},
   "source": [
    "If you are using Google Chrome, you can get to the web inspector by right clicking (or two finger clicking on a Mac) while on any website, and the moving down the dropdown until you reach `inspect`.  Click on inspect and under the `elements` tab you will find displayed HTML.  HTML text which declares the content we see on a webpage.  As you click your cursor on different HTML in your web inspector, you will the corresponding HTML highlight."
   ]
  },
  {
   "cell_type": "markdown",
   "metadata": {},
   "source": [
    "<img src=\"./web-inspector-1.gif\" width=\"70%\" />"
   ]
  },
  {
   "cell_type": "markdown",
   "metadata": {},
   "source": [
    "Right now, we don't need to understand the details of HTML.  Instead it is enough to know that when our computer visits a website, we receive back text.  Then a broswer like Google Chrome knows how to translate this HTML text into the organized webpage we see.  "
   ]
  },
  {
   "cell_type": "markdown",
   "metadata": {},
   "source": [
    "### Viewing the Request"
   ]
  },
  {
   "cell_type": "markdown",
   "metadata": {},
   "source": [
    "Just like seeing the response, we can also view **the request** with use of the web inspector."
   ]
  },
  {
   "cell_type": "markdown",
   "metadata": {},
   "source": [
    "> First, we right click (or two finger click on a Mac) on the web page, and select `Inspect`.  At the top of the web inspector panel, you'll see a tab that says `Network`, click on that.  This shows the requests that we made to the website.  But it didn't capture the request we initially made to `espn.com` because it was unopened.  So now with the web inspector open, refresh the page by highlighting the URL and pressing enter (or just try the shortcut CMD+R).  You will see a long line of requests pop up.  Scroll to the very top of them and the first or second one down will be a request to `www.espn.com`.  Click on that, adn then click on `Headers`."
   ]
  },
  {
   "cell_type": "markdown",
   "metadata": {},
   "source": [
    "<img src=\"./web-request-with-inspector.gif\" />"
   ]
  },
  {
   "cell_type": "markdown",
   "metadata": {},
   "source": [
    "If you find the request to `www.espn.com` you will see that request method is a GET request."
   ]
  },
  {
   "cell_type": "markdown",
   "metadata": {},
   "source": [
    "<img src=\"./request-info.png\" width=\"50%\"/>"
   ]
  },
  {
   "cell_type": "markdown",
   "metadata": {},
   "source": [
    "On the web, there are two different types of requests we can make.  A GET request or a POST request.  A GET request is when we are just asking for different information, like we have been so far.  A POST request is when we want to change information on the website -- this happens if we update our user profile information or send out a tweet.  The corresponding website's information will be changed as it stores this tweet in it's database.  However, if we ask for information, there is nothing new to store, just information to receive back."
   ]
  },
  {
   "cell_type": "markdown",
   "metadata": {},
   "source": [
    "### Getting back JSON"
   ]
  },
  {
   "cell_type": "markdown",
   "metadata": {},
   "source": [
    "Now when we go to a website, we don't *have* to get back HTML. HTML is great for properly displaying a website, but it's not an easy way for programmers or data scientists to collect information.  APIs are designed for computer programmers and data scientists, so they generally don't send back HTML, they send back JSON. \n",
    "\n",
    "> JSON stands for Javascript Object Notation.  But that's not really important.  What is important is that to people who know how to programming languages like Python, getting information back in this format will make things a lot easier for us."
   ]
  },
  {
   "cell_type": "markdown",
   "metadata": {},
   "source": [
    "[click here](https://www.googleapis.com/books/v1/volumes?q=Tom%20Sawyer)"
   ]
  },
  {
   "cell_type": "markdown",
   "metadata": {},
   "source": [
    "<img src=\"api-screenshot.png\" width=\"40%\">"
   ]
  },
  {
   "cell_type": "markdown",
   "metadata": {},
   "source": [
    "That right there is JSON.  And congratulations! You just made a request and received back a response from an API.  "
   ]
  },
  {
   "cell_type": "markdown",
   "metadata": {},
   "source": [
    "### A little more about APIs"
   ]
  },
  {
   "cell_type": "markdown",
   "metadata": {},
   "source": [
    "Now, an API just stands for an application programming interface.  The key word there is interface.  An API provides the *interface* to access information from another computer.  We just used an API above by clicking a link to the URL: \n",
    "\n",
    "`https://www.googleapis.com/books/v1/volumes?q=Tom%20Sawyer`"
   ]
  },
  {
   "cell_type": "markdown",
   "metadata": {},
   "source": [
    "The interface to the API, that is, the way that we access information from it, is by sending requests by entering different URLs (or clicking a link, which is equivalent). Because the interface is just the URL, understanding the pattern behind that URL is key understanding the how to use the Google books application.  Lucky for us, we have already received some training on that topic.\n",
    "\n",
    "As you may have guessed, the key part comes after the `q=`.  We can place whatever title we want, and Google will send us back data about the corresponding book.  Let's try searching for information on \"Harry Potter and the Chamber of Secrets\"."
   ]
  },
  {
   "cell_type": "markdown",
   "metadata": {},
   "source": [
    "![](./harry-potter-books-api.gif)"
   ]
  },
  {
   "cell_type": "markdown",
   "metadata": {},
   "source": [
    "Ok, so the key takeaway here is that when someone says API, or application programming interface, **the application** is a website -- also called a web service or a web application -- and the **the interface** to that website are different URLs that we send.  Then the web service *responds* with that information, typically not with HTML but with JSON.\n",
    "\n",
    "We receive back JSON because a programming language like Python is a natural partner for navigating and interpreting this information."
   ]
  },
  {
   "cell_type": "markdown",
   "metadata": {},
   "source": [
    "### Summary"
   ]
  },
  {
   "cell_type": "markdown",
   "metadata": {},
   "source": [
    "In this lesson, we learned about the request response cycle.  When using the Internet, we *request* information from a website by typing in a specific url (or web address), and this request makes it's way to a computer connected on the Internet that sends back text.\n",
    "\n",
    "Now, normally we get that text back in the form of HTML, like when we visit `www.espn.com`.  And our browser can understand the HTML and use it to display a website.  \n",
    "\n",
    "As programmers, it is often more easy to gather information by requesting information from an API.  An API  an application programming interface, where the application is a website that sends back JSON (that squiggly stuff above), and the interface to use that website are the various URLs we can type in to get back data.  An API also adheres to the request response cycle (it's just a website), so we request information from the API by typing in a URL and the response is the data in the form of JSON that we get back.       "
   ]
  }
 ],
 "metadata": {
  "kernelspec": {
   "display_name": "Python 3",
   "language": "python",
   "name": "python3"
  },
  "language_info": {
   "codemirror_mode": {
    "name": "ipython",
    "version": 3
   },
   "file_extension": ".py",
   "mimetype": "text/x-python",
   "name": "python",
   "nbconvert_exporter": "python",
   "pygments_lexer": "ipython3",
   "version": "3.7.0"
  }
 },
 "nbformat": 4,
 "nbformat_minor": 2
}
