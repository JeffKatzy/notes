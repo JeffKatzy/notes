{
 "cells": [
  {
   "cell_type": "markdown",
   "metadata": {},
   "source": [
    "# Just a bit of Python"
   ]
  },
  {
   "cell_type": "markdown",
   "metadata": {},
   "source": [
    "### Introduction"
   ]
  },
  {
   "cell_type": "markdown",
   "metadata": {},
   "source": [
    "So far we have developed our understanding about the fundamentals of how the Internet works.  That is, we have learned how the browser makes requests to receive information back from another computer connected to the Internet.  We learned about how we request information with a `GET` request from a URL generally organized into `resources`.  We saw that we receive back a response, in the form of HTML for normal browsing of the Internet, and in the form of JSON when only would like to receive this data in a form that is easier for programming languages like Python to interact with."
   ]
  },
  {
   "cell_type": "markdown",
   "metadata": {},
   "source": [
    "### Sliding into Python"
   ]
  },
  {
   "cell_type": "markdown",
   "metadata": {},
   "source": [
    "Ok, it's time to try to use code to request some data, and receive that data back in the form of JSON.  \n",
    "\n",
    "The first question might be how do we write code?  Well, we can't write code in any document, like a Word document or an email, but we can here.  Right now, we are working inside of a Jupyter Notebook.  A Jupyter Notebook is a tool that data scientists use as it allows them to write text, as you see right now, as well as program code. "
   ]
  },
  {
   "cell_type": "markdown",
   "metadata": {},
   "source": [
    "Here is some code, written in the Python programming language."
   ]
  },
  {
   "cell_type": "code",
   "execution_count": 1,
   "metadata": {},
   "outputs": [
    {
     "data": {
      "text/plain": [
       "2"
      ]
     },
     "execution_count": 1,
     "metadata": {},
     "output_type": "execute_result"
    }
   ],
   "source": [
    "1 + 1"
   ]
  },
  {
   "cell_type": "markdown",
   "metadata": {},
   "source": [
    "Watch the video below, and then read the description below to see how we can begin writing code in this Jupyter Notebook."
   ]
  },
  {
   "cell_type": "markdown",
   "metadata": {},
   "source": [
    "<img src=\"jupyter-python.gif\" width=\"40%\" />"
   ]
  },
  {
   "cell_type": "markdown",
   "metadata": {},
   "source": [
    "> 1. Click on the gray cell below, so that you see a cursor there.  You'll notice that after clicking on it, there is a blue bar indicating that the cell is highlighted.  \n",
    "> 2. With the cell highlighted, then type in `3 + 10`.\n",
    "> 3. Then, with the cell still highlighted, press the keys `shift` and `enter` at the same time.  "
   ]
  },
  {
   "cell_type": "code",
   "execution_count": null,
   "metadata": {},
   "outputs": [],
   "source": []
  },
  {
   "cell_type": "markdown",
   "metadata": {},
   "source": [
    "## Working with variables"
   ]
  },
  {
   "cell_type": "markdown",
   "metadata": {},
   "source": [
    "Ok, now that we know how to write and execute some Python (by pressing shift + enter).  It's time to learn just a little bit about Python variables.  Now variables are simply a way for us to store information.\n",
    "\n",
    "For example, in the code above, we calculated that `10 + 3` is `13`.  Now that calculation is pretty trivial, but imagine if we were adding up something more complex like adding up a restaurants's revenue from different business lines to calculate total revenue in a year.  For example, maybe the business earns 212 thousand from delivery, and 323 thousand from in restaurant orders, and 57 thousand from catering.  Calculating total revenue isn't bad."
   ]
  },
  {
   "cell_type": "code",
   "execution_count": 4,
   "metadata": {},
   "outputs": [
    {
     "data": {
      "text/plain": [
       "592"
      ]
     },
     "execution_count": 4,
     "metadata": {},
     "output_type": "execute_result"
    }
   ],
   "source": [
    "212 + 323 + 57"
   ]
  },
  {
   "cell_type": "markdown",
   "metadata": {},
   "source": [
    "Now, in doing taxes, or checking our accounting, we may think that we'll have to use this total revenue number again.  But if we look at the above code months or even a couple hours later, it may be hard to remember what it meant.  We can associate a name to this number with the following."
   ]
  },
  {
   "cell_type": "code",
   "execution_count": 5,
   "metadata": {},
   "outputs": [],
   "source": [
    "total_revenue = 592"
   ]
  },
  {
   "cell_type": "markdown",
   "metadata": {},
   "source": [
    "So in the above line, we just associated the word `total_revenue` with the number 592.  We can see this by just typing the word `total_revenue`."
   ]
  },
  {
   "cell_type": "code",
   "execution_count": 6,
   "metadata": {},
   "outputs": [
    {
     "data": {
      "text/plain": [
       "592"
      ]
     },
     "execution_count": 6,
     "metadata": {},
     "output_type": "execute_result"
    }
   ],
   "source": [
    "total_revenue"
   ]
  },
  {
   "cell_type": "markdown",
   "metadata": {},
   "source": [
    "So we save information in a variable the same way use save information in a file by saving it with a name.\n",
    "\n",
    "<img src=\"./save-as-mac.png\" width=\"60%\">"
   ]
  },
  {
   "cell_type": "markdown",
   "metadata": {},
   "source": [
    "Except here we do it in the format of `name = data`. And then pressing `shift + enter` instead of clicking save.\n",
    "```python\n",
    "total_revenue = 592\n",
    "```"
   ]
  },
  {
   "cell_type": "markdown",
   "metadata": {},
   "source": [
    "We can use any name we like, but it cannot begin with a number, and the variable name cannot be separated with a space."
   ]
  },
  {
   "cell_type": "markdown",
   "metadata": {},
   "source": [
    "Now retreiving information from a variable is like retreiving data in a file by double clicking on the name of the file.\n",
    "\n",
    "<img src=\"./open-matt.png\" width=\"60%\">"
   ]
  },
  {
   "cell_type": "markdown",
   "metadata": {},
   "source": [
    "Except with a variable, we access the data simply by writing the name of the variable and pressing `shift + enter`."
   ]
  },
  {
   "cell_type": "code",
   "execution_count": 8,
   "metadata": {},
   "outputs": [
    {
     "data": {
      "text/plain": [
       "592"
      ]
     },
     "execution_count": 8,
     "metadata": {},
     "output_type": "execute_result"
    }
   ],
   "source": [
    "total_revenue"
   ]
  },
  {
   "cell_type": "markdown",
   "metadata": {},
   "source": [
    "Finally we can act on the variable, the same way that we would act directly on the data itself."
   ]
  },
  {
   "cell_type": "code",
   "execution_count": 9,
   "metadata": {},
   "outputs": [
    {
     "data": {
      "text/plain": [
       "593"
      ]
     },
     "execution_count": 9,
     "metadata": {},
     "output_type": "execute_result"
    }
   ],
   "source": [
    "592 + 1"
   ]
  },
  {
   "cell_type": "code",
   "execution_count": 10,
   "metadata": {},
   "outputs": [
    {
     "data": {
      "text/plain": [
       "593"
      ]
     },
     "execution_count": 10,
     "metadata": {},
     "output_type": "execute_result"
    }
   ],
   "source": [
    "total_revenue + 1"
   ]
  },
  {
   "cell_type": "markdown",
   "metadata": {},
   "source": [
    "## Your turn"
   ]
  },
  {
   "cell_type": "markdown",
   "metadata": {},
   "source": [
    "We'll learn more about variables, and Jupyter Notebooks in the Introduction to Python unit.  But this is enough for understanding our code for calling APIs.  But before moving on, let's practice a little bit with variables."
   ]
  },
  {
   "cell_type": "markdown",
   "metadata": {},
   "source": [
    "We said that the business earns the following amounts: \n",
    "    \n",
    "* 212 thousand from delivery\n",
    "* 323 thousand from in restaurant orders\n",
    "* 57 thousand from catering"
   ]
  },
  {
   "cell_type": "markdown",
   "metadata": {},
   "source": [
    "1. In the cell below, store the number 212 in a variable called `delivery`."
   ]
  },
  {
   "cell_type": "code",
   "execution_count": null,
   "metadata": {},
   "outputs": [],
   "source": []
  },
  {
   "cell_type": "markdown",
   "metadata": {},
   "source": [
    "2. In the cell below, store the number 323 in a variable called `orders`."
   ]
  },
  {
   "cell_type": "code",
   "execution_count": null,
   "metadata": {},
   "outputs": [],
   "source": []
  },
  {
   "cell_type": "markdown",
   "metadata": {},
   "source": [
    "Add together `delivery` and `orders` to see the amount the restaurant earns from non-catering customers."
   ]
  },
  {
   "cell_type": "markdown",
   "metadata": {},
   "source": [
    "## Summary"
   ]
  }
 ],
 "metadata": {
  "kernelspec": {
   "display_name": "Python 3",
   "language": "python",
   "name": "python3"
  },
  "language_info": {
   "codemirror_mode": {
    "name": "ipython",
    "version": 3
   },
   "file_extension": ".py",
   "mimetype": "text/x-python",
   "name": "python",
   "nbconvert_exporter": "python",
   "pygments_lexer": "ipython3",
   "version": "3.7.0"
  }
 },
 "nbformat": 4,
 "nbformat_minor": 2
}
