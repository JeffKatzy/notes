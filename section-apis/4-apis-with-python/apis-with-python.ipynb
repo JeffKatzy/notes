{
 "cells": [
  {
   "cell_type": "markdown",
   "metadata": {},
   "source": [
    "# APIs with Python"
   ]
  },
  {
   "cell_type": "markdown",
   "metadata": {},
   "source": [
    "### What we know so far"
   ]
  },
  {
   "cell_type": "markdown",
   "metadata": {},
   "source": [
    "We now know that we can access APIs simply by typing a web address that sends us back JSON. \n",
    "\n",
    "We also know that we can see the pattern in that URL by knowing that websites generally follow a RESTful convention.  This means that websites are organized in terms of resources that both have a collection, and a member.  With our google API, it looks like the collection is are book volumes, and the single entity is a single book volume."
   ]
  },
  {
   "cell_type": "markdown",
   "metadata": {},
   "source": [
    "<img src=\"./api-screenshot.png\" width=\"60%\">"
   ]
  },
  {
   "cell_type": "markdown",
   "metadata": {},
   "source": [
    "### Time for the Python"
   ]
  },
  {
   "cell_type": "markdown",
   "metadata": {},
   "source": [
    "Ok, so we can call an API in Python with just a few lines of code.  And most of it we can even understand."
   ]
  },
  {
   "cell_type": "markdown",
   "metadata": {},
   "source": [
    "``` python\n",
    "import requests\n",
    "response = requests.get('https://www.googleapis.com/books/v1/volumes?q=Tom%20Sawyer')\n",
    "\n",
    "response.json()\n",
    "\n",
    "{'kind': 'books#volumes',\n",
    " 'totalItems': 2428,\n",
    " 'items': [{'kind': 'books#volume',\n",
    "   'id': 'OR46AQAAIAAJ',\n",
    "   'etag': '2TfL7jymaTM',\n",
    "   'selfLink': 'https://www.googleapis.com/books/v1/volumes/OR46AQAAIAAJ',\n",
    "   'volumeInfo': {'title': 'The Adventures of Tom Sawyer',\n",
    "    'authors': ['Mark Twain'],\n",
    "    'publishedDate': '1920',\n",
    "    'industryIdentifiers': [{'type': 'OTHER',\n",
    "      'identifier': 'STANFORD:36105047945816'}],\n",
    "    'readingModes': {'text': False, 'image': True},\n",
    "    'pageCount': 290,\n",
    "    'printType': 'BOOK',\n",
    "    'categories': ['Sawyer, Tom (Fictitious character)'],\n",
    "    'averageRating': 4.5,\n",
    "    'ratingsCount': 3,\n",
    "    'maturityRating': 'NOT_MATURE',\n",
    "    'allowAnonLogging': False,\n",
    "    'contentVersion': '0.2.1.0.full.1',\n",
    "    'imageLinks': {'smallThumbnail': 'http://books.google.com/books/content?id=OR46AQAAIAAJ&printsec=frontcover&img=1&zoom=5&edge=curl&source=gbs_api',\n",
    "     'thumbnail': 'http://books.google.com/books/content?id=OR46AQAAIAAJ&printsec=frontcover&img=1&zoom=1&edge=curl&source=gbs_api'}\n",
    "                  \n",
    "...\n",
    "                  \n",
    "  ```"
   ]
  },
  {
   "cell_type": "markdown",
   "metadata": {},
   "source": [
    "### Understanding the code"
   ]
  },
  {
   "cell_type": "markdown",
   "metadata": {},
   "source": [
    "Let's break down this code line by line."
   ]
  },
  {
   "cell_type": "markdown",
   "metadata": {},
   "source": [
    "```python\n",
    "import requests\n",
    "response = requests.get('https://www.googleapis.com/books/v1/volumes?q=Tom%20Sawyer')\n",
    "response.json()\n",
    "\n",
    "```"
   ]
  },
  {
   "cell_type": "code",
   "execution_count": null,
   "metadata": {},
   "outputs": [],
   "source": []
  }
 ],
 "metadata": {
  "kernelspec": {
   "display_name": "Python 3",
   "language": "python",
   "name": "python3"
  },
  "language_info": {
   "codemirror_mode": {
    "name": "ipython",
    "version": 3
   },
   "file_extension": ".py",
   "mimetype": "text/x-python",
   "name": "python",
   "nbconvert_exporter": "python",
   "pygments_lexer": "ipython3",
   "version": "3.7.0"
  }
 },
 "nbformat": 4,
 "nbformat_minor": 2
}
