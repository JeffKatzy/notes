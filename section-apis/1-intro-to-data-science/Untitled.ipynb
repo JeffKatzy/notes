{
 "cells": [
  {
   "cell_type": "code",
   "execution_count": 1,
   "metadata": {},
   "outputs": [
    {
     "data": {
      "text/html": [
       "<iframe id=\"igraph\" scrolling=\"no\" style=\"border:none;\" seamless=\"seamless\" src=\"https://plot.ly/~JeffKatzy/140.embed\" height=\"600px\" width=\"800px\"></iframe>"
      ],
      "text/plain": [
       "<plotly.tools.PlotlyDisplay object>"
      ]
     },
     "execution_count": 1,
     "metadata": {},
     "output_type": "execute_result"
    }
   ],
   "source": [
    "import plotly.plotly as py\n",
    "import plotly.graph_objs as go\n",
    "\n",
    "trace0 = go.Scatter(\n",
    "    x=[1, 1.75, 2.5],\n",
    "    y=[1, 1, 1],\n",
    "    text=['$A$', '$A+B$', '$B$'],\n",
    "    mode='text',\n",
    "    textfont=dict(\n",
    "        color='black',\n",
    "        size=18,\n",
    "        family='Arail',\n",
    "    )\n",
    ")\n",
    "\n",
    "data = [trace0]\n",
    "\n",
    "layout = {\n",
    "    'xaxis': {\n",
    "        'showticklabels': False,\n",
    "        'showgrid': False,\n",
    "        'zeroline': False,\n",
    "    },\n",
    "    'yaxis': {\n",
    "        'showticklabels': False,\n",
    "        'showgrid': False,\n",
    "        'zeroline': False,\n",
    "    },\n",
    "    'shapes': [\n",
    "        {\n",
    "            'opacity': 0.3,\n",
    "            'xref': 'x',\n",
    "            'yref': 'y',\n",
    "            'fillcolor': 'blue',\n",
    "            'x0': 0,\n",
    "            'y0': 0,\n",
    "            'x1': 2,\n",
    "            'y1': 2,\n",
    "            'type': 'circle',\n",
    "            'line': {\n",
    "                'color': 'blue',\n",
    "            },\n",
    "        },\n",
    "        {\n",
    "            'opacity': 0.3,\n",
    "            'xref': 'x',\n",
    "            'yref': 'y',\n",
    "            'fillcolor': 'yellow',\n",
    "            'x0': 1.5,\n",
    "            'y0': 0,\n",
    "            'x1': 3.5,\n",
    "            'y1': 2,\n",
    "            'type': 'circle',\n",
    "            'line': {\n",
    "                'color': 'yellow',\n",
    "            },\n",
    "        },\n",
    "        {\n",
    "            'opacity': 0.3,\n",
    "            'xref': 'x',\n",
    "            'yref': 'y',\n",
    "            'fillcolor': 'red',\n",
    "            'x0': .7,\n",
    "            'y0': -1,\n",
    "            'x1': 2.7,\n",
    "            'y1': 1,\n",
    "            'type': 'circle',\n",
    "            'line': {\n",
    "                'color': 'red',\n",
    "            },\n",
    "        }\n",
    "    ],\n",
    "    'margin': {\n",
    "        'l': 20,\n",
    "        'r': 20,\n",
    "        'b': 100\n",
    "    },\n",
    "    'height': 600,\n",
    "    'width': 800,\n",
    "}\n",
    "fig = {\n",
    "    'data': data,\n",
    "    'layout': layout,\n",
    "}\n",
    "py.iplot(fig, filename='venn-diagram')\n"
   ]
  },
  {
   "cell_type": "markdown",
   "metadata": {},
   "source": [
    "#### 2. Computer Scientists enter the data game\n",
    "\n",
    "Statistics has been used to draw conclusions from data for the last 200 years.  But in the 1980s and 1990s contributions from computer scientists became more widely used.  These algorithms are now considered some of the most powerful tools to analyze data.  You may know these techniques as *machine learning*, whatever that means (we'll get there).\n",
    "\n",
    "> Below, an image of the random forests algorithm.  Leo Breiman made major contributions to the algorithm's development in 2001.  It is now widely used by data scientists.\n",
    "\n",
    "<img src=\"random-forests.png\" width=\"50%\"> "
   ]
  },
  {
   "cell_type": "code",
   "execution_count": null,
   "metadata": {},
   "outputs": [],
   "source": []
  }
 ],
 "metadata": {
  "kernelspec": {
   "display_name": "Python 3",
   "language": "python",
   "name": "python3"
  },
  "language_info": {
   "codemirror_mode": {
    "name": "ipython",
    "version": 3
   },
   "file_extension": ".py",
   "mimetype": "text/x-python",
   "name": "python",
   "nbconvert_exporter": "python",
   "pygments_lexer": "ipython3",
   "version": "3.7.0"
  }
 },
 "nbformat": 4,
 "nbformat_minor": 2
}
