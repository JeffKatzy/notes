{
 "cells": [
  {
   "cell_type": "markdown",
   "metadata": {},
   "source": [
    "# Just a bit of Python"
   ]
  },
  {
   "cell_type": "markdown",
   "metadata": {},
   "source": [
    "### Introduction"
   ]
  },
  {
   "cell_type": "markdown",
   "metadata": {},
   "source": [
    "So far we have learned more about how the Internet works.  That is, we learned how the browser makes a  **request** and receives a **response** from another computer connected to the Internet.  When requesting information (as opposed to changing information), we generally make a `GET` request from a URL's `resource`.  When requesting information from an API, we are generally returned a JSON so that programming languages like Python can interact with them.\n",
    "\n",
    "Ok, so next we'd like to call our APIs with Python. But before we do that, need to learn how to write a little code.  In this lesson, we'll learn our first bit of Python."
   ]
  },
  {
   "cell_type": "markdown",
   "metadata": {},
   "source": [
    "### Sliding into Python"
   ]
  },
  {
   "cell_type": "markdown",
   "metadata": {},
   "source": [
    "Ok, so the first thing to know is that we can't write code in any document, like a Word document or an email, but we can here.  Right now, we are working inside of a Jupyter Notebook.  A Jupyter Notebook is a tool that data scientists to write both text and write code in the same place. "
   ]
  },
  {
   "cell_type": "markdown",
   "metadata": {},
   "source": [
    "So far we have just seen text."
   ]
  },
  {
   "cell_type": "markdown",
   "metadata": {},
   "source": [
    "But here is some code."
   ]
  },
  {
   "cell_type": "code",
   "execution_count": 2,
   "metadata": {},
   "outputs": [
    {
     "data": {
      "text/plain": [
       "2"
      ]
     },
     "execution_count": 2,
     "metadata": {},
     "output_type": "execute_result"
    }
   ],
   "source": [
    "1 + 1"
   ]
  },
  {
   "cell_type": "markdown",
   "metadata": {},
   "source": [
    "The code above is Python. Watch the video below, and read the description below to see how we can begin writing code in this Jupyter Notebook."
   ]
  },
  {
   "cell_type": "markdown",
   "metadata": {},
   "source": [
    "<img src=\"https://github.com/jigsawlabs/curriculum-assets/blob/master/introduction-to-apis/7-just-a-bit-of-python/jupyter-python.gif?raw=true\" width=\"40%\" />"
   ]
  },
  {
   "cell_type": "markdown",
   "metadata": {},
   "source": [
    "> 1. Click on the gray cell below, so that you see a cursor there.  You'll notice that after clicking on it, there is a blue bar indicating that the cell is highlighted.  \n",
    "> 2. With the cell highlighted, then type in `3 + 10`.\n",
    "> 3. Then, with the cell still highlighted, press the keys `shift` and `enter` at the same time.  "
   ]
  },
  {
   "cell_type": "code",
   "execution_count": null,
   "metadata": {},
   "outputs": [],
   "source": []
  },
  {
   "cell_type": "markdown",
   "metadata": {},
   "source": [
    "## Working with variables"
   ]
  },
  {
   "cell_type": "markdown",
   "metadata": {},
   "source": [
    "Ok, now that we know how to write and execute some Python (by pressing shift + enter).  It's time to learn just a little bit about Python variables.  Now variables are simply a way for us to store information.\n",
    "\n",
    "For example, in the code above, we calculated that `10 + 3` is `13`.  Now that calculation is pretty trivial, but imagine if we were adding up something more complex like adding up a restaurants's revenue from different business lines to calculate total revenue in a year.  For example, maybe the business earns 212 thousand from delivery, and 323 thousand from in restaurant orders, and 57 thousand from catering.  Calculating total revenue isn't bad."
   ]
  },
  {
   "cell_type": "code",
   "execution_count": 4,
   "metadata": {},
   "outputs": [
    {
     "data": {
      "text/plain": [
       "592"
      ]
     },
     "execution_count": 4,
     "metadata": {},
     "output_type": "execute_result"
    }
   ],
   "source": [
    "212 + 323 + 57"
   ]
  },
  {
   "cell_type": "markdown",
   "metadata": {},
   "source": [
    "But in doing taxes, or checking our accounting, we may have to use this total revenue number again.  But if we look at the above just a few hours later, it may be hard to remember what it meant.  To make it easier to remember, we can associate a name to this data like so."
   ]
  },
  {
   "cell_type": "code",
   "execution_count": 5,
   "metadata": {},
   "outputs": [],
   "source": [
    "total_revenue = 592"
   ]
  },
  {
   "cell_type": "markdown",
   "metadata": {},
   "source": [
    "So in the above line, we just associated the word `total_revenue` with the number 592.  We can see this by just typing the word `total_revenue`."
   ]
  },
  {
   "cell_type": "code",
   "execution_count": 6,
   "metadata": {},
   "outputs": [
    {
     "data": {
      "text/plain": [
       "592"
      ]
     },
     "execution_count": 6,
     "metadata": {},
     "output_type": "execute_result"
    }
   ],
   "source": [
    "total_revenue"
   ]
  },
  {
   "cell_type": "markdown",
   "metadata": {},
   "source": [
    "So we just saw how to assign data to a variable, and then retrieve data to a variable.  One way to think about this, is like saving a Word document."
   ]
  },
  {
   "cell_type": "markdown",
   "metadata": {},
   "source": [
    "After all, we save information in a variable the same way use save information in a file -- by saving it with a name.\n",
    "\n",
    "<img src=\"https://github.com/jigsawlabs/curriculum-assets/blob/master/introduction-to-apis/7-just-a-bit-of-python/save-as-mac.png?raw=true\" width=\"60%\">"
   ]
  },
  {
   "cell_type": "markdown",
   "metadata": {},
   "source": [
    "Except here we do it in the format of `name = data`. And then pressing `shift + enter` instead of clicking save.\n",
    "```python\n",
    "total_revenue = 592\n",
    "```"
   ]
  },
  {
   "cell_type": "markdown",
   "metadata": {},
   "source": [
    "We can use any name we like, but it cannot begin with a number, and the variable name cannot be separated with a space."
   ]
  },
  {
   "cell_type": "markdown",
   "metadata": {},
   "source": [
    "Now retreiving information from a variable is like retreiving data in a file by double clicking on the name of the file.\n",
    "\n",
    "<img src=\"https://github.com/jigsawlabs/curriculum-assets/blob/master/introduction-to-apis/7-just-a-bit-of-python/open-file.png?raw=true\" width=\"60%\">"
   ]
  },
  {
   "cell_type": "markdown",
   "metadata": {},
   "source": [
    "Except with a variable, we access the data simply by writing the name of the variable and pressing `shift + enter`."
   ]
  },
  {
   "cell_type": "code",
   "execution_count": 8,
   "metadata": {},
   "outputs": [
    {
     "data": {
      "text/plain": [
       "592"
      ]
     },
     "execution_count": 8,
     "metadata": {},
     "output_type": "execute_result"
    }
   ],
   "source": [
    "total_revenue"
   ]
  },
  {
   "cell_type": "markdown",
   "metadata": {},
   "source": [
    "One last thing to know about variables is that we can act on the variable, the same way that we would act directly on the data itself."
   ]
  },
  {
   "cell_type": "code",
   "execution_count": 9,
   "metadata": {},
   "outputs": [
    {
     "data": {
      "text/plain": [
       "593"
      ]
     },
     "execution_count": 9,
     "metadata": {},
     "output_type": "execute_result"
    }
   ],
   "source": [
    "592 + 1"
   ]
  },
  {
   "cell_type": "code",
   "execution_count": 10,
   "metadata": {},
   "outputs": [
    {
     "data": {
      "text/plain": [
       "593"
      ]
     },
     "execution_count": 10,
     "metadata": {},
     "output_type": "execute_result"
    }
   ],
   "source": [
    "total_revenue + 1"
   ]
  },
  {
   "cell_type": "markdown",
   "metadata": {},
   "source": [
    "## Summary"
   ]
  },
  {
   "cell_type": "markdown",
   "metadata": {},
   "source": [
    "In this lesson, we learned about writing code in a Jupyter notebook and Python variables.  Don't worry if you don't feel super comfortable with these topics, our unit on Python fundamentals also covers these topics.\n",
    "\n",
    "This is what you need to know.\n",
    "\n",
    "We write both text and Python in a Jupyter notebook.  To write code simply click on a one of the gray cells below, write code like `1 + 1` and press shift + enter to execute that code.  "
   ]
  },
  {
   "cell_type": "markdown",
   "metadata": {},
   "source": [
    "We also learned about variables in Python.  Variables are a way to store and name our data.  We assign data to a variable by writing `variable_name = data`. As in:"
   ]
  },
  {
   "cell_type": "code",
   "execution_count": 6,
   "metadata": {},
   "outputs": [],
   "source": [
    "number_of_customers = 300"
   ]
  },
  {
   "cell_type": "markdown",
   "metadata": {},
   "source": [
    "Then we retrieve that data with the simply by writing the name of that variable and pressing `shift + enter`."
   ]
  },
  {
   "cell_type": "code",
   "execution_count": 7,
   "metadata": {},
   "outputs": [
    {
     "data": {
      "text/plain": [
       "300"
      ]
     },
     "execution_count": 7,
     "metadata": {},
     "output_type": "execute_result"
    }
   ],
   "source": [
    "number_of_customers"
   ]
  },
  {
   "cell_type": "markdown",
   "metadata": {},
   "source": [
    "## Your turn"
   ]
  },
  {
   "cell_type": "markdown",
   "metadata": {},
   "source": [
    "Ok so this little bit of knowledge should be enough to understand the code we'll write when we call APIs with Python.  But before moving on, let's practice a little bit with variables."
   ]
  },
  {
   "cell_type": "markdown",
   "metadata": {},
   "source": [
    "We said that the business earns the following amounts: \n",
    "    \n",
    "* 212 thousand from delivery\n",
    "* 323 thousand from in restaurant orders\n",
    "* 57 thousand from catering"
   ]
  },
  {
   "cell_type": "markdown",
   "metadata": {},
   "source": [
    "1. In the cell below, store the number 212 in a variable called `delivery`."
   ]
  },
  {
   "cell_type": "code",
   "execution_count": null,
   "metadata": {},
   "outputs": [],
   "source": []
  },
  {
   "cell_type": "markdown",
   "metadata": {},
   "source": [
    "2. In the cell below, store the number 323 in a variable called `orders`."
   ]
  },
  {
   "cell_type": "code",
   "execution_count": null,
   "metadata": {},
   "outputs": [],
   "source": []
  },
  {
   "cell_type": "markdown",
   "metadata": {},
   "source": [
    "Add together `delivery` and `orders` to see the amount the restaurant earns from non-catering customers."
   ]
  },
  {
   "cell_type": "code",
   "execution_count": null,
   "metadata": {},
   "outputs": [],
   "source": []
  }
 ],
 "metadata": {
  "kernelspec": {
   "display_name": "Python 3",
   "language": "python",
   "name": "python3"
  },
  "language_info": {
   "codemirror_mode": {
    "name": "ipython",
    "version": 3
   },
   "file_extension": ".py",
   "mimetype": "text/x-python",
   "name": "python",
   "nbconvert_exporter": "python",
   "pygments_lexer": "ipython3",
   "version": "3.7.0"
  }
 },
 "nbformat": 4,
 "nbformat_minor": 2
}
