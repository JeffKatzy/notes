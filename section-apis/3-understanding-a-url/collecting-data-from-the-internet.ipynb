{
 "cells": [
  {
   "cell_type": "markdown",
   "metadata": {},
   "source": [
    "# Collecting Data From the Internet"
   ]
  },
  {
   "cell_type": "markdown",
   "metadata": {},
   "source": [
    "## Introduction"
   ]
  },
  {
   "cell_type": "markdown",
   "metadata": {},
   "source": [
    "In the last lesson, we saw that we were able to access data from Google Books in just a few lines of code:\n",
    "\n",
    "```python\n",
    "import requests\n",
    "response = requests.get(\"https://www.googleapis.com/books/v1/volumes?q=tom%20sawyer\")\n",
    "response.json()\n",
    "```\n",
    "\n",
    "In this lesson, we'll learn all about that long bit of code in red, the web address, or URL."
   ]
  },
  {
   "cell_type": "markdown",
   "metadata": {},
   "source": [
    "## Navigate the web like a scientist"
   ]
  },
  {
   "cell_type": "markdown",
   "metadata": {},
   "source": [
    "[Click here](http://www.espn.com)."
   ]
  },
  {
   "cell_type": "markdown",
   "metadata": {},
   "source": [
    "<img src=\"espn-screenshot.png\" width=\"60%\" />"
   ]
  },
  {
   "cell_type": "markdown",
   "metadata": {},
   "source": [
    "What we'll see is ESPN's website.  And as a data scientist we need to know a little bit about how we get information from ESPN, or any website for that matter.  "
   ]
  },
  {
   "cell_type": "markdown",
   "metadata": {},
   "source": [
    "The key part is the web address at the very top of the page.  We call that a `url`, short for uniform resource locator.  Notice that if we click on any link on espn's website, it will almost always begin with that same url: `www.espn.com`."
   ]
  },
  {
   "cell_type": "markdown",
   "metadata": {},
   "source": [
    "<img src=\"./nba-nfl-2.gif\" width=\"50%\" />"
   ]
  },
  {
   "cell_type": "markdown",
   "metadata": {},
   "source": [
    "So when we click on the link to the nba, the url becomes `www.espn.com/nba`.  The part `www.espn.com` is called the root url, as it's almost like the base, or the root of a tree.  \n",
    "\n",
    "If we want to see anything related to the NBA on `www.espn.com`, ESPN has organized it in terms of `www.espn.com/nba`.  And these urls will keep communicating to us.  For example, if we want to see the list of teams in the NBA, we go to `www.espn.com/nba/teams`.  And to see the list of NBA players we go to `www.espn.com/nba/players`.\n",
    "\n",
    "## Introduction to resources\n",
    "\n",
    "Both `nba/teams` and `nba/players` are called a resource.  And the Internet is organized this way.  It's not by accident.  The Internet used to be a jumbled mess.  Then this programmer Roy Fielding suggested developers we organize our websites into a pattern that he called RESTful, and developers happily complied. \n",
    "\n",
    "One of the main concepts of being RESTful is that when are looking for information, we either are asking to see information about a collection, like a list of NBA players, or a single item, like one NBA player.  And that we should follow the same pattern when organizing this information.  \n",
    "\n",
    "So to see nba players, we should go to `www.espn.com/nba/players`, and to see a single nba player like Steph Curry, we should go to `www.espn.com/nba/players/steph_curry`."
   ]
  },
  {
   "cell_type": "markdown",
   "metadata": {},
   "source": [
    "<img src=\"wiki-rest.png\" width=\"50%\">"
   ]
  },
  {
   "cell_type": "markdown",
   "metadata": {},
   "source": [
    "> REST is short for Representational State Transfer, whatever that means.  If you're interested, take a look at a snippet of the Wikipedia  article on the subject above."
   ]
  },
  {
   "cell_type": "markdown",
   "metadata": {},
   "source": [
    "Let's see if ESPN follows this RESTful pattern."
   ]
  },
  {
   "cell_type": "markdown",
   "metadata": {},
   "source": [
    "<img src=\"steph-curry.png\" width=\"60%\">"
   ]
  },
  {
   "cell_type": "markdown",
   "metadata": {},
   "source": [
    "Ok, so the url is `http://www.espn.com/nba/player/_/id/3975/stephen-curry`.  So it's close, not perfect.  One change is that ESPN uses `www.espn.com/nba/player` instead of 'players'.  Another change is that it looks like the key identifier is `/id/3975`, which is probably stephen curry's player id. \n",
    "\n",
    "An **id** is just a unique number (or list of characters) that can identify a specific item -- like a social security number. ESPN and almost all websites prefer to use IDs because multiple items could have the same name.  \n",
    "\n",
    "So now that we know a little bit about how websites are organized, we can pick up on the pattern that any specific website uses!"
   ]
  },
  {
   "cell_type": "markdown",
   "metadata": {},
   "source": [
    "### Why we care"
   ]
  },
  {
   "cell_type": "markdown",
   "metadata": {},
   "source": [
    "So far we learned some of the patterns that websites organize information.  This is important, because we will soon programs that visit websites for us, and capture that information.  And if we say, want to go to every player's website in the NBA, we could visit `http://www.espn.com/nba/player/_/id/3975`, then `http://www.espn.com/nba/player/_/id/3976` and so on.  \n",
    "\n",
    "So the next thing we have to learn is how to information once we navigate to these websites, and then how to use a program like Python to do so.  "
   ]
  },
  {
   "cell_type": "markdown",
   "metadata": {},
   "source": [
    "### Summary"
   ]
  },
  {
   "cell_type": "markdown",
   "metadata": {},
   "source": [
    "In this lesson, we saw that websites follow a convention in how they organize content.  Content is organized in a RESTful pattern by a resource.\n",
    "\n",
    "By thinking of information in terms of a resource, we can think of accessing information online in terms of accessing information about the collection, or a single member of that resource.  When we access information about the collection, we generally use the plural form of the resource name, as in `/nba/players`, and when we access a single member of that resource we can expect to see the resource followed by that specific member id, as in `/nba/players/3976`.  \n",
    "\n",
    "We also saw that because this is a convention, websites may not follow this convention exactly, but by knowing about this convention we can more easily see the pattern in how a website organizes it's information.\n",
    "\n",
    "Next up, we'll see how to retrieve this information on the web."
   ]
  }
 ],
 "metadata": {
  "kernelspec": {
   "display_name": "Python 3",
   "language": "python",
   "name": "python3"
  },
  "language_info": {
   "codemirror_mode": {
    "name": "ipython",
    "version": 3
   },
   "file_extension": ".py",
   "mimetype": "text/x-python",
   "name": "python",
   "nbconvert_exporter": "python",
   "pygments_lexer": "ipython3",
   "version": "3.7.0"
  }
 },
 "nbformat": 4,
 "nbformat_minor": 2
}
