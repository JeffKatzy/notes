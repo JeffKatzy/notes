{
 "cells": [
  {
   "cell_type": "markdown",
   "metadata": {},
   "source": [
    "# Accessing data from the Web"
   ]
  },
  {
   "cell_type": "markdown",
   "metadata": {},
   "source": [
    "As we know, part of the reason data science skills have become so important is because of the amount of information available on the Internet.  Data scientists have the skills to precisely target the information relevant to them and then analyze that data."
   ]
  },
  {
   "cell_type": "markdown",
   "metadata": {},
   "source": [
    "### Let's get to it"
   ]
  },
  {
   "cell_type": "markdown",
   "metadata": {},
   "source": [
    "Now getting the proper information can be fairly easy, and even automated once we have the right knowledge and skills.\n",
    "\n",
    "For example, this is all of the code it takes to ask for Google for information about a specific book. "
   ]
  },
  {
   "cell_type": "markdown",
   "metadata": {},
   "source": [
    "```python\n",
    "import requests\n",
    "response = requests.get(\"https://www.googleapis.com/books/v1/volumes?q=tom%20sawyer\")\n",
    "response.json()\n",
    "```"
   ]
  },
  {
   "cell_type": "markdown",
   "metadata": {},
   "source": [
    "And Google sends us back the following information (and a lot more)."
   ]
  },
  {
   "cell_type": "markdown",
   "metadata": {},
   "source": [
    "```python\n",
    "{'kind': 'books#volume',\n",
    " 'id': 'OR46AQAAIAAJ',\n",
    " 'etag': '+UMtOjnJUu0',\n",
    " 'selfLink': 'https://www.googleapis.com/books/v1/volumes/OR46AQAAIAAJ',\n",
    " 'volumeInfo': {'title': 'The Adventures of Tom Sawyer',\n",
    "  'authors': ['Mark Twain'],\n",
    "  'publishedDate': '1920',\n",
    "  'industryIdentifiers': [{'type': 'OTHER',\n",
    "    'identifier': 'STANFORD:36105047945816'}],\n",
    "  'readingModes': {'text': False, 'image': True},\n",
    "  'pageCount': 290,\n",
    "  'printType': 'BOOK',\n",
    "  'categories': ['Sawyer, Tom (Fictitious character)'],\n",
    "  'averageRating': 4.5,\n",
    "  'ratingsCount': 3,\n",
    "  'maturityRating': 'NOT_MATURE',\n",
    "  'allowAnonLogging': False,\n",
    "  'contentVersion': '0.2.1.0.full.1',\n",
    "  'imageLinks': {'smallThumbnail': 'http://books.google.com/books/content?id=OR46AQAAIAAJ&printsec=frontcover&img=1&zoom=5&edge=curl&source=gbs_api'}\n",
    "               }\n",
    " ```"
   ]
  },
  {
   "cell_type": "markdown",
   "metadata": {},
   "source": [
    "So we really just had to type 8 words to get back the data we wanted.  And they weren't even very big words."
   ]
  },
  {
   "cell_type": "markdown",
   "metadata": {},
   "source": [
    "```python\n",
    "import requests\n",
    "response = requests.get(\"https://www.googleapis.com/books/v1/volumes?q=tom%20sawyer\")\n",
    "response.json()\n",
    "```"
   ]
  },
  {
   "cell_type": "markdown",
   "metadata": {},
   "source": [
    "What's nice about this, is that with the correct skills we can request information and then say if we just want to find out the page count, or the average rating of this book, and many others, we can write a program to do that for us.  "
   ]
  },
  {
   "cell_type": "markdown",
   "metadata": {},
   "source": [
    "### Welcome to APIs \n",
    "\n",
    "What we just did was access information from an API, and that is preferred way that we can get public data on the web.  An API is just a service that we can ask for information, like we did with our code above, and the service gives us back some data.  Don't worry if that's not exactly clear -- we'll talk a lot about APIs later.\n",
    "\n",
    "The important point is that with just a few keystrokes we can write some code that asks for information, and that information is sent back to us to analyze.\n",
    "\n",
    "The other important point is that there are a lot of APIs available to us, and we can ask any of them for information.  For example, if we would like to get back information about a restaurants near us. Well we can ask the website Foursquare for this information.  And that is also eight words.  And almost all of those words are the same as before."
   ]
  },
  {
   "cell_type": "markdown",
   "metadata": {},
   "source": [
    "```python\n",
    "import requests\n",
    "response = requests.get(\"https://api.foursquare.com/v2/venues/explore/?near=nyc&section=food&client_id=YZQZP1Q2HEJWMD5ZVBMIQD3VSZC1W4BQCCQTVFEPJWNHL0RK&client_secret=ORHPL2VKKHUTB3KTJVDTB4D20AXBRCFKWVL12EPQNJNDFYBX&v=20131124\")\n",
    "response.json()\n",
    "\n",
    "```"
   ]
  },
  {
   "cell_type": "markdown",
   "metadata": {},
   "source": [
    "Foursquare politely gives us back information about 243 restaurants."
   ]
  },
  {
   "cell_type": "markdown",
   "metadata": {},
   "source": [
    "```python\n",
    "\n",
    "{'meta': {'code': 200, 'requestId': '5ca7923fdd57977cb31295ff'},\n",
    " 'response': {'suggestedFilters': {'header': 'Tap to show:',\n",
    "   'filters': [{'name': 'Open now', 'key': 'openNow'}]},\n",
    "  'geocode': {'what': '',\n",
    "   'where': 'nyc',\n",
    "   'center': {'lat': 40.742185, 'lng': -73.992602},\n",
    "   'displayString': 'New York, NY, United States',\n",
    "   'cc': 'US',\n",
    "   'geometry': {'bounds': {'ne': {'lat': 40.882214, 'lng': -73.907},\n",
    "     'sw': {'lat': 40.679548, 'lng': -74.047285}}},\n",
    "   'slug': 'new-york-city-new-york',\n",
    "   'longId': '72057594043056517'},\n",
    "  'headerLocation': 'New York',\n",
    "  'headerFullLocation': 'New York',\n",
    "  'headerLocationGranularity': 'city',\n",
    "  'query': 'food',\n",
    "  'totalResults': 246}\n",
    " \n",
    "```"
   ]
  },
  {
   "cell_type": "markdown",
   "metadata": {},
   "source": [
    "Of course these are just two of the websites that offer up their data via an API.  But most of the popular websites that you can name have developed an API for us to pull information from: Google, Spotify, Yelp, The New York Times, Wikipedia to name just a few. "
   ]
  },
  {
   "cell_type": "markdown",
   "metadata": {},
   "source": [
    "## Now for our questions"
   ]
  },
  {
   "cell_type": "markdown",
   "metadata": {},
   "source": [
    "The problem of course, is that we cannot really understand any of the code above, so if we ever want to change things around and search for information on our own, we would likely get stuck.  We also don't really know what an API is, other than it could be a nice way to access data from other websites.\n",
    "\n",
    "All true. So let's take another look at the original code.  We'll use it to generate questions that we need to answer going forward.\n",
    "\n",
    "```python\n",
    "import requests\n",
    "response = requests.get(\"https://www.googleapis.com/books/v1/volumes?q=tom%20sawyer\")\n",
    "response.json()\n",
    "```"
   ]
  },
  {
   "cell_type": "markdown",
   "metadata": {},
   "source": [
    "**Our Questions**\n",
    "\n",
    "1. What is that `\"https://www.googleapis.com/books/v1/volumes?q=tom%20sawyer\"`, and how would we know that this has the information we want?\n",
    "2. What is `requests` and what is `response`?\n",
    "3. What is `get` and what is `json`\n",
    "4. Finally how do we make sense and navigate those squiggly lines and text that Google and Yelp send back, like the following beauty: `{'meta': {'code': 200, 'requestId': '5ca7923fdd57977cb31295ff'}`?.\n",
    "5. And what again is an API?\n",
    "\n"
   ]
  },
  {
   "cell_type": "markdown",
   "metadata": {},
   "source": [
    "**Why these questions**"
   ]
  },
  {
   "cell_type": "markdown",
   "metadata": {},
   "source": [
    "These are important questions.  Answering them will make us way faster at getting data from many of the websites that make their data available to us.  They will also teach us the fundamentals of how the Internet works, which we are going to need to know if we want to get good at retreiving information from there.\n",
    "\n",
    "Once we are able to retrieve that data, we can use it to perform analysis and ultimately draw insights.  Let's get started."
   ]
  },
  {
   "cell_type": "markdown",
   "metadata": {},
   "source": [
    "### Resources"
   ]
  },
  {
   "cell_type": "markdown",
   "metadata": {},
   "source": [
    "[Here are some available APIs, organized by topic](https://github.com/toddmotto/public-apis)"
   ]
  }
 ],
 "metadata": {
  "kernelspec": {
   "display_name": "Python 3",
   "language": "python",
   "name": "python3"
  },
  "language_info": {
   "codemirror_mode": {
    "name": "ipython",
    "version": 3
   },
   "file_extension": ".py",
   "mimetype": "text/x-python",
   "name": "python",
   "nbconvert_exporter": "python",
   "pygments_lexer": "ipython3",
   "version": "3.7.0"
  }
 },
 "nbformat": 4,
 "nbformat_minor": 2
}
